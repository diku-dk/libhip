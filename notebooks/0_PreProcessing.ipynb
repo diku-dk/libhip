{
 "cells": [
  {
   "cell_type": "markdown",
   "metadata": {},
   "source": [
    "# Bone surface mesh pre-processing\n",
    "- This notebook cleans and remeshes the raw output of 3D Slicer\n",
    "- You can skip this notebook if you already have high quality bone surfaces meshes"
   ]
  },
  {
   "cell_type": "markdown",
   "metadata": {},
   "source": [
    "## imports and user-defined properties"
   ]
  },
  {
   "cell_type": "code",
   "execution_count": 1,
   "metadata": {},
   "outputs": [],
   "source": [
    "import numpy as np\n",
    "import meshplot as mp\n",
    "import os\n",
    "import igl\n",
    "from pathlib import Path\n",
    "import sys\n",
    "\n",
    "sys.path.append('../')\n",
    "\n",
    "import src\n"
   ]
  },
  {
   "cell_type": "markdown",
   "metadata": {},
   "source": [
    "INPUT SUBJECT INFORMATION:\n",
    "- model_id = choose between m1 -> m11 to select one of the detaset in the repository.\n",
    "- i_dim, o_dim: the input and output dimension ( 'mm' = millimeters, 'm' = meters )\n",
    "- o_format: the format you want the files to be save at ( '.obj' , '.stl' )"
   ]
  },
  {
   "cell_type": "code",
   "execution_count": 1,
   "metadata": {},
   "outputs": [],
   "source": [
    "# model id\n",
    "model_id = 'm1'  \n",
    "\n",
    "# dimensions \n",
    "i_dim  = 'mm'     \n",
    "o_dim  = 'mm'\n",
    "\n",
    "# file format and suffix\n",
    "i_format = '.stl'\n",
    "o_format = '.obj'"
   ]
  },
  {
   "cell_type": "markdown",
   "metadata": {},
   "source": [
    "DIRECTORIES and PATHS:\n",
    "- main_dir: locate this directory to where the libhip repository is cloned to.\n",
    "- i_dir:  the directory of the input bone surface mesh files.\n",
    "- o_dir:  the directory of the cleaned and remeshed bone model results."
   ]
  },
  {
   "cell_type": "code",
   "execution_count": 3,
   "metadata": {},
   "outputs": [],
   "source": [
    "# input and output directories\n",
    "main_dir = Path('..')\n",
    "\n",
    "i_dir = main_dir / 'model_repository'/ 'RawSegment'/ model_id\n",
    "o_dir = main_dir / 'model_generation'/ 'preprocessing_output'/ model_id\n",
    "\n",
    "config_name  = model_id + '_config'\n",
    "config_path  = str((main_dir/ 'config'/ config_name).with_suffix('.yml'))\n",
    "config       = src.Config (config_path)\n",
    "\n",
    "# Remove all files inside output directory if it exists, otherwise create it\n",
    "if o_dir.is_dir():\n",
    "    for file in o_dir.iterdir():\n",
    "        if file.is_file():\n",
    "            file.unlink()\n",
    "else:\n",
    "    o_dir.mkdir(exist_ok=False)"
   ]
  },
  {
   "cell_type": "code",
   "execution_count": 4,
   "metadata": {},
   "outputs": [],
   "source": [
    "# input paths\n",
    "i_sacrum  = model_id + '_sacrum_'  + i_dim\n",
    "i_lpelvis = model_id + '_lpelvis_' + i_dim\n",
    "i_rpelvis = model_id + '_rpelvis_' + i_dim\n",
    "i_lfemur  = model_id + '_lfemur_'  + i_dim\n",
    "i_rfemur  = model_id + '_rfemur_'  + i_dim\n",
    "\n",
    "i_sacrum_path  = str((i_dir/ i_sacrum).with_suffix(i_format))\n",
    "i_lpelvis_path = str((i_dir/ i_lpelvis).with_suffix(i_format))\n",
    "i_rpelvis_path = str((i_dir/ i_rpelvis).with_suffix(i_format))\n",
    "i_lfemur_path  = str((i_dir/ i_lfemur).with_suffix(i_format))\n",
    "i_rfemur_path  = str((i_dir/ i_rfemur).with_suffix(i_format))\n",
    "\n",
    "# output paths\n",
    "o_sacrum  = model_id + '_clean_sacrum_'  + o_dim\n",
    "o_lpelvis = model_id + '_clean_lpelvis_' + o_dim\n",
    "o_rpelvis = model_id + '_clean_rpelvis_' + o_dim\n",
    "o_lfemur  = model_id + '_clean_lfemur_'  + o_dim\n",
    "o_rfemur  = model_id + '_clean_rfemur_'  + o_dim\n",
    "\n",
    "o_sacrum_path  = str((o_dir /o_sacrum).with_suffix(o_format))\n",
    "o_lpelvis_path = str((o_dir /o_lpelvis).with_suffix(o_format))\n",
    "o_rpelvis_path = str((o_dir /o_rpelvis).with_suffix(o_format))\n",
    "o_lfemur_path  = str((o_dir /o_lfemur).with_suffix(o_format))\n",
    "o_rfemur_path  = str((o_dir /o_rfemur).with_suffix(o_format))"
   ]
  },
  {
   "cell_type": "markdown",
   "metadata": {},
   "source": [
    "REMESHING PARAMS:\n",
    "- eps: the envelope of size epsilon. Using smaller envelope preserves features better but also takes longer time. \n",
    "  The default value of epsilon is b/1000, where b is the length of the diagonal of the bounding box. \n",
    "  Please refer to https://github.com/wildmeshing/fTetWild for more information.\n",
    "- l_* : the ideal edge length. Using smaller ideal edge length gives a denser mesh but also takes longer time. \n",
    "  The default ideal edge length is b/20.\n",
    "  Please refer to https://github.com/wildmeshing/fTetWild for more information."
   ]
  },
  {
   "cell_type": "code",
   "execution_count": 5,
   "metadata": {},
   "outputs": [],
   "source": [
    "config_remesh = config.mesh_var\n",
    "\n",
    "# the envelope of size epsilon\n",
    "eps      = config_remesh.remesh_epsilon\n",
    "\n",
    "# edge length for the femur bones\n",
    "l_leg    = config_remesh.remesh_edge_length_leg\n",
    "\n",
    "# edge length for the the sacrum and the pelvic bones\n",
    "l_girdle = config_remesh.remesh_edge_length_girdle\n"
   ]
  },
  {
   "cell_type": "markdown",
   "metadata": {},
   "source": [
    "## implementation"
   ]
  },
  {
   "cell_type": "markdown",
   "metadata": {},
   "source": [
    "### 1- read and clean up bone models\n",
    "This function first reads an input surface mesh as a set vertices and faces. Next, the duplicated faces and unreferenced vertices are removed from the input bone surface mesh.\n",
    "- The cleaned models are saved as a set of '_vertices' and '_faces'.\n",
    "- The number of faces after cleaning is printed out for each bone model.\n"
   ]
  },
  {
   "cell_type": "code",
   "execution_count": 6,
   "metadata": {
    "scrolled": false
   },
   "outputs": [
    {
     "name": "stdout",
     "output_type": "stream",
     "text": [
      "number of faces after cleaning 164868\n",
      "number of faces after cleaning 207040\n",
      "number of faces after cleaning 206876\n",
      "number of faces after cleaning 100796\n",
      "number of faces after cleaning 100472\n"
     ]
    }
   ],
   "source": [
    "s_vertices,  s_faces  = src.read_and_clean (i_sacrum_path, i_dim ) \n",
    "lp_vertices, lp_faces = src.read_and_clean (i_lpelvis_path, i_dim )\n",
    "rp_vertices, rp_faces = src.read_and_clean (i_rpelvis_path, i_dim ) \n",
    "lf_vertices, lf_faces = src.read_and_clean (i_lfemur_path, i_dim )\n",
    "rf_vertices, rf_faces = src.read_and_clean (i_rfemur_path, i_dim ) "
   ]
  },
  {
   "cell_type": "code",
   "execution_count": 7,
   "metadata": {
    "scrolled": false
   },
   "outputs": [
    {
     "data": {
      "application/vnd.jupyter.widget-view+json": {
       "model_id": "ce489eff1982406bb629e9285cd00ca7",
       "version_major": 2,
       "version_minor": 0
      },
      "text/plain": [
       "Renderer(camera=PerspectiveCamera(children=(DirectionalLight(color='white', intensity=0.6, position=(-4.021293…"
      ]
     },
     "metadata": {},
     "output_type": "display_data"
    },
    {
     "data": {
      "text/plain": [
       "4"
      ]
     },
     "execution_count": 7,
     "metadata": {},
     "output_type": "execute_result"
    }
   ],
   "source": [
    "frame = mp.plot(s_vertices, s_faces, c = src.bone, shading = src.sh_true)\n",
    "frame.add_mesh (lp_vertices, lp_faces, c = src.bone, shading = src.sh_true)\n",
    "frame.add_mesh (rp_vertices, rp_faces, c = src.bone, shading = src.sh_true)\n",
    "frame.add_mesh (lf_vertices, lf_faces, c = src.bone, shading = src.sh_true)\n",
    "frame.add_mesh (rf_vertices, rf_faces, c = src.bone, shading = src.sh_true)"
   ]
  },
  {
   "cell_type": "markdown",
   "metadata": {},
   "source": [
    "### 2- remesh the bone models\n",
    "We remesh the bone surface mesh to improve the quality and resize the triangles. We use fTetWild to mesh the volume of the surface boundary and re-extract the surface of the volume mesh as the resulting remeshed surface. \n",
    "- This meshing method allows vertices of the boundary of the volumetric mesh to move within an epsilon (eps) envelope of the winding number field level-set that defines the surface geometry.\n",
    "- The number of faces after remeshing is printed out for each bone model.\n"
   ]
  },
  {
   "cell_type": "code",
   "execution_count": null,
   "metadata": {},
   "outputs": [],
   "source": [
    "rm_s_vertices, rm_s_faces   = src.remesh (s_vertices, s_faces, eps, l_girdle)\n",
    "rm_lp_vertices, rm_lp_faces = src.remesh (lp_vertices, lp_faces, eps, l_girdle)\n",
    "rm_rp_vertices, rm_rp_faces = src.remesh (rp_vertices, rp_faces, eps, l_girdle)\n",
    "rm_lf_vertices, rm_lf_faces = src.remesh (lf_vertices, lf_faces, eps, l_leg)\n",
    "rm_rf_vertices, rm_rf_faces = src.remesh (rf_vertices, rf_faces, eps, l_leg)"
   ]
  },
  {
   "cell_type": "code",
   "execution_count": null,
   "metadata": {
    "scrolled": false
   },
   "outputs": [],
   "source": [
    "frame = mp.plot(rm_s_vertices, rm_s_faces, c = src.bone, shading = src.sh_true)\n",
    "frame.add_mesh (rm_lp_vertices, rm_lp_faces, c = src.bone, shading = src.sh_true)\n",
    "frame.add_mesh (rm_rp_vertices, rm_rp_faces, c = src.bone, shading = src.sh_true)\n",
    "frame.add_mesh (rm_lf_vertices, rm_lf_faces, c = src.bone, shading = src.sh_true)\n",
    "frame.add_mesh (rm_rf_vertices, rm_rf_faces, c = src.bone, shading = src.sh_true)"
   ]
  },
  {
   "cell_type": "markdown",
   "metadata": {},
   "source": [
    "### 3- export results\n",
    "In this step we save the cleaned bone models suface meshes in '.obj' file format. The output dimension and path is defined by the user.\n"
   ]
  },
  {
   "cell_type": "code",
   "execution_count": null,
   "metadata": {},
   "outputs": [],
   "source": [
    "src.save_surface (rm_s_vertices, rm_s_faces, o_dim, o_sacrum_path )\n",
    "src.save_surface (rm_lp_vertices, rm_lp_faces, o_dim, o_lpelvis_path)\n",
    "src.save_surface (rm_rp_vertices, rm_rp_faces, o_dim, o_rpelvis_path)\n",
    "src.save_surface (rm_lf_vertices, rm_lf_faces, o_dim, o_lfemur_path )\n",
    "src.save_surface (rm_rf_vertices, rm_rf_faces, o_dim, o_rfemur_path )"
   ]
  }
 ],
 "metadata": {
  "kernelspec": {
   "display_name": "Python 3",
   "language": "python",
   "name": "python3"
  },
  "language_info": {
   "codemirror_mode": {
    "name": "ipython",
    "version": 3
   },
   "file_extension": ".py",
   "mimetype": "text/x-python",
   "name": "python",
   "nbconvert_exporter": "python",
   "pygments_lexer": "ipython3",
   "version": "3.9.6"
  },
  "toc": {
   "base_numbering": 1,
   "nav_menu": {},
   "number_sections": true,
   "sideBar": true,
   "skip_h1_title": false,
   "title_cell": "Table of Contents",
   "title_sidebar": "Contents",
   "toc_cell": false,
   "toc_position": {
    "height": "calc(100% - 180px)",
    "left": "10px",
    "top": "150px",
    "width": "209px"
   },
   "toc_section_display": true,
   "toc_window_display": true
  }
 },
 "nbformat": 4,
 "nbformat_minor": 4
}
