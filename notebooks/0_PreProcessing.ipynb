{
 "cells": [
  {
   "cell_type": "markdown",
   "metadata": {},
   "source": [
    "# Bone surface mesh pre-processing\n",
    "- This notebook cleans and remeshes the raw output of 3D Slicer\n",
    "- You can skip this notebook if you already have high quality bone surfaces meshes"
   ]
  },
  {
   "cell_type": "markdown",
   "metadata": {},
   "source": [
    "## imports and user-defined properties"
   ]
  },
  {
   "cell_type": "code",
   "execution_count": 1,
   "metadata": {},
   "outputs": [],
   "source": [
    "import numpy as np\n",
    "import meshplot as mp\n",
    "import os\n",
    "import igl\n",
    "from pathlib import Path\n",
    "import sys\n",
    "\n",
    "sys.path.append(str(Path.home()/'Documents'/'Github'/'libhip'))\n",
    "sys.path.append('../')\n",
    "\n",
    "import src\n"
   ]
  },
  {
   "cell_type": "markdown",
   "metadata": {},
   "source": [
    "INPUT SUBJECT INFORMATION:\n",
    "- subject_id = choose between m1 -> m11 to select one of the detaset in the repository.\n",
    "- i_dim, o_dim: the input and output dimension ( 'mm' = millimeters, 'm' = meters )\n",
    "- o_format: the format you want the files to be save at ( '.obj' , '.stl' )"
   ]
  },
  {
   "cell_type": "code",
   "execution_count": 2,
   "metadata": {},
   "outputs": [],
   "source": [
    "# subject id\n",
    "subject_id = 'm1'  \n",
    "\n",
    "# dimensions \n",
    "i_dim  = 'mm'     \n",
    "o_dim  = 'mm'\n",
    "\n",
    "# file format and suffix\n",
    "i_format = '.stl'\n",
    "o_format = '.obj'"
   ]
  },
  {
   "cell_type": "markdown",
   "metadata": {},
   "source": [
    "DIRECTORIES and PATHS:\n",
    "- main_dir: locate this directory to where the libhip repository is cloned to.\n",
    "- i_dir:  the directory of the input bone surface mesh files.\n",
    "- o_dir:  the directory of the cleaned and remeshed bone model results."
   ]
  },
  {
   "cell_type": "code",
   "execution_count": 3,
   "metadata": {},
   "outputs": [],
   "source": [
    "# input and output directories\n",
    "main_dir = Path('..')\n",
    "\n",
    "i_dir = main_dir / 'model_repository'/ 'slicer_raw_output'/ subject_id\n",
    "o_dir = main_dir / 'model_generation'/ 'preprocessing_output'/ subject_id\n",
    "\n",
    "config_name  = subject_id + '_config'\n",
    "config_path  = str((main_dir/ 'config'/ config_name).with_suffix('.yml'))\n",
    "config       = src.Config (config_path)\n",
    "\n",
    "# Remove all files inside output directory if it exists, otherwise create it\n",
    "if o_dir.is_dir():\n",
    "    for file in o_dir.iterdir():\n",
    "        if file.is_file():\n",
    "            file.unlink()\n",
    "else:\n",
    "    o_dir.mkdir(exist_ok=False)"
   ]
  },
  {
   "cell_type": "code",
   "execution_count": 4,
   "metadata": {},
   "outputs": [],
   "source": [
    "# input paths\n",
    "input_sacrum  = subject_id + '_sacrum_'+ i_dim\n",
    "input_lhip    = subject_id + '_lhip_'+ i_dim\n",
    "input_rhip    = subject_id + '_rhip_'+ i_dim\n",
    "input_lfemur  = subject_id + '_lfemur_'+ i_dim\n",
    "input_rfemur  = subject_id + '_rfemur_'+ i_dim\n",
    "\n",
    "input_sacrum_path  = str((i_dir /input_sacrum).with_suffix(i_format))\n",
    "input_lhip_path    = str((i_dir /input_lhip).with_suffix(i_format))\n",
    "input_rhip_path    = str((i_dir /input_rhip).with_suffix(i_format))\n",
    "input_lfemur_path  = str((i_dir /input_lfemur).with_suffix(i_format))\n",
    "input_rfemur_path  = str((i_dir /input_rfemur).with_suffix(i_format))\n",
    "\n",
    "# output paths\n",
    "output_sacrum  = subject_id + '_remeshed_sacrum_'+ o_dim\n",
    "output_lhip    = subject_id + '_remeshed_lhip_'+ o_dim\n",
    "output_rhip    = subject_id + '_remeshed_rhip_'+ o_dim\n",
    "output_lfemur  = subject_id + '_remeshed_lfemur_'+ o_dim\n",
    "output_rfemur  = subject_id + '_remeshed_rfemur_'+ o_dim\n",
    "\n",
    "output_sacrum_path  = str((o_dir /output_sacrum).with_suffix(o_format))\n",
    "output_lhip_path    = str((o_dir /output_lhip).with_suffix(o_format))\n",
    "output_rhip_path    = str((o_dir /output_rhip).with_suffix(o_format))\n",
    "output_lfemur_path  = str((o_dir /output_lfemur).with_suffix(o_format))\n",
    "output_rfemur_path  = str((o_dir /output_rfemur).with_suffix(o_format))"
   ]
  },
  {
   "cell_type": "markdown",
   "metadata": {},
   "source": [
    "REMESHING PARAMS:\n",
    "- eps: the envelope of size epsilon. Using smaller envelope preserves features better but also takes longer time. \n",
    "  The default value of epsilon is b/1000, where b is the length of the diagonal of the bounding box. \n",
    "  Please refer to https://github.com/wildmeshing/fTetWild for more information.\n",
    "- l_* : the ideal edge length. Using smaller ideal edge length gives a denser mesh but also takes longer time. \n",
    "  The default ideal edge length is b/20.\n",
    "  Please refer to https://github.com/wildmeshing/fTetWild for more information."
   ]
  },
  {
   "cell_type": "code",
   "execution_count": 5,
   "metadata": {},
   "outputs": [],
   "source": [
    "config_remesh = config.mesh_var\n",
    "\n",
    "# the envelope of size epsilon\n",
    "eps      = config_remesh.remesh_epsilon\n",
    "\n",
    "# edge length for the femur bones\n",
    "l_leg    = config_remesh.remesh_edge_length_leg\n",
    "\n",
    "# edge length for the the sacrum and the hip bones\n",
    "l_girdle = config_remesh.remesh_edge_length_girdle\n"
   ]
  },
  {
   "cell_type": "markdown",
   "metadata": {},
   "source": [
    "## implementation"
   ]
  },
  {
   "cell_type": "markdown",
   "metadata": {},
   "source": [
    "### 1- read and clean up bone models\n",
    "This function first reads an input surface mesh as a set vertices and faces. Next, the duplicated faces and unreferenced vertices are removed from the input bone surface mesh.\n",
    "- The cleaned models are saved as a set of '_vertices' and '_faces'.\n",
    "- The number of faces after cleaning is printed out for each bone model.\n"
   ]
  },
  {
   "cell_type": "code",
   "execution_count": 6,
   "metadata": {
    "scrolled": false
   },
   "outputs": [
    {
     "name": "stdout",
     "output_type": "stream",
     "text": [
      "number of faces after cleaning 164868\n",
      "number of faces after cleaning 207040\n",
      "number of faces after cleaning 206876\n",
      "number of faces after cleaning 100796\n",
      "number of faces after cleaning 100472\n"
     ]
    }
   ],
   "source": [
    "s1_vertices, s1_faces = src.read_and_clean (input_sacrum_path, i_dim ) \n",
    "s2_vertices, s2_faces = src.read_and_clean (input_lhip_path, i_dim )\n",
    "s3_vertices, s3_faces = src.read_and_clean (input_rhip_path, i_dim ) \n",
    "s4_vertices, s4_faces = src.read_and_clean (input_lfemur_path, i_dim )\n",
    "s5_vertices, s5_faces = src.read_and_clean (input_rfemur_path, i_dim ) "
   ]
  },
  {
   "cell_type": "code",
   "execution_count": 7,
   "metadata": {
    "scrolled": false
   },
   "outputs": [
    {
     "data": {
      "application/vnd.jupyter.widget-view+json": {
       "model_id": "ce489eff1982406bb629e9285cd00ca7",
       "version_major": 2,
       "version_minor": 0
      },
      "text/plain": [
       "Renderer(camera=PerspectiveCamera(children=(DirectionalLight(color='white', intensity=0.6, position=(-4.021293…"
      ]
     },
     "metadata": {},
     "output_type": "display_data"
    },
    {
     "data": {
      "text/plain": [
       "4"
      ]
     },
     "execution_count": 7,
     "metadata": {},
     "output_type": "execute_result"
    }
   ],
   "source": [
    "frame = mp.plot(s1_vertices, s1_faces, c = src.bone, shading = src.sh_true)\n",
    "frame.add_mesh (s2_vertices, s2_faces, c = src.bone, shading = src.sh_true)\n",
    "frame.add_mesh (s3_vertices, s3_faces, c = src.bone, shading = src.sh_true)\n",
    "frame.add_mesh (s4_vertices, s4_faces, c = src.bone, shading = src.sh_true)\n",
    "frame.add_mesh (s5_vertices, s5_faces, c = src.bone, shading = src.sh_true)"
   ]
  },
  {
   "cell_type": "markdown",
   "metadata": {},
   "source": [
    "### 2- remesh the bone models\n",
    "We remesh the bone surface mesh to improve the quality and resize the triangles. We use fTetWild to mesh the volume of the surface boundary and re-extract the surface of the volume mesh as the resulting remeshed surface. \n",
    "- This meshing method allows vertices of the boundary of the volumetric mesh to move within an epsilon (eps) envelope of the winding number field level-set that defines the surface geometry.\n",
    "- The number of faces after remeshing is printed out for each bone model.\n"
   ]
  },
  {
   "cell_type": "code",
   "execution_count": null,
   "metadata": {},
   "outputs": [],
   "source": [
    "rm_s1_vertices, rm_s1_faces = src.remesh (s1_vertices, s1_faces, eps, l_girdle)\n",
    "rm_s2_vertices, rm_s2_faces = src.remesh (s2_vertices, s2_faces, eps, l_girdle)\n",
    "rm_s3_vertices, rm_s3_faces = src.remesh (s3_vertices, s3_faces, eps, l_girdle)\n",
    "rm_s4_vertices, rm_s4_faces = src.remesh (s4_vertices, s4_faces, eps, l_leg)\n",
    "rm_s5_vertices, rm_s5_faces = src.remesh (s5_vertices, s5_faces, eps, l_leg)"
   ]
  },
  {
   "cell_type": "code",
   "execution_count": null,
   "metadata": {
    "scrolled": false
   },
   "outputs": [],
   "source": [
    "frame = mp.plot(rm_s1_vertices, rm_s1_faces, c = src.bone, shading = src.sh_true)\n",
    "frame.add_mesh (rm_s2_vertices, rm_s2_faces, c = src.bone, shading = src.sh_true)\n",
    "frame.add_mesh (rm_s3_vertices, rm_s3_faces, c = src.bone, shading = src.sh_true)\n",
    "frame.add_mesh (rm_s4_vertices, rm_s4_faces, c = src.bone, shading = src.sh_true)\n",
    "frame.add_mesh (rm_s5_vertices, rm_s5_faces, c = src.bone, shading = src.sh_true)"
   ]
  },
  {
   "cell_type": "markdown",
   "metadata": {},
   "source": [
    "### 3- export results\n",
    "In this step we save the cleaned bone models suface meshes in '.obj' file format. The output dimension and path is defined by the user.\n"
   ]
  },
  {
   "cell_type": "code",
   "execution_count": null,
   "metadata": {},
   "outputs": [],
   "source": [
    "src.save_surface (rm_s1_vertices, rm_s1_faces, o_dim, output_sacrum_path )\n",
    "src.save_surface (rm_s2_vertices, rm_s2_faces, o_dim, output_lhip_path)\n",
    "src.save_surface (rm_s3_vertices, rm_s3_faces, o_dim, output_rhip_path)\n",
    "src.save_surface (rm_s4_vertices, rm_s4_faces, o_dim, output_lfemur_path )\n",
    "src.save_surface (rm_s5_vertices, rm_s5_faces, o_dim, output_rfemur_path )"
   ]
  }
 ],
 "metadata": {
  "kernelspec": {
   "display_name": "Python 3",
   "language": "python",
   "name": "python3"
  },
  "language_info": {
   "codemirror_mode": {
    "name": "ipython",
    "version": 3
   },
   "file_extension": ".py",
   "mimetype": "text/x-python",
   "name": "python",
   "nbconvert_exporter": "python",
   "pygments_lexer": "ipython3",
   "version": "3.9.6"
  },
  "toc": {
   "base_numbering": 1,
   "nav_menu": {},
   "number_sections": true,
   "sideBar": true,
   "skip_h1_title": false,
   "title_cell": "Table of Contents",
   "title_sidebar": "Contents",
   "toc_cell": false,
   "toc_position": {
    "height": "calc(100% - 180px)",
    "left": "10px",
    "top": "150px",
    "width": "209px"
   },
   "toc_section_display": true,
   "toc_window_display": true
  }
 },
 "nbformat": 4,
 "nbformat_minor": 4
}
