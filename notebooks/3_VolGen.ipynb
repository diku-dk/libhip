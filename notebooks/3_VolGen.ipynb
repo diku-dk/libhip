{
 "cells": [
  {
   "cell_type": "markdown",
   "metadata": {},
   "source": [
    "# Volume Generation\n",
    "This notebook explains a method to create volume mesh for both bones and cartilages. "
   ]
  },
  {
   "cell_type": "markdown",
   "metadata": {},
   "source": [
    "# imports and user-defined properties"
   ]
  },
  {
   "cell_type": "code",
   "execution_count": 2,
   "metadata": {},
   "outputs": [],
   "source": [
    "import numpy as np\n",
    "import meshplot as mp\n",
    "from pathlib import Path\n",
    "import os\n",
    "import igl\n",
    "import matplotlib.pyplot as plt\n",
    "import sys\n",
    "\n",
    "sys.path.append('../')\n",
    "\n",
    "import src"
   ]
  },
  {
   "cell_type": "markdown",
   "metadata": {},
   "source": [
    "INPUT SUBJECT INFORMATION:\n",
    "- model_id: choose between m1 -> m11 to select one of the dataset in the repository.\n",
    "- full_model: choose \"True\" if you have a closed surface representation of the cartilages and \"False\" if implicit.\n",
    "- i_dim, o_dim: the input and output dimension ( 'mm' = millimeters, 'm' = meters )\n",
    "- o_format: the format you want the files to be save at ( '.obj' , '.stl' )"
   ]
  },
  {
   "cell_type": "code",
   "execution_count": 4,
   "metadata": {},
   "outputs": [],
   "source": [
    "# model id\n",
    "model_id = 'm1'  \n",
    "\n",
    "# Are you cartilage geometries full or implicit models?\n",
    "full_model = True\n",
    "\n",
    "# dimensions \n",
    "i_dim  = 'mm'     \n",
    "o_dim  = 'mm'\n",
    "\n",
    "# file format and suffix\n",
    "i_format = '.obj'\n",
    "o_format = '.msh'"
   ]
  },
  {
   "cell_type": "markdown",
   "metadata": {},
   "source": [
    "DIRECTORIES and PATHS:\n",
    "- main_dir: locate this directory to where the libhip repository is cloned to.\n",
    "- ftetwild_dir: locate this path to the 'build' folder of ftetwild.You can install ftetwild here: https://wildmeshing.github.io/ftetwild/ \n",
    "- i_dir:  locate this directory to the input bone surface mesh files.\n",
    "- json_o_dir & ftet_o_dir = these folders will contain the mid-output results where the user will not need.\n",
    "- o_dir:  locate this directory to where you want the final volume mesh of the pelvic girdle and the two legs to be saved at.\n",
    "- config: the config file containes the subject specific properties."
   ]
  },
  {
   "cell_type": "code",
   "execution_count": 5,
   "metadata": {},
   "outputs": [],
   "source": [
    "main_dir     = Path('..')\n",
    "\n",
    "# please change this directory to the build folder of ftetwild \n",
    "ftetwild_dir = Path.home()/ 'Documents'/ 'Github'/ 'fTetWild'/ 'build'\n",
    "\n",
    "i_dir        = main_dir/ 'model_generation'/ 'cargen_output'/ model_id\n",
    "json_o_dir   = main_dir/ 'model_generation'/ 'mid_outputs'/ 'json_output'  / model_id\n",
    "ftet_o_dir   = main_dir/ 'model_generation'/ 'mid_outputs'/ 'ftet_output'  / model_id\n",
    "nodal_o_dir  = main_dir/ 'model_generation'/ 'mid_outputs'/ 'nodal_output' / model_id\n",
    "o_dir        = main_dir/ 'model_generation'/ 'volgen_output' / model_id\n",
    "   \n",
    "config_name  = model_id + '_config'\n",
    "config_path  = str((main_dir/ 'config'/ config_name).with_suffix('.yml'))\n",
    "config       = src.Config (config_path)\n",
    "\n",
    "# Remove all files inside output directory if it exists, otherwise create it\n",
    "if json_o_dir.is_dir():\n",
    "    for file in json_o_dir.iterdir():\n",
    "        if file.is_file():\n",
    "            file.unlink()\n",
    "else:\n",
    "    json_o_dir.mkdir(exist_ok=False)\n",
    "    \n",
    "if ftet_o_dir.is_dir():\n",
    "    for file in ftet_o_dir.iterdir():\n",
    "        if file.is_file():\n",
    "            file.unlink()\n",
    "else:\n",
    "    ftet_o_dir.mkdir(exist_ok=False)\n",
    "    \n",
    "if nodal_o_dir.is_dir():\n",
    "    for file in nodal_o_dir.iterdir():\n",
    "        if file.is_file():\n",
    "            file.unlink()\n",
    "else:\n",
    "    nodal_o_dir.mkdir(exist_ok=False)\n",
    "    \n",
    "    \n",
    "if o_dir.is_dir():\n",
    "    for file in o_dir.iterdir():\n",
    "        if file.is_file():\n",
    "            file.unlink()\n",
    "else:\n",
    "    o_dir.mkdir(exist_ok=False)"
   ]
  },
  {
   "cell_type": "code",
   "execution_count": 4,
   "metadata": {},
   "outputs": [],
   "source": [
    "# input paths - bones\n",
    "i_bone_tag = model_id + '_cg_bone_'\n",
    "\n",
    "i_sacrum  = i_bone_tag + 'sacrum'\n",
    "i_lpelvis = i_bone_tag + 'lpelvis'  \n",
    "i_rpelvis = i_bone_tag + 'rpelvis'\n",
    "i_lfemur  = i_bone_tag + 'lfemur'\n",
    "i_rfemur  = i_bone_tag + 'rfemur'\n",
    "\n",
    "i_sacrum_path  = str((i_dir/ i_sacrum).with_suffix(i_format).resolve())\n",
    "i_lpelvis_path = str((i_dir/ i_lpelvis).with_suffix(i_format).resolve())\n",
    "i_rpelvis_path = str((i_dir/ i_rpelvis).with_suffix(i_format).resolve())\n",
    "i_lfemur_path  = str((i_dir/ i_lfemur).with_suffix(i_format).resolve())\n",
    "i_rfemur_path  = str((i_dir/ i_rfemur).with_suffix(i_format).resolve())"
   ]
  },
  {
   "cell_type": "code",
   "execution_count": 5,
   "metadata": {},
   "outputs": [],
   "source": [
    "# input paths - joints\n",
    "if full_model:\n",
    "    i_joint_tag = model_id + '_cg_jnt_'\n",
    "else:\n",
    "    i_joint_tag = model_id + '_cg_jnt_implicit_'\n",
    "    \n",
    "# sacroiliac joint\n",
    "lsj = i_joint_tag + 'lsi'\n",
    "rsj = i_joint_tag + 'rsi'\n",
    "\n",
    "# pubic joint\n",
    "pj  = i_joint_tag + 'ps'\n",
    "\n",
    "# sacroiliac and pubic joint paths\n",
    "i_lsj_path = str((i_dir/ lsj).with_suffix(i_format).resolve())\n",
    "i_rsj_path = str((i_dir/ rsj).with_suffix(i_format).resolve())\n",
    "i_pj_path  = str((i_dir/ pj) .with_suffix(i_format).resolve())\n",
    "\n",
    "# hip joint with gap\n",
    "lhj_ac_wg = i_joint_tag + 'lh_ac_wg' \n",
    "lhj_fc_wg = i_joint_tag + 'lh_fc_wg' \n",
    "rhj_ac_wg = i_joint_tag + 'rh_ac_wg' \n",
    "rhj_fc_wg = i_joint_tag + 'rh_fc_wg'  \n",
    "\n",
    "# hip joint without gap\n",
    "lhj_ac_wog = i_joint_tag + 'lh_ac_wog' \n",
    "lhj_fc_wog = i_joint_tag + 'lh_fc_wog'\n",
    "rhj_ac_wog = i_joint_tag + 'rh_ac_wog'\n",
    "rhj_fc_wog = i_joint_tag + 'rh_fc_wog'\n",
    "\n",
    "# hip joint w/wo gap paths\n",
    "i_lhj_ac_wg_path = str((i_dir/ lhj_ac_wg).with_suffix(i_format).resolve())\n",
    "i_rhj_ac_wg_path = str((i_dir/ rhj_ac_wg).with_suffix(i_format).resolve())\n",
    "i_lhj_fc_wg_path = str((i_dir/ lhj_fc_wg).with_suffix(i_format).resolve())\n",
    "i_rhj_fc_wg_path = str((i_dir/ rhj_fc_wg).with_suffix(i_format).resolve())\n",
    "\n",
    "i_lhj_ac_wog_path = str((i_dir/ lhj_ac_wog).with_suffix(i_format).resolve())\n",
    "i_rhj_ac_wog_path = str((i_dir/ rhj_ac_wog).with_suffix(i_format).resolve())\n",
    "i_lhj_fc_wog_path = str((i_dir/ lhj_fc_wog).with_suffix(i_format).resolve())\n",
    "i_rhj_fc_wog_path = str((i_dir/ rhj_fc_wog).with_suffix(i_format).resolve())"
   ]
  },
  {
   "cell_type": "code",
   "execution_count": 6,
   "metadata": {},
   "outputs": [],
   "source": [
    "# ftetwild mid output directories - with gap\n",
    "ftet_o_tag = model_id + '_csg_'\n",
    "\n",
    "ftet_o_pg_wg   = ftet_o_tag + '_wg_pg'\n",
    "ftet_o_legL_wg = ftet_o_tag + '_wg_legL' \n",
    "ftet_o_legR_wg = ftet_o_tag + '_wg_legR'\n",
    "\n",
    "ftet_o_pg_wg_path   = str((ftet_o_dir/ ftet_o_pg_wg).resolve())\n",
    "ftet_o_legL_wg_path = str((ftet_o_dir/ ftet_o_legL_wg).resolve())\n",
    "ftet_o_legR_wg_path = str((ftet_o_dir/ ftet_o_legR_wg).resolve())\n",
    "\n",
    "# ftetwild mid output directories - without gap\n",
    "ftet_o_pg_wog   = ftet_o_tag + '_wog_pg'\n",
    "ftet_o_legL_wog = ftet_o_tag + '_wog_legL' \n",
    "ftet_o_legR_wog = ftet_o_tag + '_wog_legR'\n",
    "\n",
    "ftet_o_pg_wog_path   = str((ftet_o_dir/ ftet_o_pg_wog).resolve())\n",
    "ftet_o_legL_wog_path = str((ftet_o_dir/ ftet_o_legL_wog).resolve())\n",
    "ftet_o_legR_wog_path =  str((ftet_o_dir/ ftet_o_legR_wog).resolve())"
   ]
  },
  {
   "cell_type": "code",
   "execution_count": 7,
   "metadata": {},
   "outputs": [],
   "source": [
    "# volgen output directories - with gap\n",
    "o_pg_wg   = model_id + '_wg_pg'   \n",
    "o_legL_wg = model_id + '_wg_legL' \n",
    "o_legR_wg = model_id + '_wg_legR'\n",
    "\n",
    "o_pg_wg_path   = str(o_dir/ o_pg_wg)\n",
    "o_legL_wg_path = str(o_dir/ o_legL_wg)\n",
    "o_legR_wg_path = str(o_dir/ o_legR_wg)\n",
    "\n",
    "nodal_pg_wg_path   = str(nodal_o_dir/ o_pg_wg)\n",
    "nodal_legL_wg_path = str(nodal_o_dir/ o_legL_wg)\n",
    "nodal_legR_wg_path = str(nodal_o_dir/ o_legR_wg)\n",
    "\n",
    "# volgen output directories - without gap\n",
    "o_pg_wog   = model_id + '_wog_pg'   \n",
    "o_legL_wog = model_id + '_wog_legL' \n",
    "o_legR_wog = model_id + '_wog_legR'\n",
    "\n",
    "o_pg_wog_path   = str(o_dir/ o_pg_wog)\n",
    "o_legL_wog_path = str(o_dir/ o_legL_wog)\n",
    "o_legR_wog_path = str(o_dir/ o_legR_wog)\n",
    "\n",
    "nodal_pg_wog_path   = str(nodal_o_dir/ o_pg_wog)\n",
    "nodal_legL_wog_path = str(nodal_o_dir/ o_legL_wog)\n",
    "nodal_legR_wog_path = str(nodal_o_dir/ o_legR_wog)"
   ]
  },
  {
   "cell_type": "markdown",
   "metadata": {},
   "source": [
    "VOLUME MESH GENERATION PROPERTIES:\n",
    "- The volume mesh properties for an optimal mesh size is read from the subject-specific config files. \n",
    "- eps: the envelope of size epsilon. Using smaller envelope preserves features better but also takes longer time. \n",
    "  The default value of epsilon is b/1000, where b is the length of the diagonal of the bounding box. \n",
    "  Please refer to https://github.com/wildmeshing/fTetWild for more information.\n",
    "- l_* : the ideal edge length. Using smaller ideal edge length gives a denser mesh but also takes longer time. \n",
    "  The default ideal edge length is b/20.\n",
    "  Please refer to https://github.com/wildmeshing/fTetWild for more information."
   ]
  },
  {
   "cell_type": "code",
   "execution_count": 8,
   "metadata": {},
   "outputs": [],
   "source": [
    "# epsilon and edge length for the femur (l_leg) and the sacrum and the hip (l_girdle)\n",
    "config_vol = config.vol_var\n",
    "\n",
    "eps        = str(config_vol.epsilon)\n",
    "l_leg      = str(config_vol.edge_length_leg)\n",
    "l_girdle   = str(config_vol.edge_length_girdle)"
   ]
  },
  {
   "cell_type": "markdown",
   "metadata": {},
   "source": [
    "# read surface mesh"
   ]
  },
  {
   "cell_type": "code",
   "execution_count": 9,
   "metadata": {
    "scrolled": false
   },
   "outputs": [
    {
     "name": "stdout",
     "output_type": "stream",
     "text": [
      "number of faces after reading 44510\n",
      "number of faces after reading 36084\n",
      "number of faces after reading 35832\n",
      "number of faces after reading 45274\n",
      "number of faces after reading 47032\n",
      "number of faces after reading 4076\n",
      "number of faces after reading 3528\n",
      "number of faces after reading 468\n",
      "number of faces after reading 2848\n",
      "number of faces after reading 3038\n",
      "number of faces after reading 17606\n",
      "number of faces after reading 17756\n",
      "number of faces after reading 2848\n",
      "number of faces after reading 3038\n",
      "number of faces after reading 17606\n",
      "number of faces after reading 17756\n"
     ]
    }
   ],
   "source": [
    "s_vertices, s_faces   = src.read (i_sacrum_path, i_dim) \n",
    "lp_vertices, lp_faces = src.read (i_lpelvis_path, i_dim)\n",
    "rp_vertices, rp_faces = src.read (i_rpelvis_path, i_dim) \n",
    "lf_vertices, lf_faces = src.read (i_lfemur_path, i_dim)\n",
    "rf_vertices, rf_faces = src.read (i_rfemur_path, i_dim) \n",
    "\n",
    "lsj_vertices, lsj_faces = src.read (i_lsj_path, i_dim)\n",
    "rsj_vertices, rsj_faces = src.read (i_rsj_path, i_dim)\n",
    "pj_vertices,  pj_faces  = src.read (i_pj_path,  i_dim)\n",
    "\n",
    "# with gap\n",
    "lhj_ac_wg_vertices, lhj_ac_wg_faces = src.read (i_lhj_ac_wg_path, i_dim )\n",
    "rhj_ac_wg_vertices, rhj_ac_wg_faces = src.read (i_rhj_ac_wg_path, i_dim )\n",
    "\n",
    "lhj_fc_wg_vertices, lhj_fc_wg_faces = src.read (i_lhj_fc_wg_path, i_dim )\n",
    "rhj_fc_wg_vertices, rhj_fc_wg_faces = src.read (i_rhj_fc_wg_path,i_dim )\n",
    "\n",
    "# without gap\n",
    "lhj_ac_wog_vertices, lhj_ac_wog_faces = src.read (i_lhj_ac_wog_path, i_dim )\n",
    "rhj_ac_wog_vertices, rhj_ac_wog_faces = src.read (i_rhj_ac_wog_path, i_dim )\n",
    "\n",
    "lhj_fc_wog_vertices, lhj_fc_wog_faces = src.read (i_lhj_fc_wog_path, i_dim )\n",
    "rhj_fc_wog_vertices, rhj_fc_wog_faces = src.read (i_rhj_fc_wog_path,i_dim )"
   ]
  },
  {
   "cell_type": "code",
   "execution_count": 10,
   "metadata": {
    "scrolled": false
   },
   "outputs": [
    {
     "data": {
      "application/vnd.jupyter.widget-view+json": {
       "model_id": "7a48da04bad84e2db8b959d7f3d2c200",
       "version_major": 2,
       "version_minor": 0
      },
      "text/plain": [
       "Renderer(camera=PerspectiveCamera(children=(DirectionalLight(color='white', intensity=0.6, position=(8.5043048…"
      ]
     },
     "metadata": {},
     "output_type": "display_data"
    },
    {
     "data": {
      "text/plain": [
       "11"
      ]
     },
     "execution_count": 10,
     "metadata": {},
     "output_type": "execute_result"
    }
   ],
   "source": [
    "frame = mp.plot( s_vertices, s_faces, c = src.bone, shading = src.sh_false )\n",
    "frame.add_mesh ( lp_vertices, lp_faces, c = src.bone, shading = src.sh_false )\n",
    "frame.add_mesh ( rp_vertices, rp_faces, c = src.bone, shading = src.sh_false )\n",
    "frame.add_mesh ( lf_vertices, lf_faces, c = src.bone, shading = src.sh_false )\n",
    "frame.add_mesh ( rf_vertices, rf_faces, c = src.bone, shading = src.sh_false )\n",
    "frame.add_mesh ( lhj_ac_wg_vertices, lhj_ac_wg_faces, c = src.pastel_light_blue, shading = src.sh_false )\n",
    "frame.add_mesh ( lhj_fc_wg_vertices, lhj_fc_wg_faces, c = src.pastel_light_blue, shading = src.sh_false )\n",
    "frame.add_mesh ( rhj_ac_wg_vertices, rhj_ac_wg_faces, c = src.pastel_light_blue, shading = src.sh_false )\n",
    "frame.add_mesh ( rhj_fc_wg_vertices, rhj_fc_wg_faces, c = src.pastel_light_blue, shading = src.sh_false )\n",
    "frame.add_mesh ( lsj_vertices, lsj_faces, c = src.pastel_light_blue, shading = src.sh_false )\n",
    "frame.add_mesh ( rsj_vertices, rsj_faces, c = src.pastel_light_blue, shading = src.sh_false )\n",
    "frame.add_mesh ( pj_vertices, pj_faces, c = src.pastel_light_blue, shading = src.sh_false)"
   ]
  },
  {
   "cell_type": "markdown",
   "metadata": {},
   "source": [
    "# volume mesh generation -  with a small gap in the hip joint (wg)"
   ]
  },
  {
   "cell_type": "markdown",
   "metadata": {},
   "source": [
    "- First, we make a union boolean operation function to glue the sub-domains together.\n",
    " - pelvic girdle: The boolean boolean operation glues the sacrum, the paired pelvic bones, the paired sacroiliac jooints, and the pubic symphysis\n",
    " - left leg: The boolean boolean operation glues the left femoral bone and the left femoral cartilage together.\n",
    " - right leg: The boolean boolean operation glues the right femoral bone and the right femoral cartilage together.\n",
    "- Second, we create volume mesh for the sub-domains simultaneously rather than building our discretized model one by one. fTetWild constructs volume meshes inside and outside the model, filling a bounding box around the model.\n",
    "- Third, We apply a post-processing step to extract the interior volume of each object and filter out the elements that do not belong to any of the objects."
   ]
  },
  {
   "cell_type": "markdown",
   "metadata": {},
   "source": [
    "1- PELVIC GIRDLE (WG)"
   ]
  },
  {
   "cell_type": "code",
   "execution_count": 11,
   "metadata": {},
   "outputs": [
    {
     "name": "stdout",
     "output_type": "stream",
     "text": [
      "[1 2 3 4 5 6 7 8]\n",
      "length of elements one 4613\n",
      "length of elements two 2359\n",
      "length of elements three 1839\n",
      "length of elements four 1792\n",
      "length of elements five 454\n",
      "length of elements six 48470\n",
      "length of elements seven 39798\n",
      "length of elements eight 39968\n",
      "length of labels 139293\n"
     ]
    },
    {
     "data": {
      "application/vnd.jupyter.widget-view+json": {
       "model_id": "edcbea82d2a2449a8da137dc8b34e82c",
       "version_major": 2,
       "version_minor": 0
      },
      "text/plain": [
       "Renderer(camera=PerspectiveCamera(children=(DirectionalLight(color='white', intensity=0.6, position=(8.8991317…"
      ]
     },
     "metadata": {},
     "output_type": "display_data"
    }
   ],
   "source": [
    "# csg operation and json file\n",
    "op_0      = src.mk_union (i_lpelvis_path, i_lhj_ac_wg_path)\n",
    "op_1      = src.mk_union (i_rpelvis_path, i_rhj_ac_wg_path)\n",
    "op_2      = src.mk_union (op_0, i_lsj_path)\n",
    "op_3      = src.mk_union (op_1, i_rsj_path)\n",
    "op_4      = src.mk_union (op_2, op_3)\n",
    "op_5      = src.mk_union (op_4, i_sacrum_path)\n",
    "op_girdle = src.mk_union (op_5, i_pj_path)\n",
    "\n",
    "json_pg_wg_path = src.mk_json(ftet_o_pg_wg, op_girdle, json_o_dir)\n",
    "\n",
    "# volume mesh with no inside/out classification\n",
    "src.run_boolean(ftetwild_dir, json_pg_wg_path, ftet_o_pg_wg_path, eps, l_girdle)\n",
    "\n",
    "# post-processing\n",
    "src.girdle_filter (ftet_o_pg_wg_path, o_pg_wg_path, nodal_pg_wg_path,\n",
    "                   lsj_vertices, lsj_faces, rsj_vertices, rsj_faces, \n",
    "                   lhj_ac_wg_vertices, lhj_ac_wg_faces, rhj_ac_wg_vertices, rhj_ac_wg_faces,\n",
    "                   pj_vertices, pj_faces, s_vertices, s_faces,\n",
    "                   lp_vertices, lp_faces, rp_vertices, rp_faces,\n",
    "                   i_dim, o_dim)\n"
   ]
  },
  {
   "cell_type": "markdown",
   "metadata": {},
   "source": [
    "2- LEFT LEG (WG)"
   ]
  },
  {
   "cell_type": "code",
   "execution_count": 12,
   "metadata": {
    "scrolled": false
   },
   "outputs": [
    {
     "data": {
      "application/vnd.jupyter.widget-view+json": {
       "model_id": "5575aeddfa6344b0828e9e80d05b51b4",
       "version_major": 2,
       "version_minor": 0
      },
      "text/plain": [
       "Renderer(camera=PerspectiveCamera(children=(DirectionalLight(color='white', intensity=0.6, position=(133.58573…"
      ]
     },
     "metadata": {},
     "output_type": "display_data"
    },
    {
     "data": {
      "application/vnd.jupyter.widget-view+json": {
       "model_id": "005861072b7e485e9fbc51c2b9ed8b7b",
       "version_major": 2,
       "version_minor": 0
      },
      "text/plain": [
       "Renderer(camera=PerspectiveCamera(children=(DirectionalLight(color='white', intensity=0.6, position=(133.59288…"
      ]
     },
     "metadata": {},
     "output_type": "display_data"
    },
    {
     "name": "stdout",
     "output_type": "stream",
     "text": [
      "number of physical elements [1 2]\n",
      "length of elements 1 9387\n",
      "length of elements 2 102175\n",
      "length of labels 111562\n"
     ]
    }
   ],
   "source": [
    "# csg operation and json file\n",
    "op_legL = src.mk_union (i_lfemur_path, i_lhj_fc_wg_path)\n",
    "\n",
    "json_legL_wg_path = src.mk_json (ftet_o_legL_wg, op_legL, json_o_dir)\n",
    "\n",
    "# volume mesh with no inside/out classification\n",
    "src.run_boolean (ftetwild_dir, json_legL_wg_path, ftet_o_legL_wg_path, eps, l_leg)\n",
    "\n",
    "# post-processing\n",
    "src.leg_filter (ftet_o_legL_wg_path, o_legL_wg_path, nodal_legL_wg_path,\n",
    "                lhj_fc_wg_vertices, lhj_fc_wg_faces,\n",
    "                lf_vertices, lf_faces,\n",
    "                i_dim, o_dim)"
   ]
  },
  {
   "cell_type": "markdown",
   "metadata": {},
   "source": [
    "3- RIGHT LEG (WG)"
   ]
  },
  {
   "cell_type": "code",
   "execution_count": 13,
   "metadata": {},
   "outputs": [
    {
     "data": {
      "application/vnd.jupyter.widget-view+json": {
       "model_id": "0b1ec39eebc84cc98f2044f0f5a595b8",
       "version_major": 2,
       "version_minor": 0
      },
      "text/plain": [
       "Renderer(camera=PerspectiveCamera(children=(DirectionalLight(color='white', intensity=0.6, position=(-111.5471…"
      ]
     },
     "metadata": {},
     "output_type": "display_data"
    },
    {
     "data": {
      "application/vnd.jupyter.widget-view+json": {
       "model_id": "9cfa6bc2e1394c6498072c928f26b91c",
       "version_major": 2,
       "version_minor": 0
      },
      "text/plain": [
       "Renderer(camera=PerspectiveCamera(children=(DirectionalLight(color='white', intensity=0.6, position=(-111.5410…"
      ]
     },
     "metadata": {},
     "output_type": "display_data"
    },
    {
     "name": "stdout",
     "output_type": "stream",
     "text": [
      "number of physical elements [1 2]\n",
      "length of elements 1 8881\n",
      "length of elements 2 103126\n",
      "length of labels 112007\n"
     ]
    }
   ],
   "source": [
    "# csg operation and json file\n",
    "op_legR = src.mk_union(i_rfemur_path, i_rhj_fc_wg_path)\n",
    "\n",
    "json_legR_wg_path = src.mk_json(ftet_o_legR_wg, op_legR, json_o_dir)\n",
    "\n",
    "# volume mesh with no inside/out classification\n",
    "src.run_boolean (ftetwild_dir, json_legR_wg_path, ftet_o_legR_wg_path, eps, l_leg)\n",
    "\n",
    "# post-processing\n",
    "src.leg_filter (ftet_o_legR_wg_path, o_legR_wg_path, nodal_legR_wg_path,\n",
    "                rhj_fc_wg_vertices, rhj_fc_wg_faces,\n",
    "                rf_vertices, rf_faces,\n",
    "                i_dim, o_dim)"
   ]
  },
  {
   "cell_type": "markdown",
   "metadata": {},
   "source": [
    "# volume mesh generation - without gap in the hip joint (wog)"
   ]
  },
  {
   "cell_type": "markdown",
   "metadata": {},
   "source": [
    "1- PELVIC GIRDLE (WOG)"
   ]
  },
  {
   "cell_type": "code",
   "execution_count": 14,
   "metadata": {},
   "outputs": [
    {
     "name": "stdout",
     "output_type": "stream",
     "text": [
      "[1 2 3 4 5 6 7 8]\n",
      "length of elements one 4245\n",
      "length of elements two 2152\n",
      "length of elements three 1765\n",
      "length of elements four 1817\n",
      "length of elements five 397\n",
      "length of elements six 46793\n",
      "length of elements seven 39880\n",
      "length of elements eight 38252\n",
      "length of labels 135301\n"
     ]
    },
    {
     "data": {
      "application/vnd.jupyter.widget-view+json": {
       "model_id": "2a581f8eb11a466fa7e2a8bd92551994",
       "version_major": 2,
       "version_minor": 0
      },
      "text/plain": [
       "Renderer(camera=PerspectiveCamera(children=(DirectionalLight(color='white', intensity=0.6, position=(8.9270019…"
      ]
     },
     "metadata": {},
     "output_type": "display_data"
    }
   ],
   "source": [
    "# csg operation and json file\n",
    "op_0      = src.mk_union (i_lpelvis_path, i_lhj_ac_wog_path)\n",
    "op_1      = src.mk_union (i_rpelvis_path, i_rhj_ac_wog_path)\n",
    "op_2      = src.mk_union (op_0, i_lsj_path)\n",
    "op_3      = src.mk_union (op_1, i_rsj_path)\n",
    "op_4      = src.mk_union (op_2, op_3)\n",
    "op_5      = src.mk_union (op_4, i_sacrum_path)\n",
    "op_girdle = src.mk_union (op_5, i_pj_path)\n",
    "\n",
    "json_pg_wog_path = src.mk_json(ftet_o_pg_wog, op_girdle, json_o_dir)\n",
    "\n",
    "# volume mesh with no inside/out classification\n",
    "src.run_boolean(ftetwild_dir, json_pg_wog_path, ftet_o_pg_wog_path, eps, l_girdle)\n",
    "\n",
    "# post-processing\n",
    "src.girdle_filter (ftet_o_pg_wog_path, o_pg_wog_path, nodal_pg_wog_path,\n",
    "                   lsj_vertices, lsj_faces, rsj_vertices, rsj_faces, \n",
    "                   lhj_ac_wog_vertices, lhj_ac_wog_faces, rhj_ac_wog_vertices, rhj_ac_wog_faces,\n",
    "                   pj_vertices, pj_faces, s_vertices, s_faces,\n",
    "                   lp_vertices, lp_faces, rp_vertices, rp_faces,\n",
    "                   i_dim, o_dim)"
   ]
  },
  {
   "cell_type": "markdown",
   "metadata": {},
   "source": [
    "2- LEFT LEG (WOG)"
   ]
  },
  {
   "cell_type": "code",
   "execution_count": 15,
   "metadata": {
    "scrolled": true
   },
   "outputs": [
    {
     "data": {
      "application/vnd.jupyter.widget-view+json": {
       "model_id": "7da73bd8f737458cbf32b352c17de101",
       "version_major": 2,
       "version_minor": 0
      },
      "text/plain": [
       "Renderer(camera=PerspectiveCamera(children=(DirectionalLight(color='white', intensity=0.6, position=(133.50089…"
      ]
     },
     "metadata": {},
     "output_type": "display_data"
    },
    {
     "data": {
      "application/vnd.jupyter.widget-view+json": {
       "model_id": "88138a146a9842a1adf2145b2e516e8d",
       "version_major": 2,
       "version_minor": 0
      },
      "text/plain": [
       "Renderer(camera=PerspectiveCamera(children=(DirectionalLight(color='white', intensity=0.6, position=(133.50408…"
      ]
     },
     "metadata": {},
     "output_type": "display_data"
    },
    {
     "name": "stdout",
     "output_type": "stream",
     "text": [
      "number of physical elements [1 2]\n",
      "length of elements 1 9446\n",
      "length of elements 2 100597\n",
      "length of labels 110043\n"
     ]
    }
   ],
   "source": [
    "# csg operation and json file\n",
    "op_legL = src.mk_union (i_lfemur_path, i_lhj_fc_wog_path)\n",
    "\n",
    "json_legL_wog_path = src.mk_json(ftet_o_legL_wog, op_legL, json_o_dir)\n",
    "\n",
    "# volume mesh with no inside/out classification\n",
    "src.run_boolean (ftetwild_dir, json_legL_wog_path, ftet_o_legL_wog_path, eps, l_leg)\n",
    "\n",
    "# post-processing\n",
    "src.leg_filter (ftet_o_legL_wog_path, o_legL_wog_path, nodal_legL_wog_path,\n",
    "                lhj_fc_wog_vertices, lhj_fc_wog_faces,\n",
    "                lf_vertices, lf_faces,\n",
    "                i_dim, o_dim)"
   ]
  },
  {
   "cell_type": "markdown",
   "metadata": {},
   "source": [
    "3- RIGHT LEG (WOG)"
   ]
  },
  {
   "cell_type": "code",
   "execution_count": 16,
   "metadata": {
    "scrolled": false
   },
   "outputs": [
    {
     "data": {
      "application/vnd.jupyter.widget-view+json": {
       "model_id": "6052361972514e299906d44f774f186f",
       "version_major": 2,
       "version_minor": 0
      },
      "text/plain": [
       "Renderer(camera=PerspectiveCamera(children=(DirectionalLight(color='white', intensity=0.6, position=(-111.4756…"
      ]
     },
     "metadata": {},
     "output_type": "display_data"
    },
    {
     "data": {
      "application/vnd.jupyter.widget-view+json": {
       "model_id": "0377f2c259654a3f84938e1b67b46971",
       "version_major": 2,
       "version_minor": 0
      },
      "text/plain": [
       "Renderer(camera=PerspectiveCamera(children=(DirectionalLight(color='white', intensity=0.6, position=(-111.4657…"
      ]
     },
     "metadata": {},
     "output_type": "display_data"
    },
    {
     "name": "stdout",
     "output_type": "stream",
     "text": [
      "number of physical elements [1 2]\n",
      "length of elements 1 8953\n",
      "length of elements 2 100970\n",
      "length of labels 109923\n"
     ]
    }
   ],
   "source": [
    "# csg operation and json file \n",
    "op_legR = src.mk_union(i_rfemur_path, i_rhj_fc_wog_path)\n",
    "\n",
    "json_legR_wog_path = src.mk_json(ftet_o_legR_wog, op_legR, json_o_dir)\n",
    "\n",
    "# volume mesh with no inside/out classification\n",
    "src.run_boolean (ftetwild_dir, json_legR_wog_path, ftet_o_legR_wog_path, eps, l_leg)\n",
    "\n",
    "# post-processing\n",
    "src.leg_filter (ftet_o_legR_wog_path, o_legR_wog_path, nodal_legR_wog_path,\n",
    "                rhj_fc_wog_vertices, rhj_fc_wog_faces,\n",
    "                rf_vertices, rf_faces,\n",
    "                i_dim, o_dim )"
   ]
  },
  {
   "cell_type": "markdown",
   "metadata": {},
   "source": [
    "# make sure of the gaps"
   ]
  },
  {
   "cell_type": "code",
   "execution_count": 17,
   "metadata": {},
   "outputs": [
    {
     "name": "stdout",
     "output_type": "stream",
     "text": [
      "number of faces after reading 6568\n",
      "number of faces after reading 1452\n",
      "number of faces after reading 6246\n",
      "number of faces after reading 1410\n",
      "\n",
      "minimum distance in the left hip joint with gap: 0.15\n",
      "minimum distance in the right hip joint with gap: 0.08\n",
      "\n",
      "number of faces after reading 6524\n",
      "number of faces after reading 1396\n",
      "number of faces after reading 6282\n",
      "number of faces after reading 1418\n",
      "\n",
      "minimum distance in the left hip joint without gap: -0.11\n",
      "minimum distance in the right hip joint without gap: -0.11\n",
      "\n"
     ]
    }
   ],
   "source": [
    "# # with gap\n",
    "# lfc_wg_verices, lfc_wg_faces = src.read(o_legL_wg_path + '_jnt_fc.obj', i_dim)\n",
    "# lpc_wg_verices, lpc_wg_faces = src.read(o_pg_wg_path   + '_jnt_lac.obj', i_dim)\n",
    "# rfc_wg_verices, rfc_wg_faces = src.read(o_legR_wg_path + '_jnt_fc.obj', i_dim)\n",
    "# rpc_wg_verices, rpc_wg_faces = src.read(o_pg_wg_path   + '_jnt_rac.obj', i_dim)\n",
    "\n",
    "# lsd_wg, _, _ = igl.signed_distance(lfc_wg_verices,lpc_wg_verices, lpc_wg_faces, return_normals=False)\n",
    "# rsd_wg, _, _ = igl.signed_distance(rfc_wg_verices,rpc_wg_verices, rpc_wg_faces, return_normals=False)\n",
    "\n",
    "# print('')\n",
    "# print('minimum distance in the left hip joint with gap:',np.round(np.min(lsd_wg),2))\n",
    "# print('minimum distance in the right hip joint with gap:',np.round(np.min(rsd_wg),2))\n",
    "# print('')\n",
    "\n",
    "# # without gap\n",
    "# lfc_wog_verices, lfc_wog_faces = src.read(o_legL_wog_path + '_jnt_fc.obj', i_dim)\n",
    "# lpc_wog_verices, lpc_wog_faces = src.read(o_pg_wog_path   + '_jnt_lac.obj', i_dim)\n",
    "# rfc_wog_verices, rfc_wog_faces = src.read(o_legR_wog_path + '_jnt_fc.obj', i_dim)\n",
    "# rpc_wog_verices, rpc_wog_faces = src.read(o_pg_wog_path   + '_jnt_rac.obj', i_dim)\n",
    "\n",
    "# lsd_wog, _, _ = igl.signed_distance(lfc_wog_verices,lpc_wog_verices, lpc_wog_faces, return_normals=False)\n",
    "# rsd_wog, _, _ = igl.signed_distance(rfc_wog_verices,rpc_wog_verices, rpc_wog_faces, return_normals=False)\n",
    "\n",
    "# print('')\n",
    "# print('minimum distance in the left hip joint without gap:',np.round(np.min(lsd_wog),2))\n",
    "# print('minimum distance in the right hip joint without gap:',np.round(np.min(rsd_wog),2))\n",
    "# print('')"
   ]
  },
  {
   "cell_type": "code",
   "execution_count": null,
   "metadata": {},
   "outputs": [],
   "source": []
  }
 ],
 "metadata": {
  "kernelspec": {
   "display_name": "Python 3",
   "language": "python",
   "name": "python3"
  },
  "language_info": {
   "codemirror_mode": {
    "name": "ipython",
    "version": 3
   },
   "file_extension": ".py",
   "mimetype": "text/x-python",
   "name": "python",
   "nbconvert_exporter": "python",
   "pygments_lexer": "ipython3",
   "version": "3.8.11"
  },
  "toc": {
   "base_numbering": 1,
   "nav_menu": {},
   "number_sections": true,
   "sideBar": true,
   "skip_h1_title": false,
   "title_cell": "Table of Contents",
   "title_sidebar": "Contents",
   "toc_cell": false,
   "toc_position": {
    "height": "calc(100% - 180px)",
    "left": "10px",
    "top": "150px",
    "width": "209px"
   },
   "toc_section_display": true,
   "toc_window_display": true
  }
 },
 "nbformat": 4,
 "nbformat_minor": 4
}
