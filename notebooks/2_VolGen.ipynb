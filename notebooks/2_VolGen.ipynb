{
 "cells": [
  {
   "cell_type": "markdown",
   "metadata": {},
   "source": [
    "# Volume Generation\n",
    "This notebook explains a method to create volume mesh for both bones and cartilages"
   ]
  },
  {
   "cell_type": "markdown",
   "metadata": {},
   "source": [
    "# imports and user-defined properties"
   ]
  },
  {
   "cell_type": "code",
   "execution_count": 1,
   "metadata": {},
   "outputs": [],
   "source": [
    "import numpy as np\n",
    "import meshplot as mp\n",
    "from pathlib import Path\n",
    "import os\n",
    "import igl\n",
    "import matplotlib.pyplot as plt\n",
    "import wildmeshing as wm\n",
    "import sys\n",
    "\n",
    "sys.path.append(str(Path.home()/'Documents'/'Github'/'libhip'))\n",
    "sys.path.append('../')\n",
    "\n",
    "import src"
   ]
  },
  {
   "cell_type": "markdown",
   "metadata": {},
   "source": [
    "INPUT SUBJECT INFORMATION:\n",
    "- subject_id = choose between m1 -> m11 to select one of the detaset in the repository.\n",
    "- user-defined names: these names belong to input bone models. 'l' and 'r' refer to the 'left' and the 'right' side of the body.\n",
    "- i_dim, o_dim: the input and output dimension ( 'mm' = millimeters, 'm' = meters )\n",
    "- o_format: the format you want the files to be save at ( '.obj' , '.stl' )\n",
    "- eps: the envelope of size epsilon. Using smaller envelope preserves features better but also takes longer time. \n",
    "  The default value of epsilon is b/1000, where b is the length of the diagonal of the bounding box. \n",
    "  Please refer to https://github.com/wildmeshing/fTetWild for more information.\n",
    "- l_* : the ideal edge length. Using smaller ideal edge length gives a denser mesh but also takes longer time. \n",
    "  The default ideal edge length is b/20.\n",
    "  Please refer to https://github.com/wildmeshing/fTetWild for more information."
   ]
  },
  {
   "cell_type": "code",
   "execution_count": 2,
   "metadata": {},
   "outputs": [],
   "source": [
    "# do you want coarse or fine mesh?\n",
    "coarse = True\n",
    "\n",
    "if coarse:\n",
    "    density = '_coarse'\n",
    "else:\n",
    "    density = '_fine'\n",
    "\n",
    "# subject id\n",
    "subject_id = 'm1'  \n",
    "folder_tag = subject_id + density\n",
    "\n",
    "# Are you cartilage geometries full or implicit models?\n",
    "full_model = True\n",
    "\n",
    "# dimensions \n",
    "i_dim  = 'mm'     \n",
    "o_dim  = 'mm'\n",
    "\n",
    "# file format and suffix\n",
    "i_format = '.obj'\n",
    "o_format = '.msh'"
   ]
  },
  {
   "cell_type": "markdown",
   "metadata": {},
   "source": [
    "DIRECTORIES and PATHS:\n",
    "- main_dir: locate this directory to where the libhip repository is cloned to.\n",
    "- ftetwild_dir: locate this path to the 'build' folder of ftetwild.\n",
    "- i_dir:  locate this directory to the input bone surface mesh files.\n",
    "- o_dir:  locate this directory to where you. want the cleaned and remeshed bone models to be saved at."
   ]
  },
  {
   "cell_type": "code",
   "execution_count": 3,
   "metadata": {},
   "outputs": [],
   "source": [
    "ftetwild_dir = Path.home()/ 'Documents'/ 'Github'/ 'fTetWild'/ 'build'\n",
    "main_dir     = Path('..')\n",
    "\n",
    "i_dir        = main_dir/ 'model_generation'/ 'cargen_output'/ subject_id\n",
    "json_o_dir   = main_dir/ 'model_generation'/ 'json_output'  / folder_tag\n",
    "ftet_o_dir   = main_dir/ 'model_generation'/ 'ftet_output'  / folder_tag\n",
    "o_dir        = main_dir/ 'model_generation'/ 'volgen_output'/ folder_tag\n",
    "   \n",
    "config_name  = subject_id + '_config'\n",
    "config_path  = str((main_dir/ 'config'/ config_name).with_suffix(\".yml\"))\n",
    "config       = src.Config (config_path)\n",
    "\n",
    "# Remove all files inside output directory if it exists, otherwise create it\n",
    "if json_o_dir.is_dir():\n",
    "    for file in json_o_dir.iterdir():\n",
    "        if file.is_file():\n",
    "            file.unlink()\n",
    "else:\n",
    "    json_o_dir.mkdir(exist_ok=False)\n",
    "    \n",
    "if ftet_o_dir.is_dir():\n",
    "    for file in ftet_o_dir.iterdir():\n",
    "        if file.is_file():\n",
    "            file.unlink()\n",
    "else:\n",
    "    ftet_o_dir.mkdir(exist_ok=False)\n",
    "    \n",
    "if o_dir.is_dir():\n",
    "    for file in o_dir.iterdir():\n",
    "        if file.is_file():\n",
    "            file.unlink()\n",
    "else:\n",
    "    o_dir.mkdir(exist_ok=False)"
   ]
  },
  {
   "cell_type": "code",
   "execution_count": 4,
   "metadata": {},
   "outputs": [],
   "source": [
    "# input paths - bones\n",
    "input_bone_tag = subject_id + '_cg_bone_'\n",
    "\n",
    "input_sacrum  = input_bone_tag + 'sacrum'\n",
    "input_lhip    = input_bone_tag + 'lhip'  \n",
    "input_rhip    = input_bone_tag + 'rhip'\n",
    "input_lfemur  = input_bone_tag + 'lfemur'\n",
    "input_rfemur  = input_bone_tag + 'rfemur'\n",
    "\n",
    "input_sacrum_path = str((i_dir/ input_sacrum).with_suffix(i_format).resolve())\n",
    "input_lhip_path   = str((i_dir/ input_lhip).with_suffix(i_format).resolve())\n",
    "input_rhip_path   = str((i_dir/ input_rhip).with_suffix(i_format).resolve())\n",
    "input_lfemur_path = str((i_dir/ input_lfemur).with_suffix(i_format).resolve())\n",
    "input_rfemur_path = str((i_dir/ input_rfemur).with_suffix(i_format).resolve())"
   ]
  },
  {
   "cell_type": "code",
   "execution_count": 5,
   "metadata": {},
   "outputs": [],
   "source": [
    "# input paths - joints\n",
    "if full_model:\n",
    "    input_joint_tag = subject_id + '_cg_jnt_'\n",
    "else:\n",
    "    input_joint_tag = subject_id + '_cg_jnt_implicit_'\n",
    "    \n",
    "# sacroiliac joint\n",
    "lsj = input_joint_tag + 'lsi'\n",
    "rsj = input_joint_tag + 'rsi'\n",
    "\n",
    "# pubic joint\n",
    "pj  = input_joint_tag + 'pj'\n",
    "\n",
    "# sacroiliac and pubic joint paths\n",
    "input_lsj_path = str((i_dir/ lsj).with_suffix(i_format).resolve())\n",
    "input_rsj_path = str((i_dir/ rsj).with_suffix(i_format).resolve())\n",
    "input_pj_path  = str((i_dir/ pj) .with_suffix(i_format).resolve())\n",
    "\n",
    "# hip joint with gap\n",
    "lhj_ac_wg = input_joint_tag + 'lh_ac_w_gap' \n",
    "lhj_fc_wg = input_joint_tag + 'lh_fc_w_gap' \n",
    "rhj_ac_wg = input_joint_tag + 'rh_ac_w_gap' \n",
    "rhj_fc_wg = input_joint_tag + 'rh_fc_w_gap'  \n",
    "\n",
    "# hip joint without gap\n",
    "lhj_ac_wog = input_joint_tag + 'lh_ac_wo_gap' \n",
    "lhj_fc_wog = input_joint_tag + 'lh_fc_wo_gap'\n",
    "rhj_ac_wog = input_joint_tag + 'rh_ac_wo_gap'\n",
    "rhj_fc_wog = input_joint_tag + 'rh_fc_wo_gap'\n",
    "\n",
    "# hip joint w/wo gap paths\n",
    "input_lhj_ac_wg_path = str((i_dir/ lhj_ac_wg).with_suffix(i_format).resolve())\n",
    "input_rhj_ac_wg_path = str((i_dir/ rhj_ac_wg).with_suffix(i_format).resolve())\n",
    "input_lhj_fc_wg_path = str((i_dir/ lhj_fc_wg).with_suffix(i_format).resolve())\n",
    "input_rhj_fc_wg_path = str((i_dir/ rhj_fc_wg).with_suffix(i_format).resolve())\n",
    "\n",
    "input_lhj_ac_wog_path = str((i_dir/ lhj_ac_wog).with_suffix(i_format).resolve())\n",
    "input_rhj_ac_wog_path = str((i_dir/ rhj_ac_wog).with_suffix(i_format).resolve())\n",
    "input_lhj_fc_wog_path = str((i_dir/ lhj_fc_wog).with_suffix(i_format).resolve())\n",
    "input_rhj_fc_wog_path = str((i_dir/ rhj_fc_wog).with_suffix(i_format).resolve())"
   ]
  },
  {
   "cell_type": "code",
   "execution_count": 6,
   "metadata": {},
   "outputs": [],
   "source": [
    "# ftetwild output directories - with gap\n",
    "ftet_output_tag = subject_id + '_csg_'\n",
    "\n",
    "ftet_output_pg_wg   = ftet_output_tag + '_girdle_w_gap'\n",
    "ftet_output_legL_wg = ftet_output_tag + '_left_leg_w_gap' \n",
    "ftet_output_legR_wg = ftet_output_tag + '_right_leg_w_gap'\n",
    "\n",
    "ftet_output_pg_wg_dir   = str((ftet_o_dir/ ftet_output_pg_wg).resolve())\n",
    "ftet_output_legL_wg_dir = str((ftet_o_dir/ ftet_output_legL_wg).resolve())\n",
    "ftet_output_legR_wg_dir = str((ftet_o_dir/ ftet_output_legR_wg).resolve())\n",
    "\n",
    "# ftetwild output directories - without gap\n",
    "ftet_output_pg_wog   = ftet_output_tag + '_girdle_wo_gap'\n",
    "ftet_output_legL_wog = ftet_output_tag + '_left_leg_wo_gap' \n",
    "ftet_output_legR_wog = ftet_output_tag + '_right_leg_wo_gap'\n",
    "\n",
    "ftet_output_pg_wog_dir   = str((ftet_o_dir/ ftet_output_pg_wog).resolve())\n",
    "ftet_output_legL_wog_dir = str((ftet_o_dir/ ftet_output_legL_wog).resolve())\n",
    "ftet_output_legR_wog_dir = str((ftet_o_dir/ ftet_output_legR_wog).resolve())"
   ]
  },
  {
   "cell_type": "code",
   "execution_count": 7,
   "metadata": {},
   "outputs": [],
   "source": [
    "# volgen output paths - with gap\n",
    "output_pg_wg   = subject_id + '_girdle_w_gap'   + density\n",
    "output_legL_wg = subject_id + '_left_leg_w_gap' + density\n",
    "output_legR_wg = subject_id + '_right_leg_w_gap'+ density\n",
    "\n",
    "output_pg_wg_dir   = str(o_dir/ output_pg_wg)\n",
    "output_legL_wg_dir = str(o_dir/ output_legL_wg)\n",
    "output_legR_wg_dir = str(o_dir/ output_legR_wg)\n",
    "\n",
    "# volgen output paths - without gap\n",
    "output_pg_wog   = subject_id + '_girdle_wo_gap'   + density\n",
    "output_legL_wog = subject_id + '_left_leg_wo_gap' + density\n",
    "output_legR_wog = subject_id + '_right_leg_wo_gap'+ density\n",
    "\n",
    "output_pg_wog_dir   = str(o_dir/ output_pg_wog)\n",
    "output_legL_wog_dir = str(o_dir/ output_legL_wog)\n",
    "output_legR_wog_dir = str(o_dir/ output_legR_wog)"
   ]
  },
  {
   "cell_type": "markdown",
   "metadata": {},
   "source": [
    "# implementation"
   ]
  },
  {
   "cell_type": "code",
   "execution_count": 8,
   "metadata": {},
   "outputs": [],
   "source": [
    "# epsilon and edge length for the femur (l_leg) and the sacrum and the hip (l_girdle)\n",
    "config_vol = config.vol_var\n",
    "\n",
    "if coarse:\n",
    "    eps = str(config_vol.epsilon_coarse)\n",
    "    l_leg = str(config_vol.edge_length_leg_coarse)\n",
    "    l_girdle = str(config_vol.edge_length_girdle_coarse)\n",
    "else:\n",
    "    eps = str(config_vol.epsilon_fine)\n",
    "    l_leg = str(config_vol.edge_length_leg_fine)\n",
    "    l_girdle = str(config_vol.edge_length_girdle_fine)"
   ]
  },
  {
   "cell_type": "code",
   "execution_count": 9,
   "metadata": {
    "scrolled": false
   },
   "outputs": [
    {
     "name": "stdout",
     "output_type": "stream",
     "text": [
      "number of faces after reading 46456\n",
      "number of faces after reading 35726\n",
      "number of faces after reading 35528\n",
      "number of faces after reading 24908\n",
      "number of faces after reading 25108\n",
      "number of faces after reading 4088\n",
      "number of faces after reading 3230\n",
      "number of faces after reading 616\n",
      "number of faces after reading 3576\n",
      "number of faces after reading 2600\n",
      "number of faces after reading 8208\n",
      "number of faces after reading 8672\n",
      "number of faces after reading 3576\n",
      "number of faces after reading 2600\n",
      "number of faces after reading 8208\n",
      "number of faces after reading 8672\n"
     ]
    }
   ],
   "source": [
    "s_vertices, s_faces   = src.read (input_sacrum_path, i_dim) \n",
    "lh_vertices, lh_faces = src.read (input_lhip_path, i_dim)\n",
    "rh_vertices, rh_faces = src.read (input_rhip_path, i_dim) \n",
    "lf_vertices, lf_faces = src.read (input_lfemur_path, i_dim)\n",
    "rf_vertices, rf_faces = src.read (input_rfemur_path, i_dim) \n",
    "\n",
    "lsj_vertices, lsj_faces = src.read (input_lsj_path, i_dim)\n",
    "rsj_vertices, rsj_faces = src.read (input_rsj_path, i_dim)\n",
    "pj_vertices,  pj_faces  = src.read (input_pj_path,  i_dim)\n",
    "\n",
    "# with gap\n",
    "lhj_ac_wg_vertices, lhj_ac_wg_faces = src.read (input_lhj_ac_wg_path, i_dim )\n",
    "rhj_ac_wg_vertices, rhj_ac_wg_faces = src.read (input_rhj_ac_wg_path, i_dim )\n",
    "\n",
    "lhj_fc_wg_vertices, lhj_fc_wg_faces = src.read (input_lhj_fc_wg_path, i_dim )\n",
    "rhj_fc_wg_vertices, rhj_fc_wg_faces = src.read (input_rhj_fc_wg_path,i_dim )\n",
    "\n",
    "# without gap\n",
    "lhj_ac_wog_vertices, lhj_ac_wog_faces = src.read (input_lhj_ac_wog_path, i_dim )\n",
    "rhj_ac_wog_vertices, rhj_ac_wog_faces = src.read (input_rhj_ac_wog_path, i_dim )\n",
    "\n",
    "lhj_fc_wog_vertices, lhj_fc_wog_faces = src.read (input_lhj_fc_wog_path, i_dim )\n",
    "rhj_fc_wog_vertices, rhj_fc_wog_faces = src.read (input_rhj_fc_wog_path,i_dim )"
   ]
  },
  {
   "cell_type": "code",
   "execution_count": 10,
   "metadata": {
    "scrolled": false
   },
   "outputs": [
    {
     "data": {
      "application/vnd.jupyter.widget-view+json": {
       "model_id": "af69d240b858469bb60fe2b3b7f9b059",
       "version_major": 2,
       "version_minor": 0
      },
      "text/plain": [
       "Renderer(camera=PerspectiveCamera(children=(DirectionalLight(color='white', intensity=0.6, position=(-4.006748…"
      ]
     },
     "metadata": {},
     "output_type": "display_data"
    },
    {
     "data": {
      "text/plain": [
       "11"
      ]
     },
     "execution_count": 10,
     "metadata": {},
     "output_type": "execute_result"
    }
   ],
   "source": [
    "frame = mp.plot( s_vertices, s_faces, c = src.bone, shading = src.sh_false )\n",
    "frame.add_mesh ( lh_vertices, lh_faces, c = src.bone, shading = src.sh_false )\n",
    "frame.add_mesh ( rh_vertices, rh_faces, c = src.bone, shading = src.sh_false )\n",
    "frame.add_mesh ( lf_vertices, lf_faces, c = src.bone, shading = src.sh_false )\n",
    "frame.add_mesh ( rf_vertices, rf_faces, c = src.bone, shading = src.sh_false )\n",
    "frame.add_mesh ( lhj_ac_wg_vertices, lhj_ac_wg_faces, c = src.pastel_light_blue, shading = src.sh_false )\n",
    "frame.add_mesh ( lhj_fc_wg_vertices, lhj_fc_wg_faces, c = src.pastel_light_blue, shading = src.sh_false )\n",
    "frame.add_mesh ( rhj_ac_wg_vertices, rhj_ac_wg_faces, c = src.pastel_light_blue, shading = src.sh_false )\n",
    "frame.add_mesh ( rhj_fc_wg_vertices, rhj_fc_wg_faces, c = src.pastel_light_blue, shading = src.sh_false )\n",
    "frame.add_mesh ( lsj_vertices, lsj_faces, c = src.pastel_light_blue, shading = src.sh_false )\n",
    "frame.add_mesh ( rsj_vertices, rsj_faces, c = src.pastel_light_blue, shading = src.sh_false )\n",
    "frame.add_mesh ( pj_vertices, pj_faces, c = src.pastel_light_blue, shading = src.sh_false)"
   ]
  },
  {
   "cell_type": "markdown",
   "metadata": {},
   "source": [
    "## the pelvic girdle"
   ]
  },
  {
   "cell_type": "markdown",
   "metadata": {},
   "source": [
    "### with gap"
   ]
  },
  {
   "cell_type": "code",
   "execution_count": 11,
   "metadata": {},
   "outputs": [],
   "source": [
    "# csg operation\n",
    "op_0      = src.mk_union (input_lhip_path, input_lhj_ac_wg_path)\n",
    "op_1      = src.mk_union (input_rhip_path, input_rhj_ac_wg_path)\n",
    "op_2      = src.mk_union (op_0, input_lsj_path)\n",
    "op_3      = src.mk_union (op_1, input_rsj_path)\n",
    "op_4      = src.mk_union (op_2, op_3)\n",
    "op_5      = src.mk_union (op_4, input_sacrum_path)\n",
    "op_girdle = src.mk_union (op_5, input_pj_path)\n",
    "\n",
    "# make the json file\n",
    "json_output_girdle_wg_path = src.mk_json(ftet_output_pg_wg, op_girdle, json_o_dir)\n",
    "\n",
    "# create the volume mesh\n",
    "src.run_boolean(ftetwild_dir, json_output_girdle_wg_path, ftet_output_pg_wg_dir, eps, l_girdle)"
   ]
  },
  {
   "cell_type": "code",
   "execution_count": 12,
   "metadata": {
    "scrolled": false
   },
   "outputs": [
    {
     "name": "stdout",
     "output_type": "stream",
     "text": [
      "[1 2 3 4 5 6 7 8]\n",
      "length of elements one 2286\n",
      "length of elements two 1759\n",
      "length of elements three 2247\n",
      "length of elements four 1477\n",
      "length of elements five 624\n",
      "length of elements six 48294\n",
      "length of elements seven 29811\n",
      "length of elements eight 29017\n",
      "length of labels 115515\n"
     ]
    },
    {
     "data": {
      "application/vnd.jupyter.widget-view+json": {
       "model_id": "69bb5b1c402d43febda21560d61daba4",
       "version_major": 2,
       "version_minor": 0
      },
      "text/plain": [
       "Renderer(camera=PerspectiveCamera(children=(DirectionalLight(color='white', intensity=0.6, position=(-2.399223…"
      ]
     },
     "metadata": {},
     "output_type": "display_data"
    }
   ],
   "source": [
    "src.girdle_filter (ftet_output_pg_wg_dir, output_pg_wg_dir,\n",
    "               lsj_vertices, lsj_faces, rsj_vertices, rsj_faces, \n",
    "               lhj_ac_wg_vertices, lhj_ac_wg_faces, rhj_ac_wg_vertices, rhj_ac_wg_faces,\n",
    "               pj_vertices, pj_faces, s_vertices, s_faces,\n",
    "               lh_vertices, lh_faces, rh_vertices, rh_faces,\n",
    "               i_dim, o_dim)"
   ]
  },
  {
   "cell_type": "markdown",
   "metadata": {},
   "source": [
    "### without gap"
   ]
  },
  {
   "cell_type": "code",
   "execution_count": 13,
   "metadata": {},
   "outputs": [],
   "source": [
    "# csg operation\n",
    "op_0      = src.mk_union (input_lhip_path, input_lhj_ac_wog_path)\n",
    "op_1      = src.mk_union (input_rhip_path, input_rhj_ac_wog_path)\n",
    "op_2      = src.mk_union (op_0, input_lsj_path)\n",
    "op_3      = src.mk_union (op_1, input_rsj_path)\n",
    "op_4      = src.mk_union (op_2, op_3)\n",
    "op_5      = src.mk_union (op_4, input_sacrum_path)\n",
    "op_girdle = src.mk_union (op_5, input_pj_path)\n",
    "\n",
    "# make the json file\n",
    "json_output_girdle_wog_path = src.mk_json(ftet_output_pg_wog, op_girdle, json_o_dir)\n",
    "\n",
    "# create the volume mesh\n",
    "src.run_boolean(ftetwild_dir, json_output_girdle_wog_path, ftet_output_pg_wog_dir, eps, l_girdle)"
   ]
  },
  {
   "cell_type": "code",
   "execution_count": 14,
   "metadata": {},
   "outputs": [
    {
     "name": "stdout",
     "output_type": "stream",
     "text": [
      "[1 2 3 4 5 6 7 8]\n",
      "length of elements one 2081\n",
      "length of elements two 1727\n",
      "length of elements three 2113\n",
      "length of elements four 1474\n",
      "length of elements five 650\n",
      "length of elements six 48490\n",
      "length of elements seven 28755\n",
      "length of elements eight 28923\n",
      "length of labels 114213\n"
     ]
    },
    {
     "data": {
      "application/vnd.jupyter.widget-view+json": {
       "model_id": "92517ace53d24d599881a6d67158a09b",
       "version_major": 2,
       "version_minor": 0
      },
      "text/plain": [
       "Renderer(camera=PerspectiveCamera(children=(DirectionalLight(color='white', intensity=0.6, position=(-2.382347…"
      ]
     },
     "metadata": {},
     "output_type": "display_data"
    }
   ],
   "source": [
    "src.girdle_filter (ftet_output_pg_wog_dir, output_pg_wog_dir,\n",
    "               lsj_vertices, lsj_faces, rsj_vertices, rsj_faces, \n",
    "               lhj_ac_wog_vertices, lhj_ac_wog_faces, rhj_ac_wog_vertices, rhj_ac_wog_faces,\n",
    "               pj_vertices, pj_faces, s_vertices, s_faces,\n",
    "               lh_vertices, lh_faces, rh_vertices, rh_faces,\n",
    "               i_dim, o_dim)"
   ]
  },
  {
   "cell_type": "markdown",
   "metadata": {},
   "source": [
    "## left femur & left femoral cartilage"
   ]
  },
  {
   "cell_type": "markdown",
   "metadata": {},
   "source": [
    "### with gap"
   ]
  },
  {
   "cell_type": "code",
   "execution_count": 15,
   "metadata": {
    "scrolled": false
   },
   "outputs": [],
   "source": [
    "# csg operation \n",
    "op_legL = src.mk_union (input_lfemur_path, input_lhj_fc_wg_path)\n",
    "\n",
    "# make the json file\n",
    "json_output_legL_wg_path = src.mk_json (ftet_output_legL_wg, op_legL, json_o_dir)\n",
    "\n",
    "# create the volume mesh\n",
    "src.run_boolean (ftetwild_dir, json_output_legL_wg_path, ftet_output_legL_wg_dir, eps, l_leg)"
   ]
  },
  {
   "cell_type": "code",
   "execution_count": 16,
   "metadata": {
    "scrolled": false
   },
   "outputs": [
    {
     "data": {
      "application/vnd.jupyter.widget-view+json": {
       "model_id": "9b5665e895e04c588549eec4f9d46270",
       "version_major": 2,
       "version_minor": 0
      },
      "text/plain": [
       "Renderer(camera=PerspectiveCamera(children=(DirectionalLight(color='white', intensity=0.6, position=(103.40033…"
      ]
     },
     "metadata": {},
     "output_type": "display_data"
    },
    {
     "data": {
      "application/vnd.jupyter.widget-view+json": {
       "model_id": "3192558e955143d69fd975353c32f31e",
       "version_major": 2,
       "version_minor": 0
      },
      "text/plain": [
       "Renderer(camera=PerspectiveCamera(children=(DirectionalLight(color='white', intensity=0.6, position=(103.41011…"
      ]
     },
     "metadata": {},
     "output_type": "display_data"
    },
    {
     "name": "stdout",
     "output_type": "stream",
     "text": [
      "number of physical elements [1 2]\n",
      "length of elements 1 6383\n",
      "length of elements 2 34862\n",
      "length of labels 41245\n"
     ]
    }
   ],
   "source": [
    "src.leg_filter (ftet_output_legL_wg_dir, output_legL_wg_dir,\n",
    "                lhj_fc_wg_vertices, lhj_fc_wg_faces,\n",
    "                lf_vertices, lf_faces,\n",
    "                i_dim, o_dim)"
   ]
  },
  {
   "cell_type": "markdown",
   "metadata": {},
   "source": [
    "### without gap"
   ]
  },
  {
   "cell_type": "code",
   "execution_count": 17,
   "metadata": {},
   "outputs": [],
   "source": [
    "# csg operation \n",
    "op_legL = src.mk_union (input_lfemur_path, input_lhj_fc_wog_path)\n",
    "\n",
    "# make the json file\n",
    "json_output_legL_wog_path = src.mk_json(ftet_output_legL_wog, op_legL, json_o_dir)\n",
    "\n",
    "# create the volume mesh\n",
    "src.run_boolean (ftetwild_dir, json_output_legL_wog_path, ftet_output_legL_wog_dir, eps, l_leg)"
   ]
  },
  {
   "cell_type": "code",
   "execution_count": 18,
   "metadata": {},
   "outputs": [
    {
     "data": {
      "application/vnd.jupyter.widget-view+json": {
       "model_id": "d1a99301e5b9486c8e49a8ab9c0a11b1",
       "version_major": 2,
       "version_minor": 0
      },
      "text/plain": [
       "Renderer(camera=PerspectiveCamera(children=(DirectionalLight(color='white', intensity=0.6, position=(103.34125…"
      ]
     },
     "metadata": {},
     "output_type": "display_data"
    },
    {
     "data": {
      "application/vnd.jupyter.widget-view+json": {
       "model_id": "8c4d7564f4214936bca2d3746d736cd0",
       "version_major": 2,
       "version_minor": 0
      },
      "text/plain": [
       "Renderer(camera=PerspectiveCamera(children=(DirectionalLight(color='white', intensity=0.6, position=(103.34288…"
      ]
     },
     "metadata": {},
     "output_type": "display_data"
    },
    {
     "name": "stdout",
     "output_type": "stream",
     "text": [
      "number of physical elements [1 2]\n",
      "length of elements 1 6298\n",
      "length of elements 2 35564\n",
      "length of labels 41862\n"
     ]
    }
   ],
   "source": [
    "src.leg_filter (ftet_output_legL_wog_dir, output_legL_wog_dir,\n",
    "                lhj_fc_wog_vertices, lhj_fc_wog_faces,\n",
    "                lf_vertices, lf_faces,\n",
    "                i_dim, o_dim)"
   ]
  },
  {
   "cell_type": "markdown",
   "metadata": {},
   "source": [
    "## right femur & right femoral cartilage"
   ]
  },
  {
   "cell_type": "markdown",
   "metadata": {},
   "source": [
    "### with gap"
   ]
  },
  {
   "cell_type": "code",
   "execution_count": 19,
   "metadata": {},
   "outputs": [],
   "source": [
    "# csg operation \n",
    "op_legR = src.mk_union(input_rfemur_path, input_rhj_fc_wg_path)\n",
    "\n",
    "# make the json file\n",
    "json_output_legR_wg_path = src.mk_json(ftet_output_legR_wg, op_legR, json_o_dir)\n",
    "\n",
    "# create the volume mesh\n",
    "src.run_boolean (ftetwild_dir, json_output_legR_wg_path, ftet_output_legR_wg_dir, eps, l_leg)"
   ]
  },
  {
   "cell_type": "code",
   "execution_count": 20,
   "metadata": {
    "scrolled": false
   },
   "outputs": [
    {
     "data": {
      "application/vnd.jupyter.widget-view+json": {
       "model_id": "77045deb83c3456a954d1500c352848f",
       "version_major": 2,
       "version_minor": 0
      },
      "text/plain": [
       "Renderer(camera=PerspectiveCamera(children=(DirectionalLight(color='white', intensity=0.6, position=(-102.1604…"
      ]
     },
     "metadata": {},
     "output_type": "display_data"
    },
    {
     "data": {
      "application/vnd.jupyter.widget-view+json": {
       "model_id": "564e44526ed342c69c9ba9dd1c67b6d7",
       "version_major": 2,
       "version_minor": 0
      },
      "text/plain": [
       "Renderer(camera=PerspectiveCamera(children=(DirectionalLight(color='white', intensity=0.6, position=(-102.1265…"
      ]
     },
     "metadata": {},
     "output_type": "display_data"
    },
    {
     "name": "stdout",
     "output_type": "stream",
     "text": [
      "number of physical elements [1 2]\n",
      "length of elements 1 6668\n",
      "length of elements 2 35480\n",
      "length of labels 42148\n"
     ]
    }
   ],
   "source": [
    "src.leg_filter (ftet_output_legR_wg_dir, output_legR_wg_dir,\n",
    "                rhj_fc_wg_vertices, rhj_fc_wg_faces,\n",
    "                rf_vertices, rf_faces,\n",
    "                i_dim, o_dim)"
   ]
  },
  {
   "cell_type": "markdown",
   "metadata": {},
   "source": [
    "### without gap"
   ]
  },
  {
   "cell_type": "code",
   "execution_count": 21,
   "metadata": {},
   "outputs": [],
   "source": [
    "# csg operation \n",
    "op_legR = src.mk_union(input_rfemur_path, input_rhj_fc_wog_path)\n",
    "\n",
    "# make the json file\n",
    "json_output_legR_wog_path = src.mk_json(ftet_output_legR_wog, op_legR, json_o_dir)\n",
    "\n",
    "# create the volume mesh\n",
    "src.run_boolean (ftetwild_dir, json_output_legR_wog_path, ftet_output_legR_wog_dir, eps, l_leg)"
   ]
  },
  {
   "cell_type": "code",
   "execution_count": 22,
   "metadata": {},
   "outputs": [
    {
     "data": {
      "application/vnd.jupyter.widget-view+json": {
       "model_id": "1890022f66624ff0a2bea7660fd69e18",
       "version_major": 2,
       "version_minor": 0
      },
      "text/plain": [
       "Renderer(camera=PerspectiveCamera(children=(DirectionalLight(color='white', intensity=0.6, position=(-101.9957…"
      ]
     },
     "metadata": {},
     "output_type": "display_data"
    },
    {
     "data": {
      "application/vnd.jupyter.widget-view+json": {
       "model_id": "7afa060857174e7a90cb55b826b3ba4b",
       "version_major": 2,
       "version_minor": 0
      },
      "text/plain": [
       "Renderer(camera=PerspectiveCamera(children=(DirectionalLight(color='white', intensity=0.6, position=(-101.9937…"
      ]
     },
     "metadata": {},
     "output_type": "display_data"
    },
    {
     "name": "stdout",
     "output_type": "stream",
     "text": [
      "number of physical elements [1 2]\n",
      "length of elements 1 6532\n",
      "length of elements 2 36295\n",
      "length of labels 42827\n"
     ]
    }
   ],
   "source": [
    "src.leg_filter (ftet_output_legR_wog_dir, output_legR_wog_dir,\n",
    "                rhj_fc_wog_vertices, rhj_fc_wog_faces,\n",
    "                rf_vertices, rf_faces,\n",
    "                i_dim, o_dim )"
   ]
  },
  {
   "cell_type": "markdown",
   "metadata": {},
   "source": [
    "## make sure of the gaps"
   ]
  },
  {
   "cell_type": "code",
   "execution_count": 23,
   "metadata": {},
   "outputs": [],
   "source": [
    "# # with gap\n",
    "# lfc_w_gap_verices, lfc_w_gap_faces = src.read(vg_output_left_w_gap_path+ '_cart.obj', i_dim)\n",
    "# lpc_w_gap_verices, lpc_w_gap_faces = src.read(vg_output_nord_w_gap_path+ '_lpc.obj', i_dim)\n",
    "# rfc_w_gap_verices, rfc_w_gap_faces = src.read(vg_output_right_w_gap_path+ '_cart.obj', i_dim)\n",
    "# rpc_w_gap_verices, rpc_w_gap_faces = src.read(vg_output_nord_w_gap_path+ '_rpc.obj', i_dim)\n",
    "\n",
    "# lsd_w_gap, _, _ = igl.signed_distance(lfc_w_gap_verices,lpc_w_gap_verices, lpc_w_gap_faces, return_normals=False)\n",
    "# rsd_w_gap, _, _ = igl.signed_distance(rfc_w_gap_verices,rpc_w_gap_verices, rpc_w_gap_faces, return_normals=False)\n",
    "\n",
    "# print('minimum distance in the left hip joint with gap',np.round(np.min(lsd_w_gap),2))\n",
    "# print('minimum distance in the right hip joint with gap',np.round(np.min(rsd_w_gap),2))\n",
    "\n",
    "# # without gap\n",
    "# lfc_wo_gap_verices, lfc_wo_gap_faces = src.read(vg_output_left_wo_gap_path+ '_cart.obj', i_dim)\n",
    "# lpc_wo_gap_verices, lpc_wo_gap_faces = src.read(vg_output_nord_wo_gap_path+ '_lpc.obj', i_dim)\n",
    "# rfc_wo_gap_verices, rfc_wo_gap_faces = src.read(vg_output_right_wo_gap_path+ '_cart.obj', i_dim)\n",
    "# rpc_wo_gap_verices, rpc_wo_gap_faces = src.read(vg_output_nord_wo_gap_path+ '_rpc.obj', i_dim)\n",
    "\n",
    "# lsd_wo_gap, _, _ = igl.signed_distance(lfc_wo_gap_verices,lpc_wo_gap_verices, lpc_wo_gap_faces, return_normals=False)\n",
    "# rsd_wo_gap, _, _ = igl.signed_distance(rfc_wo_gap_verices,rpc_wo_gap_verices, rpc_wo_gap_faces, return_normals=False)\n",
    "\n",
    "# print('minimum distance in the left hip joint without gap',np.round(np.min(lsd_wo_gap),2))\n",
    "# print('minimum distance in the right hip joint without gap',np.round(np.min(rsd_wo_gap),2))"
   ]
  }
 ],
 "metadata": {
  "kernelspec": {
   "display_name": "Python 3",
   "language": "python",
   "name": "python3"
  },
  "language_info": {
   "codemirror_mode": {
    "name": "ipython",
    "version": 3
   },
   "file_extension": ".py",
   "mimetype": "text/x-python",
   "name": "python",
   "nbconvert_exporter": "python",
   "pygments_lexer": "ipython3",
   "version": "3.9.6"
  },
  "toc": {
   "base_numbering": 1,
   "nav_menu": {},
   "number_sections": true,
   "sideBar": true,
   "skip_h1_title": false,
   "title_cell": "Table of Contents",
   "title_sidebar": "Contents",
   "toc_cell": false,
   "toc_position": {
    "height": "calc(100% - 180px)",
    "left": "10px",
    "top": "150px",
    "width": "209px"
   },
   "toc_section_display": true,
   "toc_window_display": true
  }
 },
 "nbformat": 4,
 "nbformat_minor": 4
}
