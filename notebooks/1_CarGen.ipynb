{
 "cells": [
  {
   "cell_type": "markdown",
   "metadata": {},
   "source": [
    "# Cartilage Generation \n",
    "This notebook explains a direct method to generate the lower body cartilage surface mesh based on the bone geometries\n",
    "    "
   ]
  },
  {
   "cell_type": "markdown",
   "metadata": {},
   "source": [
    "## imports and user-defined properties"
   ]
  },
  {
   "cell_type": "code",
   "execution_count": 1,
   "metadata": {},
   "outputs": [],
   "source": [
    "import numpy as np\n",
    "import meshplot as mp\n",
    "import os\n",
    "import igl\n",
    "import time\n",
    "from pathlib import Path\n",
    "import sys\n",
    "import pandas as pd\n",
    "\n",
    "\n",
    "sys.path.append(str(Path.home()/'Documents'/'Github'/'libhip'))\n",
    "sys.path.append('../')\n",
    "\n",
    "import src"
   ]
  },
  {
   "cell_type": "markdown",
   "metadata": {},
   "source": [
    "INPUT SUBJECT INFORMATION:\n",
    "\n",
    "- subject_id: choose between m1 -> m11 to select one of the detaset in the repository.\n",
    "- i_dim, o_dim: the input and output dimension ( 'mm' = millimeters, 'm' = meters )\n",
    "- o_format: the format you want the files to be save at ( '.obj' , '.stl' )"
   ]
  },
  {
   "cell_type": "code",
   "execution_count": 2,
   "metadata": {},
   "outputs": [],
   "source": [
    "# subject id\n",
    "subject_id = 'm1'\n",
    "\n",
    "# do you want full or implicit models of the cartilage models?\n",
    "full_model = True\n",
    "\n",
    "# dimensions \n",
    "i_dim  = \"mm\"     \n",
    "o_dim  = \"mm\"\n",
    "\n",
    "# suffix\n",
    "i_format = \".obj\"\n",
    "o_format = \".obj\""
   ]
  },
  {
   "cell_type": "markdown",
   "metadata": {},
   "source": [
    "DIRECTORIES and PATHS:\n",
    "- main_dir: locate this directory to where the libhip repository is cloned to.\n",
    "- i_dir:  the directory of the input bone surface mesh files.\n",
    "- o_dir:  the directory of the output bone and cartilage model results.\n",
    "- anatomical_dir: the directory of the anatomical measurements of the bone and cartilage models.\n",
    "- config_path: path to the subject-specific parameters to create cartilage models.\n"
   ]
  },
  {
   "cell_type": "code",
   "execution_count": 3,
   "metadata": {},
   "outputs": [],
   "source": [
    "main_dir = Path('..')\n",
    "\n",
    "i_dir    = main_dir/ 'model_generation'/ 'preprocessing_output'/ subject_id\n",
    "o_dir    = main_dir/ 'model_generation'/ 'cargen_output'/ subject_id\n",
    "\n",
    "anatomical_dir = main_dir/ 'model_generation'/ 'anatomical_info'\n",
    "subject_name   = '/'+ subject_id + '_joint_anatomical.csv'\n",
    "subject_anatomical_path = str(anatomical_dir) + subject_name\n",
    "    \n",
    "config_name  = subject_id + '_config'\n",
    "config_path  = str((main_dir/ 'config'/ config_name).with_suffix('.yml'))\n",
    "config       = src.Config (config_path)\n",
    "\n",
    "# Remove all files inside output directory if it exists, otherwise create it\n",
    "if o_dir.is_dir():\n",
    "    for file in o_dir.iterdir():\n",
    "        if file.is_file():\n",
    "            file.unlink()\n",
    "else:\n",
    "    o_dir.mkdir(exist_ok=False)\n",
    "    \n",
    "if os.path.exists(subject_anatomical_path):\n",
    "    os.remove(subject_anatomical_path)"
   ]
  },
  {
   "cell_type": "code",
   "execution_count": 4,
   "metadata": {},
   "outputs": [],
   "source": [
    "# save the subject id to the relative anatomincal information file\n",
    "df = pd.read_csv (str(anatomical_dir) + '/default_anatomical.csv', encoding = 'utf-8')\n",
    "df.loc[1, 'Value'] = subject_id\n",
    "df.to_csv(subject_anatomical_path, index=False)"
   ]
  },
  {
   "cell_type": "code",
   "execution_count": 5,
   "metadata": {},
   "outputs": [],
   "source": [
    "# bone input paths\n",
    "input_bone_tag = subject_id + '_remeshed_'\n",
    "\n",
    "input_sacrum  = input_bone_tag + 'sacrum_' + i_dim\n",
    "input_lhip    = input_bone_tag + 'lhip_'   + i_dim\n",
    "input_rhip    = input_bone_tag + 'rhip_'   + i_dim\n",
    "input_lfemur  = input_bone_tag + 'lfemur_' + i_dim\n",
    "input_rfemur  = input_bone_tag + 'rfemur_' + i_dim\n",
    "\n",
    "input_sacrum_path = str((i_dir/ input_sacrum).with_suffix(i_format))\n",
    "input_lhip_path   = str((i_dir/ input_lhip).with_suffix(i_format))\n",
    "input_rhip_path   = str((i_dir/ input_rhip).with_suffix(i_format))\n",
    "input_lfemur_path = str((i_dir/ input_lfemur).with_suffix(i_format))\n",
    "input_rfemur_path = str((i_dir/ input_rfemur).with_suffix(i_format))\n"
   ]
  },
  {
   "cell_type": "code",
   "execution_count": 6,
   "metadata": {},
   "outputs": [],
   "source": [
    "# bone output paths\n",
    "output_bone_tag = subject_id + '_cg_bone_'\n",
    "\n",
    "outout_sacrum = output_bone_tag + 'sacrum'\n",
    "outout_lhip   = output_bone_tag + 'lhip'\n",
    "outout_rhip   = output_bone_tag + 'rhip' \n",
    "outout_lfemur = output_bone_tag + 'lfemur' \n",
    "outout_rfemur = output_bone_tag + 'rfemur'\n",
    "\n",
    "output_sacrum_path = str((o_dir/ outout_sacrum).with_suffix(o_format))\n",
    "output_lhip_path   = str((o_dir/ outout_lhip).with_suffix(o_format))\n",
    "output_rhip_path   = str((o_dir/ outout_rhip).with_suffix(o_format))\n",
    "output_lfemur_path = str((o_dir/ outout_lfemur).with_suffix(o_format))\n",
    "output_rfemur_path = str((o_dir/ outout_rfemur).with_suffix(o_format))\n"
   ]
  },
  {
   "cell_type": "code",
   "execution_count": 7,
   "metadata": {},
   "outputs": [],
   "source": [
    "# joint output paths\n",
    "\n",
    "if full_model:\n",
    "    output_joint_tag = subject_id + '_cg_jnt_'\n",
    "else:\n",
    "    output_joint_tag = subject_id + '_cg_jnt_implicit_'\n",
    "    \n",
    "# sacroiliac joint\n",
    "lsj = output_joint_tag + 'lsi'\n",
    "rsj = output_joint_tag + 'rsi'\n",
    "\n",
    "# pubic symphysis\n",
    "pj  = output_joint_tag + 'ps'\n",
    "\n",
    "# sacroiliac and pubic joint paths\n",
    "output_lsj_path = str((o_dir/ lsj).with_suffix(o_format))\n",
    "output_rsj_path = str((o_dir/ rsj).with_suffix(o_format))\n",
    "output_pj_path  = str((o_dir/ pj).with_suffix(o_format))\n",
    "\n",
    "# hip joint with gap\n",
    "lhj_ac_wg = output_joint_tag + 'lh_ac_wg' \n",
    "lhj_fc_wg = output_joint_tag + 'lh_fc_wg' \n",
    "rhj_ac_wg = output_joint_tag + 'rh_ac_wg' \n",
    "rhj_fc_wg = output_joint_tag + 'rh_fc_wg'  \n",
    "\n",
    "# hip joint without gap\n",
    "lhj_ac_wog = output_joint_tag + 'lh_ac_wog' \n",
    "lhj_fc_wog = output_joint_tag + 'lh_fc_wog'\n",
    "rhj_ac_wog = output_joint_tag + 'rh_ac_wog'\n",
    "rhj_fc_wog = output_joint_tag + 'rh_fc_wog'\n",
    "\n",
    "# hip joint w/wo gap paths\n",
    "output_lhj_ac_wg_path = str((o_dir/ lhj_ac_wg).with_suffix(o_format))\n",
    "output_rhj_ac_wg_path = str((o_dir/ rhj_ac_wg).with_suffix(o_format))\n",
    "output_lhj_fc_wg_path = str((o_dir/ lhj_fc_wg).with_suffix(o_format))\n",
    "output_rhj_fc_wg_path = str((o_dir/ rhj_fc_wg).with_suffix(o_format))\n",
    "\n",
    "output_lhj_ac_wog_path = str((o_dir/ lhj_ac_wog).with_suffix(o_format))\n",
    "output_rhj_ac_wog_path = str((o_dir/ rhj_ac_wog).with_suffix(o_format))\n",
    "output_lhj_fc_wog_path = str((o_dir/ lhj_fc_wog).with_suffix(o_format))\n",
    "output_rhj_fc_wog_path = str((o_dir/ rhj_fc_wog).with_suffix(o_format))\n"
   ]
  },
  {
   "cell_type": "markdown",
   "metadata": {},
   "source": [
    "## implementation"
   ]
  },
  {
   "cell_type": "code",
   "execution_count": 8,
   "metadata": {},
   "outputs": [
    {
     "name": "stdout",
     "output_type": "stream",
     "text": [
      "number of faces after reading 46456\n",
      "number of faces after reading 35726\n",
      "number of faces after reading 35528\n",
      "number of faces after reading 24908\n",
      "number of faces after reading 25108\n"
     ]
    }
   ],
   "source": [
    "s_vertices, s_faces  = src.read (input_sacrum_path, i_dim) \n",
    "lh_vertices,lh_faces = src.read (input_lhip_path, i_dim)\n",
    "rh_vertices,rh_faces = src.read (input_rhip_path, i_dim) \n",
    "lf_vertices,lf_faces = src.read (input_lfemur_path, i_dim)\n",
    "rf_vertices,rf_faces = src.read (input_rfemur_path, i_dim) "
   ]
  },
  {
   "cell_type": "code",
   "execution_count": 9,
   "metadata": {},
   "outputs": [
    {
     "data": {
      "application/vnd.jupyter.widget-view+json": {
       "model_id": "a567e5bd927d4323bd415e673952856c",
       "version_major": 2,
       "version_minor": 0
      },
      "text/plain": [
       "Renderer(camera=PerspectiveCamera(children=(DirectionalLight(color='white', intensity=0.6, position=(-4.006748…"
      ]
     },
     "metadata": {},
     "output_type": "display_data"
    },
    {
     "data": {
      "text/plain": [
       "4"
      ]
     },
     "execution_count": 9,
     "metadata": {},
     "output_type": "execute_result"
    }
   ],
   "source": [
    "frame = mp.plot(s_vertices, s_faces, c = src.bone, shading = src.sh_true)\n",
    "frame.add_mesh (lh_vertices, lh_faces, c = src.bone, shading = src.sh_true)\n",
    "frame.add_mesh (rh_vertices, rh_faces, c = src.bone, shading = src.sh_true)\n",
    "frame.add_mesh (lf_vertices, lf_faces, c = src.bone, shading = src.sh_true)\n",
    "frame.add_mesh (rf_vertices, rf_faces, c = src.bone, shading = src.sh_true)"
   ]
  },
  {
   "cell_type": "markdown",
   "metadata": {},
   "source": [
    "### timer"
   ]
  },
  {
   "cell_type": "code",
   "execution_count": 10,
   "metadata": {},
   "outputs": [],
   "source": [
    "# start the timer\n",
    "then = time.time()"
   ]
  },
  {
   "cell_type": "markdown",
   "metadata": {},
   "source": [
    "### left hip joint - acetabular cartilage (with  and without gap)"
   ]
  },
  {
   "cell_type": "code",
   "execution_count": 11,
   "metadata": {},
   "outputs": [],
   "source": [
    "config_lhj_ac = config.lhj_ac_var\n",
    "\n",
    "if not full_model:\n",
    "    config_lhj_ac.full_model = False\n",
    "    "
   ]
  },
  {
   "cell_type": "code",
   "execution_count": 12,
   "metadata": {
    "scrolled": false
   },
   "outputs": [
    {
     "data": {
      "application/vnd.jupyter.widget-view+json": {
       "model_id": "48e5d463b5164536bac0b0304ddc8bf3",
       "version_major": 2,
       "version_minor": 0
      },
      "text/plain": [
       "Renderer(camera=PerspectiveCamera(children=(DirectionalLight(color='white', intensity=0.6, position=(71.969868…"
      ]
     },
     "metadata": {},
     "output_type": "display_data"
    },
    {
     "data": {
      "application/vnd.jupyter.widget-view+json": {
       "model_id": "c60ddff29e23447d98a61e96a90c250a",
       "version_major": 2,
       "version_minor": 0
      },
      "text/plain": [
       "Renderer(camera=PerspectiveCamera(children=(DirectionalLight(color='white', intensity=0.6, position=(71.969868…"
      ]
     },
     "metadata": {},
     "output_type": "display_data"
    },
    {
     "name": "stdout",
     "output_type": "stream",
     "text": [
      "minimum thickness in the initial layer with gap 0.71221\n",
      "minimum thickness in the initial layer without gap 0.79134\n"
     ]
    },
    {
     "data": {
      "application/vnd.jupyter.widget-view+json": {
       "model_id": "e565e66757af4660b455750652e3eccd",
       "version_major": 2,
       "version_minor": 0
      },
      "text/plain": [
       "Renderer(camera=PerspectiveCamera(children=(DirectionalLight(color='white', intensity=0.6, position=(71.969868…"
      ]
     },
     "metadata": {},
     "output_type": "display_data"
    },
    {
     "data": {
      "application/vnd.jupyter.widget-view+json": {
       "model_id": "8904f131f5a74916998a84ade603bf1c",
       "version_major": 2,
       "version_minor": 0
      },
      "text/plain": [
       "Renderer(camera=PerspectiveCamera(children=(DirectionalLight(color='white', intensity=0.6, position=(71.969868…"
      ]
     },
     "metadata": {},
     "output_type": "display_data"
    },
    {
     "data": {
      "application/vnd.jupyter.widget-view+json": {
       "model_id": "f590c2c8198e4db3a880966693a4889b",
       "version_major": 2,
       "version_minor": 0
      },
      "text/plain": [
       "Renderer(camera=PerspectiveCamera(children=(DirectionalLight(color='white', intensity=0.6, position=(81.457582…"
      ]
     },
     "metadata": {},
     "output_type": "display_data"
    },
    {
     "name": "stdout",
     "output_type": "stream",
     "text": [
      "minimum cartilage thickness w/wo gap is:  0.48 / 0.53\n"
     ]
    },
    {
     "data": {
      "application/vnd.jupyter.widget-view+json": {
       "model_id": "bc4c4f6a47804b4b899e7ea58f782a85",
       "version_major": 2,
       "version_minor": 0
      },
      "text/plain": [
       "Renderer(camera=PerspectiveCamera(children=(DirectionalLight(color='white', intensity=0.6, position=(103.93436…"
      ]
     },
     "metadata": {},
     "output_type": "display_data"
    }
   ],
   "source": [
    "smooth_lh_vertices, lhj_ac_vertices_wg, lhj_ac_faces_wg, lhj_ac_vertices_wog, lhj_ac_faces_wog, lfc_face_idxs = src.get_hj_ac(lh_vertices, lh_faces,\n",
    "                                                                                                                              lf_vertices, lf_faces,\n",
    "                                                                                                                              config_lhj_ac, subject_anatomical_path)\n"
   ]
  },
  {
   "cell_type": "markdown",
   "metadata": {},
   "source": [
    "### left hip joint - femoral cartilage (with gap and without gap)"
   ]
  },
  {
   "cell_type": "code",
   "execution_count": 13,
   "metadata": {
    "scrolled": false
   },
   "outputs": [],
   "source": [
    "config_lhj_fc = config.lhj_fc_var\n",
    "\n",
    "if not full_model:\n",
    "    config_lhj_fc.full_model = False"
   ]
  },
  {
   "cell_type": "code",
   "execution_count": 14,
   "metadata": {
    "scrolled": false
   },
   "outputs": [
    {
     "data": {
      "application/vnd.jupyter.widget-view+json": {
       "model_id": "123c7e6e813a40098dc92d19fe257bcb",
       "version_major": 2,
       "version_minor": 0
      },
      "text/plain": [
       "Renderer(camera=PerspectiveCamera(children=(DirectionalLight(color='white', intensity=0.6, position=(103.93436…"
      ]
     },
     "metadata": {},
     "output_type": "display_data"
    },
    {
     "data": {
      "application/vnd.jupyter.widget-view+json": {
       "model_id": "ddae7af4a0e44c54ab7fe36a9ba61c6b",
       "version_major": 2,
       "version_minor": 0
      },
      "text/plain": [
       "Renderer(camera=PerspectiveCamera(children=(DirectionalLight(color='white', intensity=0.6, position=(103.93436…"
      ]
     },
     "metadata": {},
     "output_type": "display_data"
    },
    {
     "name": "stdout",
     "output_type": "stream",
     "text": [
      "minimum thickness in the initial layer with gap 0.70606\n",
      "minimum thickness in the initial layer without gap 0.78451\n"
     ]
    },
    {
     "data": {
      "application/vnd.jupyter.widget-view+json": {
       "model_id": "bd1576447c82421b830f89d0663f8181",
       "version_major": 2,
       "version_minor": 0
      },
      "text/plain": [
       "Renderer(camera=PerspectiveCamera(children=(DirectionalLight(color='white', intensity=0.6, position=(103.93436…"
      ]
     },
     "metadata": {},
     "output_type": "display_data"
    },
    {
     "data": {
      "application/vnd.jupyter.widget-view+json": {
       "model_id": "ea73add8d14e47478469f9fcff3cc128",
       "version_major": 2,
       "version_minor": 0
      },
      "text/plain": [
       "Renderer(camera=PerspectiveCamera(children=(DirectionalLight(color='white', intensity=0.6, position=(103.93436…"
      ]
     },
     "metadata": {},
     "output_type": "display_data"
    },
    {
     "data": {
      "application/vnd.jupyter.widget-view+json": {
       "model_id": "57e51565374e49988d9b139328f7fdd0",
       "version_major": 2,
       "version_minor": 0
      },
      "text/plain": [
       "Renderer(camera=PerspectiveCamera(children=(DirectionalLight(color='white', intensity=0.6, position=(85.053302…"
      ]
     },
     "metadata": {},
     "output_type": "display_data"
    }
   ],
   "source": [
    "# make it\n",
    "smooth_lf_vertices, lhj_fc_vertices_wg, lhj_fc_faces_wg, lhj_fc_vertices_wog, lhj_fc_faces_wog = src.get_hj_fc (lf_vertices, lf_faces, lh_vertices, lh_faces, lfc_face_idxs, config_lhj_fc, subject_anatomical_path)\n",
    "\n"
   ]
  },
  {
   "cell_type": "markdown",
   "metadata": {},
   "source": [
    "### measure the gap between the two HJ cartilages"
   ]
  },
  {
   "cell_type": "code",
   "execution_count": 15,
   "metadata": {
    "scrolled": false
   },
   "outputs": [
    {
     "name": "stdout",
     "output_type": "stream",
     "text": [
      "minimum distance in the left hip joint 0.119\n"
     ]
    },
    {
     "data": {
      "application/vnd.jupyter.widget-view+json": {
       "model_id": "b7a9698a5f754c15aedef431b76b53d7",
       "version_major": 2,
       "version_minor": 0
      },
      "text/plain": [
       "Renderer(camera=PerspectiveCamera(children=(DirectionalLight(color='white', intensity=0.6, position=(81.457582…"
      ]
     },
     "metadata": {},
     "output_type": "display_data"
    }
   ],
   "source": [
    "sd_value, _, closest_points = igl.signed_distance(lhj_fc_vertices_wg, lhj_ac_vertices_wg, lhj_ac_faces_wg, return_normals=False)\n",
    "\n",
    "print('minimum distance in the left hip joint',np.round(np.min(sd_value),3))\n",
    "\n",
    "# show the penetration\n",
    "index = np.where (sd_value < 0 )[0]\n",
    "\n",
    "frame = mp.plot(lhj_ac_vertices_wg, lhj_ac_faces_wg, c=src.pastel_orange, shading = src.sh_true)\n",
    "frame.add_mesh (lhj_fc_vertices_wg, lhj_fc_faces_wg, c = src.pastel_yellow, shading = src.sh_true)\n",
    "\n",
    "if len(index)!= 0 :\n",
    "    frame.add_points(lhj_fc_vertices_wg[index], shading={\"point_color\": \"green\", \"point_size\": 20})\n",
    "    \n",
    "\n",
    "df = pd.read_csv(str(subject_anatomical_path), encoding='utf-8')\n",
    "df.loc[10, 'Value'] = np.round(np.min(sd_value),3)\n",
    "\n",
    "df.to_csv(str(subject_anatomical_path), index=False)"
   ]
  },
  {
   "cell_type": "markdown",
   "metadata": {},
   "source": [
    "### remove penetration in the \"without gap\" version"
   ]
  },
  {
   "cell_type": "code",
   "execution_count": 16,
   "metadata": {},
   "outputs": [],
   "source": [
    "lhj_fc_vertices_wog = src.remove_penetration(lhj_fc_vertices_wog, lhj_ac_vertices_wog, lhj_ac_faces_wog)"
   ]
  },
  {
   "cell_type": "markdown",
   "metadata": {},
   "source": [
    "### export results"
   ]
  },
  {
   "cell_type": "code",
   "execution_count": 17,
   "metadata": {},
   "outputs": [],
   "source": [
    "src.save_surface (lhj_fc_vertices_wg, lhj_fc_faces_wg, o_dim, output_lhj_fc_wg_path)\n",
    "src.save_surface (lhj_ac_vertices_wg, lhj_ac_faces_wg, o_dim, output_lhj_ac_wg_path)\n",
    "\n",
    "src.save_surface (lhj_fc_vertices_wog, lhj_fc_faces_wog, o_dim, output_lhj_fc_wog_path)\n",
    "src.save_surface (lhj_ac_vertices_wog, lhj_ac_faces_wog, o_dim, output_lhj_ac_wog_path)\n"
   ]
  },
  {
   "cell_type": "markdown",
   "metadata": {},
   "source": [
    "### left SI joint"
   ]
  },
  {
   "cell_type": "code",
   "execution_count": 18,
   "metadata": {},
   "outputs": [],
   "source": [
    "config_lsj = config.lsj_var\n",
    "\n",
    "if not full_model:\n",
    "    config_lsj.full_model = False"
   ]
  },
  {
   "cell_type": "code",
   "execution_count": 19,
   "metadata": {
    "scrolled": false
   },
   "outputs": [
    {
     "data": {
      "application/vnd.jupyter.widget-view+json": {
       "model_id": "07366ca1a1bd48b582fe6496ffcfdd48",
       "version_major": 2,
       "version_minor": 0
      },
      "text/plain": [
       "Renderer(camera=PerspectiveCamera(children=(DirectionalLight(color='white', intensity=0.6, position=(-4.006748…"
      ]
     },
     "metadata": {},
     "output_type": "display_data"
    },
    {
     "name": "stdout",
     "output_type": "stream",
     "text": [
      "Primary side: max dihedral angle before smoothing is  0.84 radians ( 48.13 degrees).\n",
      "Primary side: max dihedral angle after smoothing is  0.85 radians ( 48.7 degrees).\n",
      "\n",
      "Quality control results for the primary side: \n",
      "Everything is clean in the primary interface. We will now continue to the secondary interface:\n",
      "\n"
     ]
    },
    {
     "data": {
      "application/vnd.jupyter.widget-view+json": {
       "model_id": "73c78d5f056e41dba270343fc7094613",
       "version_major": 2,
       "version_minor": 0
      },
      "text/plain": [
       "Renderer(camera=PerspectiveCamera(children=(DirectionalLight(color='white', intensity=0.6, position=(-4.022504…"
      ]
     },
     "metadata": {},
     "output_type": "display_data"
    },
    {
     "data": {
      "application/vnd.jupyter.widget-view+json": {
       "model_id": "7c0440b1811b44ffbcf20de99fdf4134",
       "version_major": 2,
       "version_minor": 0
      },
      "text/plain": [
       "Renderer(camera=PerspectiveCamera(children=(DirectionalLight(color='white', intensity=0.6, position=(71.969868…"
      ]
     },
     "metadata": {},
     "output_type": "display_data"
    },
    {
     "name": "stdout",
     "output_type": "stream",
     "text": [
      "Secondary layer: max dihedral angle before smoothing is  0.78 radians ( 44.69 degrees).\n",
      "Secondary layer: max dihedral angle after smoothing is  0.78 radians ( 44.69 degrees).\n",
      "Quality control results for the base layer: \n",
      "\n",
      "Everything is clean in the base layer. We will now continue to create the wall:\n",
      "\n"
     ]
    },
    {
     "data": {
      "application/vnd.jupyter.widget-view+json": {
       "model_id": "39e59e54cb634c1ba9e1b1ec0101970b",
       "version_major": 2,
       "version_minor": 0
      },
      "text/plain": [
       "Renderer(camera=PerspectiveCamera(children=(DirectionalLight(color='white', intensity=0.6, position=(71.969868…"
      ]
     },
     "metadata": {},
     "output_type": "display_data"
    },
    {
     "data": {
      "application/vnd.jupyter.widget-view+json": {
       "model_id": "a4f0d40912c9471eaf8ec8fdf0f9ecb9",
       "version_major": 2,
       "version_minor": 0
      },
      "text/plain": [
       "Renderer(camera=PerspectiveCamera(children=(DirectionalLight(color='white', intensity=0.6, position=(-4.022504…"
      ]
     },
     "metadata": {},
     "output_type": "display_data"
    },
    {
     "data": {
      "application/vnd.jupyter.widget-view+json": {
       "model_id": "9e63ed669b1744a28131ba647b63ded1",
       "version_major": 2,
       "version_minor": 0
      },
      "text/plain": [
       "Renderer(camera=PerspectiveCamera(children=(DirectionalLight(color='white', intensity=0.6, position=(71.969868…"
      ]
     },
     "metadata": {},
     "output_type": "display_data"
    },
    {
     "data": {
      "application/vnd.jupyter.widget-view+json": {
       "model_id": "df18c4bb341a47e38a804ddc8cb19c7b",
       "version_major": 2,
       "version_minor": 0
      },
      "text/plain": [
       "Renderer(camera=PerspectiveCamera(children=(DirectionalLight(color='white', intensity=0.6, position=(42.704328…"
      ]
     },
     "metadata": {},
     "output_type": "display_data"
    },
    {
     "data": {
      "application/vnd.jupyter.widget-view+json": {
       "model_id": "e57e3dc9853641c285d32be7a5ae25c9",
       "version_major": 2,
       "version_minor": 0
      },
      "text/plain": [
       "Renderer(camera=PerspectiveCamera(children=(DirectionalLight(color='white', intensity=0.6, position=(42.704328…"
      ]
     },
     "metadata": {},
     "output_type": "display_data"
    }
   ],
   "source": [
    "smooth_s_vertices, smooth_lh_vertices, lsj_vertices, lsj_faces = src.get_sj(s_vertices, s_faces,\n",
    "                                                                           smooth_lh_vertices, lh_faces,\n",
    "                                                                           config_lsj, subject_anatomical_path)\n",
    "\n",
    "# export results\n",
    "src.save_surface (lsj_vertices, lsj_faces, o_dim, output_lsj_path)"
   ]
  },
  {
   "cell_type": "markdown",
   "metadata": {},
   "source": [
    "### right hip joint - acetabular cartilage (with and without gap)"
   ]
  },
  {
   "cell_type": "code",
   "execution_count": 20,
   "metadata": {},
   "outputs": [],
   "source": [
    "config_rhj_ac = config.rhj_ac_var\n",
    "\n",
    "if not full_model:\n",
    "    config_rhj_ac.full_model = False"
   ]
  },
  {
   "cell_type": "code",
   "execution_count": 21,
   "metadata": {
    "scrolled": false
   },
   "outputs": [
    {
     "data": {
      "application/vnd.jupyter.widget-view+json": {
       "model_id": "9bb011ad18804dc99ab0d09053c48cb4",
       "version_major": 2,
       "version_minor": 0
      },
      "text/plain": [
       "Renderer(camera=PerspectiveCamera(children=(DirectionalLight(color='white', intensity=0.6, position=(-74.98215…"
      ]
     },
     "metadata": {},
     "output_type": "display_data"
    },
    {
     "data": {
      "application/vnd.jupyter.widget-view+json": {
       "model_id": "2903079d569941a88d02aa9c171c7169",
       "version_major": 2,
       "version_minor": 0
      },
      "text/plain": [
       "Renderer(camera=PerspectiveCamera(children=(DirectionalLight(color='white', intensity=0.6, position=(-74.98215…"
      ]
     },
     "metadata": {},
     "output_type": "display_data"
    },
    {
     "name": "stdout",
     "output_type": "stream",
     "text": [
      "minimum thickness in the initial layer with gap 0.88328\n",
      "minimum thickness in the initial layer without gap 0.98142\n"
     ]
    },
    {
     "data": {
      "application/vnd.jupyter.widget-view+json": {
       "model_id": "f5f94246a00b4405932c0871e7e531a8",
       "version_major": 2,
       "version_minor": 0
      },
      "text/plain": [
       "Renderer(camera=PerspectiveCamera(children=(DirectionalLight(color='white', intensity=0.6, position=(-74.98215…"
      ]
     },
     "metadata": {},
     "output_type": "display_data"
    },
    {
     "data": {
      "application/vnd.jupyter.widget-view+json": {
       "model_id": "a452cb5c3b064006a9b772acc1db84a2",
       "version_major": 2,
       "version_minor": 0
      },
      "text/plain": [
       "Renderer(camera=PerspectiveCamera(children=(DirectionalLight(color='white', intensity=0.6, position=(-74.98215…"
      ]
     },
     "metadata": {},
     "output_type": "display_data"
    },
    {
     "data": {
      "application/vnd.jupyter.widget-view+json": {
       "model_id": "62d64af3af1f47c198a143b1e08ab7f6",
       "version_major": 2,
       "version_minor": 0
      },
      "text/plain": [
       "Renderer(camera=PerspectiveCamera(children=(DirectionalLight(color='white', intensity=0.6, position=(-81.78926…"
      ]
     },
     "metadata": {},
     "output_type": "display_data"
    },
    {
     "name": "stdout",
     "output_type": "stream",
     "text": [
      "minimum cartilage thickness w/wo gap is:  0.58 / 0.65\n"
     ]
    },
    {
     "data": {
      "application/vnd.jupyter.widget-view+json": {
       "model_id": "5e1bb47d05de41c587a276e44cb55753",
       "version_major": 2,
       "version_minor": 0
      },
      "text/plain": [
       "Renderer(camera=PerspectiveCamera(children=(DirectionalLight(color='white', intensity=0.6, position=(-103.5955…"
      ]
     },
     "metadata": {},
     "output_type": "display_data"
    }
   ],
   "source": [
    "smooth_rh_vertices, rhj_ac_vertices_wg, rhj_ac_faces_wg, rhj_ac_vertices_wog, rhj_ac_faces_wog, rfc_face_idxs = src.get_hj_ac( rh_vertices, rh_faces, rf_vertices, rf_faces, config_rhj_ac, subject_anatomical_path )\n",
    "\n"
   ]
  },
  {
   "cell_type": "markdown",
   "metadata": {},
   "source": [
    "### right hip joint - femoral cartilage ( with and without gap )"
   ]
  },
  {
   "cell_type": "code",
   "execution_count": 22,
   "metadata": {},
   "outputs": [],
   "source": [
    "config_rhj_fc = config.rhj_fc_var\n",
    "\n",
    "if not full_model:\n",
    "    config_rhj_fc.full_model = False"
   ]
  },
  {
   "cell_type": "code",
   "execution_count": 23,
   "metadata": {
    "scrolled": false
   },
   "outputs": [
    {
     "data": {
      "application/vnd.jupyter.widget-view+json": {
       "model_id": "3218d30ef8c443c99bbda2ebd6506865",
       "version_major": 2,
       "version_minor": 0
      },
      "text/plain": [
       "Renderer(camera=PerspectiveCamera(children=(DirectionalLight(color='white', intensity=0.6, position=(-103.5955…"
      ]
     },
     "metadata": {},
     "output_type": "display_data"
    },
    {
     "data": {
      "application/vnd.jupyter.widget-view+json": {
       "model_id": "5cfd3c5bd0d84f54946f61502bfc28ad",
       "version_major": 2,
       "version_minor": 0
      },
      "text/plain": [
       "Renderer(camera=PerspectiveCamera(children=(DirectionalLight(color='white', intensity=0.6, position=(-103.5955…"
      ]
     },
     "metadata": {},
     "output_type": "display_data"
    },
    {
     "name": "stdout",
     "output_type": "stream",
     "text": [
      "minimum thickness in the initial layer with gap 0.9172\n",
      "minimum thickness in the initial layer without gap 1.01912\n"
     ]
    },
    {
     "data": {
      "application/vnd.jupyter.widget-view+json": {
       "model_id": "3f833b6b373f4159aec603eacbce2e6a",
       "version_major": 2,
       "version_minor": 0
      },
      "text/plain": [
       "Renderer(camera=PerspectiveCamera(children=(DirectionalLight(color='white', intensity=0.6, position=(-103.5955…"
      ]
     },
     "metadata": {},
     "output_type": "display_data"
    },
    {
     "data": {
      "application/vnd.jupyter.widget-view+json": {
       "model_id": "04796828e3e848ca8a3d7dd794371ef1",
       "version_major": 2,
       "version_minor": 0
      },
      "text/plain": [
       "Renderer(camera=PerspectiveCamera(children=(DirectionalLight(color='white', intensity=0.6, position=(-103.5955…"
      ]
     },
     "metadata": {},
     "output_type": "display_data"
    },
    {
     "data": {
      "application/vnd.jupyter.widget-view+json": {
       "model_id": "28a70dcf086c4728a5c8b06ae801cb80",
       "version_major": 2,
       "version_minor": 0
      },
      "text/plain": [
       "Renderer(camera=PerspectiveCamera(children=(DirectionalLight(color='white', intensity=0.6, position=(-85.02232…"
      ]
     },
     "metadata": {},
     "output_type": "display_data"
    }
   ],
   "source": [
    "# make it\n",
    "smooth_rf_vertices, rhj_fc_vertices_wg, rhj_fc_faces_wg, rhj_fc_vertices_wog, rhj_fc_faces_wog = src.get_hj_fc (rf_vertices, rf_faces, rh_vertices, rh_faces, rfc_face_idxs, config_rhj_fc, subject_anatomical_path)\n"
   ]
  },
  {
   "cell_type": "markdown",
   "metadata": {},
   "source": [
    "### measure the gap between the two HJ cartilages"
   ]
  },
  {
   "cell_type": "code",
   "execution_count": 24,
   "metadata": {
    "scrolled": false
   },
   "outputs": [
    {
     "name": "stdout",
     "output_type": "stream",
     "text": [
      "minimum distance in the left hip joint 0.167\n"
     ]
    },
    {
     "data": {
      "application/vnd.jupyter.widget-view+json": {
       "model_id": "21f09679ecff44ebb631197b0f7273bb",
       "version_major": 2,
       "version_minor": 0
      },
      "text/plain": [
       "Renderer(camera=PerspectiveCamera(children=(DirectionalLight(color='white', intensity=0.6, position=(-81.78926…"
      ]
     },
     "metadata": {},
     "output_type": "display_data"
    }
   ],
   "source": [
    "sd_value, _, closest_points = igl.signed_distance(rhj_fc_vertices_wg, rhj_ac_vertices_wg, rhj_ac_faces_wg, return_normals=False)\n",
    "\n",
    "print('minimum distance in the left hip joint',np.round(np.min(sd_value),3))\n",
    "\n",
    "# show the penetration\n",
    "index = np.where (sd_value < 0 )[0]\n",
    "\n",
    "frame = mp.plot(rhj_ac_vertices_wg, rhj_ac_faces_wg, c=src.pastel_orange, shading = src.sh_true)\n",
    "frame.add_mesh (rhj_fc_vertices_wg, rhj_fc_faces_wg, c = src.pastel_yellow, shading = src.sh_true)\n",
    "\n",
    "if len(index)!= 0 :\n",
    "    frame.add_points(rhj_fc_vertices_wg[index], shading={\"point_color\": \"green\", \"point_size\": 20})\n",
    "    \n",
    "\n",
    "df = pd.read_csv(str(subject_anatomical_path), encoding='utf-8')\n",
    "df.loc[17, 'Value'] = np.round(np.min(sd_value),3)\n",
    "\n",
    "df.to_csv(str(subject_anatomical_path), index=False)"
   ]
  },
  {
   "cell_type": "code",
   "execution_count": 25,
   "metadata": {},
   "outputs": [],
   "source": [
    "rhj_fc_vertices_wog = src.remove_penetration(rhj_fc_vertices_wog, rhj_ac_vertices_wog, rhj_ac_faces_wog)"
   ]
  },
  {
   "cell_type": "markdown",
   "metadata": {},
   "source": [
    "### export results"
   ]
  },
  {
   "cell_type": "code",
   "execution_count": 26,
   "metadata": {},
   "outputs": [],
   "source": [
    "src.save_surface (rhj_fc_vertices_wg, rhj_fc_faces_wg, o_dim, output_rhj_fc_wg_path)\n",
    "src.save_surface (rhj_ac_vertices_wg, rhj_ac_faces_wg, o_dim, output_rhj_ac_wg_path)\n",
    "\n",
    "src.save_surface (rhj_fc_vertices_wog, rhj_fc_faces_wog, o_dim, output_rhj_fc_wog_path)\n",
    "src.save_surface (rhj_ac_vertices_wog, rhj_ac_faces_wog, o_dim, output_rhj_ac_wog_path)"
   ]
  },
  {
   "cell_type": "markdown",
   "metadata": {},
   "source": [
    "### right SI joint"
   ]
  },
  {
   "cell_type": "code",
   "execution_count": 27,
   "metadata": {},
   "outputs": [],
   "source": [
    "config_rsj = config.rsj_var\n",
    "\n",
    "if not full_model:\n",
    "    config_rsj.full_model = False"
   ]
  },
  {
   "cell_type": "code",
   "execution_count": 28,
   "metadata": {
    "scrolled": false
   },
   "outputs": [
    {
     "data": {
      "application/vnd.jupyter.widget-view+json": {
       "model_id": "d59305bfe46040bd93dd4b5625db52b0",
       "version_major": 2,
       "version_minor": 0
      },
      "text/plain": [
       "Renderer(camera=PerspectiveCamera(children=(DirectionalLight(color='white', intensity=0.6, position=(-4.006748…"
      ]
     },
     "metadata": {},
     "output_type": "display_data"
    },
    {
     "name": "stdout",
     "output_type": "stream",
     "text": [
      "Primary side: max dihedral angle before smoothing is  0.73 radians ( 41.83 degrees).\n",
      "Primary side: max dihedral angle after smoothing is  0.7 radians ( 40.11 degrees).\n",
      "\n",
      "Quality control results for the primary side: \n",
      "Everything is clean in the primary interface. We will now continue to the secondary interface:\n",
      "\n"
     ]
    },
    {
     "data": {
      "application/vnd.jupyter.widget-view+json": {
       "model_id": "e2b767c2398741b3a84e27b1b6b9a4dd",
       "version_major": 2,
       "version_minor": 0
      },
      "text/plain": [
       "Renderer(camera=PerspectiveCamera(children=(DirectionalLight(color='white', intensity=0.6, position=(-4.006748…"
      ]
     },
     "metadata": {},
     "output_type": "display_data"
    },
    {
     "data": {
      "application/vnd.jupyter.widget-view+json": {
       "model_id": "d8e2740d02054701a7bef502d62fac85",
       "version_major": 2,
       "version_minor": 0
      },
      "text/plain": [
       "Renderer(camera=PerspectiveCamera(children=(DirectionalLight(color='white', intensity=0.6, position=(-74.98215…"
      ]
     },
     "metadata": {},
     "output_type": "display_data"
    },
    {
     "name": "stdout",
     "output_type": "stream",
     "text": [
      "Secondary layer: max dihedral angle before smoothing is  0.51 radians ( 29.22 degrees).\n",
      "Secondary layer: max dihedral angle after smoothing is  0.51 radians ( 29.22 degrees).\n",
      "Quality control results for the base layer: \n",
      "\n",
      "Everything is clean in the base layer. We will now continue to create the wall:\n",
      "\n"
     ]
    },
    {
     "data": {
      "application/vnd.jupyter.widget-view+json": {
       "model_id": "8bcf323b851d444cbefd63aed53cfbf8",
       "version_major": 2,
       "version_minor": 0
      },
      "text/plain": [
       "Renderer(camera=PerspectiveCamera(children=(DirectionalLight(color='white', intensity=0.6, position=(-74.98215…"
      ]
     },
     "metadata": {},
     "output_type": "display_data"
    },
    {
     "data": {
      "application/vnd.jupyter.widget-view+json": {
       "model_id": "633a329853f546f6b203f135ca8e41b9",
       "version_major": 2,
       "version_minor": 0
      },
      "text/plain": [
       "Renderer(camera=PerspectiveCamera(children=(DirectionalLight(color='white', intensity=0.6, position=(-4.006748…"
      ]
     },
     "metadata": {},
     "output_type": "display_data"
    },
    {
     "data": {
      "application/vnd.jupyter.widget-view+json": {
       "model_id": "d637bfd44c7e4cb69aa5795d317d41ff",
       "version_major": 2,
       "version_minor": 0
      },
      "text/plain": [
       "Renderer(camera=PerspectiveCamera(children=(DirectionalLight(color='white', intensity=0.6, position=(-74.98215…"
      ]
     },
     "metadata": {},
     "output_type": "display_data"
    },
    {
     "data": {
      "application/vnd.jupyter.widget-view+json": {
       "model_id": "0256ddba3ee742f5bfeb535a9bc9a238",
       "version_major": 2,
       "version_minor": 0
      },
      "text/plain": [
       "Renderer(camera=PerspectiveCamera(children=(DirectionalLight(color='white', intensity=0.6, position=(-49.44783…"
      ]
     },
     "metadata": {},
     "output_type": "display_data"
    },
    {
     "data": {
      "application/vnd.jupyter.widget-view+json": {
       "model_id": "63e4d9b70e7e41279429214ee719b757",
       "version_major": 2,
       "version_minor": 0
      },
      "text/plain": [
       "Renderer(camera=PerspectiveCamera(children=(DirectionalLight(color='white', intensity=0.6, position=(-49.44783…"
      ]
     },
     "metadata": {},
     "output_type": "display_data"
    }
   ],
   "source": [
    "smooth_s_vertices, smooth_rh_vertices, rsj_vertices, rsj_faces = src.get_sj(s_vertices, s_faces,\n",
    "                                                                           smooth_rh_vertices, rh_faces,\n",
    "                                                                           config_rsj, subject_anatomical_path)\n",
    "\n",
    "# export results\n",
    "src.save_surface (rsj_vertices, rsj_faces, o_dim, output_rsj_path)"
   ]
  },
  {
   "cell_type": "markdown",
   "metadata": {},
   "source": [
    "### pubic cartilage"
   ]
  },
  {
   "cell_type": "code",
   "execution_count": 29,
   "metadata": {},
   "outputs": [],
   "source": [
    "config_pj = config.pj_var\n",
    "\n",
    "if not full_model:\n",
    "    config_pj.full_model = False"
   ]
  },
  {
   "cell_type": "code",
   "execution_count": 30,
   "metadata": {
    "scrolled": false
   },
   "outputs": [
    {
     "data": {
      "application/vnd.jupyter.widget-view+json": {
       "model_id": "0af2c419c57b4509bb2c0bc9303b8194",
       "version_major": 2,
       "version_minor": 0
      },
      "text/plain": [
       "Renderer(camera=PerspectiveCamera(children=(DirectionalLight(color='white', intensity=0.6, position=(71.969868…"
      ]
     },
     "metadata": {},
     "output_type": "display_data"
    },
    {
     "name": "stdout",
     "output_type": "stream",
     "text": [
      "Primary side: max dihedral angle before smoothing is  0.37 radians ( 21.2 degrees).\n",
      "Primary side: max dihedral angle after smoothing is  0.37 radians ( 21.2 degrees).\n",
      "\n",
      "Quality control results for the primary side: \n",
      "Everything is clean in the primary interface. We will now continue to the secondary interface:\n",
      "\n"
     ]
    },
    {
     "data": {
      "application/vnd.jupyter.widget-view+json": {
       "model_id": "3c577732d5df4a95a7d6721532b9156f",
       "version_major": 2,
       "version_minor": 0
      },
      "text/plain": [
       "Renderer(camera=PerspectiveCamera(children=(DirectionalLight(color='white', intensity=0.6, position=(71.969868…"
      ]
     },
     "metadata": {},
     "output_type": "display_data"
    },
    {
     "data": {
      "application/vnd.jupyter.widget-view+json": {
       "model_id": "768e7a36f38249d18580201c502622b4",
       "version_major": 2,
       "version_minor": 0
      },
      "text/plain": [
       "Renderer(camera=PerspectiveCamera(children=(DirectionalLight(color='white', intensity=0.6, position=(-74.98215…"
      ]
     },
     "metadata": {},
     "output_type": "display_data"
    },
    {
     "name": "stdout",
     "output_type": "stream",
     "text": [
      "Secondary layer: max dihedral angle before smoothing is  0.42 radians ( 24.06 degrees).\n",
      "Secondary layer: max dihedral angle after smoothing is  0.43 radians ( 24.64 degrees).\n",
      "Quality control results for the base layer: \n",
      "\n",
      "Everything is clean in the base layer. We will now continue to create the wall:\n"
     ]
    },
    {
     "data": {
      "application/vnd.jupyter.widget-view+json": {
       "model_id": "51c1ad9629354899b5b2c88868ca7ad0",
       "version_major": 2,
       "version_minor": 0
      },
      "text/plain": [
       "Renderer(camera=PerspectiveCamera(children=(DirectionalLight(color='white', intensity=0.6, position=(-74.98215…"
      ]
     },
     "metadata": {},
     "output_type": "display_data"
    },
    {
     "data": {
      "application/vnd.jupyter.widget-view+json": {
       "model_id": "e56b3fb1787f480b8a84f68d535abbbb",
       "version_major": 2,
       "version_minor": 0
      },
      "text/plain": [
       "Renderer(camera=PerspectiveCamera(children=(DirectionalLight(color='white', intensity=0.6, position=(71.969868…"
      ]
     },
     "metadata": {},
     "output_type": "display_data"
    },
    {
     "data": {
      "application/vnd.jupyter.widget-view+json": {
       "model_id": "0c68310cae574b5ab49fa75c6790baa6",
       "version_major": 2,
       "version_minor": 0
      },
      "text/plain": [
       "Renderer(camera=PerspectiveCamera(children=(DirectionalLight(color='white', intensity=0.6, position=(-74.98215…"
      ]
     },
     "metadata": {},
     "output_type": "display_data"
    },
    {
     "data": {
      "application/vnd.jupyter.widget-view+json": {
       "model_id": "ebf27af2e29745e79d119cb6c764b4d2",
       "version_major": 2,
       "version_minor": 0
      },
      "text/plain": [
       "Renderer(camera=PerspectiveCamera(children=(DirectionalLight(color='white', intensity=0.6, position=(-0.727813…"
      ]
     },
     "metadata": {},
     "output_type": "display_data"
    },
    {
     "data": {
      "application/vnd.jupyter.widget-view+json": {
       "model_id": "384e2eebbcda4f86a8d9499924f46e42",
       "version_major": 2,
       "version_minor": 0
      },
      "text/plain": [
       "Renderer(camera=PerspectiveCamera(children=(DirectionalLight(color='white', intensity=0.6, position=(-0.727813…"
      ]
     },
     "metadata": {},
     "output_type": "display_data"
    }
   ],
   "source": [
    "# make it\n",
    "smooth_lh_vertices, smooth_rh_vertices, pj_vertices, pj_faces = src.get_gap_pj(smooth_lh_vertices, lh_faces,\n",
    "                                                                             smooth_rh_vertices, rh_faces,\n",
    "                                                                             config_pj, subject_anatomical_path)\n",
    "  \n",
    "# export results\n",
    "src.save_surface ( pj_vertices, pj_faces, o_dim, output_pj_path )"
   ]
  },
  {
   "cell_type": "markdown",
   "metadata": {},
   "source": [
    "## timer"
   ]
  },
  {
   "cell_type": "code",
   "execution_count": 31,
   "metadata": {},
   "outputs": [
    {
     "name": "stdout",
     "output_type": "stream",
     "text": [
      "computation time:  179.94 seconds, 3.0 minutes\n"
     ]
    }
   ],
   "source": [
    "# stop the time\n",
    "now = time.time()\n",
    "print(\"computation time: \", np.round(now-then, 2), 'seconds,', np.round((now-then)/60, 2), 'minutes')\n"
   ]
  },
  {
   "cell_type": "markdown",
   "metadata": {},
   "source": [
    "## voila!"
   ]
  },
  {
   "cell_type": "code",
   "execution_count": 32,
   "metadata": {
    "scrolled": false
   },
   "outputs": [
    {
     "data": {
      "application/vnd.jupyter.widget-view+json": {
       "model_id": "a59f65859d5141cfbcca3ea12dd851f8",
       "version_major": 2,
       "version_minor": 0
      },
      "text/plain": [
       "Renderer(camera=PerspectiveCamera(children=(DirectionalLight(color='white', intensity=0.6, position=(-4.006748…"
      ]
     },
     "metadata": {},
     "output_type": "display_data"
    },
    {
     "data": {
      "text/plain": [
       "11"
      ]
     },
     "execution_count": 32,
     "metadata": {},
     "output_type": "execute_result"
    }
   ],
   "source": [
    "frame = mp.plot( smooth_s_vertices, s_faces, c = src.bone, shading = src.sh_false )\n",
    "frame.add_mesh ( smooth_lh_vertices, lh_faces, c = src.bone, shading = src.sh_false )\n",
    "frame.add_mesh ( smooth_rh_vertices, rh_faces, c = src.bone, shading = src.sh_false )\n",
    "frame.add_mesh ( smooth_lf_vertices, lf_faces, c = src.bone, shading = src.sh_false )\n",
    "frame.add_mesh ( smooth_rf_vertices, rf_faces, c = src.bone, shading = src.sh_false )\n",
    "frame.add_mesh ( lhj_ac_vertices_wg, lhj_ac_faces_wg, c = src.pastel_light_blue, shading = src.sh_false )\n",
    "frame.add_mesh ( lhj_fc_vertices_wg, lhj_fc_faces_wg, c = src.pastel_light_blue, shading = src.sh_false )\n",
    "frame.add_mesh ( rhj_ac_vertices_wg, rhj_ac_faces_wg, c = src.pastel_light_blue, shading = src.sh_false )\n",
    "frame.add_mesh ( rhj_fc_vertices_wg, rhj_fc_faces_wg, c = src.pastel_light_blue, shading = src.sh_false )\n",
    "frame.add_mesh ( lsj_vertices, lsj_faces, c = src.pastel_light_blue, shading = src.sh_false )\n",
    "frame.add_mesh ( rsj_vertices, rsj_faces, c = src.pastel_light_blue, shading = src.sh_false )\n",
    "frame.add_mesh ( pj_vertices, pj_faces, c = src.pastel_light_blue, shading = src.sh_false)"
   ]
  },
  {
   "cell_type": "markdown",
   "metadata": {},
   "source": [
    "## check self intersection in tetgen"
   ]
  },
  {
   "cell_type": "code",
   "execution_count": 33,
   "metadata": {},
   "outputs": [],
   "source": [
    "# lsi_cart_test  = str((o_dir/ lsi_cart).with_suffix('.stl'))\n",
    "# rsi_cart_test  = str((o_dir/ rsi_cart).with_suffix('.stl'))\n",
    "# pubic_cart_test = str((o_dir/ pubic_cart).with_suffix('.stl'))\n",
    "\n",
    "# # with gap \n",
    "# lpelvic_cart_test = str((o_dir/ lpelvic_cart_w_gap).with_suffix('.stl'))\n",
    "# rpelvic_cart_test = str((o_dir/ rpelvic_cart_w_gap).with_suffix('.stl'))\n",
    "\n",
    "# lfemoral_cart_test = str((o_dir/ lfemoral_cart_w_gap).with_suffix('.stl'))\n",
    "# rfemoral_cart_test = str((o_dir/ rfemoral_cart_w_gap).with_suffix('.stl'))\n",
    "\n",
    "# # withoutgap\n",
    "# lpelvic_cart_test_wo_gap = str((o_dir/ lpelvic_cart_wo_gap).with_suffix('.stl'))\n",
    "# rpelvic_cart_test_wo_gap = str((o_dir/ rpelvic_cart_wo_gap).with_suffix('.stl'))\n",
    "\n",
    "# lfemoral_cart_test_wo_gap = str((o_dir/ lfemoral_cart_wo_gap).with_suffix('.stl'))\n",
    "# rfemoral_cart_test_wo_gap = str((o_dir/ rfemoral_cart_wo_gap).with_suffix('.stl'))\n",
    "\n",
    "\n",
    "\n",
    "# src.save_surface ( s1_lcart_vertices, s1_lcart_faces,o_dim, lsi_cart_test )\n",
    "# src.save_surface ( s1_rcart_vertices, s1_rcart_faces, o_dim, rsi_cart_test )\n",
    "# src.save_surface ( s2_cart_vertices_w_gap, s2_cart_faces_w_gap, o_dim, lpelvic_cart_test )\n",
    "# src.save_surface ( s3_cart_vertices_w_gap, s3_cart_faces_w_gap, o_dim, rpelvic_cart_test )\n",
    "# src.save_surface ( s4_cart_vertices_w_gap, s4_cart_faces_w_gap, o_dim, lfemoral_cart_test )\n",
    "# src.save_surface ( s5_cart_vertices_w_gap, s5_cart_faces_w_gap, o_dim, rfemoral_cart_test )\n",
    "\n",
    "# src.save_surface ( s2_cart_vertices_wo_gap, s2_cart_faces_wo_gap, o_dim, lpelvic_cart_test_wo_gap )\n",
    "# src.save_surface ( s3_cart_vertices_wo_gap, s3_cart_faces_wo_gap, o_dim, rpelvic_cart_test_wo_gap )\n",
    "# src.save_surface ( s4_cart_vertices_wo_gap, s4_cart_faces_wo_gap, o_dim, lfemoral_cart_test_wo_gap )\n",
    "# src.save_surface ( s5_cart_vertices_wo_gap, s5_cart_faces_wo_gap, o_dim, rfemoral_cart_test_wo_gap )\n",
    "\n",
    "# src.save_surface ( p_vertices, p_faces, o_dim, pubic_cart_test )\n",
    "\n",
    "# os.system ( 'tetgen -d '+ lsi_cart_test )\n",
    "# os.system ( 'tetgen -d '+ rsi_cart_test )\n",
    "# os.system ( 'tetgen -d '+ lpelvic_cart_test )\n",
    "# os.system ( 'tetgen -d '+ rpelvic_cart_test )\n",
    "# os.system ( 'tetgen -d '+ lfemoral_cart_test )\n",
    "# os.system ( 'tetgen -d '+ rfemoral_cart_test )\n",
    "# os.system ( 'tetgen -d '+ pubic_cart_test )\n",
    "\n",
    "\n",
    "# os.system ( 'tetgen -d '+ lpelvic_cart_test_wo_gap )\n",
    "# os.system ( 'tetgen -d '+ rpelvic_cart_test_wo_gap )\n",
    "# os.system ( 'tetgen -d '+ lfemoral_cart_test_wo_gap )\n",
    "# os.system ( 'tetgen -d '+ rfemoral_cart_test_wo_gap )\n"
   ]
  },
  {
   "cell_type": "markdown",
   "metadata": {},
   "source": [
    "## export bones "
   ]
  },
  {
   "cell_type": "code",
   "execution_count": 34,
   "metadata": {},
   "outputs": [],
   "source": [
    "src.save_surface ( smooth_s_vertices, s_faces, o_dim, output_sacrum_path ) \n",
    "src.save_surface ( smooth_lh_vertices, lh_faces, o_dim, output_lhip_path )\n",
    "src.save_surface ( smooth_rh_vertices, rh_faces, o_dim, output_rhip_path )\n",
    "src.save_surface ( smooth_lf_vertices, lf_faces, o_dim, output_lfemur_path )\n",
    "src.save_surface ( smooth_rf_vertices, rf_faces, o_dim, output_rfemur_path )"
   ]
  }
 ],
 "metadata": {
  "kernelspec": {
   "display_name": "Python 3",
   "language": "python",
   "name": "python3"
  },
  "language_info": {
   "codemirror_mode": {
    "name": "ipython",
    "version": 3
   },
   "file_extension": ".py",
   "mimetype": "text/x-python",
   "name": "python",
   "nbconvert_exporter": "python",
   "pygments_lexer": "ipython3",
   "version": "3.9.6"
  },
  "toc": {
   "base_numbering": 1,
   "nav_menu": {},
   "number_sections": true,
   "sideBar": true,
   "skip_h1_title": false,
   "title_cell": "Table of Contents",
   "title_sidebar": "Contents",
   "toc_cell": false,
   "toc_position": {
    "height": "calc(100% - 180px)",
    "left": "10px",
    "top": "150px",
    "width": "209px"
   },
   "toc_section_display": true,
   "toc_window_display": true
  }
 },
 "nbformat": 4,
 "nbformat_minor": 4
}
