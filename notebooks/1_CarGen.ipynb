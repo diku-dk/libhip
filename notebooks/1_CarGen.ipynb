{
 "cells": [
  {
   "cell_type": "markdown",
   "metadata": {},
   "source": [
    "# Cartilage Generation \n",
    "This notebook explains a direct method to generate the lower body cartilage surface mesh based on the bone geometries\n",
    "    "
   ]
  },
  {
   "cell_type": "markdown",
   "metadata": {},
   "source": [
    "## imports and user-defined properties"
   ]
  },
  {
   "cell_type": "code",
   "execution_count": 1,
   "metadata": {},
   "outputs": [],
   "source": [
    "import numpy as np\n",
    "import meshplot as mp\n",
    "import os\n",
    "import igl\n",
    "import time\n",
    "from pathlib import Path\n",
    "import sys\n",
    "import pandas as pd\n",
    "\n",
    "sys.path.append('../')\n",
    "\n",
    "import src"
   ]
  },
  {
   "cell_type": "markdown",
   "metadata": {},
   "source": [
    "INPUT SUBJECT INFORMATION:\n",
    "\n",
    "- model_id: choose between m1 -> m11 to select one of the detaset in the repository.\n",
    "- i_dim, o_dim: the input and output dimension ( 'mm' = millimeters, 'm' = meters )\n",
    "- o_format: the format you want the files to be save at ( '.obj' , '.stl' )"
   ]
  },
  {
   "cell_type": "code",
   "execution_count": 2,
   "metadata": {},
   "outputs": [],
   "source": [
    "# model id\n",
    "model_id = 'm1'\n",
    "\n",
    "# do you want full or implicit models of the cartilage models?\n",
    "full_model = True\n",
    "\n",
    "# dimensions \n",
    "i_dim  = 'mm'     \n",
    "o_dim  = 'mm'\n",
    "\n",
    "# suffix\n",
    "i_format = '.obj'\n",
    "o_format = '.obj'\n"
   ]
  },
  {
   "cell_type": "markdown",
   "metadata": {},
   "source": [
    "DIRECTORIES and PATHS:\n",
    "- main_dir: locate this directory to where the libhip repository is cloned to.\n",
    "- i_dir:  the directory of the input bone surface mesh files.\n",
    "- o_dir:  the directory of the output bone and cartilage model results.\n",
    "- anatomical_dir: the directory of the anatomical measurements of the bone and cartilage models.\n",
    "- config_path: path to the subject-specific parameters to create cartilage models.\n"
   ]
  },
  {
   "cell_type": "code",
   "execution_count": 3,
   "metadata": {},
   "outputs": [],
   "source": [
    "main_dir = Path('..')\n",
    "\n",
    "i_dir     = main_dir/ 'model_generation'/ 'preprocessing_output'/ model_id\n",
    "o_dir     = main_dir/ 'model_generation'/ 'cargen_output'/ model_id\n",
    "ant_o_dir = main_dir/ 'model_generation'/ 'mid_outputs'/ 'ant_output'/ model_id\n",
    "\n",
    "anatomical_dir = main_dir/ 'model_generation'/ 'anatomical_info'\n",
    "model_name   = '/'+ model_id + '_jnt_ant.csv'\n",
    "model_anatomical_path = str(anatomical_dir) + model_name\n",
    "    \n",
    "config_name  = model_id + '_config'\n",
    "config_path  = str((main_dir/ 'config'/ config_name).with_suffix('.yml'))\n",
    "config       = src.Config (config_path)\n",
    "\n",
    "# Remove all files inside output directory if it exists, otherwise create it\n",
    "if o_dir.is_dir():\n",
    "    for file in o_dir.iterdir():\n",
    "        if file.is_file():\n",
    "            file.unlink()\n",
    "else:\n",
    "    o_dir.mkdir(exist_ok=False)\n",
    "#    \n",
    "if ant_o_dir.is_dir():\n",
    "    for file in ant_o_dir.iterdir():\n",
    "        if file.is_file():\n",
    "            file.unlink()\n",
    "else:\n",
    "    ant_o_dir.mkdir(exist_ok=False)\n",
    "# \n",
    "if os.path.exists(model_anatomical_path):\n",
    "    os.remove(model_anatomical_path)"
   ]
  },
  {
   "cell_type": "code",
   "execution_count": 4,
   "metadata": {},
   "outputs": [],
   "source": [
    "# save the model id to the relative anatomincal information file\n",
    "df = pd.read_csv (str(anatomical_dir) + '/default_ant.csv', encoding = 'utf-8')\n",
    "df.loc[1, 'Value'] = model_id\n",
    "df.to_csv(model_anatomical_path, index=False)"
   ]
  },
  {
   "cell_type": "code",
   "execution_count": 5,
   "metadata": {},
   "outputs": [],
   "source": [
    "# bone input paths\n",
    "i_bone_tag = model_id + '_clean_'\n",
    "\n",
    "i_sacrum  = i_bone_tag + 'sacrum_'  + i_dim\n",
    "i_lpelvis = i_bone_tag + 'lpelvis_' + i_dim\n",
    "i_rpelvis = i_bone_tag + 'rpelvis_' + i_dim\n",
    "i_lfemur  = i_bone_tag + 'lfemur_'  + i_dim\n",
    "i_rfemur  = i_bone_tag + 'rfemur_'  + i_dim\n",
    "\n",
    "i_sacrum_path  = str((i_dir/ i_sacrum).with_suffix(i_format))\n",
    "i_lpelvis_path = str((i_dir/ i_lpelvis).with_suffix(i_format))\n",
    "i_rpelvis_path = str((i_dir/ i_rpelvis).with_suffix(i_format))\n",
    "i_lfemur_path  = str((i_dir/ i_lfemur).with_suffix(i_format))\n",
    "i_rfemur_path  = str((i_dir/ i_rfemur).with_suffix(i_format))\n"
   ]
  },
  {
   "cell_type": "code",
   "execution_count": 6,
   "metadata": {},
   "outputs": [],
   "source": [
    "# bone output paths\n",
    "o_bone_tag = model_id + '_cg_bone_'\n",
    "\n",
    "o_sacrum  = o_bone_tag + 'sacrum'\n",
    "o_lpelvis = o_bone_tag + 'lpelvis'\n",
    "o_rpelvis = o_bone_tag + 'rpelvis' \n",
    "o_lfemur  = o_bone_tag + 'lfemur' \n",
    "o_rfemur  = o_bone_tag + 'rfemur'\n",
    "\n",
    "o_sacrum_path  = str((o_dir/ o_sacrum).with_suffix(o_format))\n",
    "o_lpelvis_path = str((o_dir/ o_lpelvis).with_suffix(o_format))\n",
    "o_rpelvis_path = str((o_dir/ o_rpelvis).with_suffix(o_format))\n",
    "o_lfemur_path  = str((o_dir/ o_lfemur).with_suffix(o_format))\n",
    "o_rfemur_path  = str((o_dir/ o_rfemur).with_suffix(o_format))\n"
   ]
  },
  {
   "cell_type": "code",
   "execution_count": 7,
   "metadata": {},
   "outputs": [],
   "source": [
    "# joint output paths\n",
    "if full_model:\n",
    "    o_joint_tag = model_id + '_cg_jnt_'\n",
    "else:\n",
    "    o_joint_tag = model_id + '_cg_jnt_implicit_'\n",
    "    \n",
    "# sacroiliac joint\n",
    "lsj = o_joint_tag + 'lsi'\n",
    "rsj = o_joint_tag + 'rsi'\n",
    "\n",
    "# pubic symphysis\n",
    "pj  = o_joint_tag + 'ps'\n",
    "\n",
    "# sacroiliac and pubic joint paths\n",
    "o_lsj_path = str((o_dir/ lsj).with_suffix(o_format))\n",
    "o_rsj_path = str((o_dir/ rsj).with_suffix(o_format))\n",
    "o_pj_path  = str((o_dir/ pj).with_suffix(o_format))\n",
    "\n",
    "# hip joint with gap\n",
    "lhj_ac_wg = o_joint_tag + 'lh_ac_wg' \n",
    "lhj_fc_wg = o_joint_tag + 'lh_fc_wg' \n",
    "rhj_ac_wg = o_joint_tag + 'rh_ac_wg' \n",
    "rhj_fc_wg = o_joint_tag + 'rh_fc_wg'  \n",
    "\n",
    "# hip joint without gap\n",
    "lhj_ac_wog = o_joint_tag + 'lh_ac_wog' \n",
    "lhj_fc_wog = o_joint_tag + 'lh_fc_wog'\n",
    "rhj_ac_wog = o_joint_tag + 'rh_ac_wog'\n",
    "rhj_fc_wog = o_joint_tag + 'rh_fc_wog'\n",
    "\n",
    "# hip joint w/wo gap paths\n",
    "o_lhj_ac_wg_path = str((o_dir/ lhj_ac_wg).with_suffix(o_format))\n",
    "o_rhj_ac_wg_path = str((o_dir/ rhj_ac_wg).with_suffix(o_format))\n",
    "o_lhj_fc_wg_path = str((o_dir/ lhj_fc_wg).with_suffix(o_format))\n",
    "o_rhj_fc_wg_path = str((o_dir/ rhj_fc_wg).with_suffix(o_format))\n",
    "\n",
    "o_lhj_ac_wog_path = str((o_dir/ lhj_ac_wog).with_suffix(o_format))\n",
    "o_rhj_ac_wog_path = str((o_dir/ rhj_ac_wog).with_suffix(o_format))\n",
    "o_lhj_fc_wog_path = str((o_dir/ lhj_fc_wog).with_suffix(o_format))\n",
    "o_rhj_fc_wog_path = str((o_dir/ rhj_fc_wog).with_suffix(o_format))\n"
   ]
  },
  {
   "cell_type": "markdown",
   "metadata": {},
   "source": [
    "## implementation"
   ]
  },
  {
   "cell_type": "code",
   "execution_count": 8,
   "metadata": {},
   "outputs": [
    {
     "name": "stdout",
     "output_type": "stream",
     "text": [
      "number of faces after reading 46456\n",
      "number of faces after reading 35806\n",
      "number of faces after reading 35600\n",
      "number of faces after reading 24966\n",
      "number of faces after reading 25366\n"
     ]
    }
   ],
   "source": [
    "s_vertices, s_faces  = src.read (i_sacrum_path, i_dim) \n",
    "lp_vertices,lp_faces = src.read (i_lpelvis_path, i_dim)\n",
    "rp_vertices,rp_faces = src.read (i_rpelvis_path, i_dim) \n",
    "lf_vertices,lf_faces = src.read (i_lfemur_path, i_dim)\n",
    "rf_vertices,rf_faces = src.read (i_rfemur_path, i_dim) "
   ]
  },
  {
   "cell_type": "code",
   "execution_count": 9,
   "metadata": {},
   "outputs": [
    {
     "data": {
      "application/vnd.jupyter.widget-view+json": {
       "model_id": "6c40629b685c4fc7aa7af2a189738618",
       "version_major": 2,
       "version_minor": 0
      },
      "text/plain": [
       "Renderer(camera=PerspectiveCamera(children=(DirectionalLight(color='white', intensity=0.6, position=(-4.006748…"
      ]
     },
     "metadata": {},
     "output_type": "display_data"
    },
    {
     "data": {
      "text/plain": [
       "4"
      ]
     },
     "execution_count": 9,
     "metadata": {},
     "output_type": "execute_result"
    }
   ],
   "source": [
    "frame = mp.plot(s_vertices, s_faces, c = src.bone, shading = src.sh_true)\n",
    "frame.add_mesh (lp_vertices, lp_faces, c = src.bone, shading = src.sh_true)\n",
    "frame.add_mesh (rp_vertices, rp_faces, c = src.bone, shading = src.sh_true)\n",
    "frame.add_mesh (lf_vertices, lf_faces, c = src.bone, shading = src.sh_true)\n",
    "frame.add_mesh (rf_vertices, rf_faces, c = src.bone, shading = src.sh_true)"
   ]
  },
  {
   "cell_type": "markdown",
   "metadata": {},
   "source": [
    "### timer"
   ]
  },
  {
   "cell_type": "code",
   "execution_count": 10,
   "metadata": {},
   "outputs": [],
   "source": [
    "# start the timer\n",
    "then = time.time()"
   ]
  },
  {
   "cell_type": "markdown",
   "metadata": {},
   "source": [
    "### left hip joint - acetabular cartilage (with  and without gap)"
   ]
  },
  {
   "cell_type": "code",
   "execution_count": 11,
   "metadata": {},
   "outputs": [],
   "source": [
    "config_lhj_ac = config.lhj_ac_var\n",
    "\n",
    "if not full_model:\n",
    "    config_lhj_ac.full_model = False\n",
    "    "
   ]
  },
  {
   "cell_type": "code",
   "execution_count": 12,
   "metadata": {
    "scrolled": false
   },
   "outputs": [
    {
     "data": {
      "application/vnd.jupyter.widget-view+json": {
       "model_id": "20f1d2d282934a4fa8a60553eebb87f2",
       "version_major": 2,
       "version_minor": 0
      },
      "text/plain": [
       "Renderer(camera=PerspectiveCamera(children=(DirectionalLight(color='white', intensity=0.6, position=(71.973256…"
      ]
     },
     "metadata": {},
     "output_type": "display_data"
    },
    {
     "data": {
      "application/vnd.jupyter.widget-view+json": {
       "model_id": "461da16347184cbc914477662a6dddea",
       "version_major": 2,
       "version_minor": 0
      },
      "text/plain": [
       "Renderer(camera=PerspectiveCamera(children=(DirectionalLight(color='white', intensity=0.6, position=(71.973256…"
      ]
     },
     "metadata": {},
     "output_type": "display_data"
    },
    {
     "name": "stdout",
     "output_type": "stream",
     "text": [
      "minimum thickness in the initial layer with gap 0.70448\n",
      "minimum thickness in the initial layer without gap 0.78275\n"
     ]
    },
    {
     "data": {
      "application/vnd.jupyter.widget-view+json": {
       "model_id": "3d3f2698d01b4cab90d951a306f8204e",
       "version_major": 2,
       "version_minor": 0
      },
      "text/plain": [
       "Renderer(camera=PerspectiveCamera(children=(DirectionalLight(color='white', intensity=0.6, position=(71.973256…"
      ]
     },
     "metadata": {},
     "output_type": "display_data"
    },
    {
     "data": {
      "application/vnd.jupyter.widget-view+json": {
       "model_id": "4703fd6486904a53bf5feb30a598dee5",
       "version_major": 2,
       "version_minor": 0
      },
      "text/plain": [
       "Renderer(camera=PerspectiveCamera(children=(DirectionalLight(color='white', intensity=0.6, position=(71.973256…"
      ]
     },
     "metadata": {},
     "output_type": "display_data"
    },
    {
     "data": {
      "application/vnd.jupyter.widget-view+json": {
       "model_id": "30e542a18c90401c9438a3de651602a6",
       "version_major": 2,
       "version_minor": 0
      },
      "text/plain": [
       "Renderer(camera=PerspectiveCamera(children=(DirectionalLight(color='white', intensity=0.6, position=(81.595096…"
      ]
     },
     "metadata": {},
     "output_type": "display_data"
    },
    {
     "name": "stdout",
     "output_type": "stream",
     "text": [
      "minimum cartilage thickness w/wo gap is:  0.31 / 0.34\n"
     ]
    },
    {
     "data": {
      "application/vnd.jupyter.widget-view+json": {
       "model_id": "a02ada9303244aa38f12bc0237a6abc5",
       "version_major": 2,
       "version_minor": 0
      },
      "text/plain": [
       "Renderer(camera=PerspectiveCamera(children=(DirectionalLight(color='white', intensity=0.6, position=(103.94103…"
      ]
     },
     "metadata": {},
     "output_type": "display_data"
    }
   ],
   "source": [
    "smooth_lp_vertices, lhj_ac_vertices_wg, lhj_ac_faces_wg, lhj_ac_vertices_wog, lhj_ac_faces_wog, lfc_face_idxs = src.get_hj_ac(lp_vertices, lp_faces,\n",
    "                                                                                                                              lf_vertices, lf_faces,\n",
    "                                                                                                                              config_lhj_ac, model_anatomical_path)\n"
   ]
  },
  {
   "cell_type": "markdown",
   "metadata": {},
   "source": [
    "### left hip joint - femoral cartilage (with gap and without gap)"
   ]
  },
  {
   "cell_type": "code",
   "execution_count": 13,
   "metadata": {
    "scrolled": false
   },
   "outputs": [],
   "source": [
    "config_lhj_fc = config.lhj_fc_var\n",
    "\n",
    "if not full_model:\n",
    "    config_lhj_fc.full_model = False"
   ]
  },
  {
   "cell_type": "code",
   "execution_count": 14,
   "metadata": {
    "scrolled": false
   },
   "outputs": [
    {
     "data": {
      "application/vnd.jupyter.widget-view+json": {
       "model_id": "363711f15486428ca23182e6b530c561",
       "version_major": 2,
       "version_minor": 0
      },
      "text/plain": [
       "Renderer(camera=PerspectiveCamera(children=(DirectionalLight(color='white', intensity=0.6, position=(103.94103…"
      ]
     },
     "metadata": {},
     "output_type": "display_data"
    },
    {
     "data": {
      "application/vnd.jupyter.widget-view+json": {
       "model_id": "787f0fe765054ae0bdcf6c4ab7b5378d",
       "version_major": 2,
       "version_minor": 0
      },
      "text/plain": [
       "Renderer(camera=PerspectiveCamera(children=(DirectionalLight(color='white', intensity=0.6, position=(103.94103…"
      ]
     },
     "metadata": {},
     "output_type": "display_data"
    },
    {
     "name": "stdout",
     "output_type": "stream",
     "text": [
      "minimum thickness in the initial layer with gap 0.69837\n",
      "minimum thickness in the initial layer without gap 0.77596\n"
     ]
    },
    {
     "data": {
      "application/vnd.jupyter.widget-view+json": {
       "model_id": "126e25a27ad64529875ffa5739d46445",
       "version_major": 2,
       "version_minor": 0
      },
      "text/plain": [
       "Renderer(camera=PerspectiveCamera(children=(DirectionalLight(color='white', intensity=0.6, position=(103.94103…"
      ]
     },
     "metadata": {},
     "output_type": "display_data"
    },
    {
     "data": {
      "application/vnd.jupyter.widget-view+json": {
       "model_id": "8041c22aec4e4cf5a8139ac378ee0f70",
       "version_major": 2,
       "version_minor": 0
      },
      "text/plain": [
       "Renderer(camera=PerspectiveCamera(children=(DirectionalLight(color='white', intensity=0.6, position=(103.94103…"
      ]
     },
     "metadata": {},
     "output_type": "display_data"
    },
    {
     "data": {
      "application/vnd.jupyter.widget-view+json": {
       "model_id": "5bafa81313b948e9b3c37778caf1b2a7",
       "version_major": 2,
       "version_minor": 0
      },
      "text/plain": [
       "Renderer(camera=PerspectiveCamera(children=(DirectionalLight(color='white', intensity=0.6, position=(85.085153…"
      ]
     },
     "metadata": {},
     "output_type": "display_data"
    }
   ],
   "source": [
    "# make it\n",
    "smooth_lf_vertices, lhj_fc_vertices_wg, lhj_fc_faces_wg, lhj_fc_vertices_wog, lhj_fc_faces_wog = src.get_hj_fc (lf_vertices, lf_faces, \n",
    "                                                                                                                lp_vertices, lp_faces, \n",
    "                                                                                                                lfc_face_idxs, config_lhj_fc, \n",
    "                                                                                                                model_anatomical_path, ant_o_dir)\n",
    "\n"
   ]
  },
  {
   "cell_type": "markdown",
   "metadata": {},
   "source": [
    "### measure the gap between the two HJ cartilages"
   ]
  },
  {
   "cell_type": "code",
   "execution_count": 15,
   "metadata": {
    "scrolled": false
   },
   "outputs": [
    {
     "name": "stdout",
     "output_type": "stream",
     "text": [
      "minimum distance in the left hip joint 0.131\n"
     ]
    },
    {
     "data": {
      "application/vnd.jupyter.widget-view+json": {
       "model_id": "7ec94817c1ac40179ff4b8a4521380e2",
       "version_major": 2,
       "version_minor": 0
      },
      "text/plain": [
       "Renderer(camera=PerspectiveCamera(children=(DirectionalLight(color='white', intensity=0.6, position=(81.595096…"
      ]
     },
     "metadata": {},
     "output_type": "display_data"
    }
   ],
   "source": [
    "sd_value, _, closest_points = igl.signed_distance(lhj_fc_vertices_wg, lhj_ac_vertices_wg, lhj_ac_faces_wg, return_normals=False)\n",
    "\n",
    "print('minimum distance in the left hip joint',np.round(np.min(sd_value),3))\n",
    "\n",
    "# show the penetration\n",
    "index = np.where (sd_value < 0 )[0]\n",
    "\n",
    "frame = mp.plot(lhj_ac_vertices_wg, lhj_ac_faces_wg, c=src.pastel_orange, shading = src.sh_true)\n",
    "frame.add_mesh (lhj_fc_vertices_wg, lhj_fc_faces_wg, c = src.pastel_yellow, shading = src.sh_true)\n",
    "\n",
    "if len(index)!= 0 :\n",
    "    frame.add_points(lhj_fc_vertices_wg[index], shading={\"point_color\": \"green\", \"point_size\": 20})\n",
    "    \n",
    "\n",
    "df = pd.read_csv(str(model_anatomical_path), encoding='utf-8')\n",
    "df.loc[10, 'Value'] = np.round(np.min(sd_value),3)\n",
    "\n",
    "df.to_csv(str(model_anatomical_path), index=False)"
   ]
  },
  {
   "cell_type": "markdown",
   "metadata": {},
   "source": [
    "### remove penetration in the \"without gap\" version"
   ]
  },
  {
   "cell_type": "code",
   "execution_count": 16,
   "metadata": {},
   "outputs": [],
   "source": [
    "lhj_fc_vertices_wog = src.remove_penetration(lhj_fc_vertices_wog, lhj_ac_vertices_wog, lhj_ac_faces_wog)"
   ]
  },
  {
   "cell_type": "markdown",
   "metadata": {},
   "source": [
    "### export results"
   ]
  },
  {
   "cell_type": "code",
   "execution_count": 17,
   "metadata": {},
   "outputs": [],
   "source": [
    "src.save_surface (lhj_fc_vertices_wg, lhj_fc_faces_wg, o_dim, o_lhj_fc_wg_path)\n",
    "src.save_surface (lhj_ac_vertices_wg, lhj_ac_faces_wg, o_dim, o_lhj_ac_wg_path)\n",
    "\n",
    "src.save_surface (lhj_fc_vertices_wog, lhj_fc_faces_wog, o_dim, o_lhj_fc_wog_path)\n",
    "src.save_surface (lhj_ac_vertices_wog, lhj_ac_faces_wog, o_dim, o_lhj_ac_wog_path)\n"
   ]
  },
  {
   "cell_type": "markdown",
   "metadata": {},
   "source": [
    "### left SI joint"
   ]
  },
  {
   "cell_type": "code",
   "execution_count": 18,
   "metadata": {},
   "outputs": [],
   "source": [
    "config_lsj = config.lsj_var\n",
    "\n",
    "if not full_model:\n",
    "    config_lsj.full_model = False"
   ]
  },
  {
   "cell_type": "code",
   "execution_count": 19,
   "metadata": {
    "scrolled": false
   },
   "outputs": [
    {
     "data": {
      "application/vnd.jupyter.widget-view+json": {
       "model_id": "e00425006ab8475eae6d800f0204d743",
       "version_major": 2,
       "version_minor": 0
      },
      "text/plain": [
       "Renderer(camera=PerspectiveCamera(children=(DirectionalLight(color='white', intensity=0.6, position=(-4.006748…"
      ]
     },
     "metadata": {},
     "output_type": "display_data"
    },
    {
     "name": "stdout",
     "output_type": "stream",
     "text": [
      "Primary side: max dihedral angle before smoothing is  0.84 radians ( 48.13 degrees).\n",
      "Primary side: max dihedral angle after smoothing is  0.85 radians ( 48.7 degrees).\n",
      "\n",
      "Quality control results for the primary side: \n",
      "Everything is clean in the primary interface. We will now continue to the secondary interface:\n",
      "\n"
     ]
    },
    {
     "data": {
      "application/vnd.jupyter.widget-view+json": {
       "model_id": "6f5845f9372c4eab8f5e9d088e0b3b93",
       "version_major": 2,
       "version_minor": 0
      },
      "text/plain": [
       "Renderer(camera=PerspectiveCamera(children=(DirectionalLight(color='white', intensity=0.6, position=(-4.022504…"
      ]
     },
     "metadata": {},
     "output_type": "display_data"
    },
    {
     "data": {
      "application/vnd.jupyter.widget-view+json": {
       "model_id": "13bdfef4afbd40f1b5c4b56cdf8d8a15",
       "version_major": 2,
       "version_minor": 0
      },
      "text/plain": [
       "Renderer(camera=PerspectiveCamera(children=(DirectionalLight(color='white', intensity=0.6, position=(71.973256…"
      ]
     },
     "metadata": {},
     "output_type": "display_data"
    },
    {
     "name": "stdout",
     "output_type": "stream",
     "text": [
      "Secondary layer: max dihedral angle before smoothing is  0.5 radians ( 28.65 degrees).\n",
      "Secondary layer: max dihedral angle after smoothing is  0.47 radians ( 26.93 degrees).\n",
      "Quality control results for the base layer: \n",
      "\n",
      "Everything is clean in the base layer. We will now continue to create the wall:\n",
      "\n"
     ]
    },
    {
     "data": {
      "application/vnd.jupyter.widget-view+json": {
       "model_id": "4f6d4ef01d054963b7b1013b6781fcb4",
       "version_major": 2,
       "version_minor": 0
      },
      "text/plain": [
       "Renderer(camera=PerspectiveCamera(children=(DirectionalLight(color='white', intensity=0.6, position=(71.973256…"
      ]
     },
     "metadata": {},
     "output_type": "display_data"
    },
    {
     "data": {
      "application/vnd.jupyter.widget-view+json": {
       "model_id": "d09c70385bb54565b3dbdf58ad91bbec",
       "version_major": 2,
       "version_minor": 0
      },
      "text/plain": [
       "Renderer(camera=PerspectiveCamera(children=(DirectionalLight(color='white', intensity=0.6, position=(-4.022504…"
      ]
     },
     "metadata": {},
     "output_type": "display_data"
    },
    {
     "data": {
      "application/vnd.jupyter.widget-view+json": {
       "model_id": "2fef9681e83c4282a5ab57da394e3b64",
       "version_major": 2,
       "version_minor": 0
      },
      "text/plain": [
       "Renderer(camera=PerspectiveCamera(children=(DirectionalLight(color='white', intensity=0.6, position=(71.973256…"
      ]
     },
     "metadata": {},
     "output_type": "display_data"
    },
    {
     "data": {
      "application/vnd.jupyter.widget-view+json": {
       "model_id": "6df71f56ae214dfc88cfe5768bfac637",
       "version_major": 2,
       "version_minor": 0
      },
      "text/plain": [
       "Renderer(camera=PerspectiveCamera(children=(DirectionalLight(color='white', intensity=0.6, position=(42.726655…"
      ]
     },
     "metadata": {},
     "output_type": "display_data"
    },
    {
     "data": {
      "application/vnd.jupyter.widget-view+json": {
       "model_id": "a9c18ee76a904609b9037444b0055502",
       "version_major": 2,
       "version_minor": 0
      },
      "text/plain": [
       "Renderer(camera=PerspectiveCamera(children=(DirectionalLight(color='white', intensity=0.6, position=(42.726655…"
      ]
     },
     "metadata": {},
     "output_type": "display_data"
    }
   ],
   "source": [
    "smooth_s_vertices, smooth_lp_vertices, lsj_vertices, lsj_faces = src.get_sj(s_vertices, s_faces,\n",
    "                                                                           smooth_lp_vertices, lp_faces,\n",
    "                                                                           config_lsj, model_anatomical_path)\n",
    "\n",
    "# export results\n",
    "src.save_surface (lsj_vertices, lsj_faces, o_dim, o_lsj_path)"
   ]
  },
  {
   "cell_type": "markdown",
   "metadata": {},
   "source": [
    "### right hip joint - acetabular cartilage (with and without gap)"
   ]
  },
  {
   "cell_type": "code",
   "execution_count": 20,
   "metadata": {},
   "outputs": [],
   "source": [
    "config_rhj_ac = config.rhj_ac_var\n",
    "\n",
    "if not full_model:\n",
    "    config_rhj_ac.full_model = False"
   ]
  },
  {
   "cell_type": "code",
   "execution_count": 21,
   "metadata": {
    "scrolled": false
   },
   "outputs": [
    {
     "data": {
      "application/vnd.jupyter.widget-view+json": {
       "model_id": "4ac8fddf5be445c89a1330cdd5b8cd0a",
       "version_major": 2,
       "version_minor": 0
      },
      "text/plain": [
       "Renderer(camera=PerspectiveCamera(children=(DirectionalLight(color='white', intensity=0.6, position=(-75.00876…"
      ]
     },
     "metadata": {},
     "output_type": "display_data"
    },
    {
     "data": {
      "application/vnd.jupyter.widget-view+json": {
       "model_id": "dc452e911aff449888e45c2603d1fe23",
       "version_major": 2,
       "version_minor": 0
      },
      "text/plain": [
       "Renderer(camera=PerspectiveCamera(children=(DirectionalLight(color='white', intensity=0.6, position=(-75.00876…"
      ]
     },
     "metadata": {},
     "output_type": "display_data"
    },
    {
     "name": "stdout",
     "output_type": "stream",
     "text": [
      "minimum thickness in the initial layer with gap 0.92965\n",
      "minimum thickness in the initial layer without gap 1.03295\n"
     ]
    },
    {
     "data": {
      "application/vnd.jupyter.widget-view+json": {
       "model_id": "df67f81238bd420986fd5e90a10b5065",
       "version_major": 2,
       "version_minor": 0
      },
      "text/plain": [
       "Renderer(camera=PerspectiveCamera(children=(DirectionalLight(color='white', intensity=0.6, position=(-75.00876…"
      ]
     },
     "metadata": {},
     "output_type": "display_data"
    },
    {
     "data": {
      "application/vnd.jupyter.widget-view+json": {
       "model_id": "7a733c0fbad04e34b46ae98347978491",
       "version_major": 2,
       "version_minor": 0
      },
      "text/plain": [
       "Renderer(camera=PerspectiveCamera(children=(DirectionalLight(color='white', intensity=0.6, position=(-75.00876…"
      ]
     },
     "metadata": {},
     "output_type": "display_data"
    },
    {
     "data": {
      "application/vnd.jupyter.widget-view+json": {
       "model_id": "263c7958e97341b4b7224d272c3e33b5",
       "version_major": 2,
       "version_minor": 0
      },
      "text/plain": [
       "Renderer(camera=PerspectiveCamera(children=(DirectionalLight(color='white', intensity=0.6, position=(-81.37296…"
      ]
     },
     "metadata": {},
     "output_type": "display_data"
    },
    {
     "name": "stdout",
     "output_type": "stream",
     "text": [
      "minimum cartilage thickness w/wo gap is:  0.7 / 0.78\n"
     ]
    },
    {
     "data": {
      "application/vnd.jupyter.widget-view+json": {
       "model_id": "9762ecd51e684466b236d17b4adab974",
       "version_major": 2,
       "version_minor": 0
      },
      "text/plain": [
       "Renderer(camera=PerspectiveCamera(children=(DirectionalLight(color='white', intensity=0.6, position=(-103.6234…"
      ]
     },
     "metadata": {},
     "output_type": "display_data"
    }
   ],
   "source": [
    "smooth_rp_vertices, rhj_ac_vertices_wg, rhj_ac_faces_wg, rhj_ac_vertices_wog, rhj_ac_faces_wog, rfc_face_idxs = src.get_hj_ac( rp_vertices, rp_faces, rf_vertices, rf_faces, config_rhj_ac, model_anatomical_path )\n",
    "\n"
   ]
  },
  {
   "cell_type": "markdown",
   "metadata": {},
   "source": [
    "### right hip joint - femoral cartilage ( with and without gap )"
   ]
  },
  {
   "cell_type": "code",
   "execution_count": 22,
   "metadata": {},
   "outputs": [],
   "source": [
    "config_rhj_fc = config.rhj_fc_var\n",
    "\n",
    "if not full_model:\n",
    "    config_rhj_fc.full_model = False"
   ]
  },
  {
   "cell_type": "code",
   "execution_count": 23,
   "metadata": {
    "scrolled": false
   },
   "outputs": [
    {
     "data": {
      "application/vnd.jupyter.widget-view+json": {
       "model_id": "0ca90b6af15a43ffbcd27d1b22726902",
       "version_major": 2,
       "version_minor": 0
      },
      "text/plain": [
       "Renderer(camera=PerspectiveCamera(children=(DirectionalLight(color='white', intensity=0.6, position=(-103.6234…"
      ]
     },
     "metadata": {},
     "output_type": "display_data"
    },
    {
     "data": {
      "application/vnd.jupyter.widget-view+json": {
       "model_id": "73141c8c1e584804bec6199ccc05fe8c",
       "version_major": 2,
       "version_minor": 0
      },
      "text/plain": [
       "Renderer(camera=PerspectiveCamera(children=(DirectionalLight(color='white', intensity=0.6, position=(-103.6234…"
      ]
     },
     "metadata": {},
     "output_type": "display_data"
    },
    {
     "name": "stdout",
     "output_type": "stream",
     "text": [
      "minimum thickness in the initial layer with gap 0.91048\n",
      "minimum thickness in the initial layer without gap 1.01164\n"
     ]
    },
    {
     "data": {
      "application/vnd.jupyter.widget-view+json": {
       "model_id": "e582d278e30a491b95a106559b7bc6ad",
       "version_major": 2,
       "version_minor": 0
      },
      "text/plain": [
       "Renderer(camera=PerspectiveCamera(children=(DirectionalLight(color='white', intensity=0.6, position=(-103.6234…"
      ]
     },
     "metadata": {},
     "output_type": "display_data"
    },
    {
     "data": {
      "application/vnd.jupyter.widget-view+json": {
       "model_id": "9acb95c6587f4cb6b38a110a06e237ab",
       "version_major": 2,
       "version_minor": 0
      },
      "text/plain": [
       "Renderer(camera=PerspectiveCamera(children=(DirectionalLight(color='white', intensity=0.6, position=(-103.6234…"
      ]
     },
     "metadata": {},
     "output_type": "display_data"
    },
    {
     "data": {
      "application/vnd.jupyter.widget-view+json": {
       "model_id": "1c348a00ce85485f9593bf39eea58bdd",
       "version_major": 2,
       "version_minor": 0
      },
      "text/plain": [
       "Renderer(camera=PerspectiveCamera(children=(DirectionalLight(color='white', intensity=0.6, position=(-85.20869…"
      ]
     },
     "metadata": {},
     "output_type": "display_data"
    }
   ],
   "source": [
    "# make it\n",
    "smooth_rf_vertices, rhj_fc_vertices_wg, rhj_fc_faces_wg, rhj_fc_vertices_wog, rhj_fc_faces_wog = src.get_hj_fc (rf_vertices, rf_faces, \n",
    "                                                                                                                rp_vertices, rp_faces, \n",
    "                                                                                                                rfc_face_idxs, config_rhj_fc, \n",
    "                                                                                                                model_anatomical_path, ant_o_dir)\n"
   ]
  },
  {
   "cell_type": "markdown",
   "metadata": {},
   "source": [
    "### measure the gap between the two HJ cartilages"
   ]
  },
  {
   "cell_type": "code",
   "execution_count": 24,
   "metadata": {
    "scrolled": false
   },
   "outputs": [
    {
     "name": "stdout",
     "output_type": "stream",
     "text": [
      "minimum distance in the left hip joint 0.098\n"
     ]
    },
    {
     "data": {
      "application/vnd.jupyter.widget-view+json": {
       "model_id": "895f7b10744e4aff97bf0533dc949506",
       "version_major": 2,
       "version_minor": 0
      },
      "text/plain": [
       "Renderer(camera=PerspectiveCamera(children=(DirectionalLight(color='white', intensity=0.6, position=(-81.37296…"
      ]
     },
     "metadata": {},
     "output_type": "display_data"
    }
   ],
   "source": [
    "sd_value, _, closest_points = igl.signed_distance(rhj_fc_vertices_wg, rhj_ac_vertices_wg, rhj_ac_faces_wg, return_normals=False)\n",
    "\n",
    "print('minimum distance in the left hip joint',np.round(np.min(sd_value),3))\n",
    "\n",
    "# show the penetration\n",
    "index = np.where (sd_value < 0 )[0]\n",
    "\n",
    "frame = mp.plot(rhj_ac_vertices_wg, rhj_ac_faces_wg, c = src.pastel_orange, shading = src.sh_true)\n",
    "frame.add_mesh (rhj_fc_vertices_wg, rhj_fc_faces_wg, c = src.pastel_yellow, shading = src.sh_true)\n",
    "\n",
    "if len(index)!= 0 :\n",
    "    frame.add_points(rhj_fc_vertices_wg[index], shading={\"point_color\": \"green\", \"point_size\": 20})\n",
    "    \n",
    "\n",
    "df = pd.read_csv(str(model_anatomical_path), encoding='utf-8')\n",
    "df.loc[17, 'Value'] = np.round(np.min(sd_value),3)\n",
    "\n",
    "df.to_csv(str(model_anatomical_path), index=False)"
   ]
  },
  {
   "cell_type": "code",
   "execution_count": 25,
   "metadata": {},
   "outputs": [],
   "source": [
    "rhj_fc_vertices_wog = src.remove_penetration(rhj_fc_vertices_wog, rhj_ac_vertices_wog, rhj_ac_faces_wog)"
   ]
  },
  {
   "cell_type": "markdown",
   "metadata": {},
   "source": [
    "### export results"
   ]
  },
  {
   "cell_type": "code",
   "execution_count": 26,
   "metadata": {},
   "outputs": [],
   "source": [
    "src.save_surface (rhj_fc_vertices_wg, rhj_fc_faces_wg, o_dim, o_rhj_fc_wg_path)\n",
    "src.save_surface (rhj_ac_vertices_wg, rhj_ac_faces_wg, o_dim, o_rhj_ac_wg_path)\n",
    "\n",
    "src.save_surface (rhj_fc_vertices_wog, rhj_fc_faces_wog, o_dim, o_rhj_fc_wog_path)\n",
    "src.save_surface (rhj_ac_vertices_wog, rhj_ac_faces_wog, o_dim, o_rhj_ac_wog_path)"
   ]
  },
  {
   "cell_type": "markdown",
   "metadata": {},
   "source": [
    "### right SI joint"
   ]
  },
  {
   "cell_type": "code",
   "execution_count": 27,
   "metadata": {},
   "outputs": [],
   "source": [
    "config_rsj = config.rsj_var\n",
    "\n",
    "if not full_model:\n",
    "    config_rsj.full_model = False"
   ]
  },
  {
   "cell_type": "code",
   "execution_count": 28,
   "metadata": {
    "scrolled": false
   },
   "outputs": [
    {
     "data": {
      "application/vnd.jupyter.widget-view+json": {
       "model_id": "67ab3d2b90b14fbe9012a095f474e3fa",
       "version_major": 2,
       "version_minor": 0
      },
      "text/plain": [
       "Renderer(camera=PerspectiveCamera(children=(DirectionalLight(color='white', intensity=0.6, position=(-4.006748…"
      ]
     },
     "metadata": {},
     "output_type": "display_data"
    },
    {
     "name": "stdout",
     "output_type": "stream",
     "text": [
      "Primary side: max dihedral angle before smoothing is  0.73 radians ( 41.83 degrees).\n",
      "Primary side: max dihedral angle after smoothing is  0.7 radians ( 40.11 degrees).\n",
      "\n",
      "Quality control results for the primary side: \n",
      "Everything is clean in the primary interface. We will now continue to the secondary interface:\n",
      "\n"
     ]
    },
    {
     "data": {
      "application/vnd.jupyter.widget-view+json": {
       "model_id": "0578524d358b4cc79714ce75c423710c",
       "version_major": 2,
       "version_minor": 0
      },
      "text/plain": [
       "Renderer(camera=PerspectiveCamera(children=(DirectionalLight(color='white', intensity=0.6, position=(-4.006748…"
      ]
     },
     "metadata": {},
     "output_type": "display_data"
    },
    {
     "data": {
      "application/vnd.jupyter.widget-view+json": {
       "model_id": "6be3cb0794e04d4bb409dfee168a0284",
       "version_major": 2,
       "version_minor": 0
      },
      "text/plain": [
       "Renderer(camera=PerspectiveCamera(children=(DirectionalLight(color='white', intensity=0.6, position=(-75.00876…"
      ]
     },
     "metadata": {},
     "output_type": "display_data"
    },
    {
     "name": "stdout",
     "output_type": "stream",
     "text": [
      "Secondary layer: max dihedral angle before smoothing is  0.48 radians ( 27.5 degrees).\n",
      "Secondary layer: max dihedral angle after smoothing is  0.47 radians ( 26.93 degrees).\n",
      "Quality control results for the base layer: \n",
      "\n",
      "Everything is clean in the base layer. We will now continue to create the wall:\n",
      "\n"
     ]
    },
    {
     "data": {
      "application/vnd.jupyter.widget-view+json": {
       "model_id": "a8d959d18d464805b74f27d9317906f9",
       "version_major": 2,
       "version_minor": 0
      },
      "text/plain": [
       "Renderer(camera=PerspectiveCamera(children=(DirectionalLight(color='white', intensity=0.6, position=(-75.00876…"
      ]
     },
     "metadata": {},
     "output_type": "display_data"
    },
    {
     "data": {
      "application/vnd.jupyter.widget-view+json": {
       "model_id": "9159260b07f94cc1afd6cf051279bff0",
       "version_major": 2,
       "version_minor": 0
      },
      "text/plain": [
       "Renderer(camera=PerspectiveCamera(children=(DirectionalLight(color='white', intensity=0.6, position=(-4.006748…"
      ]
     },
     "metadata": {},
     "output_type": "display_data"
    },
    {
     "data": {
      "application/vnd.jupyter.widget-view+json": {
       "model_id": "85064fa4972a450993483b527d0c6abd",
       "version_major": 2,
       "version_minor": 0
      },
      "text/plain": [
       "Renderer(camera=PerspectiveCamera(children=(DirectionalLight(color='white', intensity=0.6, position=(-75.00876…"
      ]
     },
     "metadata": {},
     "output_type": "display_data"
    },
    {
     "data": {
      "application/vnd.jupyter.widget-view+json": {
       "model_id": "0b414f968baa40f982f190039d637e05",
       "version_major": 2,
       "version_minor": 0
      },
      "text/plain": [
       "Renderer(camera=PerspectiveCamera(children=(DirectionalLight(color='white', intensity=0.6, position=(-49.33683…"
      ]
     },
     "metadata": {},
     "output_type": "display_data"
    },
    {
     "data": {
      "application/vnd.jupyter.widget-view+json": {
       "model_id": "a00dbe14e46e490fbdbd5ae905912ecc",
       "version_major": 2,
       "version_minor": 0
      },
      "text/plain": [
       "Renderer(camera=PerspectiveCamera(children=(DirectionalLight(color='white', intensity=0.6, position=(-49.33683…"
      ]
     },
     "metadata": {},
     "output_type": "display_data"
    }
   ],
   "source": [
    "smooth_s_vertices, smooth_rp_vertices, rsj_vertices, rsj_faces = src.get_sj(s_vertices, s_faces,\n",
    "                                                                           smooth_rp_vertices, rp_faces,\n",
    "                                                                           config_rsj, model_anatomical_path)\n",
    "\n",
    "# export results\n",
    "src.save_surface (rsj_vertices, rsj_faces, o_dim, o_rsj_path)"
   ]
  },
  {
   "cell_type": "markdown",
   "metadata": {},
   "source": [
    "### pubic cartilage"
   ]
  },
  {
   "cell_type": "code",
   "execution_count": 29,
   "metadata": {},
   "outputs": [],
   "source": [
    "config_pj = config.pj_var\n",
    "\n",
    "if not full_model:\n",
    "    config_pj.full_model = False"
   ]
  },
  {
   "cell_type": "code",
   "execution_count": 30,
   "metadata": {
    "scrolled": false
   },
   "outputs": [
    {
     "data": {
      "application/vnd.jupyter.widget-view+json": {
       "model_id": "ed455b7c854a461d85dda67c35165f47",
       "version_major": 2,
       "version_minor": 0
      },
      "text/plain": [
       "Renderer(camera=PerspectiveCamera(children=(DirectionalLight(color='white', intensity=0.6, position=(71.973256…"
      ]
     },
     "metadata": {},
     "output_type": "display_data"
    },
    {
     "name": "stdout",
     "output_type": "stream",
     "text": [
      "Primary side: max dihedral angle before smoothing is  0.35 radians ( 20.05 degrees).\n",
      "Primary side: max dihedral angle after smoothing is  0.37 radians ( 21.2 degrees).\n",
      "\n",
      "Quality control results for the primary side: \n",
      "Everything is clean in the primary interface. We will now continue to the secondary interface:\n",
      "\n"
     ]
    },
    {
     "data": {
      "application/vnd.jupyter.widget-view+json": {
       "model_id": "b435b4171b3d4c9a9abee748e9d0cf1c",
       "version_major": 2,
       "version_minor": 0
      },
      "text/plain": [
       "Renderer(camera=PerspectiveCamera(children=(DirectionalLight(color='white', intensity=0.6, position=(71.973256…"
      ]
     },
     "metadata": {},
     "output_type": "display_data"
    },
    {
     "data": {
      "application/vnd.jupyter.widget-view+json": {
       "model_id": "d46f8a9f7d254d8b83f649cec02fd56c",
       "version_major": 2,
       "version_minor": 0
      },
      "text/plain": [
       "Renderer(camera=PerspectiveCamera(children=(DirectionalLight(color='white', intensity=0.6, position=(-75.00876…"
      ]
     },
     "metadata": {},
     "output_type": "display_data"
    },
    {
     "name": "stdout",
     "output_type": "stream",
     "text": [
      "Secondary layer: max dihedral angle before smoothing is  0.3 radians ( 17.19 degrees).\n",
      "Secondary layer: max dihedral angle after smoothing is  0.3 radians ( 17.19 degrees).\n",
      "Quality control results for the base layer: \n",
      "\n",
      "Everything is clean in the base layer. We will now continue to create the wall:\n"
     ]
    },
    {
     "data": {
      "application/vnd.jupyter.widget-view+json": {
       "model_id": "5a896329cbb242b69685c146ff307ffc",
       "version_major": 2,
       "version_minor": 0
      },
      "text/plain": [
       "Renderer(camera=PerspectiveCamera(children=(DirectionalLight(color='white', intensity=0.6, position=(-75.00876…"
      ]
     },
     "metadata": {},
     "output_type": "display_data"
    },
    {
     "data": {
      "application/vnd.jupyter.widget-view+json": {
       "model_id": "34eeab70783b4c0987a71d028ecf2604",
       "version_major": 2,
       "version_minor": 0
      },
      "text/plain": [
       "Renderer(camera=PerspectiveCamera(children=(DirectionalLight(color='white', intensity=0.6, position=(71.973256…"
      ]
     },
     "metadata": {},
     "output_type": "display_data"
    },
    {
     "data": {
      "application/vnd.jupyter.widget-view+json": {
       "model_id": "4e8ccce5734d4299a5c12774991a63c4",
       "version_major": 2,
       "version_minor": 0
      },
      "text/plain": [
       "Renderer(camera=PerspectiveCamera(children=(DirectionalLight(color='white', intensity=0.6, position=(-75.00876…"
      ]
     },
     "metadata": {},
     "output_type": "display_data"
    },
    {
     "data": {
      "application/vnd.jupyter.widget-view+json": {
       "model_id": "77948060fe93477ca0b3980bc75ac027",
       "version_major": 2,
       "version_minor": 0
      },
      "text/plain": [
       "Renderer(camera=PerspectiveCamera(children=(DirectionalLight(color='white', intensity=0.6, position=(-0.755053…"
      ]
     },
     "metadata": {},
     "output_type": "display_data"
    },
    {
     "data": {
      "application/vnd.jupyter.widget-view+json": {
       "model_id": "3924788dfbee4dc5b21c1a6d5f5ead0a",
       "version_major": 2,
       "version_minor": 0
      },
      "text/plain": [
       "Renderer(camera=PerspectiveCamera(children=(DirectionalLight(color='white', intensity=0.6, position=(-0.755053…"
      ]
     },
     "metadata": {},
     "output_type": "display_data"
    }
   ],
   "source": [
    "# make it\n",
    "smooth_lp_vertices, smooth_rp_vertices, pj_vertices, pj_faces = src.get_gap_pj(smooth_lp_vertices, lp_faces,\n",
    "                                                                             smooth_rp_vertices, rp_faces,\n",
    "                                                                             config_pj, model_anatomical_path)\n",
    "  \n",
    "# export results\n",
    "src.save_surface ( pj_vertices, pj_faces, o_dim, o_pj_path )"
   ]
  },
  {
   "cell_type": "markdown",
   "metadata": {},
   "source": [
    "## timer"
   ]
  },
  {
   "cell_type": "code",
   "execution_count": 31,
   "metadata": {},
   "outputs": [
    {
     "name": "stdout",
     "output_type": "stream",
     "text": [
      "computation time:  183.73 seconds, 3.06 minutes\n"
     ]
    }
   ],
   "source": [
    "# stop the time\n",
    "now = time.time()\n",
    "print(\"computation time: \", np.round(now-then, 2), 'seconds,', np.round((now-then)/60, 2), 'minutes')\n"
   ]
  },
  {
   "cell_type": "markdown",
   "metadata": {},
   "source": [
    "## voila!"
   ]
  },
  {
   "cell_type": "code",
   "execution_count": 32,
   "metadata": {
    "scrolled": false
   },
   "outputs": [
    {
     "data": {
      "application/vnd.jupyter.widget-view+json": {
       "model_id": "284ba6fb686b4cc59c129860ce13579e",
       "version_major": 2,
       "version_minor": 0
      },
      "text/plain": [
       "Renderer(camera=PerspectiveCamera(children=(DirectionalLight(color='white', intensity=0.6, position=(-4.006748…"
      ]
     },
     "metadata": {},
     "output_type": "display_data"
    },
    {
     "data": {
      "text/plain": [
       "11"
      ]
     },
     "execution_count": 32,
     "metadata": {},
     "output_type": "execute_result"
    }
   ],
   "source": [
    "frame = mp.plot( smooth_s_vertices, s_faces, c = src.bone, shading = src.sh_false )\n",
    "frame.add_mesh ( smooth_lp_vertices, lp_faces, c = src.bone, shading = src.sh_false )\n",
    "frame.add_mesh ( smooth_rp_vertices, rp_faces, c = src.bone, shading = src.sh_false )\n",
    "frame.add_mesh ( smooth_lf_vertices, lf_faces, c = src.bone, shading = src.sh_false )\n",
    "frame.add_mesh ( smooth_rf_vertices, rf_faces, c = src.bone, shading = src.sh_false )\n",
    "frame.add_mesh ( lhj_ac_vertices_wg, lhj_ac_faces_wg, c = src.pastel_light_blue, shading = src.sh_false )\n",
    "frame.add_mesh ( lhj_fc_vertices_wg, lhj_fc_faces_wg, c = src.pastel_light_blue, shading = src.sh_false )\n",
    "frame.add_mesh ( rhj_ac_vertices_wg, rhj_ac_faces_wg, c = src.pastel_light_blue, shading = src.sh_false )\n",
    "frame.add_mesh ( rhj_fc_vertices_wg, rhj_fc_faces_wg, c = src.pastel_light_blue, shading = src.sh_false )\n",
    "frame.add_mesh ( lsj_vertices, lsj_faces, c = src.pastel_light_blue, shading = src.sh_false )\n",
    "frame.add_mesh ( rsj_vertices, rsj_faces, c = src.pastel_light_blue, shading = src.sh_false )\n",
    "frame.add_mesh ( pj_vertices, pj_faces, c = src.pastel_light_blue, shading = src.sh_false)"
   ]
  },
  {
   "cell_type": "markdown",
   "metadata": {},
   "source": [
    "## check self intersection in tetgen"
   ]
  },
  {
   "cell_type": "code",
   "execution_count": 33,
   "metadata": {},
   "outputs": [],
   "source": [
    "# lsi_cart_test  = str((o_dir/ lsi_cart).with_suffix('.stl'))\n",
    "# rsi_cart_test  = str((o_dir/ rsi_cart).with_suffix('.stl'))\n",
    "# pubic_cart_test = str((o_dir/ pubic_cart).with_suffix('.stl'))\n",
    "\n",
    "# # with gap \n",
    "# lpelvic_cart_test = str((o_dir/ lpelvic_cart_w_gap).with_suffix('.stl'))\n",
    "# rpelvic_cart_test = str((o_dir/ rpelvic_cart_w_gap).with_suffix('.stl'))\n",
    "\n",
    "# lfemoral_cart_test = str((o_dir/ lfemoral_cart_w_gap).with_suffix('.stl'))\n",
    "# rfemoral_cart_test = str((o_dir/ rfemoral_cart_w_gap).with_suffix('.stl'))\n",
    "\n",
    "# # withoutgap\n",
    "# lpelvic_cart_test_wo_gap = str((o_dir/ lpelvic_cart_wo_gap).with_suffix('.stl'))\n",
    "# rpelvic_cart_test_wo_gap = str((o_dir/ rpelvic_cart_wo_gap).with_suffix('.stl'))\n",
    "\n",
    "# lfemoral_cart_test_wo_gap = str((o_dir/ lfemoral_cart_wo_gap).with_suffix('.stl'))\n",
    "# rfemoral_cart_test_wo_gap = str((o_dir/ rfemoral_cart_wo_gap).with_suffix('.stl'))\n",
    "\n",
    "# src.save_surface ( s1_lcart_vertices, s1_lcart_faces,o_dim, lsi_cart_test )\n",
    "# src.save_surface ( s1_rcart_vertices, s1_rcart_faces, o_dim, rsi_cart_test )\n",
    "# src.save_surface ( s2_cart_vertices_w_gap, s2_cart_faces_w_gap, o_dim, lpelvic_cart_test )\n",
    "# src.save_surface ( s3_cart_vertices_w_gap, s3_cart_faces_w_gap, o_dim, rpelvic_cart_test )\n",
    "# src.save_surface ( s4_cart_vertices_w_gap, s4_cart_faces_w_gap, o_dim, lfemoral_cart_test )\n",
    "# src.save_surface ( s5_cart_vertices_w_gap, s5_cart_faces_w_gap, o_dim, rfemoral_cart_test )\n",
    "\n",
    "# src.save_surface ( s2_cart_vertices_wo_gap, s2_cart_faces_wo_gap, o_dim, lpelvic_cart_test_wo_gap )\n",
    "# src.save_surface ( s3_cart_vertices_wo_gap, s3_cart_faces_wo_gap, o_dim, rpelvic_cart_test_wo_gap )\n",
    "# src.save_surface ( s4_cart_vertices_wo_gap, s4_cart_faces_wo_gap, o_dim, lfemoral_cart_test_wo_gap )\n",
    "# src.save_surface ( s5_cart_vertices_wo_gap, s5_cart_faces_wo_gap, o_dim, rfemoral_cart_test_wo_gap )\n",
    "\n",
    "# src.save_surface ( p_vertices, p_faces, o_dim, pubic_cart_test )\n",
    "\n",
    "# os.system ( 'tetgen -d '+ lsi_cart_test )\n",
    "# os.system ( 'tetgen -d '+ rsi_cart_test )\n",
    "# os.system ( 'tetgen -d '+ lpelvic_cart_test )\n",
    "# os.system ( 'tetgen -d '+ rpelvic_cart_test )\n",
    "# os.system ( 'tetgen -d '+ lfemoral_cart_test )\n",
    "# os.system ( 'tetgen -d '+ rfemoral_cart_test )\n",
    "# os.system ( 'tetgen -d '+ pubic_cart_test )\n",
    "\n",
    "\n",
    "# os.system ( 'tetgen -d '+ lpelvic_cart_test_wo_gap )\n",
    "# os.system ( 'tetgen -d '+ rpelvic_cart_test_wo_gap )\n",
    "# os.system ( 'tetgen -d '+ lfemoral_cart_test_wo_gap )\n",
    "# os.system ( 'tetgen -d '+ rfemoral_cart_test_wo_gap )\n"
   ]
  },
  {
   "cell_type": "markdown",
   "metadata": {},
   "source": [
    "## export bones "
   ]
  },
  {
   "cell_type": "code",
   "execution_count": 34,
   "metadata": {},
   "outputs": [],
   "source": [
    "src.save_surface ( smooth_s_vertices, s_faces, o_dim, o_sacrum_path ) \n",
    "src.save_surface ( smooth_lp_vertices, lp_faces, o_dim, o_lpelvis_path )\n",
    "src.save_surface ( smooth_rp_vertices, rp_faces, o_dim, o_rpelvis_path )\n",
    "src.save_surface ( smooth_lf_vertices, lf_faces, o_dim, o_lfemur_path )\n",
    "src.save_surface ( smooth_rf_vertices, rf_faces, o_dim, o_rfemur_path )"
   ]
  }
 ],
 "metadata": {
  "kernelspec": {
   "display_name": "Python 3",
   "language": "python",
   "name": "python3"
  },
  "language_info": {
   "codemirror_mode": {
    "name": "ipython",
    "version": 3
   },
   "file_extension": ".py",
   "mimetype": "text/x-python",
   "name": "python",
   "nbconvert_exporter": "python",
   "pygments_lexer": "ipython3",
   "version": "3.9.6"
  },
  "toc": {
   "base_numbering": 1,
   "nav_menu": {},
   "number_sections": true,
   "sideBar": true,
   "skip_h1_title": false,
   "title_cell": "Table of Contents",
   "title_sidebar": "Contents",
   "toc_cell": false,
   "toc_position": {
    "height": "calc(100% - 180px)",
    "left": "10px",
    "top": "150px",
    "width": "209px"
   },
   "toc_section_display": true,
   "toc_window_display": true
  }
 },
 "nbformat": 4,
 "nbformat_minor": 4
}
