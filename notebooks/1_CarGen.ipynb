{
 "cells": [
  {
   "cell_type": "markdown",
   "metadata": {},
   "source": [
    "# Cartilage Generation \n",
    "This notebook explains a direct method to generate the lower body cartilage surface mesh based on the bone geometries\n",
    "    "
   ]
  },
  {
   "cell_type": "markdown",
   "metadata": {},
   "source": [
    "# imports and user-defined properties"
   ]
  },
  {
   "cell_type": "code",
   "execution_count": 1,
   "metadata": {},
   "outputs": [],
   "source": [
    "import numpy as np\n",
    "import meshplot as mp\n",
    "import os\n",
    "import igl\n",
    "import time\n",
    "from pathlib import Path\n",
    "import sys\n",
    "import pandas as pd\n",
    "\n",
    "\n",
    "sys.path.append(str(Path.home()/'Documents'/'Github'/'libhip'))\n",
    "sys.path.append('../')\n",
    "\n",
    "import src"
   ]
  },
  {
   "cell_type": "markdown",
   "metadata": {},
   "source": [
    "INPUT SUBJECT INFORMATION:\n",
    "\n",
    "- subject_id: choose between m1 -> m11 to select one of the detaset in the repository.\n",
    "- i_dim, o_dim: the input and output dimension ( 'mm' = millimeters, 'm' = meters )\n",
    "- o_format: the format you want the files to be save at ( '.obj' , '.stl' )"
   ]
  },
  {
   "cell_type": "code",
   "execution_count": 2,
   "metadata": {},
   "outputs": [],
   "source": [
    "# subject id\n",
    "subject_id = 'm1'\n",
    "\n",
    "# do you want full or implicit models of the cartilage models?\n",
    "full_model = True\n",
    "\n",
    "# dimensions \n",
    "i_dim  = \"mm\"     \n",
    "o_dim  = \"mm\"\n",
    "\n",
    "# suffix\n",
    "i_format = \".obj\"\n",
    "o_format = \".obj\""
   ]
  },
  {
   "cell_type": "markdown",
   "metadata": {},
   "source": [
    "DIRECTORIES and PATHS:\n",
    "- main_dir: locate this directory to where the libhip repository is cloned to.\n",
    "- ftetwild_dir: locate this path to the 'build' folder of ftetwild.\n",
    "- i_dir:  locate this directory to the input bone surface mesh files.\n",
    "- o_dir:  locate this directory to where you. want the cleaned and remeshed bone models to be saved at."
   ]
  },
  {
   "cell_type": "code",
   "execution_count": 3,
   "metadata": {},
   "outputs": [],
   "source": [
    "ftetwild_dir = Path.home()/ 'Documents'/ 'Github'/ 'fTetWild'/ 'build'\n",
    "main_dir     = Path('..')\n",
    "\n",
    "i_dir          = main_dir/ 'model_generation'/ 'preprocessing_output'/ subject_id\n",
    "o_dir          = main_dir/ 'model_generation'/ 'cargen_output'/ subject_id\n",
    "\n",
    "anatomical_dir = main_dir/ 'model_generation'/ 'anatomical_info'\n",
    "subject_name = '/'+ subject_id + '_joint_anatomical.csv'\n",
    "subject_anatomical_path = str(anatomical_dir)+ subject_name\n",
    "    \n",
    "config_name  = subject_id + '_config'\n",
    "config_path  = str((main_dir/ 'config'/ config_name).with_suffix(\".yml\"))\n",
    "config       = src.Config (config_path)\n",
    "\n",
    "# Remove all files inside output directory if it exists, otherwise create it\n",
    "if o_dir.is_dir():\n",
    "    for file in o_dir.iterdir():\n",
    "        if file.is_file():\n",
    "            file.unlink()\n",
    "else:\n",
    "    o_dir.mkdir(exist_ok=False)\n",
    "    \n",
    "if os.path.exists(subject_anatomical_path):\n",
    "    os.remove(subject_anatomical_path)"
   ]
  },
  {
   "cell_type": "code",
   "execution_count": 4,
   "metadata": {},
   "outputs": [],
   "source": [
    "df = pd.read_csv (str(anatomical_dir) + '/default_anatomical.csv', encoding = 'utf-8')\n",
    "df.loc[1, 'Value'] = subject_id\n",
    "df.to_csv(subject_anatomical_path, index=False)"
   ]
  },
  {
   "cell_type": "code",
   "execution_count": 5,
   "metadata": {},
   "outputs": [],
   "source": [
    "# bone input paths\n",
    "input_bone_tag = subject_id + '_remeshed_'\n",
    "\n",
    "input_sacrum  = input_bone_tag + 'sacrum_' + i_dim\n",
    "input_lhip    = input_bone_tag + 'lhip_'   + i_dim\n",
    "input_rhip    = input_bone_tag + 'rhip_'   + i_dim\n",
    "input_lfemur  = input_bone_tag + 'lfemur_' + i_dim\n",
    "input_rfemur  = input_bone_tag + 'rfemur_' + i_dim\n",
    "\n",
    "input_sacrum_path = str((i_dir/ input_sacrum).with_suffix(i_format))\n",
    "input_lhip_path   = str((i_dir/ input_lhip).with_suffix(i_format))\n",
    "input_rhip_path   = str((i_dir/ input_rhip).with_suffix(i_format))\n",
    "input_lfemur_path = str((i_dir/ input_lfemur).with_suffix(i_format))\n",
    "input_rfemur_path = str((i_dir/ input_rfemur).with_suffix(i_format))\n"
   ]
  },
  {
   "cell_type": "code",
   "execution_count": 6,
   "metadata": {},
   "outputs": [],
   "source": [
    "# bone output paths\n",
    "output_bone_tag = subject_id + '_cg_bone_'\n",
    "\n",
    "outout_sacrum = output_bone_tag + 'sacrum'\n",
    "outout_lhip   = output_bone_tag + 'lhip'\n",
    "outout_rhip   = output_bone_tag + 'rhip' \n",
    "outout_lfemur = output_bone_tag + 'lfemur' \n",
    "outout_rfemur = output_bone_tag + 'rfemur'\n",
    "\n",
    "output_sacrum_path = str((o_dir/ outout_sacrum).with_suffix(o_format))\n",
    "output_lhip_path   = str((o_dir/ outout_lhip).with_suffix(o_format))\n",
    "output_rhip_path   = str((o_dir/ outout_rhip).with_suffix(o_format))\n",
    "output_lfemur_path = str((o_dir/ outout_lfemur).with_suffix(o_format))\n",
    "output_rfemur_path = str((o_dir/ outout_rfemur).with_suffix(o_format))\n"
   ]
  },
  {
   "cell_type": "code",
   "execution_count": 7,
   "metadata": {},
   "outputs": [],
   "source": [
    "# joint output paths\n",
    "\n",
    "if full_model:\n",
    "    output_joint_tag = subject_id + '_cg_jnt_'\n",
    "else:\n",
    "    output_joint_tag = subject_id + '_cg_jnt_implicit_'\n",
    "    \n",
    "# sacroiliac joint\n",
    "lsj = output_joint_tag + 'lsi'\n",
    "rsj = output_joint_tag + 'rsi'\n",
    "\n",
    "# pubic joint\n",
    "pj  = output_joint_tag + 'pj'\n",
    "\n",
    "# sacroiliac and pubic joint paths\n",
    "output_lsj_path = str((o_dir/ lsj).with_suffix(o_format))\n",
    "output_rsj_path = str((o_dir/ rsj).with_suffix(o_format))\n",
    "output_pj_path  = str((o_dir/ pj).with_suffix(o_format))\n",
    "\n",
    "# hip joint with gap\n",
    "lhj_ac_w_gap = output_joint_tag + 'lh_ac_w_gap' \n",
    "lhj_fc_w_gap = output_joint_tag + 'lh_fc_w_gap' \n",
    "rhj_ac_w_gap = output_joint_tag + 'rh_ac_w_gap' \n",
    "rhj_fc_w_gap = output_joint_tag + 'rh_fc_w_gap'  \n",
    "\n",
    "# hip joint without gap\n",
    "lhj_ac_wo_gap = output_joint_tag + 'lh_ac_wo_gap' \n",
    "lhj_fc_wo_gap = output_joint_tag + 'lh_fc_wo_gap'\n",
    "rhj_ac_wo_gap = output_joint_tag + 'rh_ac_wo_gap'\n",
    "rhj_fc_wo_gap = output_joint_tag + 'rh_fc_wo_gap'\n",
    "\n",
    "# hip joint w/wo gap paths\n",
    "output_lhj_ac_w_gap_path = str((o_dir/ lhj_ac_w_gap).with_suffix(o_format))\n",
    "output_rhj_ac_w_gap_path = str((o_dir/ rhj_ac_w_gap).with_suffix(o_format))\n",
    "output_lhj_fc_w_gap_path = str((o_dir/ lhj_fc_w_gap).with_suffix(o_format))\n",
    "output_rhj_fc_w_gap_path = str((o_dir/ rhj_fc_w_gap).with_suffix(o_format))\n",
    "\n",
    "output_lhj_ac_wo_gap_path = str((o_dir/ lhj_ac_wo_gap).with_suffix(o_format))\n",
    "output_rhj_ac_wo_gap_path = str((o_dir/ rhj_ac_wo_gap).with_suffix(o_format))\n",
    "output_lhj_fc_wo_gap_path = str((o_dir/ lhj_fc_wo_gap).with_suffix(o_format))\n",
    "output_rhj_fc_wo_gap_path = str((o_dir/ rhj_fc_wo_gap).with_suffix(o_format))\n"
   ]
  },
  {
   "cell_type": "markdown",
   "metadata": {},
   "source": [
    "# implementation"
   ]
  },
  {
   "cell_type": "code",
   "execution_count": 8,
   "metadata": {},
   "outputs": [
    {
     "name": "stdout",
     "output_type": "stream",
     "text": [
      "number of faces after reading 46456\n",
      "number of faces after reading 35726\n",
      "number of faces after reading 35528\n",
      "number of faces after reading 24908\n",
      "number of faces after reading 25108\n"
     ]
    }
   ],
   "source": [
    "s_vertices, s_faces  = src.read (input_sacrum_path, i_dim) \n",
    "lh_vertices,lh_faces = src.read (input_lhip_path, i_dim)\n",
    "rh_vertices,rh_faces = src.read (input_rhip_path, i_dim) \n",
    "lf_vertices,lf_faces = src.read (input_lfemur_path, i_dim)\n",
    "rf_vertices,rf_faces = src.read (input_rfemur_path, i_dim) "
   ]
  },
  {
   "cell_type": "code",
   "execution_count": 9,
   "metadata": {},
   "outputs": [
    {
     "data": {
      "application/vnd.jupyter.widget-view+json": {
       "model_id": "2d46780890a94dd58d3408a3cd55e256",
       "version_major": 2,
       "version_minor": 0
      },
      "text/plain": [
       "Renderer(camera=PerspectiveCamera(children=(DirectionalLight(color='white', intensity=0.6, position=(-4.006748…"
      ]
     },
     "metadata": {},
     "output_type": "display_data"
    },
    {
     "data": {
      "text/plain": [
       "4"
      ]
     },
     "execution_count": 9,
     "metadata": {},
     "output_type": "execute_result"
    }
   ],
   "source": [
    "frame = mp.plot(s_vertices, s_faces, c = src.bone, shading = src.sh_true)\n",
    "frame.add_mesh (lh_vertices, lh_faces, c = src.bone, shading = src.sh_true)\n",
    "frame.add_mesh (rh_vertices, rh_faces, c = src.bone, shading = src.sh_true)\n",
    "frame.add_mesh (lf_vertices, lf_faces, c = src.bone, shading = src.sh_true)\n",
    "frame.add_mesh (rf_vertices, rf_faces, c = src.bone, shading = src.sh_true)"
   ]
  },
  {
   "cell_type": "markdown",
   "metadata": {},
   "source": [
    "## timer"
   ]
  },
  {
   "cell_type": "code",
   "execution_count": 10,
   "metadata": {},
   "outputs": [],
   "source": [
    "# start the timer\n",
    "then = time.time()"
   ]
  },
  {
   "cell_type": "markdown",
   "metadata": {},
   "source": [
    "# left side cartilages"
   ]
  },
  {
   "cell_type": "markdown",
   "metadata": {},
   "source": [
    "### left hip joint - acetabular cartilage (with  and without gap)"
   ]
  },
  {
   "cell_type": "code",
   "execution_count": 11,
   "metadata": {},
   "outputs": [],
   "source": [
    "config_lhj_ac = config.lhj_ac_var\n",
    "\n",
    "if not full_model:\n",
    "    config_lhj_ac.full_model = False\n",
    "    "
   ]
  },
  {
   "cell_type": "code",
   "execution_count": 12,
   "metadata": {
    "scrolled": false
   },
   "outputs": [
    {
     "data": {
      "application/vnd.jupyter.widget-view+json": {
       "model_id": "221a7345c2c244e09921b975bb115dab",
       "version_major": 2,
       "version_minor": 0
      },
      "text/plain": [
       "Renderer(camera=PerspectiveCamera(children=(DirectionalLight(color='white', intensity=0.6, position=(71.969868…"
      ]
     },
     "metadata": {},
     "output_type": "display_data"
    },
    {
     "data": {
      "application/vnd.jupyter.widget-view+json": {
       "model_id": "0a94af6081364b988778f39dfc2b5fe0",
       "version_major": 2,
       "version_minor": 0
      },
      "text/plain": [
       "Renderer(camera=PerspectiveCamera(children=(DirectionalLight(color='white', intensity=0.6, position=(71.969868…"
      ]
     },
     "metadata": {},
     "output_type": "display_data"
    },
    {
     "name": "stdout",
     "output_type": "stream",
     "text": [
      "minimum thickness in the initial layer with gap 0.71221\n",
      "minimum thickness in the initial layer without gap 0.79134\n"
     ]
    },
    {
     "data": {
      "application/vnd.jupyter.widget-view+json": {
       "model_id": "f428798a4e6641698bba188c2e38a69d",
       "version_major": 2,
       "version_minor": 0
      },
      "text/plain": [
       "Renderer(camera=PerspectiveCamera(children=(DirectionalLight(color='white', intensity=0.6, position=(71.969868…"
      ]
     },
     "metadata": {},
     "output_type": "display_data"
    },
    {
     "data": {
      "application/vnd.jupyter.widget-view+json": {
       "model_id": "aa304ae02678407f9cd375d5260f6d53",
       "version_major": 2,
       "version_minor": 0
      },
      "text/plain": [
       "Renderer(camera=PerspectiveCamera(children=(DirectionalLight(color='white', intensity=0.6, position=(71.969868…"
      ]
     },
     "metadata": {},
     "output_type": "display_data"
    },
    {
     "data": {
      "application/vnd.jupyter.widget-view+json": {
       "model_id": "e4d0f10a82044e70aabe8021a418dea7",
       "version_major": 2,
       "version_minor": 0
      },
      "text/plain": [
       "Renderer(camera=PerspectiveCamera(children=(DirectionalLight(color='white', intensity=0.6, position=(81.457582…"
      ]
     },
     "metadata": {},
     "output_type": "display_data"
    },
    {
     "name": "stdout",
     "output_type": "stream",
     "text": [
      "minimum cartilage thickness w/wo gap is:  0.48 / 0.53\n"
     ]
    },
    {
     "data": {
      "application/vnd.jupyter.widget-view+json": {
       "model_id": "5ff88350260e4e0da17c047dacdfff09",
       "version_major": 2,
       "version_minor": 0
      },
      "text/plain": [
       "Renderer(camera=PerspectiveCamera(children=(DirectionalLight(color='white', intensity=0.6, position=(103.93436…"
      ]
     },
     "metadata": {},
     "output_type": "display_data"
    }
   ],
   "source": [
    "smooth_lh_vertices, lhj_ac_vertices_wg, lhj_ac_faces_wg, lhj_ac_vertices_wog, lhj_ac_faces_wog, lfc_face_idxs = src.get_hj_ac(lh_vertices, lh_faces,\n",
    "                                                                                                                              lf_vertices, lf_faces,\n",
    "                                                                                                                              config_lhj_ac, subject_anatomical_path)\n"
   ]
  },
  {
   "cell_type": "markdown",
   "metadata": {},
   "source": [
    "### left hip joint - femoral cartilage (with gap and without gap)"
   ]
  },
  {
   "cell_type": "code",
   "execution_count": 13,
   "metadata": {
    "scrolled": false
   },
   "outputs": [],
   "source": [
    "config_lhj_fc = config.lhj_fc_var\n",
    "\n",
    "if not full_model:\n",
    "    config_lhj_fc.full_model = False"
   ]
  },
  {
   "cell_type": "code",
   "execution_count": 14,
   "metadata": {
    "scrolled": false
   },
   "outputs": [
    {
     "data": {
      "application/vnd.jupyter.widget-view+json": {
       "model_id": "2789db68422247d690f39802b06f306b",
       "version_major": 2,
       "version_minor": 0
      },
      "text/plain": [
       "Renderer(camera=PerspectiveCamera(children=(DirectionalLight(color='white', intensity=0.6, position=(103.93436…"
      ]
     },
     "metadata": {},
     "output_type": "display_data"
    },
    {
     "data": {
      "application/vnd.jupyter.widget-view+json": {
       "model_id": "2c569442a399424495dc3685b13e22e2",
       "version_major": 2,
       "version_minor": 0
      },
      "text/plain": [
       "Renderer(camera=PerspectiveCamera(children=(DirectionalLight(color='white', intensity=0.6, position=(103.93436…"
      ]
     },
     "metadata": {},
     "output_type": "display_data"
    },
    {
     "name": "stdout",
     "output_type": "stream",
     "text": [
      "minimum thickness in the initial layer with gap 0.70606\n",
      "minimum thickness in the initial layer without gap 0.78451\n"
     ]
    },
    {
     "data": {
      "application/vnd.jupyter.widget-view+json": {
       "model_id": "336dca916a0b4c43b19130841657c295",
       "version_major": 2,
       "version_minor": 0
      },
      "text/plain": [
       "Renderer(camera=PerspectiveCamera(children=(DirectionalLight(color='white', intensity=0.6, position=(103.93436…"
      ]
     },
     "metadata": {},
     "output_type": "display_data"
    },
    {
     "data": {
      "application/vnd.jupyter.widget-view+json": {
       "model_id": "f1dc459fe90e4de3973f1f120461d281",
       "version_major": 2,
       "version_minor": 0
      },
      "text/plain": [
       "Renderer(camera=PerspectiveCamera(children=(DirectionalLight(color='white', intensity=0.6, position=(103.93436…"
      ]
     },
     "metadata": {},
     "output_type": "display_data"
    },
    {
     "data": {
      "application/vnd.jupyter.widget-view+json": {
       "model_id": "ad32644c14a642509e5eff8761d1186a",
       "version_major": 2,
       "version_minor": 0
      },
      "text/plain": [
       "Renderer(camera=PerspectiveCamera(children=(DirectionalLight(color='white', intensity=0.6, position=(85.053302…"
      ]
     },
     "metadata": {},
     "output_type": "display_data"
    }
   ],
   "source": [
    "# make it\n",
    "smooth_lf_vertices, lhj_fc_vertices_wg, lhj_fc_faces_wg, lhj_fc_vertices_wog, lhj_fc_faces_wog = src.get_hj_fc (lf_vertices, lf_faces, lh_vertices, lh_faces, lfc_face_idxs, config_lhj_fc, subject_anatomical_path)\n",
    "\n"
   ]
  },
  {
   "cell_type": "markdown",
   "metadata": {},
   "source": [
    "### measure the gap between the two HJ cartilages"
   ]
  },
  {
   "cell_type": "code",
   "execution_count": 15,
   "metadata": {
    "scrolled": false
   },
   "outputs": [
    {
     "data": {
      "application/vnd.jupyter.widget-view+json": {
       "model_id": "c68b8554a00344edb9cf0c359c29cdab",
       "version_major": 2,
       "version_minor": 0
      },
      "text/plain": [
       "Renderer(camera=PerspectiveCamera(children=(DirectionalLight(color='white', intensity=0.6, position=(81.457582…"
      ]
     },
     "metadata": {},
     "output_type": "display_data"
    }
   ],
   "source": [
    "sd_value, _, closest_points = igl.signed_distance(lhj_fc_vertices_wg, lhj_ac_vertices_wg, lhj_ac_faces_wg, return_normals=False)\n",
    "\n",
    "# print('minimum distance in the left hip joint',np.round(np.min(sd_value),3))\n",
    "\n",
    "# show the penetration\n",
    "index = np.where (sd_value < 0 )[0]\n",
    "\n",
    "frame = mp.plot(lhj_ac_vertices_wg, lhj_ac_faces_wg, c=src.pastel_orange, shading = src.sh_true)\n",
    "frame.add_mesh (lhj_fc_vertices_wg, lhj_fc_faces_wg, c = src.pastel_yellow, shading = src.sh_true)\n",
    "\n",
    "if len(index)!= 0 :\n",
    "    frame.add_points(lhj_fc_vertices_wg[index], shading={\"point_color\": \"green\", \"point_size\": 20})\n",
    "    \n",
    "\n",
    "df = pd.read_csv(str(subject_anatomical_path), encoding='utf-8')\n",
    "df.loc[10, 'Value'] = np.round(np.min(sd_value),3)\n",
    "\n",
    "df.to_csv(str(subject_anatomical_path), index=False)"
   ]
  },
  {
   "cell_type": "markdown",
   "metadata": {},
   "source": [
    "### remove penetration in the \"without gap\" version"
   ]
  },
  {
   "cell_type": "code",
   "execution_count": 16,
   "metadata": {},
   "outputs": [],
   "source": [
    "lhj_fc_vertices_wog = src.remove_penetration(lhj_fc_vertices_wog, lhj_ac_vertices_wog, lhj_ac_faces_wog)"
   ]
  },
  {
   "cell_type": "markdown",
   "metadata": {},
   "source": [
    "### export results"
   ]
  },
  {
   "cell_type": "code",
   "execution_count": 17,
   "metadata": {},
   "outputs": [],
   "source": [
    "src.save_surface (lhj_fc_vertices_wg, lhj_fc_faces_wg, o_dim, output_lhj_fc_w_gap_path)\n",
    "src.save_surface (lhj_ac_vertices_wg, lhj_ac_faces_wg, o_dim, output_lhj_ac_w_gap_path)\n",
    "\n",
    "src.save_surface (lhj_fc_vertices_wog, lhj_fc_faces_wog, o_dim, output_lhj_fc_wo_gap_path)\n",
    "src.save_surface (lhj_ac_vertices_wog, lhj_ac_faces_wog, o_dim, output_lhj_ac_wo_gap_path)\n"
   ]
  },
  {
   "cell_type": "markdown",
   "metadata": {},
   "source": [
    "### left SI joint"
   ]
  },
  {
   "cell_type": "code",
   "execution_count": 18,
   "metadata": {},
   "outputs": [],
   "source": [
    "config_lsj = config.lsj_var\n",
    "\n",
    "if not full_model:\n",
    "    config_lsj.full_model = False"
   ]
  },
  {
   "cell_type": "code",
   "execution_count": 19,
   "metadata": {
    "scrolled": false
   },
   "outputs": [
    {
     "data": {
      "application/vnd.jupyter.widget-view+json": {
       "model_id": "cfa2faa0a9f245d590ad1cbd61934f5e",
       "version_major": 2,
       "version_minor": 0
      },
      "text/plain": [
       "Renderer(camera=PerspectiveCamera(children=(DirectionalLight(color='white', intensity=0.6, position=(-4.006748…"
      ]
     },
     "metadata": {},
     "output_type": "display_data"
    },
    {
     "name": "stdout",
     "output_type": "stream",
     "text": [
      "Primary side: max dihedral angle before smoothing is  0.84 radians ( 48.13 degrees).\n",
      "Primary side: max dihedral angle after smoothing is  0.85 radians ( 48.7 degrees).\n",
      "\n",
      "Quality control results for the primary side: \n",
      "Everything is clean in the primary interface. We will now continue to the secondary interface:\n",
      "\n"
     ]
    },
    {
     "data": {
      "application/vnd.jupyter.widget-view+json": {
       "model_id": "218dbc01cdd3412d94d90fc81b33122b",
       "version_major": 2,
       "version_minor": 0
      },
      "text/plain": [
       "Renderer(camera=PerspectiveCamera(children=(DirectionalLight(color='white', intensity=0.6, position=(-4.022504…"
      ]
     },
     "metadata": {},
     "output_type": "display_data"
    },
    {
     "data": {
      "application/vnd.jupyter.widget-view+json": {
       "model_id": "1bb553115322442981a9d1d6eedf8b9e",
       "version_major": 2,
       "version_minor": 0
      },
      "text/plain": [
       "Renderer(camera=PerspectiveCamera(children=(DirectionalLight(color='white', intensity=0.6, position=(71.969868…"
      ]
     },
     "metadata": {},
     "output_type": "display_data"
    },
    {
     "name": "stdout",
     "output_type": "stream",
     "text": [
      "Secondary layer: max dihedral angle before smoothing is  0.78 radians ( 44.69 degrees).\n",
      "Secondary layer: max dihedral angle after smoothing is  0.78 radians ( 44.69 degrees).\n",
      "Quality control results for the base layer: \n",
      "\n",
      "Everything is clean in the base layer. We will now continue to create the wall:\n",
      "\n"
     ]
    },
    {
     "data": {
      "application/vnd.jupyter.widget-view+json": {
       "model_id": "21acf44475e24f548758307e6e0df43b",
       "version_major": 2,
       "version_minor": 0
      },
      "text/plain": [
       "Renderer(camera=PerspectiveCamera(children=(DirectionalLight(color='white', intensity=0.6, position=(71.969868…"
      ]
     },
     "metadata": {},
     "output_type": "display_data"
    },
    {
     "data": {
      "application/vnd.jupyter.widget-view+json": {
       "model_id": "2bcca7650ebd4c6db258b48c7028b956",
       "version_major": 2,
       "version_minor": 0
      },
      "text/plain": [
       "Renderer(camera=PerspectiveCamera(children=(DirectionalLight(color='white', intensity=0.6, position=(-4.022504…"
      ]
     },
     "metadata": {},
     "output_type": "display_data"
    },
    {
     "data": {
      "application/vnd.jupyter.widget-view+json": {
       "model_id": "881c392d17ff46a0adf077b958f454d9",
       "version_major": 2,
       "version_minor": 0
      },
      "text/plain": [
       "Renderer(camera=PerspectiveCamera(children=(DirectionalLight(color='white', intensity=0.6, position=(71.969868…"
      ]
     },
     "metadata": {},
     "output_type": "display_data"
    },
    {
     "data": {
      "application/vnd.jupyter.widget-view+json": {
       "model_id": "3d80b4ae037c46958540391a5d2b23da",
       "version_major": 2,
       "version_minor": 0
      },
      "text/plain": [
       "Renderer(camera=PerspectiveCamera(children=(DirectionalLight(color='white', intensity=0.6, position=(42.704328…"
      ]
     },
     "metadata": {},
     "output_type": "display_data"
    },
    {
     "data": {
      "application/vnd.jupyter.widget-view+json": {
       "model_id": "51bfba282f844a32b5f52d0a805085e0",
       "version_major": 2,
       "version_minor": 0
      },
      "text/plain": [
       "Renderer(camera=PerspectiveCamera(children=(DirectionalLight(color='white', intensity=0.6, position=(42.704328…"
      ]
     },
     "metadata": {},
     "output_type": "display_data"
    }
   ],
   "source": [
    "smooth_s_vertices, smooth_lh_vertices, lsj_vertices, lsj_faces = src.get_sj(s_vertices, s_faces,\n",
    "                                                                           smooth_lh_vertices, lh_faces,\n",
    "                                                                           config_lsj, subject_anatomical_path)\n",
    "\n",
    "# export results\n",
    "src.save_surface (lsj_vertices, lsj_faces, o_dim, output_lsj_path)"
   ]
  },
  {
   "cell_type": "markdown",
   "metadata": {},
   "source": [
    "\n",
    "## right side cartilages"
   ]
  },
  {
   "cell_type": "markdown",
   "metadata": {},
   "source": [
    "### right hip joint - acetabular cartilage (with and without gap)"
   ]
  },
  {
   "cell_type": "code",
   "execution_count": 20,
   "metadata": {},
   "outputs": [],
   "source": [
    "config_rhj_ac = config.rhj_ac_var\n",
    "\n",
    "if not full_model:\n",
    "    config_rhj_ac.full_model = False"
   ]
  },
  {
   "cell_type": "code",
   "execution_count": 21,
   "metadata": {
    "scrolled": false
   },
   "outputs": [
    {
     "data": {
      "application/vnd.jupyter.widget-view+json": {
       "model_id": "0c974bf46349451d81222bd7a0b4232c",
       "version_major": 2,
       "version_minor": 0
      },
      "text/plain": [
       "Renderer(camera=PerspectiveCamera(children=(DirectionalLight(color='white', intensity=0.6, position=(-74.98215…"
      ]
     },
     "metadata": {},
     "output_type": "display_data"
    },
    {
     "data": {
      "application/vnd.jupyter.widget-view+json": {
       "model_id": "16cf2c7731124ac5b3c9a97b4f3b9fd6",
       "version_major": 2,
       "version_minor": 0
      },
      "text/plain": [
       "Renderer(camera=PerspectiveCamera(children=(DirectionalLight(color='white', intensity=0.6, position=(-74.98215…"
      ]
     },
     "metadata": {},
     "output_type": "display_data"
    },
    {
     "name": "stdout",
     "output_type": "stream",
     "text": [
      "minimum thickness in the initial layer with gap 0.88328\n",
      "minimum thickness in the initial layer without gap 0.98142\n"
     ]
    },
    {
     "data": {
      "application/vnd.jupyter.widget-view+json": {
       "model_id": "d4e673e2063e46e2b686e6c6207be530",
       "version_major": 2,
       "version_minor": 0
      },
      "text/plain": [
       "Renderer(camera=PerspectiveCamera(children=(DirectionalLight(color='white', intensity=0.6, position=(-74.98215…"
      ]
     },
     "metadata": {},
     "output_type": "display_data"
    },
    {
     "data": {
      "application/vnd.jupyter.widget-view+json": {
       "model_id": "2ffc08b70a604f2d86d83592ad3eac26",
       "version_major": 2,
       "version_minor": 0
      },
      "text/plain": [
       "Renderer(camera=PerspectiveCamera(children=(DirectionalLight(color='white', intensity=0.6, position=(-74.98215…"
      ]
     },
     "metadata": {},
     "output_type": "display_data"
    },
    {
     "data": {
      "application/vnd.jupyter.widget-view+json": {
       "model_id": "435eaf97180841d88ecab39ac049c21c",
       "version_major": 2,
       "version_minor": 0
      },
      "text/plain": [
       "Renderer(camera=PerspectiveCamera(children=(DirectionalLight(color='white', intensity=0.6, position=(-81.78926…"
      ]
     },
     "metadata": {},
     "output_type": "display_data"
    },
    {
     "name": "stdout",
     "output_type": "stream",
     "text": [
      "minimum cartilage thickness w/wo gap is:  0.58 / 0.65\n"
     ]
    },
    {
     "data": {
      "application/vnd.jupyter.widget-view+json": {
       "model_id": "37d52237e5e54a6bac2f54dd31a3bd29",
       "version_major": 2,
       "version_minor": 0
      },
      "text/plain": [
       "Renderer(camera=PerspectiveCamera(children=(DirectionalLight(color='white', intensity=0.6, position=(-103.5955…"
      ]
     },
     "metadata": {},
     "output_type": "display_data"
    }
   ],
   "source": [
    "smooth_rh_vertices, rhj_ac_vertices_wg, rhj_ac_faces_wg, rhj_ac_vertices_wog, rhj_ac_faces_wog, rfc_face_idxs = src.get_hj_ac( rh_vertices, rh_faces, rf_vertices, rf_faces, config_rhj_ac, subject_anatomical_path )\n",
    "\n"
   ]
  },
  {
   "cell_type": "markdown",
   "metadata": {},
   "source": [
    "### right hip joint - femoral cartilage ( with and without gap )"
   ]
  },
  {
   "cell_type": "code",
   "execution_count": 22,
   "metadata": {},
   "outputs": [],
   "source": [
    "config_rhj_fc = config.rhj_fc_var\n",
    "\n",
    "if not full_model:\n",
    "    config_rhj_fc.full_model = False"
   ]
  },
  {
   "cell_type": "code",
   "execution_count": 23,
   "metadata": {
    "scrolled": false
   },
   "outputs": [
    {
     "data": {
      "application/vnd.jupyter.widget-view+json": {
       "model_id": "0d5efd94e4ea4b31902d13c8b0311fb7",
       "version_major": 2,
       "version_minor": 0
      },
      "text/plain": [
       "Renderer(camera=PerspectiveCamera(children=(DirectionalLight(color='white', intensity=0.6, position=(-103.5955…"
      ]
     },
     "metadata": {},
     "output_type": "display_data"
    },
    {
     "data": {
      "application/vnd.jupyter.widget-view+json": {
       "model_id": "b31a67da9c5c492db92e7c088ae40bdc",
       "version_major": 2,
       "version_minor": 0
      },
      "text/plain": [
       "Renderer(camera=PerspectiveCamera(children=(DirectionalLight(color='white', intensity=0.6, position=(-103.5955…"
      ]
     },
     "metadata": {},
     "output_type": "display_data"
    },
    {
     "name": "stdout",
     "output_type": "stream",
     "text": [
      "minimum thickness in the initial layer with gap 0.9172\n",
      "minimum thickness in the initial layer without gap 1.01912\n"
     ]
    },
    {
     "data": {
      "application/vnd.jupyter.widget-view+json": {
       "model_id": "518a43cc7a8b43e0bd0fd4382f6adbd3",
       "version_major": 2,
       "version_minor": 0
      },
      "text/plain": [
       "Renderer(camera=PerspectiveCamera(children=(DirectionalLight(color='white', intensity=0.6, position=(-103.5955…"
      ]
     },
     "metadata": {},
     "output_type": "display_data"
    },
    {
     "data": {
      "application/vnd.jupyter.widget-view+json": {
       "model_id": "8c191726bc154ee4b19066250d635a2d",
       "version_major": 2,
       "version_minor": 0
      },
      "text/plain": [
       "Renderer(camera=PerspectiveCamera(children=(DirectionalLight(color='white', intensity=0.6, position=(-103.5955…"
      ]
     },
     "metadata": {},
     "output_type": "display_data"
    },
    {
     "data": {
      "application/vnd.jupyter.widget-view+json": {
       "model_id": "10b90c685ab6408191cd1115b7b80dcb",
       "version_major": 2,
       "version_minor": 0
      },
      "text/plain": [
       "Renderer(camera=PerspectiveCamera(children=(DirectionalLight(color='white', intensity=0.6, position=(-85.02232…"
      ]
     },
     "metadata": {},
     "output_type": "display_data"
    }
   ],
   "source": [
    "# make it\n",
    "smooth_rf_vertices, rhj_fc_vertices_wg, rhj_fc_faces_wg, rhj_fc_vertices_wog, rhj_fc_faces_wog = src.get_hj_fc (rf_vertices, rf_faces, rh_vertices, rh_faces, rfc_face_idxs, config_rhj_fc, subject_anatomical_path)\n"
   ]
  },
  {
   "cell_type": "markdown",
   "metadata": {},
   "source": [
    "### measure the gap between the two HJ cartilages"
   ]
  },
  {
   "cell_type": "code",
   "execution_count": 24,
   "metadata": {
    "scrolled": false
   },
   "outputs": [
    {
     "name": "stdout",
     "output_type": "stream",
     "text": [
      "minimum distance in the left hip joint 0.167\n"
     ]
    },
    {
     "data": {
      "application/vnd.jupyter.widget-view+json": {
       "model_id": "b91f40c6de1744ed81737136bfe83e38",
       "version_major": 2,
       "version_minor": 0
      },
      "text/plain": [
       "Renderer(camera=PerspectiveCamera(children=(DirectionalLight(color='white', intensity=0.6, position=(-81.78926…"
      ]
     },
     "metadata": {},
     "output_type": "display_data"
    }
   ],
   "source": [
    "sd_value, _, closest_points = igl.signed_distance(rhj_fc_vertices_wg, rhj_ac_vertices_wg, rhj_ac_faces_wg, return_normals=False)\n",
    "\n",
    "print('minimum distance in the left hip joint',np.round(np.min(sd_value),3))\n",
    "\n",
    "# show the penetration\n",
    "index = np.where (sd_value < 0 )[0]\n",
    "\n",
    "frame = mp.plot(rhj_ac_vertices_wg, rhj_ac_faces_wg, c=src.pastel_orange, shading = src.sh_true)\n",
    "frame.add_mesh (rhj_fc_vertices_wg, rhj_fc_faces_wg, c = src.pastel_yellow, shading = src.sh_true)\n",
    "\n",
    "if len(index)!= 0 :\n",
    "    frame.add_points(rhj_fc_vertices_wg[index], shading={\"point_color\": \"green\", \"point_size\": 20})\n",
    "    \n",
    "\n",
    "df = pd.read_csv(str(subject_anatomical_path), encoding='utf-8')\n",
    "df.loc[17, 'Value'] = np.round(np.min(sd_value),3)\n",
    "\n",
    "df.to_csv(str(subject_anatomical_path), index=False)"
   ]
  },
  {
   "cell_type": "code",
   "execution_count": 25,
   "metadata": {},
   "outputs": [
    {
     "name": "stdout",
     "output_type": "stream",
     "text": [
      "min: -0.0074514240509037525\n"
     ]
    },
    {
     "data": {
      "application/vnd.jupyter.widget-view+json": {
       "model_id": "e557f7c89cb846a08edf295e2e3d29bc",
       "version_major": 2,
       "version_minor": 0
      },
      "text/plain": [
       "Renderer(camera=PerspectiveCamera(children=(DirectionalLight(color='white', intensity=0.6, position=(-81.78926…"
      ]
     },
     "metadata": {},
     "output_type": "display_data"
    },
    {
     "name": "stdout",
     "output_type": "stream",
     "text": [
      "contact surface area is:  44.97\n"
     ]
    }
   ],
   "source": [
    "rhj_fc_vertices_wog = src.remove_penetration(rhj_fc_vertices_wog, rhj_ac_vertices_wog, rhj_ac_faces_wog)\n",
    "\n",
    "src.contact_surface(rhj_ac_vertices_wog, rhj_ac_faces_wog, rhj_fc_vertices_wog, rhj_fc_faces_wog, 0 )"
   ]
  },
  {
   "cell_type": "markdown",
   "metadata": {},
   "source": [
    "### export results"
   ]
  },
  {
   "cell_type": "code",
   "execution_count": 26,
   "metadata": {},
   "outputs": [],
   "source": [
    "src.save_surface (rhj_fc_vertices_wg, rhj_fc_faces_wg, o_dim, output_rhj_fc_w_gap_path)\n",
    "src.save_surface (rhj_ac_vertices_wg, rhj_ac_faces_wg, o_dim, output_rhj_ac_w_gap_path)\n",
    "\n",
    "src.save_surface (rhj_fc_vertices_wog, rhj_fc_faces_wog, o_dim, output_rhj_fc_wo_gap_path)\n",
    "src.save_surface (rhj_ac_vertices_wog, rhj_ac_faces_wog, o_dim, output_rhj_ac_wo_gap_path)"
   ]
  },
  {
   "cell_type": "markdown",
   "metadata": {},
   "source": [
    "### right SI joint"
   ]
  },
  {
   "cell_type": "code",
   "execution_count": 27,
   "metadata": {},
   "outputs": [],
   "source": [
    "config_rsj = config.rsj_var\n",
    "\n",
    "if not full_model:\n",
    "    config_rsj.full_model = False"
   ]
  },
  {
   "cell_type": "code",
   "execution_count": 28,
   "metadata": {
    "scrolled": false
   },
   "outputs": [
    {
     "data": {
      "application/vnd.jupyter.widget-view+json": {
       "model_id": "d6b2b659834144b7bae6476563c914e7",
       "version_major": 2,
       "version_minor": 0
      },
      "text/plain": [
       "Renderer(camera=PerspectiveCamera(children=(DirectionalLight(color='white', intensity=0.6, position=(-4.006748…"
      ]
     },
     "metadata": {},
     "output_type": "display_data"
    },
    {
     "name": "stdout",
     "output_type": "stream",
     "text": [
      "Primary side: max dihedral angle before smoothing is  0.73 radians ( 41.83 degrees).\n",
      "Primary side: max dihedral angle after smoothing is  0.7 radians ( 40.11 degrees).\n",
      "\n",
      "Quality control results for the primary side: \n",
      "Everything is clean in the primary interface. We will now continue to the secondary interface:\n",
      "\n"
     ]
    },
    {
     "data": {
      "application/vnd.jupyter.widget-view+json": {
       "model_id": "db8056f66f2a45f38c30d38cd3e005fa",
       "version_major": 2,
       "version_minor": 0
      },
      "text/plain": [
       "Renderer(camera=PerspectiveCamera(children=(DirectionalLight(color='white', intensity=0.6, position=(-4.006748…"
      ]
     },
     "metadata": {},
     "output_type": "display_data"
    },
    {
     "data": {
      "application/vnd.jupyter.widget-view+json": {
       "model_id": "2e08c4078fdb45efb30829b33e9cb3e0",
       "version_major": 2,
       "version_minor": 0
      },
      "text/plain": [
       "Renderer(camera=PerspectiveCamera(children=(DirectionalLight(color='white', intensity=0.6, position=(-74.98215…"
      ]
     },
     "metadata": {},
     "output_type": "display_data"
    },
    {
     "name": "stdout",
     "output_type": "stream",
     "text": [
      "Secondary layer: max dihedral angle before smoothing is  0.51 radians ( 29.22 degrees).\n",
      "Secondary layer: max dihedral angle after smoothing is  0.51 radians ( 29.22 degrees).\n",
      "Quality control results for the base layer: \n",
      "\n",
      "Everything is clean in the base layer. We will now continue to create the wall:\n",
      "\n"
     ]
    },
    {
     "data": {
      "application/vnd.jupyter.widget-view+json": {
       "model_id": "6134945ac93a495ca7b9dbcaf72bd3cc",
       "version_major": 2,
       "version_minor": 0
      },
      "text/plain": [
       "Renderer(camera=PerspectiveCamera(children=(DirectionalLight(color='white', intensity=0.6, position=(-74.98215…"
      ]
     },
     "metadata": {},
     "output_type": "display_data"
    },
    {
     "data": {
      "application/vnd.jupyter.widget-view+json": {
       "model_id": "1e2e2b98a4c147dbb44771f4a2a47901",
       "version_major": 2,
       "version_minor": 0
      },
      "text/plain": [
       "Renderer(camera=PerspectiveCamera(children=(DirectionalLight(color='white', intensity=0.6, position=(-4.006748…"
      ]
     },
     "metadata": {},
     "output_type": "display_data"
    },
    {
     "data": {
      "application/vnd.jupyter.widget-view+json": {
       "model_id": "82a0a23f38f34a0ab5003237c7f359d7",
       "version_major": 2,
       "version_minor": 0
      },
      "text/plain": [
       "Renderer(camera=PerspectiveCamera(children=(DirectionalLight(color='white', intensity=0.6, position=(-74.98215…"
      ]
     },
     "metadata": {},
     "output_type": "display_data"
    },
    {
     "data": {
      "application/vnd.jupyter.widget-view+json": {
       "model_id": "1382eaddeaaa40c3b2c9f711f883d888",
       "version_major": 2,
       "version_minor": 0
      },
      "text/plain": [
       "Renderer(camera=PerspectiveCamera(children=(DirectionalLight(color='white', intensity=0.6, position=(-49.44783…"
      ]
     },
     "metadata": {},
     "output_type": "display_data"
    },
    {
     "data": {
      "application/vnd.jupyter.widget-view+json": {
       "model_id": "365172618d964c0283e2c40e312e1d51",
       "version_major": 2,
       "version_minor": 0
      },
      "text/plain": [
       "Renderer(camera=PerspectiveCamera(children=(DirectionalLight(color='white', intensity=0.6, position=(-49.44783…"
      ]
     },
     "metadata": {},
     "output_type": "display_data"
    }
   ],
   "source": [
    "smooth_s_vertices, smooth_rh_vertices, rsj_vertices, rsj_faces = src.get_sj(s_vertices, s_faces,\n",
    "                                                                           smooth_rh_vertices, rh_faces,\n",
    "                                                                           config_rsj, subject_anatomical_path)\n",
    "\n",
    "# export results\n",
    "src.save_surface (rsj_vertices, rsj_faces, o_dim, output_rsj_path)"
   ]
  },
  {
   "cell_type": "markdown",
   "metadata": {},
   "source": [
    "## pubic cartilage"
   ]
  },
  {
   "cell_type": "code",
   "execution_count": 29,
   "metadata": {},
   "outputs": [],
   "source": [
    "config_pj = config.pj_var\n",
    "\n",
    "if not full_model:\n",
    "    config_pj.full_model = False"
   ]
  },
  {
   "cell_type": "code",
   "execution_count": 30,
   "metadata": {
    "scrolled": false
   },
   "outputs": [
    {
     "data": {
      "application/vnd.jupyter.widget-view+json": {
       "model_id": "83857ebf813e4309aeaf1c939e135fed",
       "version_major": 2,
       "version_minor": 0
      },
      "text/plain": [
       "Renderer(camera=PerspectiveCamera(children=(DirectionalLight(color='white', intensity=0.6, position=(71.969868…"
      ]
     },
     "metadata": {},
     "output_type": "display_data"
    },
    {
     "name": "stdout",
     "output_type": "stream",
     "text": [
      "Primary side: max dihedral angle before smoothing is  0.37 radians ( 21.2 degrees).\n",
      "Primary side: max dihedral angle after smoothing is  0.37 radians ( 21.2 degrees).\n",
      "\n",
      "Quality control results for the primary side: \n",
      "Everything is clean in the primary interface. We will now continue to the secondary interface:\n",
      "\n"
     ]
    },
    {
     "data": {
      "application/vnd.jupyter.widget-view+json": {
       "model_id": "0753a4c22d6946e486ee64c09981441c",
       "version_major": 2,
       "version_minor": 0
      },
      "text/plain": [
       "Renderer(camera=PerspectiveCamera(children=(DirectionalLight(color='white', intensity=0.6, position=(71.969868…"
      ]
     },
     "metadata": {},
     "output_type": "display_data"
    },
    {
     "data": {
      "application/vnd.jupyter.widget-view+json": {
       "model_id": "1bd7346ee62e4fe589b24a31e932c59b",
       "version_major": 2,
       "version_minor": 0
      },
      "text/plain": [
       "Renderer(camera=PerspectiveCamera(children=(DirectionalLight(color='white', intensity=0.6, position=(-74.98215…"
      ]
     },
     "metadata": {},
     "output_type": "display_data"
    },
    {
     "name": "stdout",
     "output_type": "stream",
     "text": [
      "Secondary layer: max dihedral angle before smoothing is  0.42 radians ( 24.06 degrees).\n",
      "Secondary layer: max dihedral angle after smoothing is  0.43 radians ( 24.64 degrees).\n",
      "Quality control results for the base layer: \n",
      "\n",
      "Everything is clean in the base layer. We will now continue to create the wall:\n"
     ]
    },
    {
     "data": {
      "application/vnd.jupyter.widget-view+json": {
       "model_id": "77fbfe64349b4215b19ba9b3b3c4bed2",
       "version_major": 2,
       "version_minor": 0
      },
      "text/plain": [
       "Renderer(camera=PerspectiveCamera(children=(DirectionalLight(color='white', intensity=0.6, position=(-74.98215…"
      ]
     },
     "metadata": {},
     "output_type": "display_data"
    },
    {
     "data": {
      "application/vnd.jupyter.widget-view+json": {
       "model_id": "b91f95f817854ed1a185c4fa111b8268",
       "version_major": 2,
       "version_minor": 0
      },
      "text/plain": [
       "Renderer(camera=PerspectiveCamera(children=(DirectionalLight(color='white', intensity=0.6, position=(71.969868…"
      ]
     },
     "metadata": {},
     "output_type": "display_data"
    },
    {
     "data": {
      "application/vnd.jupyter.widget-view+json": {
       "model_id": "85522217d751436c94733edc1b62be95",
       "version_major": 2,
       "version_minor": 0
      },
      "text/plain": [
       "Renderer(camera=PerspectiveCamera(children=(DirectionalLight(color='white', intensity=0.6, position=(-74.98215…"
      ]
     },
     "metadata": {},
     "output_type": "display_data"
    },
    {
     "data": {
      "application/vnd.jupyter.widget-view+json": {
       "model_id": "168575354d014270807f7f88779f1330",
       "version_major": 2,
       "version_minor": 0
      },
      "text/plain": [
       "Renderer(camera=PerspectiveCamera(children=(DirectionalLight(color='white', intensity=0.6, position=(-0.727813…"
      ]
     },
     "metadata": {},
     "output_type": "display_data"
    },
    {
     "data": {
      "application/vnd.jupyter.widget-view+json": {
       "model_id": "fececb6dac0144ea8081908ea812be10",
       "version_major": 2,
       "version_minor": 0
      },
      "text/plain": [
       "Renderer(camera=PerspectiveCamera(children=(DirectionalLight(color='white', intensity=0.6, position=(-0.727813…"
      ]
     },
     "metadata": {},
     "output_type": "display_data"
    }
   ],
   "source": [
    "# make it\n",
    "smooth_lh_vertices, smooth_rh_vertices, pj_vertices, pj_faces = src.get_gap_pj(smooth_lh_vertices, lh_faces,\n",
    "                                                                             smooth_rh_vertices, rh_faces,\n",
    "                                                                             config_pj, subject_anatomical_path)\n",
    "  \n",
    "# export results\n",
    "src.save_surface ( pj_vertices, pj_faces, o_dim, output_pj_path )"
   ]
  },
  {
   "cell_type": "markdown",
   "metadata": {},
   "source": [
    "## timer"
   ]
  },
  {
   "cell_type": "code",
   "execution_count": 31,
   "metadata": {},
   "outputs": [
    {
     "name": "stdout",
     "output_type": "stream",
     "text": [
      "computation time:  192.82 seconds, 3.21 minutes\n"
     ]
    }
   ],
   "source": [
    "# stop the time\n",
    "now = time.time()\n",
    "print(\"computation time: \", np.round(now-then, 2), 'seconds,', np.round((now-then)/60, 2), 'minutes')\n"
   ]
  },
  {
   "cell_type": "markdown",
   "metadata": {},
   "source": [
    "# voila!"
   ]
  },
  {
   "cell_type": "code",
   "execution_count": 32,
   "metadata": {
    "scrolled": false
   },
   "outputs": [
    {
     "data": {
      "application/vnd.jupyter.widget-view+json": {
       "model_id": "084cbd05026744aca7a7ca9e9ac88900",
       "version_major": 2,
       "version_minor": 0
      },
      "text/plain": [
       "Renderer(camera=PerspectiveCamera(children=(DirectionalLight(color='white', intensity=0.6, position=(-4.006748…"
      ]
     },
     "metadata": {},
     "output_type": "display_data"
    },
    {
     "data": {
      "text/plain": [
       "11"
      ]
     },
     "execution_count": 32,
     "metadata": {},
     "output_type": "execute_result"
    }
   ],
   "source": [
    "frame = mp.plot( smooth_s_vertices, s_faces, c = src.bone, shading = src.sh_false )\n",
    "frame.add_mesh ( smooth_lh_vertices, lh_faces, c = src.bone, shading = src.sh_false )\n",
    "frame.add_mesh ( smooth_rh_vertices, rh_faces, c = src.bone, shading = src.sh_false )\n",
    "frame.add_mesh ( smooth_lf_vertices, lf_faces, c = src.bone, shading = src.sh_false )\n",
    "frame.add_mesh ( smooth_rf_vertices, rf_faces, c = src.bone, shading = src.sh_false )\n",
    "frame.add_mesh ( lhj_ac_vertices_wg, lhj_ac_faces_wg, c = src.pastel_light_blue, shading = src.sh_false )\n",
    "frame.add_mesh ( lhj_fc_vertices_wg, lhj_fc_faces_wg, c = src.pastel_light_blue, shading = src.sh_false )\n",
    "frame.add_mesh ( rhj_ac_vertices_wg, rhj_ac_faces_wg, c = src.pastel_light_blue, shading = src.sh_false )\n",
    "frame.add_mesh ( rhj_fc_vertices_wg, rhj_fc_faces_wg, c = src.pastel_light_blue, shading = src.sh_false )\n",
    "frame.add_mesh ( lsj_vertices, lsj_faces, c = src.pastel_light_blue, shading = src.sh_false )\n",
    "frame.add_mesh ( rsj_vertices, rsj_faces, c = src.pastel_light_blue, shading = src.sh_false )\n",
    "frame.add_mesh ( pj_vertices, pj_faces, c = src.pastel_light_blue, shading = src.sh_false)"
   ]
  },
  {
   "cell_type": "markdown",
   "metadata": {},
   "source": [
    "# check self intersection in tetgen"
   ]
  },
  {
   "cell_type": "code",
   "execution_count": 33,
   "metadata": {},
   "outputs": [],
   "source": [
    "# lsi_cart_test  = str((o_dir/ lsi_cart).with_suffix('.stl'))\n",
    "# rsi_cart_test  = str((o_dir/ rsi_cart).with_suffix('.stl'))\n",
    "# pubic_cart_test = str((o_dir/ pubic_cart).with_suffix('.stl'))\n",
    "\n",
    "# # with gap \n",
    "# lpelvic_cart_test = str((o_dir/ lpelvic_cart_w_gap).with_suffix('.stl'))\n",
    "# rpelvic_cart_test = str((o_dir/ rpelvic_cart_w_gap).with_suffix('.stl'))\n",
    "\n",
    "# lfemoral_cart_test = str((o_dir/ lfemoral_cart_w_gap).with_suffix('.stl'))\n",
    "# rfemoral_cart_test = str((o_dir/ rfemoral_cart_w_gap).with_suffix('.stl'))\n",
    "\n",
    "# # withoutgap\n",
    "# lpelvic_cart_test_wo_gap = str((o_dir/ lpelvic_cart_wo_gap).with_suffix('.stl'))\n",
    "# rpelvic_cart_test_wo_gap = str((o_dir/ rpelvic_cart_wo_gap).with_suffix('.stl'))\n",
    "\n",
    "# lfemoral_cart_test_wo_gap = str((o_dir/ lfemoral_cart_wo_gap).with_suffix('.stl'))\n",
    "# rfemoral_cart_test_wo_gap = str((o_dir/ rfemoral_cart_wo_gap).with_suffix('.stl'))\n",
    "\n",
    "\n",
    "\n",
    "# src.save_surface ( s1_lcart_vertices, s1_lcart_faces,o_dim, lsi_cart_test )\n",
    "# src.save_surface ( s1_rcart_vertices, s1_rcart_faces, o_dim, rsi_cart_test )\n",
    "# src.save_surface ( s2_cart_vertices_w_gap, s2_cart_faces_w_gap, o_dim, lpelvic_cart_test )\n",
    "# src.save_surface ( s3_cart_vertices_w_gap, s3_cart_faces_w_gap, o_dim, rpelvic_cart_test )\n",
    "# src.save_surface ( s4_cart_vertices_w_gap, s4_cart_faces_w_gap, o_dim, lfemoral_cart_test )\n",
    "# src.save_surface ( s5_cart_vertices_w_gap, s5_cart_faces_w_gap, o_dim, rfemoral_cart_test )\n",
    "\n",
    "# src.save_surface ( s2_cart_vertices_wo_gap, s2_cart_faces_wo_gap, o_dim, lpelvic_cart_test_wo_gap )\n",
    "# src.save_surface ( s3_cart_vertices_wo_gap, s3_cart_faces_wo_gap, o_dim, rpelvic_cart_test_wo_gap )\n",
    "# src.save_surface ( s4_cart_vertices_wo_gap, s4_cart_faces_wo_gap, o_dim, lfemoral_cart_test_wo_gap )\n",
    "# src.save_surface ( s5_cart_vertices_wo_gap, s5_cart_faces_wo_gap, o_dim, rfemoral_cart_test_wo_gap )\n",
    "\n",
    "# src.save_surface ( p_vertices, p_faces, o_dim, pubic_cart_test )\n",
    "\n",
    "# os.system ( 'tetgen -d '+ lsi_cart_test )\n",
    "# os.system ( 'tetgen -d '+ rsi_cart_test )\n",
    "# os.system ( 'tetgen -d '+ lpelvic_cart_test )\n",
    "# os.system ( 'tetgen -d '+ rpelvic_cart_test )\n",
    "# os.system ( 'tetgen -d '+ lfemoral_cart_test )\n",
    "# os.system ( 'tetgen -d '+ rfemoral_cart_test )\n",
    "# os.system ( 'tetgen -d '+ pubic_cart_test )\n",
    "\n",
    "\n",
    "# os.system ( 'tetgen -d '+ lpelvic_cart_test_wo_gap )\n",
    "# os.system ( 'tetgen -d '+ rpelvic_cart_test_wo_gap )\n",
    "# os.system ( 'tetgen -d '+ lfemoral_cart_test_wo_gap )\n",
    "# os.system ( 'tetgen -d '+ rfemoral_cart_test_wo_gap )\n"
   ]
  },
  {
   "cell_type": "markdown",
   "metadata": {},
   "source": [
    "## export bones "
   ]
  },
  {
   "cell_type": "code",
   "execution_count": 34,
   "metadata": {},
   "outputs": [],
   "source": [
    "src.save_surface ( smooth_s_vertices, s_faces, o_dim, output_sacrum_path ) \n",
    "src.save_surface ( smooth_lh_vertices, lh_faces, o_dim, output_lhip_path )\n",
    "src.save_surface ( smooth_rh_vertices, rh_faces, o_dim, output_rhip_path )\n",
    "src.save_surface ( smooth_lf_vertices, lf_faces, o_dim, output_lfemur_path )\n",
    "src.save_surface ( smooth_rf_vertices, rf_faces, o_dim, output_rfemur_path )"
   ]
  },
  {
   "cell_type": "code",
   "execution_count": null,
   "metadata": {},
   "outputs": [],
   "source": []
  }
 ],
 "metadata": {
  "kernelspec": {
   "display_name": "Python 3",
   "language": "python",
   "name": "python3"
  },
  "language_info": {
   "codemirror_mode": {
    "name": "ipython",
    "version": 3
   },
   "file_extension": ".py",
   "mimetype": "text/x-python",
   "name": "python",
   "nbconvert_exporter": "python",
   "pygments_lexer": "ipython3",
   "version": "3.9.6"
  },
  "toc": {
   "base_numbering": 1,
   "nav_menu": {},
   "number_sections": true,
   "sideBar": true,
   "skip_h1_title": false,
   "title_cell": "Table of Contents",
   "title_sidebar": "Contents",
   "toc_cell": false,
   "toc_position": {
    "height": "calc(100% - 180px)",
    "left": "10px",
    "top": "150px",
    "width": "209px"
   },
   "toc_section_display": true,
   "toc_window_display": true
  }
 },
 "nbformat": 4,
 "nbformat_minor": 4
}
