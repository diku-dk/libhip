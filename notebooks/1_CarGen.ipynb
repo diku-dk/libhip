{
 "cells": [
  {
   "cell_type": "markdown",
   "metadata": {},
   "source": [
    "# Cartilage Generation \n",
    "This notebook explains a direct method to generate the lower body cartilage surface mesh based on the bone geometries\n",
    "    "
   ]
  },
  {
   "cell_type": "markdown",
   "metadata": {},
   "source": [
    "## imports and user-defined properties"
   ]
  },
  {
   "cell_type": "code",
   "execution_count": 1,
   "metadata": {},
   "outputs": [],
   "source": [
    "import numpy as np\n",
    "import meshplot as mp\n",
    "import os\n",
    "import igl\n",
    "import time\n",
    "from pathlib import Path\n",
    "import sys\n",
    "import pandas as pd\n",
    "\n",
    "sys.path.append('../')\n",
    "\n",
    "import src"
   ]
  },
  {
   "cell_type": "markdown",
   "metadata": {},
   "source": [
    "INPUT SUBJECT INFORMATION:\n",
    "\n",
    "- model_id: choose between m1 -> m11 to select one of the detaset in the repository.\n",
    "- i_dim, o_dim: the input and output dimension ( 'mm' = millimeters, 'm' = meters )\n",
    "- o_format: the format you want the files to be save at ( '.obj' , '.stl' )"
   ]
  },
  {
   "cell_type": "code",
   "execution_count": 2,
   "metadata": {},
   "outputs": [],
   "source": [
    "# model id\n",
    "model_id = 'm1'\n",
    "\n",
    "# do you want full or implicit models of the cartilage models?\n",
    "full_model = True\n",
    "\n",
    "# dimensions \n",
    "i_dim  = 'mm'     \n",
    "o_dim  = 'mm'\n",
    "\n",
    "# suffix\n",
    "i_format = '.obj'\n",
    "o_format = '.obj'\n"
   ]
  },
  {
   "cell_type": "markdown",
   "metadata": {},
   "source": [
    "DIRECTORIES and PATHS:\n",
    "- main_dir: locate this directory to where the libhip repository is cloned to.\n",
    "- i_dir:  the directory of the input bone surface mesh files.\n",
    "- o_dir:  the directory of the output bone and cartilage model results.\n",
    "- anatomical_dir: the directory of the anatomical measurements of the bone and cartilage models.\n",
    "- config_path: path to the subject-specific parameters to create cartilage models.\n"
   ]
  },
  {
   "cell_type": "code",
   "execution_count": 3,
   "metadata": {},
   "outputs": [],
   "source": [
    "main_dir = Path('..')\n",
    "\n",
    "i_dir     = main_dir/ 'model_repository'/ 'CleanSegment'/ model_id\n",
    "o_dir     = main_dir/ 'model_generation'/ 'cargen_output'/ model_id\n",
    "nodal_o_dir  = main_dir/ 'model_generation'/ 'mid_outputs'/ 'nodal_output' / model_id\n",
    "\n",
    "anatomical_dir = main_dir/ 'model_generation'/ 'anatomical_info'\n",
    "model_name   = '/'+ model_id + '_jnt_ant.csv'\n",
    "model_anatomical_path = str(anatomical_dir) + model_name\n",
    "    \n",
    "config_name  = model_id + '_config'\n",
    "config_path  = str((main_dir/ 'config'/ config_name).with_suffix('.yml'))\n",
    "config       = src.Config (config_path)\n",
    "\n",
    "# Remove all files inside output directory if it exists, otherwise create it\n",
    "if o_dir.is_dir():\n",
    "    for file in o_dir.iterdir():\n",
    "        if file.is_file():\n",
    "            file.unlink()\n",
    "else:\n",
    "    o_dir.mkdir(exist_ok=False)\n",
    "#    \n",
    "if nodal_o_dir.is_dir():\n",
    "    for file in nodal_o_dir.iterdir():\n",
    "        if file.is_file():\n",
    "            file.unlink()\n",
    "else:\n",
    "    nodal_o_dir.mkdir(exist_ok=False)\n",
    "# \n",
    "if os.path.exists(model_anatomical_path):\n",
    "    os.remove(model_anatomical_path)"
   ]
  },
  {
   "cell_type": "code",
   "execution_count": 4,
   "metadata": {},
   "outputs": [],
   "source": [
    "# save the model id to the relative anatomincal information file\n",
    "df = pd.read_csv (str(anatomical_dir) + '/default_ant.csv', encoding = 'utf-8')\n",
    "df.loc[1, 'Value'] = model_id\n",
    "df.to_csv(model_anatomical_path, index=False)"
   ]
  },
  {
   "cell_type": "code",
   "execution_count": 5,
   "metadata": {},
   "outputs": [],
   "source": [
    "# bone input paths\n",
    "i_bone_tag = model_id + '_clean_'\n",
    "\n",
    "i_sacrum  = i_bone_tag + 'sacrum_'  + i_dim\n",
    "i_lpelvis = i_bone_tag + 'lpelvis_' + i_dim\n",
    "i_rpelvis = i_bone_tag + 'rpelvis_' + i_dim\n",
    "i_lfemur  = i_bone_tag + 'lfemur_'  + i_dim\n",
    "i_rfemur  = i_bone_tag + 'rfemur_'  + i_dim\n",
    "\n",
    "i_sacrum_path  = str((i_dir/ i_sacrum).with_suffix(i_format))\n",
    "i_lpelvis_path = str((i_dir/ i_lpelvis).with_suffix(i_format))\n",
    "i_rpelvis_path = str((i_dir/ i_rpelvis).with_suffix(i_format))\n",
    "i_lfemur_path  = str((i_dir/ i_lfemur).with_suffix(i_format))\n",
    "i_rfemur_path  = str((i_dir/ i_rfemur).with_suffix(i_format))\n"
   ]
  },
  {
   "cell_type": "code",
   "execution_count": 6,
   "metadata": {},
   "outputs": [],
   "source": [
    "# bone output paths\n",
    "o_bone_tag = model_id + '_cg_bone_'\n",
    "\n",
    "o_sacrum  = o_bone_tag + 'sacrum'\n",
    "o_lpelvis = o_bone_tag + 'lpelvis'\n",
    "o_rpelvis = o_bone_tag + 'rpelvis' \n",
    "o_lfemur  = o_bone_tag + 'lfemur' \n",
    "o_rfemur  = o_bone_tag + 'rfemur'\n",
    "\n",
    "o_sacrum_path  = str((o_dir/ o_sacrum).with_suffix(o_format))\n",
    "o_lpelvis_path = str((o_dir/ o_lpelvis).with_suffix(o_format))\n",
    "o_rpelvis_path = str((o_dir/ o_rpelvis).with_suffix(o_format))\n",
    "o_lfemur_path  = str((o_dir/ o_lfemur).with_suffix(o_format))\n",
    "o_rfemur_path  = str((o_dir/ o_rfemur).with_suffix(o_format))\n"
   ]
  },
  {
   "cell_type": "code",
   "execution_count": 7,
   "metadata": {},
   "outputs": [],
   "source": [
    "# joint output paths\n",
    "if full_model:\n",
    "    o_joint_tag = model_id + '_cg_jnt_'\n",
    "else:\n",
    "    o_joint_tag = model_id + '_cg_jnt_implicit_'\n",
    "    \n",
    "# sacroiliac joint\n",
    "lsj = o_joint_tag + 'lsi'\n",
    "rsj = o_joint_tag + 'rsi'\n",
    "\n",
    "# pubic symphysis\n",
    "pj  = o_joint_tag + 'ps'\n",
    "\n",
    "# sacroiliac and pubic joint paths\n",
    "o_lsj_path = str((o_dir/ lsj).with_suffix(o_format))\n",
    "o_rsj_path = str((o_dir/ rsj).with_suffix(o_format))\n",
    "o_pj_path  = str((o_dir/ pj).with_suffix(o_format))\n",
    "\n",
    "# hip joint with gap\n",
    "lhj_ac_wg = o_joint_tag + 'lh_ac_wg' \n",
    "lhj_fc_wg = o_joint_tag + 'lh_fc_wg' \n",
    "rhj_ac_wg = o_joint_tag + 'rh_ac_wg' \n",
    "rhj_fc_wg = o_joint_tag + 'rh_fc_wg'  \n",
    "\n",
    "# hip joint without gap\n",
    "lhj_ac_wog = o_joint_tag + 'lh_ac_wog' \n",
    "lhj_fc_wog = o_joint_tag + 'lh_fc_wog'\n",
    "rhj_ac_wog = o_joint_tag + 'rh_ac_wog'\n",
    "rhj_fc_wog = o_joint_tag + 'rh_fc_wog'\n",
    "\n",
    "# hip joint w/wo gap paths\n",
    "o_lhj_ac_wg_path = str((o_dir/ lhj_ac_wg).with_suffix(o_format))\n",
    "o_rhj_ac_wg_path = str((o_dir/ rhj_ac_wg).with_suffix(o_format))\n",
    "o_lhj_fc_wg_path = str((o_dir/ lhj_fc_wg).with_suffix(o_format))\n",
    "o_rhj_fc_wg_path = str((o_dir/ rhj_fc_wg).with_suffix(o_format))\n",
    "\n",
    "o_lhj_ac_wog_path = str((o_dir/ lhj_ac_wog).with_suffix(o_format))\n",
    "o_rhj_ac_wog_path = str((o_dir/ rhj_ac_wog).with_suffix(o_format))\n",
    "o_lhj_fc_wog_path = str((o_dir/ lhj_fc_wog).with_suffix(o_format))\n",
    "o_rhj_fc_wog_path = str((o_dir/ rhj_fc_wog).with_suffix(o_format))\n"
   ]
  },
  {
   "cell_type": "markdown",
   "metadata": {},
   "source": [
    "## implementation"
   ]
  },
  {
   "cell_type": "code",
   "execution_count": 8,
   "metadata": {},
   "outputs": [
    {
     "name": "stdout",
     "output_type": "stream",
     "text": [
      "number of faces after reading 46726\n",
      "number of faces after reading 35890\n",
      "number of faces after reading 36000\n",
      "number of faces after reading 42782\n",
      "number of faces after reading 39022\n"
     ]
    }
   ],
   "source": [
    "s_vertices, s_faces  = src.read (i_sacrum_path, i_dim) \n",
    "lp_vertices,lp_faces = src.read (i_lpelvis_path, i_dim)\n",
    "rp_vertices,rp_faces = src.read (i_rpelvis_path, i_dim) \n",
    "lf_vertices,lf_faces = src.read (i_lfemur_path, i_dim)\n",
    "rf_vertices,rf_faces = src.read (i_rfemur_path, i_dim) "
   ]
  },
  {
   "cell_type": "code",
   "execution_count": 9,
   "metadata": {},
   "outputs": [
    {
     "data": {
      "application/vnd.jupyter.widget-view+json": {
       "model_id": "dd089ab1cdfa471797d852dacdd351d8",
       "version_major": 2,
       "version_minor": 0
      },
      "text/plain": [
       "Renderer(camera=PerspectiveCamera(children=(DirectionalLight(color='white', intensity=0.6, position=(-7.207897…"
      ]
     },
     "metadata": {},
     "output_type": "display_data"
    },
    {
     "data": {
      "text/plain": [
       "4"
      ]
     },
     "execution_count": 9,
     "metadata": {},
     "output_type": "execute_result"
    }
   ],
   "source": [
    "frame = mp.plot(s_vertices, s_faces, c = src.bone, shading = src.sh_true)\n",
    "frame.add_mesh (lp_vertices, lp_faces, c = src.bone, shading = src.sh_true)\n",
    "frame.add_mesh (rp_vertices, rp_faces, c = src.bone, shading = src.sh_true)\n",
    "frame.add_mesh (lf_vertices, lf_faces, c = src.bone, shading = src.sh_true)\n",
    "frame.add_mesh (rf_vertices, rf_faces, c = src.bone, shading = src.sh_true)"
   ]
  },
  {
   "cell_type": "markdown",
   "metadata": {},
   "source": [
    "### timer"
   ]
  },
  {
   "cell_type": "code",
   "execution_count": 10,
   "metadata": {},
   "outputs": [],
   "source": [
    "# start the timer\n",
    "then = time.time()"
   ]
  },
  {
   "cell_type": "markdown",
   "metadata": {},
   "source": [
    "### left hip joint - acetabular cartilage (with  and without gap)"
   ]
  },
  {
   "cell_type": "code",
   "execution_count": 11,
   "metadata": {},
   "outputs": [],
   "source": [
    "config_lhj_ac = config.lhj_ac_var\n",
    "\n",
    "if not full_model:\n",
    "    config_lhj_ac.full_model = False\n",
    "    "
   ]
  },
  {
   "cell_type": "code",
   "execution_count": 12,
   "metadata": {
    "scrolled": false
   },
   "outputs": [
    {
     "data": {
      "application/vnd.jupyter.widget-view+json": {
       "model_id": "9447183b9a9c40ea81702267c048f7ae",
       "version_major": 2,
       "version_minor": 0
      },
      "text/plain": [
       "Renderer(camera=PerspectiveCamera(children=(DirectionalLight(color='white', intensity=0.6, position=(60.993045…"
      ]
     },
     "metadata": {},
     "output_type": "display_data"
    },
    {
     "data": {
      "application/vnd.jupyter.widget-view+json": {
       "model_id": "33202f613b2c4470847d3a4d2c26eb5a",
       "version_major": 2,
       "version_minor": 0
      },
      "text/plain": [
       "Renderer(camera=PerspectiveCamera(children=(DirectionalLight(color='white', intensity=0.6, position=(60.993045…"
      ]
     },
     "metadata": {},
     "output_type": "display_data"
    },
    {
     "name": "stdout",
     "output_type": "stream",
     "text": [
      "minimum thickness in the initial layer with gap 0.88066\n",
      "minimum thickness in the initial layer without gap 0.97851\n"
     ]
    },
    {
     "data": {
      "application/vnd.jupyter.widget-view+json": {
       "model_id": "803d4f97f16f4e72b3b8d6dcd311a1d6",
       "version_major": 2,
       "version_minor": 0
      },
      "text/plain": [
       "Renderer(camera=PerspectiveCamera(children=(DirectionalLight(color='white', intensity=0.6, position=(60.993045…"
      ]
     },
     "metadata": {},
     "output_type": "display_data"
    },
    {
     "data": {
      "application/vnd.jupyter.widget-view+json": {
       "model_id": "b62d4e09eec2418ebdd20423bb325be8",
       "version_major": 2,
       "version_minor": 0
      },
      "text/plain": [
       "Renderer(camera=PerspectiveCamera(children=(DirectionalLight(color='white', intensity=0.6, position=(60.993045…"
      ]
     },
     "metadata": {},
     "output_type": "display_data"
    },
    {
     "data": {
      "application/vnd.jupyter.widget-view+json": {
       "model_id": "8f2ec58ac06c44a3820518bb07b855ff",
       "version_major": 2,
       "version_minor": 0
      },
      "text/plain": [
       "Renderer(camera=PerspectiveCamera(children=(DirectionalLight(color='white', intensity=0.6, position=(73.529464…"
      ]
     },
     "metadata": {},
     "output_type": "display_data"
    },
    {
     "name": "stdout",
     "output_type": "stream",
     "text": [
      "minimum cartilage thickness w/wo gap is:  0.38 / 0.42\n"
     ]
    },
    {
     "data": {
      "application/vnd.jupyter.widget-view+json": {
       "model_id": "f98c46e679814019b0083f9564adb396",
       "version_major": 2,
       "version_minor": 0
      },
      "text/plain": [
       "Renderer(camera=PerspectiveCamera(children=(DirectionalLight(color='white', intensity=0.6, position=(101.58516…"
      ]
     },
     "metadata": {},
     "output_type": "display_data"
    }
   ],
   "source": [
    "smooth_lp_vertices, lhj_ac_vertices_wg, lhj_ac_faces_wg, lhj_ac_vertices_wog, lhj_ac_faces_wog, lfc_face_idxs = src.get_hj_ac(lp_vertices, lp_faces,\n",
    "                                                                                                                              lf_vertices, lf_faces,\n",
    "                                                                                                                              config_lhj_ac, model_anatomical_path)\n"
   ]
  },
  {
   "cell_type": "markdown",
   "metadata": {},
   "source": [
    "### left hip joint - femoral cartilage (with gap and without gap)"
   ]
  },
  {
   "cell_type": "code",
   "execution_count": 13,
   "metadata": {
    "scrolled": false
   },
   "outputs": [],
   "source": [
    "config_lhj_fc = config.lhj_fc_var\n",
    "\n",
    "if not full_model:\n",
    "    config_lhj_fc.full_model = False"
   ]
  },
  {
   "cell_type": "code",
   "execution_count": 14,
   "metadata": {
    "scrolled": false
   },
   "outputs": [
    {
     "data": {
      "application/vnd.jupyter.widget-view+json": {
       "model_id": "fb24023743c1475f9c4778dfa144bad1",
       "version_major": 2,
       "version_minor": 0
      },
      "text/plain": [
       "Renderer(camera=PerspectiveCamera(children=(DirectionalLight(color='white', intensity=0.6, position=(101.58516…"
      ]
     },
     "metadata": {},
     "output_type": "display_data"
    },
    {
     "data": {
      "application/vnd.jupyter.widget-view+json": {
       "model_id": "2cf6b4c4f32a48cb91b1d1dac7d5f271",
       "version_major": 2,
       "version_minor": 0
      },
      "text/plain": [
       "Renderer(camera=PerspectiveCamera(children=(DirectionalLight(color='white', intensity=0.6, position=(101.58516…"
      ]
     },
     "metadata": {},
     "output_type": "display_data"
    },
    {
     "name": "stdout",
     "output_type": "stream",
     "text": [
      "minimum thickness in the initial layer with gap 0.85995\n",
      "minimum thickness in the initial layer without gap 0.9555\n"
     ]
    },
    {
     "data": {
      "application/vnd.jupyter.widget-view+json": {
       "model_id": "f3dd6fdd49b94e1696ce3ba4aec5dca8",
       "version_major": 2,
       "version_minor": 0
      },
      "text/plain": [
       "Renderer(camera=PerspectiveCamera(children=(DirectionalLight(color='white', intensity=0.6, position=(101.58516…"
      ]
     },
     "metadata": {},
     "output_type": "display_data"
    },
    {
     "data": {
      "application/vnd.jupyter.widget-view+json": {
       "model_id": "8a8bc6b245844422a8e7c885a78e97b1",
       "version_major": 2,
       "version_minor": 0
      },
      "text/plain": [
       "Renderer(camera=PerspectiveCamera(children=(DirectionalLight(color='white', intensity=0.6, position=(101.58516…"
      ]
     },
     "metadata": {},
     "output_type": "display_data"
    },
    {
     "data": {
      "application/vnd.jupyter.widget-view+json": {
       "model_id": "66049bd41956414cba37e36be9861bcf",
       "version_major": 2,
       "version_minor": 0
      },
      "text/plain": [
       "Renderer(camera=PerspectiveCamera(children=(DirectionalLight(color='white', intensity=0.6, position=(77.309226…"
      ]
     },
     "metadata": {},
     "output_type": "display_data"
    }
   ],
   "source": [
    "# make it\n",
    "smooth_lf_vertices, lhj_fc_vertices_wg, lhj_fc_faces_wg, lhj_fc_vertices_wog, lhj_fc_faces_wog = src.get_hj_fc (lf_vertices, lf_faces, \n",
    "                                                                                                                lp_vertices, lp_faces, \n",
    "                                                                                                                lfc_face_idxs, config_lhj_fc, \n",
    "                                                                                                                model_anatomical_path, nodal_o_dir)\n",
    "\n"
   ]
  },
  {
   "cell_type": "markdown",
   "metadata": {},
   "source": [
    "### measure the gap between the two HJ cartilages"
   ]
  },
  {
   "cell_type": "code",
   "execution_count": 15,
   "metadata": {
    "scrolled": false
   },
   "outputs": [
    {
     "name": "stdout",
     "output_type": "stream",
     "text": [
      "minimum distance in the left hip joint 0.108\n"
     ]
    },
    {
     "data": {
      "application/vnd.jupyter.widget-view+json": {
       "model_id": "7b3db5c0d81b452db590b017aa75445a",
       "version_major": 2,
       "version_minor": 0
      },
      "text/plain": [
       "Renderer(camera=PerspectiveCamera(children=(DirectionalLight(color='white', intensity=0.6, position=(73.529464…"
      ]
     },
     "metadata": {},
     "output_type": "display_data"
    }
   ],
   "source": [
    "sd_value, _, closest_points = igl.signed_distance(lhj_fc_vertices_wg, lhj_ac_vertices_wg, lhj_ac_faces_wg, return_normals=False)\n",
    "\n",
    "print('minimum distance in the left hip joint',np.round(np.min(sd_value),3))\n",
    "\n",
    "# show the penetration\n",
    "index = np.where (sd_value < 0 )[0]\n",
    "\n",
    "frame = mp.plot(lhj_ac_vertices_wg, lhj_ac_faces_wg, c=src.pastel_orange, shading = src.sh_true)\n",
    "frame.add_mesh (lhj_fc_vertices_wg, lhj_fc_faces_wg, c = src.pastel_yellow, shading = src.sh_true)\n",
    "\n",
    "if len(index)!= 0 :\n",
    "    frame.add_points(lhj_fc_vertices_wg[index], shading={\"point_color\": \"green\", \"point_size\": 20})\n",
    "    \n",
    "\n",
    "df = pd.read_csv(str(model_anatomical_path), encoding='utf-8')\n",
    "df.loc[10, 'Value'] = np.round(np.min(sd_value),3)\n",
    "\n",
    "df.to_csv(str(model_anatomical_path), index=False)"
   ]
  },
  {
   "cell_type": "markdown",
   "metadata": {},
   "source": [
    "### remove penetration in the \"without gap\" version"
   ]
  },
  {
   "cell_type": "code",
   "execution_count": 16,
   "metadata": {},
   "outputs": [],
   "source": [
    "lhj_fc_vertices_wog = src.remove_penetration(lhj_fc_vertices_wog, lhj_ac_vertices_wog, lhj_ac_faces_wog)"
   ]
  },
  {
   "cell_type": "markdown",
   "metadata": {},
   "source": [
    "### export results"
   ]
  },
  {
   "cell_type": "code",
   "execution_count": 17,
   "metadata": {},
   "outputs": [],
   "source": [
    "src.save_surface (lhj_fc_vertices_wg, lhj_fc_faces_wg, o_dim, o_lhj_fc_wg_path)\n",
    "src.save_surface (lhj_ac_vertices_wg, lhj_ac_faces_wg, o_dim, o_lhj_ac_wg_path)\n",
    "\n",
    "src.save_surface (lhj_fc_vertices_wog, lhj_fc_faces_wog, o_dim, o_lhj_fc_wog_path)\n",
    "src.save_surface (lhj_ac_vertices_wog, lhj_ac_faces_wog, o_dim, o_lhj_ac_wog_path)\n"
   ]
  },
  {
   "cell_type": "markdown",
   "metadata": {},
   "source": [
    "### left SI joint"
   ]
  },
  {
   "cell_type": "code",
   "execution_count": 18,
   "metadata": {},
   "outputs": [],
   "source": [
    "config_lsj = config.lsj_var\n",
    "\n",
    "if not full_model:\n",
    "    config_lsj.full_model = False"
   ]
  },
  {
   "cell_type": "code",
   "execution_count": 19,
   "metadata": {
    "scrolled": false
   },
   "outputs": [
    {
     "data": {
      "application/vnd.jupyter.widget-view+json": {
       "model_id": "6e9d0d0379504b80b4a27c17bbeb1ebb",
       "version_major": 2,
       "version_minor": 0
      },
      "text/plain": [
       "Renderer(camera=PerspectiveCamera(children=(DirectionalLight(color='white', intensity=0.6, position=(-7.207897…"
      ]
     },
     "metadata": {},
     "output_type": "display_data"
    },
    {
     "name": "stdout",
     "output_type": "stream",
     "text": [
      "Primary side: max dihedral angle before smoothing is  0.72 radians ( 41.25 degrees).\n",
      "Primary side: max dihedral angle after smoothing is  0.73 radians ( 41.83 degrees).\n",
      "\n",
      "Quality control results for the primary side: \n",
      "Everything is clean in the primary interface. We will now continue to the secondary interface:\n",
      "\n"
     ]
    },
    {
     "data": {
      "application/vnd.jupyter.widget-view+json": {
       "model_id": "2efa6021fc4347d19f545d0b33c62ad5",
       "version_major": 2,
       "version_minor": 0
      },
      "text/plain": [
       "Renderer(camera=PerspectiveCamera(children=(DirectionalLight(color='white', intensity=0.6, position=(-7.207897…"
      ]
     },
     "metadata": {},
     "output_type": "display_data"
    },
    {
     "data": {
      "application/vnd.jupyter.widget-view+json": {
       "model_id": "08fd3874c3b14b76ac012e13e776b5c8",
       "version_major": 2,
       "version_minor": 0
      },
      "text/plain": [
       "Renderer(camera=PerspectiveCamera(children=(DirectionalLight(color='white', intensity=0.6, position=(60.993045…"
      ]
     },
     "metadata": {},
     "output_type": "display_data"
    },
    {
     "name": "stdout",
     "output_type": "stream",
     "text": [
      "Secondary layer: max dihedral angle before smoothing is  0.77 radians ( 44.12 degrees).\n",
      "Secondary layer: max dihedral angle after smoothing is  0.79 radians ( 45.26 degrees).\n",
      "Quality control results for the base layer: \n",
      "\n",
      "Everything is clean in the base layer. We will now continue to create the wall:\n",
      "\n"
     ]
    },
    {
     "data": {
      "application/vnd.jupyter.widget-view+json": {
       "model_id": "aff8e4708829455c8c1be529437bd695",
       "version_major": 2,
       "version_minor": 0
      },
      "text/plain": [
       "Renderer(camera=PerspectiveCamera(children=(DirectionalLight(color='white', intensity=0.6, position=(60.993045…"
      ]
     },
     "metadata": {},
     "output_type": "display_data"
    },
    {
     "data": {
      "application/vnd.jupyter.widget-view+json": {
       "model_id": "4b18a50f0da64bf19a8c17dba3cd5020",
       "version_major": 2,
       "version_minor": 0
      },
      "text/plain": [
       "Renderer(camera=PerspectiveCamera(children=(DirectionalLight(color='white', intensity=0.6, position=(-7.207897…"
      ]
     },
     "metadata": {},
     "output_type": "display_data"
    },
    {
     "data": {
      "application/vnd.jupyter.widget-view+json": {
       "model_id": "5e4ad7b650634e16841a47a759bd0491",
       "version_major": 2,
       "version_minor": 0
      },
      "text/plain": [
       "Renderer(camera=PerspectiveCamera(children=(DirectionalLight(color='white', intensity=0.6, position=(60.993045…"
      ]
     },
     "metadata": {},
     "output_type": "display_data"
    },
    {
     "data": {
      "application/vnd.jupyter.widget-view+json": {
       "model_id": "c226d3bfdbeb40248be70ebec82cfe9b",
       "version_major": 2,
       "version_minor": 0
      },
      "text/plain": [
       "Renderer(camera=PerspectiveCamera(children=(DirectionalLight(color='white', intensity=0.6, position=(39.462299…"
      ]
     },
     "metadata": {},
     "output_type": "display_data"
    },
    {
     "data": {
      "application/vnd.jupyter.widget-view+json": {
       "model_id": "bbc6582a70824e109d24ba558854a2a4",
       "version_major": 2,
       "version_minor": 0
      },
      "text/plain": [
       "Renderer(camera=PerspectiveCamera(children=(DirectionalLight(color='white', intensity=0.6, position=(39.462299…"
      ]
     },
     "metadata": {},
     "output_type": "display_data"
    }
   ],
   "source": [
    "smooth_s_vertices, smooth_lp_vertices, lsj_vertices, lsj_faces = src.get_sj(s_vertices, s_faces,\n",
    "                                                                           smooth_lp_vertices, lp_faces,\n",
    "                                                                           config_lsj, model_anatomical_path)\n",
    "\n",
    "# export results\n",
    "src.save_surface (lsj_vertices, lsj_faces, o_dim, o_lsj_path)"
   ]
  },
  {
   "cell_type": "markdown",
   "metadata": {},
   "source": [
    "### right hip joint - acetabular cartilage (with and without gap)"
   ]
  },
  {
   "cell_type": "code",
   "execution_count": 20,
   "metadata": {},
   "outputs": [],
   "source": [
    "config_rhj_ac = config.rhj_ac_var\n",
    "\n",
    "if not full_model:\n",
    "    config_rhj_ac.full_model = False"
   ]
  },
  {
   "cell_type": "code",
   "execution_count": 21,
   "metadata": {
    "scrolled": false
   },
   "outputs": [
    {
     "data": {
      "application/vnd.jupyter.widget-view+json": {
       "model_id": "935b7e976bfd4324bb0de32c992d8d26",
       "version_major": 2,
       "version_minor": 0
      },
      "text/plain": [
       "Renderer(camera=PerspectiveCamera(children=(DirectionalLight(color='white', intensity=0.6, position=(-68.46923…"
      ]
     },
     "metadata": {},
     "output_type": "display_data"
    },
    {
     "data": {
      "application/vnd.jupyter.widget-view+json": {
       "model_id": "9b6fc1bc30944c4eb15ab00339345843",
       "version_major": 2,
       "version_minor": 0
      },
      "text/plain": [
       "Renderer(camera=PerspectiveCamera(children=(DirectionalLight(color='white', intensity=0.6, position=(-68.46923…"
      ]
     },
     "metadata": {},
     "output_type": "display_data"
    },
    {
     "name": "stdout",
     "output_type": "stream",
     "text": [
      "minimum thickness in the initial layer with gap 0.94745\n",
      "minimum thickness in the initial layer without gap 1.05272\n"
     ]
    },
    {
     "data": {
      "application/vnd.jupyter.widget-view+json": {
       "model_id": "cf862ca9220f4e3792949ccec8cf9712",
       "version_major": 2,
       "version_minor": 0
      },
      "text/plain": [
       "Renderer(camera=PerspectiveCamera(children=(DirectionalLight(color='white', intensity=0.6, position=(-68.46923…"
      ]
     },
     "metadata": {},
     "output_type": "display_data"
    },
    {
     "data": {
      "application/vnd.jupyter.widget-view+json": {
       "model_id": "60fdebed16aa4e0f815e5e3e992674fa",
       "version_major": 2,
       "version_minor": 0
      },
      "text/plain": [
       "Renderer(camera=PerspectiveCamera(children=(DirectionalLight(color='white', intensity=0.6, position=(-68.46923…"
      ]
     },
     "metadata": {},
     "output_type": "display_data"
    },
    {
     "data": {
      "application/vnd.jupyter.widget-view+json": {
       "model_id": "2efde712ca30417ca9f0d7a279fbfb25",
       "version_major": 2,
       "version_minor": 0
      },
      "text/plain": [
       "Renderer(camera=PerspectiveCamera(children=(DirectionalLight(color='white', intensity=0.6, position=(-86.66569…"
      ]
     },
     "metadata": {},
     "output_type": "display_data"
    },
    {
     "name": "stdout",
     "output_type": "stream",
     "text": [
      "minimum cartilage thickness w/wo gap is:  0.43 / 0.47\n"
     ]
    },
    {
     "data": {
      "application/vnd.jupyter.widget-view+json": {
       "model_id": "b652a9c569104db89297631cd46278b6",
       "version_major": 2,
       "version_minor": 0
      },
      "text/plain": [
       "Renderer(camera=PerspectiveCamera(children=(DirectionalLight(color='white', intensity=0.6, position=(-116.6246…"
      ]
     },
     "metadata": {},
     "output_type": "display_data"
    }
   ],
   "source": [
    "smooth_rp_vertices, rhj_ac_vertices_wg, rhj_ac_faces_wg, rhj_ac_vertices_wog, rhj_ac_faces_wog, rfc_face_idxs = src.get_hj_ac( rp_vertices, rp_faces, rf_vertices, rf_faces, config_rhj_ac, model_anatomical_path )\n",
    "\n"
   ]
  },
  {
   "cell_type": "markdown",
   "metadata": {},
   "source": [
    "### right hip joint - femoral cartilage ( with and without gap )"
   ]
  },
  {
   "cell_type": "code",
   "execution_count": 22,
   "metadata": {},
   "outputs": [],
   "source": [
    "config_rhj_fc = config.rhj_fc_var\n",
    "\n",
    "if not full_model:\n",
    "    config_rhj_fc.full_model = False"
   ]
  },
  {
   "cell_type": "code",
   "execution_count": 23,
   "metadata": {
    "scrolled": false
   },
   "outputs": [
    {
     "data": {
      "application/vnd.jupyter.widget-view+json": {
       "model_id": "d0b0bb7843af4867b5463bc910cc4412",
       "version_major": 2,
       "version_minor": 0
      },
      "text/plain": [
       "Renderer(camera=PerspectiveCamera(children=(DirectionalLight(color='white', intensity=0.6, position=(-116.6246…"
      ]
     },
     "metadata": {},
     "output_type": "display_data"
    },
    {
     "data": {
      "application/vnd.jupyter.widget-view+json": {
       "model_id": "a5ddc157704e45478675a84759241c4b",
       "version_major": 2,
       "version_minor": 0
      },
      "text/plain": [
       "Renderer(camera=PerspectiveCamera(children=(DirectionalLight(color='white', intensity=0.6, position=(-116.6246…"
      ]
     },
     "metadata": {},
     "output_type": "display_data"
    },
    {
     "name": "stdout",
     "output_type": "stream",
     "text": [
      "minimum thickness in the initial layer with gap 0.92824\n",
      "minimum thickness in the initial layer without gap 1.03138\n"
     ]
    },
    {
     "data": {
      "application/vnd.jupyter.widget-view+json": {
       "model_id": "3080794aced445f9923e32481399ab07",
       "version_major": 2,
       "version_minor": 0
      },
      "text/plain": [
       "Renderer(camera=PerspectiveCamera(children=(DirectionalLight(color='white', intensity=0.6, position=(-116.6246…"
      ]
     },
     "metadata": {},
     "output_type": "display_data"
    },
    {
     "data": {
      "application/vnd.jupyter.widget-view+json": {
       "model_id": "55254e9557ff4b3390b313f34a117e17",
       "version_major": 2,
       "version_minor": 0
      },
      "text/plain": [
       "Renderer(camera=PerspectiveCamera(children=(DirectionalLight(color='white', intensity=0.6, position=(-116.6246…"
      ]
     },
     "metadata": {},
     "output_type": "display_data"
    },
    {
     "data": {
      "application/vnd.jupyter.widget-view+json": {
       "model_id": "ab9f5b6e054f45db8076258d263f84d6",
       "version_major": 2,
       "version_minor": 0
      },
      "text/plain": [
       "Renderer(camera=PerspectiveCamera(children=(DirectionalLight(color='white', intensity=0.6, position=(-91.17024…"
      ]
     },
     "metadata": {},
     "output_type": "display_data"
    }
   ],
   "source": [
    "# make it\n",
    "smooth_rf_vertices, rhj_fc_vertices_wg, rhj_fc_faces_wg, rhj_fc_vertices_wog, rhj_fc_faces_wog = src.get_hj_fc (rf_vertices, rf_faces, \n",
    "                                                                                                                rp_vertices, rp_faces, \n",
    "                                                                                                                rfc_face_idxs, config_rhj_fc, \n",
    "                                                                                                                model_anatomical_path, nodal_o_dir)\n"
   ]
  },
  {
   "cell_type": "markdown",
   "metadata": {},
   "source": [
    "### measure the gap between the two HJ cartilages"
   ]
  },
  {
   "cell_type": "code",
   "execution_count": 24,
   "metadata": {
    "scrolled": false
   },
   "outputs": [
    {
     "name": "stdout",
     "output_type": "stream",
     "text": [
      "minimum distance in the left hip joint 0.099\n"
     ]
    },
    {
     "data": {
      "application/vnd.jupyter.widget-view+json": {
       "model_id": "64114fda37664c1d866dbe80697d742c",
       "version_major": 2,
       "version_minor": 0
      },
      "text/plain": [
       "Renderer(camera=PerspectiveCamera(children=(DirectionalLight(color='white', intensity=0.6, position=(-86.66569…"
      ]
     },
     "metadata": {},
     "output_type": "display_data"
    }
   ],
   "source": [
    "sd_value, _, closest_points = igl.signed_distance(rhj_fc_vertices_wg, rhj_ac_vertices_wg, rhj_ac_faces_wg, return_normals=False)\n",
    "\n",
    "print('minimum distance in the left hip joint',np.round(np.min(sd_value),3))\n",
    "\n",
    "# show the penetration\n",
    "index = np.where (sd_value < 0 )[0]\n",
    "\n",
    "frame = mp.plot(rhj_ac_vertices_wg, rhj_ac_faces_wg, c = src.pastel_orange, shading = src.sh_true)\n",
    "frame.add_mesh (rhj_fc_vertices_wg, rhj_fc_faces_wg, c = src.pastel_yellow, shading = src.sh_true)\n",
    "\n",
    "if len(index)!= 0 :\n",
    "    frame.add_points(rhj_fc_vertices_wg[index], shading={\"point_color\": \"green\", \"point_size\": 20})\n",
    "    \n",
    "\n",
    "df = pd.read_csv(str(model_anatomical_path), encoding='utf-8')\n",
    "df.loc[17, 'Value'] = np.round(np.min(sd_value),3)\n",
    "\n",
    "df.to_csv(str(model_anatomical_path), index=False)"
   ]
  },
  {
   "cell_type": "code",
   "execution_count": 25,
   "metadata": {},
   "outputs": [],
   "source": [
    "rhj_fc_vertices_wog = src.remove_penetration(rhj_fc_vertices_wog, rhj_ac_vertices_wog, rhj_ac_faces_wog)"
   ]
  },
  {
   "cell_type": "markdown",
   "metadata": {},
   "source": [
    "### export results"
   ]
  },
  {
   "cell_type": "code",
   "execution_count": 26,
   "metadata": {},
   "outputs": [],
   "source": [
    "src.save_surface (rhj_fc_vertices_wg, rhj_fc_faces_wg, o_dim, o_rhj_fc_wg_path)\n",
    "src.save_surface (rhj_ac_vertices_wg, rhj_ac_faces_wg, o_dim, o_rhj_ac_wg_path)\n",
    "\n",
    "src.save_surface (rhj_fc_vertices_wog, rhj_fc_faces_wog, o_dim, o_rhj_fc_wog_path)\n",
    "src.save_surface (rhj_ac_vertices_wog, rhj_ac_faces_wog, o_dim, o_rhj_ac_wog_path)"
   ]
  },
  {
   "cell_type": "markdown",
   "metadata": {},
   "source": [
    "### right SI joint"
   ]
  },
  {
   "cell_type": "code",
   "execution_count": 27,
   "metadata": {},
   "outputs": [],
   "source": [
    "config_rsj = config.rsj_var\n",
    "\n",
    "if not full_model:\n",
    "    config_rsj.full_model = False"
   ]
  },
  {
   "cell_type": "code",
   "execution_count": 28,
   "metadata": {
    "scrolled": false
   },
   "outputs": [
    {
     "data": {
      "application/vnd.jupyter.widget-view+json": {
       "model_id": "618cfb8c84174d9b9272aecfcbcb20ee",
       "version_major": 2,
       "version_minor": 0
      },
      "text/plain": [
       "Renderer(camera=PerspectiveCamera(children=(DirectionalLight(color='white', intensity=0.6, position=(-7.207897…"
      ]
     },
     "metadata": {},
     "output_type": "display_data"
    },
    {
     "name": "stdout",
     "output_type": "stream",
     "text": [
      "Primary side: max dihedral angle before smoothing is  0.57 radians ( 32.66 degrees).\n",
      "Primary side: max dihedral angle after smoothing is  0.57 radians ( 32.66 degrees).\n",
      "\n",
      "Quality control results for the primary side: \n",
      "Everything is clean in the primary interface. We will now continue to the secondary interface:\n",
      "\n"
     ]
    },
    {
     "data": {
      "application/vnd.jupyter.widget-view+json": {
       "model_id": "4178845d70f240f6b72e8568511476b5",
       "version_major": 2,
       "version_minor": 0
      },
      "text/plain": [
       "Renderer(camera=PerspectiveCamera(children=(DirectionalLight(color='white', intensity=0.6, position=(-7.205169…"
      ]
     },
     "metadata": {},
     "output_type": "display_data"
    },
    {
     "data": {
      "application/vnd.jupyter.widget-view+json": {
       "model_id": "28b986b845a9445f81715739895d0214",
       "version_major": 2,
       "version_minor": 0
      },
      "text/plain": [
       "Renderer(camera=PerspectiveCamera(children=(DirectionalLight(color='white', intensity=0.6, position=(-68.46923…"
      ]
     },
     "metadata": {},
     "output_type": "display_data"
    },
    {
     "name": "stdout",
     "output_type": "stream",
     "text": [
      "Secondary layer: max dihedral angle before smoothing is  0.58 radians ( 33.23 degrees).\n",
      "Secondary layer: max dihedral angle after smoothing is  0.58 radians ( 33.23 degrees).\n",
      "Quality control results for the base layer: \n",
      "\n",
      "Everything is clean in the base layer. We will now continue to create the wall:\n",
      "\n"
     ]
    },
    {
     "data": {
      "application/vnd.jupyter.widget-view+json": {
       "model_id": "92188b15abd34012a8cad05a658533a8",
       "version_major": 2,
       "version_minor": 0
      },
      "text/plain": [
       "Renderer(camera=PerspectiveCamera(children=(DirectionalLight(color='white', intensity=0.6, position=(-68.46923…"
      ]
     },
     "metadata": {},
     "output_type": "display_data"
    },
    {
     "data": {
      "application/vnd.jupyter.widget-view+json": {
       "model_id": "de949c9098b74faca52b66d08d9a9df7",
       "version_major": 2,
       "version_minor": 0
      },
      "text/plain": [
       "Renderer(camera=PerspectiveCamera(children=(DirectionalLight(color='white', intensity=0.6, position=(-7.205169…"
      ]
     },
     "metadata": {},
     "output_type": "display_data"
    },
    {
     "data": {
      "application/vnd.jupyter.widget-view+json": {
       "model_id": "ae73ca56640a4db49757356aa8ddf1a4",
       "version_major": 2,
       "version_minor": 0
      },
      "text/plain": [
       "Renderer(camera=PerspectiveCamera(children=(DirectionalLight(color='white', intensity=0.6, position=(-68.46923…"
      ]
     },
     "metadata": {},
     "output_type": "display_data"
    },
    {
     "data": {
      "application/vnd.jupyter.widget-view+json": {
       "model_id": "d5ed7d061e1d4b739ec5102be27242be",
       "version_major": 2,
       "version_minor": 0
      },
      "text/plain": [
       "Renderer(camera=PerspectiveCamera(children=(DirectionalLight(color='white', intensity=0.6, position=(-56.20844…"
      ]
     },
     "metadata": {},
     "output_type": "display_data"
    },
    {
     "data": {
      "application/vnd.jupyter.widget-view+json": {
       "model_id": "d8d5f4961a394fbdafadf1bc6fa579c9",
       "version_major": 2,
       "version_minor": 0
      },
      "text/plain": [
       "Renderer(camera=PerspectiveCamera(children=(DirectionalLight(color='white', intensity=0.6, position=(-56.20844…"
      ]
     },
     "metadata": {},
     "output_type": "display_data"
    }
   ],
   "source": [
    "smooth_s_vertices, smooth_rp_vertices, rsj_vertices, rsj_faces = src.get_sj(s_vertices, s_faces,\n",
    "                                                                           smooth_rp_vertices, rp_faces,\n",
    "                                                                           config_rsj, model_anatomical_path)\n",
    "\n",
    "# export results\n",
    "src.save_surface (rsj_vertices, rsj_faces, o_dim, o_rsj_path)"
   ]
  },
  {
   "cell_type": "markdown",
   "metadata": {},
   "source": [
    "### pubic cartilage"
   ]
  },
  {
   "cell_type": "code",
   "execution_count": 29,
   "metadata": {},
   "outputs": [],
   "source": [
    "config_pj = config.pj_var\n",
    "\n",
    "if not full_model:\n",
    "    config_pj.full_model = False"
   ]
  },
  {
   "cell_type": "code",
   "execution_count": 30,
   "metadata": {
    "scrolled": false
   },
   "outputs": [
    {
     "data": {
      "application/vnd.jupyter.widget-view+json": {
       "model_id": "136365c275ed4eadbf68962a47ff854c",
       "version_major": 2,
       "version_minor": 0
      },
      "text/plain": [
       "Renderer(camera=PerspectiveCamera(children=(DirectionalLight(color='white', intensity=0.6, position=(60.993045…"
      ]
     },
     "metadata": {},
     "output_type": "display_data"
    },
    {
     "name": "stdout",
     "output_type": "stream",
     "text": [
      "Primary side: max dihedral angle before smoothing is  1.01 radians ( 57.87 degrees).\n",
      "Primary side: max dihedral angle after smoothing is  1.01 radians ( 57.87 degrees).\n",
      "\n",
      "Quality control results for the primary side: \n",
      "Everything is clean in the primary interface. We will now continue to the secondary interface:\n",
      "\n"
     ]
    },
    {
     "data": {
      "application/vnd.jupyter.widget-view+json": {
       "model_id": "3bce174d54e44b1b8f2a9ddca30182d4",
       "version_major": 2,
       "version_minor": 0
      },
      "text/plain": [
       "Renderer(camera=PerspectiveCamera(children=(DirectionalLight(color='white', intensity=0.6, position=(60.993045…"
      ]
     },
     "metadata": {},
     "output_type": "display_data"
    },
    {
     "data": {
      "application/vnd.jupyter.widget-view+json": {
       "model_id": "c20ee8ba7a2d4492b71b8d32c9cdfa6e",
       "version_major": 2,
       "version_minor": 0
      },
      "text/plain": [
       "Renderer(camera=PerspectiveCamera(children=(DirectionalLight(color='white', intensity=0.6, position=(-68.46923…"
      ]
     },
     "metadata": {},
     "output_type": "display_data"
    },
    {
     "name": "stdout",
     "output_type": "stream",
     "text": [
      "Secondary layer: max dihedral angle before smoothing is  0.88 radians ( 50.42 degrees).\n",
      "Secondary layer: max dihedral angle after smoothing is  0.89 radians ( 50.99 degrees).\n",
      "Quality control results for the base layer: \n",
      "\n",
      "Everything is clean in the base layer. We will now continue to create the wall:\n"
     ]
    },
    {
     "data": {
      "application/vnd.jupyter.widget-view+json": {
       "model_id": "79eefaa1642a41908d848e9252b95ba3",
       "version_major": 2,
       "version_minor": 0
      },
      "text/plain": [
       "Renderer(camera=PerspectiveCamera(children=(DirectionalLight(color='white', intensity=0.6, position=(-68.46923…"
      ]
     },
     "metadata": {},
     "output_type": "display_data"
    },
    {
     "data": {
      "application/vnd.jupyter.widget-view+json": {
       "model_id": "8272df6b67204cae83c531149b7fa323",
       "version_major": 2,
       "version_minor": 0
      },
      "text/plain": [
       "Renderer(camera=PerspectiveCamera(children=(DirectionalLight(color='white', intensity=0.6, position=(60.993045…"
      ]
     },
     "metadata": {},
     "output_type": "display_data"
    },
    {
     "data": {
      "application/vnd.jupyter.widget-view+json": {
       "model_id": "114b86105c544552a2a1642b6230ce70",
       "version_major": 2,
       "version_minor": 0
      },
      "text/plain": [
       "Renderer(camera=PerspectiveCamera(children=(DirectionalLight(color='white', intensity=0.6, position=(-68.46923…"
      ]
     },
     "metadata": {},
     "output_type": "display_data"
    },
    {
     "data": {
      "application/vnd.jupyter.widget-view+json": {
       "model_id": "52cdd250c6034eadaa522bb16bb9e569",
       "version_major": 2,
       "version_minor": 0
      },
      "text/plain": [
       "Renderer(camera=PerspectiveCamera(children=(DirectionalLight(color='white', intensity=0.6, position=(-6.499807…"
      ]
     },
     "metadata": {},
     "output_type": "display_data"
    },
    {
     "data": {
      "application/vnd.jupyter.widget-view+json": {
       "model_id": "11eb5572e22449f5b042621281201329",
       "version_major": 2,
       "version_minor": 0
      },
      "text/plain": [
       "Renderer(camera=PerspectiveCamera(children=(DirectionalLight(color='white', intensity=0.6, position=(-6.499807…"
      ]
     },
     "metadata": {},
     "output_type": "display_data"
    }
   ],
   "source": [
    "# make it\n",
    "smooth_lp_vertices, smooth_rp_vertices, pj_vertices, pj_faces = src.get_gap_pj(smooth_lp_vertices, lp_faces,\n",
    "                                                                             smooth_rp_vertices, rp_faces,\n",
    "                                                                             config_pj, model_anatomical_path)\n",
    "  \n",
    "# export results\n",
    "src.save_surface ( pj_vertices, pj_faces, o_dim, o_pj_path )"
   ]
  },
  {
   "cell_type": "markdown",
   "metadata": {},
   "source": [
    "## timer"
   ]
  },
  {
   "cell_type": "code",
   "execution_count": 31,
   "metadata": {},
   "outputs": [
    {
     "name": "stdout",
     "output_type": "stream",
     "text": [
      "computation time:  286.7 seconds, 4.78 minutes\n"
     ]
    }
   ],
   "source": [
    "# stop the time\n",
    "now = time.time()\n",
    "print(\"computation time: \", np.round(now-then, 2), 'seconds,', np.round((now-then)/60, 2), 'minutes')\n"
   ]
  },
  {
   "cell_type": "markdown",
   "metadata": {},
   "source": [
    "## voila!"
   ]
  },
  {
   "cell_type": "code",
   "execution_count": 32,
   "metadata": {
    "scrolled": false
   },
   "outputs": [
    {
     "data": {
      "application/vnd.jupyter.widget-view+json": {
       "model_id": "22aafb839ded4bf9a7dd35012d08f087",
       "version_major": 2,
       "version_minor": 0
      },
      "text/plain": [
       "Renderer(camera=PerspectiveCamera(children=(DirectionalLight(color='white', intensity=0.6, position=(-7.205169…"
      ]
     },
     "metadata": {},
     "output_type": "display_data"
    },
    {
     "data": {
      "text/plain": [
       "11"
      ]
     },
     "execution_count": 32,
     "metadata": {},
     "output_type": "execute_result"
    }
   ],
   "source": [
    "frame = mp.plot( smooth_s_vertices, s_faces, c = src.bone, shading = src.sh_false )\n",
    "frame.add_mesh ( smooth_lp_vertices, lp_faces, c = src.bone, shading = src.sh_false )\n",
    "frame.add_mesh ( smooth_rp_vertices, rp_faces, c = src.bone, shading = src.sh_false )\n",
    "frame.add_mesh ( smooth_lf_vertices, lf_faces, c = src.bone, shading = src.sh_false )\n",
    "frame.add_mesh ( smooth_rf_vertices, rf_faces, c = src.bone, shading = src.sh_false )\n",
    "frame.add_mesh ( lhj_ac_vertices_wg, lhj_ac_faces_wg, c = src.pastel_light_blue, shading = src.sh_false )\n",
    "frame.add_mesh ( lhj_fc_vertices_wg, lhj_fc_faces_wg, c = src.pastel_light_blue, shading = src.sh_false )\n",
    "frame.add_mesh ( rhj_ac_vertices_wg, rhj_ac_faces_wg, c = src.pastel_light_blue, shading = src.sh_false )\n",
    "frame.add_mesh ( rhj_fc_vertices_wg, rhj_fc_faces_wg, c = src.pastel_light_blue, shading = src.sh_false )\n",
    "frame.add_mesh ( lsj_vertices, lsj_faces, c = src.pastel_light_blue, shading = src.sh_false )\n",
    "frame.add_mesh ( rsj_vertices, rsj_faces, c = src.pastel_light_blue, shading = src.sh_false )\n",
    "frame.add_mesh ( pj_vertices, pj_faces, c = src.pastel_light_blue, shading = src.sh_false)"
   ]
  },
  {
   "cell_type": "markdown",
   "metadata": {},
   "source": [
    "## check self intersection in tetgen"
   ]
  },
  {
   "cell_type": "code",
   "execution_count": 33,
   "metadata": {},
   "outputs": [],
   "source": [
    "# lsi_cart_test  = str((o_dir/ lsj).with_suffix('.stl'))\n",
    "# rsi_cart_test  = str((o_dir/ rsj).with_suffix('.stl'))\n",
    "# pubic_cart_test = str((o_dir/ pj).with_suffix('.stl'))\n",
    "\n",
    "# # with gap \n",
    "# lpelvic_cart_test = str((o_dir/ lhj_ac_wg).with_suffix('.stl'))\n",
    "# rpelvic_cart_test = str((o_dir/ rhj_ac_wg).with_suffix('.stl'))\n",
    "\n",
    "# lfemoral_cart_test = str((o_dir/ lhj_fc_wg).with_suffix('.stl'))\n",
    "# rfemoral_cart_test = str((o_dir/ rhj_fc_wg).with_suffix('.stl'))\n",
    "\n",
    "# # withoutgap\n",
    "# lpelvic_cart_test_wo_gap = str((o_dir/ lhj_ac_wog).with_suffix('.stl'))\n",
    "# rpelvic_cart_test_wo_gap = str((o_dir/ rhj_ac_wog).with_suffix('.stl'))\n",
    "\n",
    "# lfemoral_cart_test_wo_gap = str((o_dir/ lhj_fc_wog).with_suffix('.stl'))\n",
    "# rfemoral_cart_test_wo_gap = str((o_dir/ rhj_fc_wog).with_suffix('.stl'))\n",
    "\n",
    "# src.save_surface ( lsj_vertices, lsj_faces, o_dim, lsi_cart_test )\n",
    "# src.save_surface ( rsj_vertices, rsj_faces, o_dim, rsi_cart_test )\n",
    "# src.save_surface ( lhj_ac_vertices_wg, lhj_ac_faces_wg, o_dim, lpelvic_cart_test )\n",
    "# src.save_surface ( rhj_ac_vertices_wg, rhj_ac_faces_wg, o_dim, rpelvic_cart_test )\n",
    "# src.save_surface ( lhj_fc_vertices_wg, lhj_fc_faces_wg, o_dim, lfemoral_cart_test )\n",
    "# src.save_surface ( rhj_fc_vertices_wg, rhj_fc_faces_wg, o_dim, rfemoral_cart_test )\n",
    "\n",
    "# src.save_surface ( lhj_ac_vertices_wog, lhj_ac_faces_wog, o_dim, lpelvic_cart_test_wo_gap )\n",
    "# src.save_surface ( rhj_ac_vertices_wog, rhj_ac_faces_wog, o_dim, rpelvic_cart_test_wo_gap )\n",
    "# src.save_surface ( lhj_fc_vertices_wg, lhj_fc_faces_wg, o_dim, lfemoral_cart_test_wo_gap )\n",
    "# src.save_surface ( rhj_fc_vertices_wg, rhj_fc_faces_wg, o_dim, rfemoral_cart_test_wo_gap )\n",
    "\n",
    "# src.save_surface ( pj_vertices, pj_faces, o_dim, pubic_cart_test )\n",
    "\n",
    "# os.system ( 'tetgen -d '+ lsi_cart_test )\n",
    "# os.system ( 'tetgen -d '+ rsi_cart_test )\n",
    "# os.system ( 'tetgen -d '+ lpelvic_cart_test )\n",
    "# os.system ( 'tetgen -d '+ rpelvic_cart_test )\n",
    "# os.system ( 'tetgen -d '+ lfemoral_cart_test )\n",
    "# os.system ( 'tetgen -d '+ rfemoral_cart_test )\n",
    "# os.system ( 'tetgen -d '+ pubic_cart_test )\n",
    "\n",
    "\n",
    "# os.system ( 'tetgen -d '+ lpelvic_cart_test_wo_gap )\n",
    "# os.system ( 'tetgen -d '+ rpelvic_cart_test_wo_gap )\n",
    "# os.system ( 'tetgen -d '+ lfemoral_cart_test_wo_gap )\n",
    "# os.system ( 'tetgen -d '+ rfemoral_cart_test_wo_gap )\n"
   ]
  },
  {
   "cell_type": "markdown",
   "metadata": {},
   "source": [
    "## export bones "
   ]
  },
  {
   "cell_type": "code",
   "execution_count": 34,
   "metadata": {},
   "outputs": [],
   "source": [
    "src.save_surface ( smooth_s_vertices, s_faces, o_dim, o_sacrum_path ) \n",
    "src.save_surface ( smooth_lp_vertices, lp_faces, o_dim, o_lpelvis_path )\n",
    "src.save_surface ( smooth_rp_vertices, rp_faces, o_dim, o_rpelvis_path )\n",
    "src.save_surface ( smooth_lf_vertices, lf_faces, o_dim, o_lfemur_path )\n",
    "src.save_surface ( smooth_rf_vertices, rf_faces, o_dim, o_rfemur_path )"
   ]
  },
  {
   "cell_type": "code",
   "execution_count": null,
   "metadata": {},
   "outputs": [],
   "source": []
  }
 ],
 "metadata": {
  "kernelspec": {
   "display_name": "Python 3",
   "language": "python",
   "name": "python3"
  },
  "language_info": {
   "codemirror_mode": {
    "name": "ipython",
    "version": 3
   },
   "file_extension": ".py",
   "mimetype": "text/x-python",
   "name": "python",
   "nbconvert_exporter": "python",
   "pygments_lexer": "ipython3",
   "version": "3.9.6"
  },
  "toc": {
   "base_numbering": 1,
   "nav_menu": {},
   "number_sections": true,
   "sideBar": true,
   "skip_h1_title": false,
   "title_cell": "Table of Contents",
   "title_sidebar": "Contents",
   "toc_cell": false,
   "toc_position": {
    "height": "calc(100% - 180px)",
    "left": "10px",
    "top": "150px",
    "width": "209px"
   },
   "toc_section_display": true,
   "toc_window_display": true
  }
 },
 "nbformat": 4,
 "nbformat_minor": 4
}
