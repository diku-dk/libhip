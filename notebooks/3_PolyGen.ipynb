version https://git-lfs.github.com/spec/v1
oid sha256:f19d90ee4cfe71afe17d6c1bad5b514f496f4d9ebbd0e7a744f736ee90b22a06
size 84042
