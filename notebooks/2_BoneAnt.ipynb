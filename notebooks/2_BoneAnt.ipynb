{
 "cells": [
  {
   "cell_type": "markdown",
   "metadata": {},
   "source": [
    "# Bone Anatomical Measurements\n",
    "This notebook measures the subject-specific anatomical measurements from the 3D bone surface meshes\n",
    "    "
   ]
  },
  {
   "cell_type": "markdown",
   "metadata": {},
   "source": [
    "## imports and user-defined properties"
   ]
  },
  {
   "cell_type": "code",
   "execution_count": 1,
   "metadata": {},
   "outputs": [],
   "source": [
    "import numpy as np\n",
    "import meshplot as mp\n",
    "import igl\n",
    "from pathlib import Path\n",
    "import sys\n",
    "import pandas as pd\n",
    "import matplotlib.pyplot as plt\n",
    "import matplotlib.mlab as mlab\n",
    "from scipy import stats\n",
    "stats.chisqprob = lambda chisq, df: stats.chi2.sf(chisq, df)\n",
    "import wildmeshing as wm\n",
    "import json\n",
    "import miniball\n",
    "\n",
    "sys.path.append('../')\n",
    "\n",
    "import src\n",
    "\n",
    "# Please first clone the RAINBOW github repository and change this directory to the \"python\" folder inside RAINBOW.\n",
    "# RAINBOW github: https://github.com/diku-dk/RAINBOW\n",
    "sys.path.append (str(Path.home()/'Documents'/'Github'/'RAINBOW'/'python'))\n",
    "from rainbow.geometry.surface_mesh import *\n"
   ]
  },
  {
   "cell_type": "markdown",
   "metadata": {},
   "source": [
    "INPUT SUBJECT INFORMATION:\n",
    "\n",
    "- model_id: choose between m1 -> m11 to select one of the detaset in the repository.\n",
    "- i_dim, o_dim: the input and output dimension ( 'mm' = millimeters, 'm' = meters )\n",
    "- o_format: a '.csv' file containing the bone anatomical measurements"
   ]
  },
  {
   "cell_type": "code",
   "execution_count": 2,
   "metadata": {},
   "outputs": [],
   "source": [
    "# model id\n",
    "model_id = 'm1'\n",
    "\n",
    "# dimensions \n",
    "i_dim  = 'mm'     \n",
    "o_dim  = 'mm'\n",
    "\n",
    "# suffix\n",
    "i_format = '.obj'\n",
    "o_format = '.csv'"
   ]
  },
  {
   "cell_type": "markdown",
   "metadata": {},
   "source": [
    "DIRECTORIES and PATHS:\n",
    "- main_dir: locate this directory to where the libhip repository is cloned to.\n",
    "- i_dir:  the directory of the input bone surface mesh files.\n",
    "- anatomical_dir: the directory of the anatomical measurements of the bone and cartilage models.\n",
    "- config_path: path to the subject-specific parameters to measure the lowest point of the femur bone from."
   ]
  },
  {
   "cell_type": "code",
   "execution_count": 3,
   "metadata": {},
   "outputs": [],
   "source": [
    "main_dir = Path('..')\n",
    "\n",
    "i_dir     = main_dir/ 'model_generation'/ 'preprocessing_output'/ model_id\n",
    "ant_o_dir = main_dir/ 'model_generation'/ 'mid_outputs'/ 'ant_output'/ model_id\n",
    "o_dir     = main_dir/ 'model_generation'/ 'anatomical_info'\n",
    "    \n",
    "config_name  = model_id + '_config'\n",
    "config_path  = str((main_dir/ 'config'/ config_name).with_suffix('.yml'))\n",
    "config       = src.Config (config_path)\n",
    "\n",
    "lh_fc_p_path = str(ant_o_dir) +'/' + model_id + '_lhj_fc_base_faces.npy'\n",
    "rh_fc_p_path = str(ant_o_dir) +'/' + model_id + '_rhj_fc_base_faces.npy'"
   ]
  },
  {
   "cell_type": "code",
   "execution_count": 4,
   "metadata": {},
   "outputs": [],
   "source": [
    "# bone input paths\n",
    "i_bone_tag = model_id + '_clean_'\n",
    "\n",
    "i_sacrum  = i_bone_tag + 'sacrum_'  + i_dim\n",
    "i_lpelvis = i_bone_tag + 'lpelvis_' + i_dim\n",
    "i_rpelvis = i_bone_tag + 'rpelvis_' + i_dim\n",
    "i_lfemur  = i_bone_tag + 'lfemur_'  + i_dim\n",
    "i_rfemur  = i_bone_tag + 'rfemur_'  + i_dim\n",
    "\n",
    "i_sacrum_path  = str((i_dir/ i_sacrum).with_suffix(i_format))\n",
    "i_lpelvis_path = str((i_dir/ i_lpelvis).with_suffix(i_format))\n",
    "i_rpelvis_path = str((i_dir/ i_rpelvis).with_suffix(i_format))\n",
    "i_lfemur_path  = str((i_dir/ i_lfemur).with_suffix(i_format))\n",
    "i_rfemur_path  = str((i_dir/ i_rfemur).with_suffix(i_format))"
   ]
  },
  {
   "cell_type": "code",
   "execution_count": 5,
   "metadata": {},
   "outputs": [
    {
     "name": "stdout",
     "output_type": "stream",
     "text": [
      "number of faces after reading 46456\n",
      "number of faces after reading 35806\n",
      "number of faces after reading 35600\n",
      "number of faces after reading 24966\n",
      "number of faces after reading 25366\n"
     ]
    }
   ],
   "source": [
    "s_vertices, s_faces  = src.read (i_sacrum_path, i_dim) \n",
    "lp_vertices,lp_faces = src.read (i_lpelvis_path, i_dim)\n",
    "rp_vertices,rp_faces = src.read (i_rpelvis_path, i_dim) \n",
    "lf_vertices,lf_faces = src.read (i_lfemur_path, i_dim)\n",
    "rf_vertices,rf_faces = src.read (i_rfemur_path, i_dim) "
   ]
  },
  {
   "cell_type": "markdown",
   "metadata": {},
   "source": [
    "## The hip joint center (HJC), the simplified radius (SR), and the actual radius (AR)\n",
    "We fit a sphere to the femoral head:\n",
    "- The center of this sphere is considered as the hip joint center (HJC).\n",
    "- The radius of this sphere is considered as the simplified femoral head radius (SR).\n",
    "- We measure the distance from the HJC to the actual femoral head surface mesh (AR) to see how the geometry\n",
    "of the femoral head deviates from a sphere. To this purpose, we first separate the relative portion of the femoral head."
   ]
  },
  {
   "cell_type": "code",
   "execution_count": 6,
   "metadata": {},
   "outputs": [
    {
     "name": "stdout",
     "output_type": "stream",
     "text": [
      "the left hip joint center (HJC): [  85.91   19.62 -578.28] mm\n",
      "the right hip joint center (HJC) [ -86.49   24.58 -583.51] mm\n",
      "the left simplified femoral head radius (SR): 26.95 mm\n",
      "the right simplified femoral head radius (SR): 27.88 mm\n"
     ]
    },
    {
     "data": {
      "application/vnd.jupyter.widget-view+json": {
       "model_id": "586136a1d4d543d2a9529202598bd7cf",
       "version_major": 2,
       "version_minor": 0
      },
      "text/plain": [
       "Renderer(camera=PerspectiveCamera(children=(DirectionalLight(color='white', intensity=0.6, position=(-103.6234…"
      ]
     },
     "metadata": {},
     "output_type": "display_data"
    },
    {
     "data": {
      "text/plain": [
       "3"
      ]
     },
     "execution_count": 6,
     "metadata": {},
     "output_type": "execute_result"
    }
   ],
   "source": [
    "def fit_sphere_femur(vertices):\n",
    "\n",
    "    # fit a sphere to ROi\n",
    "    c, r2 = miniball.get_bounding_ball(vertices)\n",
    "    r     = np.round(np.sqrt(r2),2)\n",
    "    c1    = np.round(c,2)\n",
    "\n",
    "    # create the sphere for femur\n",
    "    s_vertices, s_faces   = create_sphere ( r, 50, 50 )\n",
    "\n",
    "    s_vertices  = s_vertices + c\n",
    "\n",
    "    return s_vertices, s_faces, c1, r\n",
    "\n",
    "lh_fc_p_faces = np.load (lh_fc_p_path, allow_pickle=True)\n",
    "rh_fc_p_faces = np.load (rh_fc_p_path, allow_pickle=True)\n",
    "\n",
    "lsphr_vertices, lsphr_faces, l_hjc, l_sr = fit_sphere_femur(lh_fc_p_faces)\n",
    "rsphr_vertices, rsphr_faces, r_hjc, r_sr = fit_sphere_femur(rh_fc_p_faces)\n",
    "\n",
    "print ('the left hip joint center (HJC):',l_hjc, 'mm' )\n",
    "print ('the right hip joint center (HJC)',r_hjc, 'mm' )\n",
    "\n",
    "print ('the left simplified femoral head radius (SR):', l_sr, 'mm')\n",
    "print ('the right simplified femoral head radius (SR):', r_sr, 'mm')\n",
    "    \n",
    "frame = mp.plot(rf_vertices, rf_faces, c=src.bone, shading=src.sh_false)\n",
    "frame.add_mesh(rsphr_vertices, rsphr_faces, c=src.sweet_pink, shading=src.sh_false)\n",
    "frame.add_mesh(lsphr_vertices, lsphr_faces, c=src.sweet_pink, shading=src.sh_false)\n",
    "frame.add_mesh(lf_vertices, lf_faces, c=src.bone, shading=src.sh_false)\n",
    "\n"
   ]
  },
  {
   "cell_type": "code",
   "execution_count": 7,
   "metadata": {},
   "outputs": [],
   "source": [
    "# left side\n",
    "tetra = wm.Tetrahedralizer(epsilon=0.001, edge_length_r=0.1)\n",
    "tetra.set_meshes([lf_vertices,lsphr_vertices],[lf_faces,lsphr_faces])\n",
    "tetra.tetrahedralize()\n",
    "\n",
    "lfh_v, lfh_t = tetra.get_tet_mesh_from_csg(json.dumps({\"operation\":\"intersection\", \"left\": 1, \"right\": 0}))\n",
    "lfh_v, lfh_t, _, _ = igl.remove_unreferenced(lfh_v, lfh_t)\n",
    "lfh_f = igl.boundary_facets(lfh_t)\n",
    "lfh_faces = np.copy(lfh_f)\n",
    "lfh_faces[:, [0, 1]] = lfh_faces[:, [1, 0]]\n",
    "lfh_vertices, lfh_faces = src.clean(lfh_v, lfh_faces)\n",
    "\n",
    "# right side\n",
    "tetra = wm.Tetrahedralizer(epsilon=0.001, edge_length_r=0.1)\n",
    "tetra.set_meshes([rf_vertices,rsphr_vertices],[rf_faces,rsphr_faces])\n",
    "tetra.tetrahedralize()\n",
    "\n",
    "rfh_v, rfh_t = tetra.get_tet_mesh_from_csg(json.dumps({\"operation\":\"intersection\", \"left\": 1, \"right\": 0}))\n",
    "rfh_v, rfh_t, _, _ = igl.remove_unreferenced(rfh_v, rfh_t)\n",
    "rfh_f = igl.boundary_facets(rfh_t)\n",
    "rfh_faces = np.copy(rfh_f)\n",
    "rfh_faces[:, [0, 1]] = rfh_faces[:, [1, 0]]\n",
    "rfh_vertices, rfh_faces = src.clean(rfh_v, rfh_faces)\n",
    "\n",
    "# frame = mp.plot(rfh_vertices, rfh_faces, c = src.bone, shading = src.sh_true)\n",
    "# frame.add_mesh(lfh_vertices, lfh_faces, c = src.bone, shading = src.sh_true)"
   ]
  },
  {
   "cell_type": "code",
   "execution_count": 8,
   "metadata": {},
   "outputs": [
    {
     "name": "stdout",
     "output_type": "stream",
     "text": [
      "the mean AR in the left femoral head 26.15\n",
      "the mean AR in the right femoral head 26.91\n"
     ]
    }
   ],
   "source": [
    "# left side\n",
    "lfh_bc = igl.barycenter(lfh_vertices, lfh_faces)\n",
    "\n",
    "l_ar = []\n",
    "for i in lfh_bc:\n",
    "    ldis = np.sqrt((l_hjc[0]-i[0])**2 + (l_hjc[1]-i[1])**2 + (l_hjc[2]-i[2])**2)\n",
    "    l_ar.append(ldis)\n",
    "l_ar = np.array(l_ar)\n",
    "\n",
    "l_ar_mean = np.mean(l_ar)    \n",
    "    \n",
    "# lfemoral head radius\n",
    "rfh_bc = igl.barycenter(rfh_vertices, rfh_faces)\n",
    "\n",
    "r_ar = []\n",
    "for i in rfh_bc:\n",
    "    rdis = np.sqrt((r_hjc[0]-i[0])**2 + (r_hjc[1]-i[1])**2 + (r_hjc[2]-i[2])**2)\n",
    "    r_ar.append(rdis)\n",
    "r_ar = np.array(r_ar)\n",
    "\n",
    "r_ar_mean = np.mean(r_ar)\n",
    "\n",
    "print('the mean AR in the left femoral head', np.round(l_ar_mean,2))\n",
    "print('the mean AR in the right femoral head', np.round(r_ar_mean,2))"
   ]
  },
  {
   "cell_type": "code",
   "execution_count": 9,
   "metadata": {
    "scrolled": false
   },
   "outputs": [
    {
     "data": {
      "image/png": "[encoded data removed]",
      "text/plain": [
       "<Figure size 640x480 with 1 Axes>"
      ]
     },
     "metadata": {},
     "output_type": "display_data"
    },
    {
     "data": {
      "image/png": "[encoded data removed]",
      "text/plain": [
       "<Figure size 640x480 with 1 Axes>"
      ]
     },
     "metadata": {},
     "output_type": "display_data"
    }
   ],
   "source": [
    "fig, ax = plt.subplots()\n",
    "\n",
    "# histogram\n",
    "num_bins = 100\n",
    "n, bins, patches = ax.hist(l_ar, num_bins, density=True, color=src.dark_bone, label='L-AR')\n",
    "\n",
    "plt.axvline(l_sr, color=src.dark_red, linestyle='dashed', linewidth=1.6,label='L-SR')\n",
    "plt.legend(loc='upper left')\n",
    "plt.grid(color=np.array([128, 128, 128])/255., linestyle='-', linewidth=0.3)\n",
    "\n",
    "plt.show()\n",
    "\n",
    "fig, ax = plt.subplots()\n",
    "\n",
    "# histogram\n",
    "num_bins = 100\n",
    "n, bins, patches = ax.hist(r_ar, num_bins, density=True, color=src.dark_bone, label='R-AR')\n",
    "\n",
    "plt.axvline(r_sr, color=src.dark_red, linestyle='dashed', linewidth=1.6,label='R-SR')\n",
    "plt.legend(loc='upper left')\n",
    "plt.grid(color=np.array([128, 128, 128])/255., linestyle='-', linewidth=0.3)\n",
    "\n",
    "plt.show()\n"
   ]
  },
  {
   "cell_type": "markdown",
   "metadata": {},
   "source": [
    "## The visible femur length (VFL)\n",
    "We define the visible femur length as the length of the line connecting the most proximal point of the femur to the mid-point of the most distal part of the same bone"
   ]
  },
  {
   "cell_type": "code",
   "execution_count": 10,
   "metadata": {},
   "outputs": [
    {
     "name": "stdout",
     "output_type": "stream",
     "text": [
      "The visible left femoral length: 232.66 mm\n",
      "The visible right femoral length: 228.31 mm\n"
     ]
    },
    {
     "data": {
      "application/vnd.jupyter.widget-view+json": {
       "model_id": "7ca178359eca42ddac6532c08b486f55",
       "version_major": 2,
       "version_minor": 0
      },
      "text/plain": [
       "Renderer(camera=PerspectiveCamera(children=(DirectionalLight(color='white', intensity=0.6, position=(103.94103…"
      ]
     },
     "metadata": {},
     "output_type": "display_data"
    },
    {
     "data": {
      "text/plain": [
       "7"
      ]
     },
     "execution_count": 10,
     "metadata": {},
     "output_type": "execute_result"
    }
   ],
   "source": [
    "# the most proximal point in the femur\n",
    "lf_prox_vertex_idx = np.where(lf_vertices[:,2] == np.max(lf_vertices[:,2]))[0]\n",
    "lf_prox = lf_vertices[lf_prox_vertex_idx]\n",
    "\n",
    "rf_prox_vertex_idx = np.where(rf_vertices[:,2] == np.max(rf_vertices[:,2]))[0]\n",
    "rf_prox = rf_vertices[rf_prox_vertex_idx]\n",
    "\n",
    "# the most distal part of the femur bones ( this data is measured from the CT scans)\n",
    "config_ant = config.ant_var\n",
    "\n",
    "lf_dist_x  = config_ant.l_distal_midpoint_x\n",
    "lf_dist_y  = config_ant.l_distal_midpoint_y\n",
    "lf_dist_z  = config_ant.l_distal_midpoint_z\n",
    "\n",
    "rf_dist_x  = config_ant.r_distal_midpoint_x\n",
    "rf_dist_y  = config_ant.r_distal_midpoint_y\n",
    "rf_dist_z  = config_ant.r_distal_midpoint_z\n",
    "\n",
    "l_vfl = np.sqrt((lf_prox[0,0]-lf_dist_x)**2 + (lf_prox[0,1]-lf_dist_y)**2 + (lf_prox[0,2]-lf_dist_z)**2)\n",
    "r_vfl = np.sqrt((rf_prox[0,0]-rf_dist_x)**2 + (rf_prox[0,1]-rf_dist_y)**2 + (rf_prox[0,2]-rf_dist_z)**2)\n",
    "\n",
    "print('The visible left femoral length:',np.round(l_vfl,2), 'mm')\n",
    "print('The visible right femoral length:',np.round(r_vfl,2), 'mm')\n",
    "\n",
    "frame = mp.plot(lf_vertices, lf_faces, c = src.bone, shading = src.sh_false)\n",
    "frame.add_points(np.array([[lf_dist_x, lf_dist_y,lf_dist_z]]), shading={\"point_size\": 30, \"point_color\": \"red\"})\n",
    "frame.add_points(np.array([lf_prox]), shading={\"point_size\": 30, \"point_color\": \"red\"})\n",
    "frame.add_lines(np.array([[lf_dist_x, lf_dist_y,lf_dist_z]]), lf_prox, shading={\"line_color\": \"red\"})\n",
    "\n",
    "frame.add_mesh(rf_vertices, rf_faces, c = src.bone, shading = src.sh_false)\n",
    "frame.add_points(np.array([[rf_dist_x,rf_dist_y,rf_dist_z]]), shading={\"point_size\": 30, \"point_color\": \"red\"})\n",
    "frame.add_points(np.array([rf_prox]), shading={\"point_size\": 30, \"point_color\": \"red\"})\n",
    "frame.add_lines(np.array([[rf_dist_x,rf_dist_y,rf_dist_z]]), rf_prox, shading={\"line_color\": \"red\"})\n",
    "    "
   ]
  },
  {
   "cell_type": "markdown",
   "metadata": {},
   "source": [
    "## The interhip separation (IHS)\n",
    "The Inter-hip separation is assumed as the distance between the paired hip joint centers"
   ]
  },
  {
   "cell_type": "code",
   "execution_count": 11,
   "metadata": {},
   "outputs": [
    {
     "name": "stdout",
     "output_type": "stream",
     "text": [
      "the length of the interhip separation is: 172.55\n"
     ]
    },
    {
     "data": {
      "application/vnd.jupyter.widget-view+json": {
       "model_id": "bcf17e2076114f1ead3a430043e4eec3",
       "version_major": 2,
       "version_minor": 0
      },
      "text/plain": [
       "Renderer(camera=PerspectiveCamera(children=(DirectionalLight(color='white', intensity=0.6, position=(71.973256…"
      ]
     },
     "metadata": {},
     "output_type": "display_data"
    },
    {
     "data": {
      "text/plain": [
       "4"
      ]
     },
     "execution_count": 11,
     "metadata": {},
     "output_type": "execute_result"
    }
   ],
   "source": [
    "ihs = np.sqrt((l_hjc[0]-r_hjc[0])**2 + (l_hjc[1]-r_hjc[1])**2 + (l_hjc[2]-r_hjc[2])**2)\n",
    "\n",
    "print('the length of the interhip separation is:' , np.round(ihs,2))\n",
    "\n",
    "frame = mp.plot( lp_vertices, lp_faces, c = src.bone, shading = src.sh_false )\n",
    "frame.add_mesh(rp_vertices, rp_faces, c = src.bone, shading = src.sh_false)\n",
    "frame.add_lines(l_hjc, r_hjc, shading={\"line_color\": \"green\"})\n",
    "frame.add_points(np.array([l_hjc]), shading={\"point_size\": 30, \"point_color\": \"green\"})\n",
    "frame.add_points(np.array([r_hjc]), shading={\"point_size\": 30, \"point_color\": \"green\"})\n"
   ]
  },
  {
   "cell_type": "markdown",
   "metadata": {},
   "source": [
    "## The height of ilium (IH)\n",
    "The height of ilium is the vertical distance between the most superior part of the hip bones and the hip joint center."
   ]
  },
  {
   "cell_type": "code",
   "execution_count": 12,
   "metadata": {
    "scrolled": false
   },
   "outputs": [
    {
     "name": "stdout",
     "output_type": "stream",
     "text": [
      "hegiht of left ilium 153.71\n",
      "hegiht of right ilium 156.57\n"
     ]
    },
    {
     "data": {
      "application/vnd.jupyter.widget-view+json": {
       "model_id": "a9738ff82a934eb69d0868edb3e519ee",
       "version_major": 2,
       "version_minor": 0
      },
      "text/plain": [
       "Renderer(camera=PerspectiveCamera(children=(DirectionalLight(color='white', intensity=0.6, position=(71.973256…"
      ]
     },
     "metadata": {},
     "output_type": "display_data"
    },
    {
     "data": {
      "text/plain": [
       "11"
      ]
     },
     "execution_count": 12,
     "metadata": {},
     "output_type": "execute_result"
    }
   ],
   "source": [
    "lpp_idx = np.where(lp_vertices[:,2] == np.max(lp_vertices[:,2]))[0]\n",
    "rpp_idx = np.where(rp_vertices[:,2] == np.max(rp_vertices[:,2]))[0]\n",
    "\n",
    "lpp = lp_vertices[lpp_idx]\n",
    "rpp = rp_vertices[rpp_idx]\n",
    "\n",
    "l_ih = lpp[0,2] - l_hjc[2]\n",
    "print('hegiht of left ilium', np.round(l_ih,2))\n",
    "\n",
    "r_ih = rpp[0,2] - r_hjc[2]\n",
    "print('hegiht of right ilium', np.round(r_ih,2))\n",
    "\n",
    "l_ih_test = [lpp[0,0],lpp[0,1],l_hjc[2]]\n",
    "r_ih_test = [rpp[0,0],rpp[0,1],r_hjc[2]]\n",
    "\n",
    "frame = mp.plot( lp_vertices, lp_faces, c = src.bone, shading = src.sh_false )\n",
    "frame.add_mesh(rp_vertices, rp_faces, c = src.bone, shading = src.sh_false)\n",
    "frame.add_points(lpp, shading={\"point_size\": 30, \"point_color\": \"red\"})\n",
    "frame.add_points(rpp, shading={\"point_size\": 30, \"point_color\": \"red\"})\n",
    "frame.add_lines(lpp, np.array([l_hjc]), shading={\"line_color\": \"blue\"})\n",
    "frame.add_lines(lpp, np.array([l_ih_test]), shading={\"line_color\": \"black\"})\n",
    "frame.add_lines(rpp, np.array([r_ih_test]), shading={\"line_color\": \"black\"})\n",
    "frame.add_lines(rpp, np.array([r_hjc]), shading={\"line_color\": \"blue\"})\n",
    "frame.add_points(np.array([l_ih_test]), shading={\"point_size\": 30, \"point_color\": \"black\"})\n",
    "frame.add_points(np.array([r_ih_test]), shading={\"point_size\": 30, \"point_color\": \"black\"})\n",
    "frame.add_points(np.array([l_hjc]), shading={\"point_size\": 30, \"point_color\": \"green\"})\n",
    "frame.add_points(np.array([r_hjc]), shading={\"point_size\": 30, \"point_color\": \"green\"})\n"
   ]
  },
  {
   "cell_type": "markdown",
   "metadata": {},
   "source": [
    "## The width of ilium (IW)\n",
    "The width of ilium is defined by the horizontal distance between the hip joint center and the most lateral point of the hip bones"
   ]
  },
  {
   "cell_type": "code",
   "execution_count": 13,
   "metadata": {},
   "outputs": [
    {
     "name": "stdout",
     "output_type": "stream",
     "text": [
      "width of left ilium 56.8\n",
      "width of right ilium 61.06\n"
     ]
    },
    {
     "data": {
      "application/vnd.jupyter.widget-view+json": {
       "model_id": "3a6eb12aedb94d2394ba06badda53f86",
       "version_major": 2,
       "version_minor": 0
      },
      "text/plain": [
       "Renderer(camera=PerspectiveCamera(children=(DirectionalLight(color='white', intensity=0.6, position=(71.973256…"
      ]
     },
     "metadata": {},
     "output_type": "display_data"
    },
    {
     "data": {
      "text/plain": [
       "11"
      ]
     },
     "execution_count": 13,
     "metadata": {},
     "output_type": "execute_result"
    }
   ],
   "source": [
    "lh_lateral_idx = np.where(lp_vertices[:,0] == np.max(lp_vertices[:,0]))[0]\n",
    "lh_lateral = lp_vertices[lh_lateral_idx]\n",
    "\n",
    "rh_lateral_idx = np.where(rp_vertices[:,0] == np.min(rp_vertices[:,0]))[0]\n",
    "rh_lateral = rp_vertices[rh_lateral_idx]\n",
    "\n",
    "l_iw  =  lh_lateral[0,0]- l_hjc[0]\n",
    "print('width of left ilium',np.round(l_iw,2))\n",
    "\n",
    "r_iw  =  r_hjc[0] -  rh_lateral[0,0]\n",
    "print('width of right ilium',np.round(r_iw,2))\n",
    "\n",
    "l_iw_test = [lh_lateral[0,0],l_hjc[1],l_hjc[2]]\n",
    "r_iw_test = [rh_lateral[0,0],r_hjc[1],r_hjc[2]]\n",
    "\n",
    "frame = mp.plot(lp_vertices, lp_faces, c = src.bone, shading = src.sh_false)\n",
    "frame.add_mesh(rp_vertices, rp_faces, c = src.bone, shading = src.sh_false)\n",
    "frame.add_points(np.array([l_hjc]), shading={\"point_size\": 30, \"point_color\": \"red\"})\n",
    "frame.add_points(np.array([r_hjc]), shading={\"point_size\": 30, \"point_color\": \"red\"})\n",
    "frame.add_lines(np.array([l_hjc]), np.array([l_iw_test]), shading={\"line_color\": \"black\"})\n",
    "frame.add_lines(np.array([r_hjc]), np.array([r_iw_test]), shading={\"line_color\": \"black\"})\n",
    "frame.add_lines(np.array([l_hjc]), lh_lateral, shading={\"line_color\": \"blue\"})\n",
    "frame.add_lines(np.array([r_hjc]), rh_lateral, shading={\"line_color\": \"blue\"})\n",
    "frame.add_points(lh_lateral, shading={\"point_size\": 30, \"point_color\": \"blue\"})\n",
    "frame.add_points(rh_lateral, shading={\"point_size\": 30, \"point_color\": \"blue\"})\n",
    "frame.add_points(np.array([l_iw_test]), shading={\"point_size\": 30, \"point_color\": \"black\"})\n",
    "frame.add_points(np.array([r_iw_test]), shading={\"point_size\": 30, \"point_color\": \"black\"})\n"
   ]
  },
  {
   "cell_type": "markdown",
   "metadata": {},
   "source": [
    "## Width of the pelvis (PW)\n",
    "The width of the pelvis is explained as the distance between the most lateral point of the hip bones"
   ]
  },
  {
   "cell_type": "code",
   "execution_count": 14,
   "metadata": {
    "scrolled": false
   },
   "outputs": [
    {
     "name": "stdout",
     "output_type": "stream",
     "text": [
      "width of the pelvis 290.34\n"
     ]
    },
    {
     "data": {
      "application/vnd.jupyter.widget-view+json": {
       "model_id": "64bc66432c194b4ca494fb7e248ebae5",
       "version_major": 2,
       "version_minor": 0
      },
      "text/plain": [
       "Renderer(camera=PerspectiveCamera(children=(DirectionalLight(color='white', intensity=0.6, position=(71.973256…"
      ]
     },
     "metadata": {},
     "output_type": "display_data"
    },
    {
     "data": {
      "text/plain": [
       "4"
      ]
     },
     "execution_count": 14,
     "metadata": {},
     "output_type": "execute_result"
    }
   ],
   "source": [
    "pw = np.sqrt((lh_lateral[0,0]-rh_lateral[0,0])**2 + (lh_lateral[0,1]-rh_lateral[0,1])**2 + (lh_lateral[0,2]-rh_lateral[0,2])**2)\n",
    "print('width of the pelvis',np.round(pw,2))\n",
    "\n",
    "frame = mp.plot(lp_vertices, lp_faces, c = src.bone, shading = src.sh_false )\n",
    "frame.add_mesh(rp_vertices, rp_faces, c = src.bone, shading = src.sh_false)\n",
    "frame.add_points(lh_lateral, shading={\"point_size\": 30, \"point_color\": \"blue\"})\n",
    "frame.add_points(rh_lateral, shading={\"point_size\": 30, \"point_color\": \"blue\"})\n",
    "frame.add_lines(lh_lateral, rh_lateral, shading={\"line_color\": \"blue\"})\n"
   ]
  },
  {
   "cell_type": "markdown",
   "metadata": {},
   "source": []
  },
  {
   "cell_type": "code",
   "execution_count": 15,
   "metadata": {
    "scrolled": false
   },
   "outputs": [
    {
     "name": "stdout",
     "output_type": "stream",
     "text": [
      "                      Bone_anatomical_info  \\\n",
      "0                  The Interhip Separation   \n",
      "1          Height of the Left Ilium (L_IH)   \n",
      "2         Height of the Right Ilium (L_IH)   \n",
      "3           Width of the Left Ilium (L_IW)   \n",
      "4          Width of the Right Ilium (R_IW)   \n",
      "5                 Width of the pelvis (PW)   \n",
      "6        The Left Hip Joint Center (L_HJC)   \n",
      "7       The Right Hip Joint Center (R_HJC)   \n",
      "8        The Left Simplified Radius (L_SR)   \n",
      "9       The Right Simplified Radius (R_SR)   \n",
      "10    The Left Mean Actual Radius (L_M_AR)   \n",
      "11   The Right Mean Actual Radius (R_M_AR)   \n",
      "12         The Left Femur Distal Mid-point   \n",
      "13        The Right Femur Distal Mid-point   \n",
      "14   The Visible Left Femur Length (L_VFL)   \n",
      "15  The Visible Right Femur Length (R_VFL)   \n",
      "\n",
      "                                               m1  \n",
      "0                                          172.55  \n",
      "1                                          153.71  \n",
      "2                                          156.57  \n",
      "3                                            56.8  \n",
      "4                                           61.06  \n",
      "5                                          290.34  \n",
      "6                         [85.91, 19.62, -578.28]  \n",
      "7                        [-86.49, 24.58, -583.51]  \n",
      "8                                           26.95  \n",
      "9                                           27.88  \n",
      "10                                           26.0  \n",
      "11                                           27.0  \n",
      "12   [[126.83071601, 25.33372216, -782.94000244]]  \n",
      "13  [[-120.60079794, 28.15702945, -782.94000244]]  \n",
      "14                                         232.66  \n",
      "15                                         228.31  \n"
     ]
    }
   ],
   "source": [
    "bone_df = {'Bone_anatomical_info':['The Interhip Separation', 'Height of the Left Ilium (L_IH)', 'Height of the Right Ilium (L_IH)', \n",
    "                      'Width of the Left Ilium (L_IW)','Width of the Right Ilium (R_IW)','Width of the pelvis (PW)',\n",
    "                      'The Left Hip Joint Center (L_HJC)','The Right Hip Joint Center (R_HJC)', 'The Left Simplified Radius (L_SR)', 'The Right Simplified Radius (R_SR)',\n",
    "                     'The Left Mean Actual Radius (L_M_AR)','The Right Mean Actual Radius (R_M_AR)',\n",
    "                           'The Left Femur Distal Mid-point','The Right Femur Distal Mid-point',\n",
    "                      'The Visible Left Femur Length (L_VFL)', 'The Visible Right Femur Length (R_VFL)'\n",
    "                     ],\n",
    "        model_id:[np.round(ihs,2), np.round(l_ih,2), np.round(r_ih,2), \n",
    "                    np.round(l_iw,2), np.round(r_iw,2),np.round(pw,2),\n",
    "                    np.round(l_hjc,2), np.round(r_hjc,2),np.round(l_sr,2),np.round(r_sr,2),\n",
    "                    np.round(l_ar_mean),np.round(r_ar_mean),\n",
    "                    np.array([[lf_dist_x, lf_dist_y,lf_dist_z]]),np.array([[rf_dist_x, rf_dist_y,rf_dist_z]]),\n",
    "                    np.round(l_vfl,2),np.round(r_vfl,2)\n",
    "                   ]}\n",
    "# Print the output \n",
    "bone_df = pd.DataFrame(bone_df)\n",
    "print(bone_df)\n",
    "    \n",
    "bone_dfn = model_id + '_bone_ant'\n",
    "path = str((o_dir/bone_dfn).with_suffix(o_format))\n",
    "\n",
    "bone_df.to_csv(path)"
   ]
  },
  {
   "cell_type": "code",
   "execution_count": null,
   "metadata": {},
   "outputs": [],
   "source": []
  }
 ],
 "metadata": {
  "kernelspec": {
   "display_name": "Python 3",
   "language": "python",
   "name": "python3"
  },
  "language_info": {
   "codemirror_mode": {
    "name": "ipython",
    "version": 3
   },
   "file_extension": ".py",
   "mimetype": "text/x-python",
   "name": "python",
   "nbconvert_exporter": "python",
   "pygments_lexer": "ipython3",
   "version": "3.8.11"
  },
  "toc": {
   "base_numbering": 1,
   "nav_menu": {},
   "number_sections": true,
   "sideBar": true,
   "skip_h1_title": false,
   "title_cell": "Table of Contents",
   "title_sidebar": "Contents",
   "toc_cell": false,
   "toc_position": {
    "height": "calc(100% - 180px)",
    "left": "10px",
    "top": "150px",
    "width": "209px"
   },
   "toc_section_display": true,
   "toc_window_display": true
  }
 },
 "nbformat": 4,
 "nbformat_minor": 4
}
