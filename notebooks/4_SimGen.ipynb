{
 "cells": [
  {
   "cell_type": "markdown",
   "metadata": {},
   "source": [
    "# Xml-file Generation for Simulation ( hip joint without gap ) <a class=\"tocSkip\"> \n",
    "This notebook explains a method to create a xml file of the finite element model"
   ]
  },
  {
   "cell_type": "markdown",
   "metadata": {},
   "source": [
    "# imports and user-defined properties"
   ]
  },
  {
   "cell_type": "code",
   "execution_count": 1,
   "metadata": {},
   "outputs": [],
   "source": [
    "import numpy as np\n",
    "import meshplot as mp\n",
    "from pathlib import Path\n",
    "import os\n",
    "import igl\n",
    "import xml.etree.ElementTree as ET\n",
    "import xml.dom.minidom\n",
    "import matplotlib.pyplot as plt\n",
    "import sys\n",
    "\n",
    "sys.path.append(str(Path.home()/'Documents'/'Github'/'libhip'))\n",
    "sys.path.append('../')\n",
    "\n",
    "import src"
   ]
  },
  {
   "cell_type": "markdown",
   "metadata": {},
   "source": [
    "INPUT SUBJECT INFORMATION:\n",
    "- subject_id = choose between m1 -> m11 to select one of the detaset in the repository.\n",
    "- user-defined names: these names belong to input bone models. 'l' and 'r' refer to the 'left' and the 'right' side of the body.\n",
    "- i_dim, o_dim: the input and output dimension ( 'mm' = millimeters, 'm' = meters )\n",
    "- o_format: the format you want the files to be save at ( '.obj' , '.stl' )"
   ]
  },
  {
   "cell_type": "code",
   "execution_count": 2,
   "metadata": {},
   "outputs": [],
   "source": [
    "# do you want coarse or fine mesh?\n",
    "coarse = True\n",
    "\n",
    "if coarse:\n",
    "    density = '_coarse'\n",
    "else:\n",
    "    density = '_fine'\n",
    "\n",
    "# subject id\n",
    "subject_id = 'm1'  \n",
    "folder_tag = subject_id + density\n",
    "\n",
    "# dimensions \n",
    "i_dim  = 'mm'     \n",
    "o_dim  = 'm'\n",
    "\n",
    "# file format and suffix\n",
    "vol_i_format  = '.msh'\n",
    "surf_i_format = '.npy'\n",
    "o_format      = '.feb'"
   ]
  },
  {
   "cell_type": "markdown",
   "metadata": {},
   "source": [
    "DIRECTORIES and PATHS:\n",
    "- main_dir: locate this directory to where the libhip repository is cloned to.\n",
    "- ftetwild_dir: locate this path to the 'build' folder of ftetwild.\n",
    "- i_dir:  locate this directory to the input bone surface mesh files.\n",
    "- o_dir:  locate this directory to where you. want the cleaned and remeshed bone models to be saved at."
   ]
  },
  {
   "cell_type": "code",
   "execution_count": 3,
   "metadata": {},
   "outputs": [],
   "source": [
    "# input and output\n",
    "main_dir = Path('..')\n",
    "i_dir    = main_dir/ 'model_generation'/ 'volgen_output'/ folder_tag\n",
    "o_dir    = main_dir/ 'model_generation'/ 'simulation_output'/ folder_tag\n",
    "\n",
    "# remove all files inside output directory if it exists, otherwise create it\n",
    "if o_dir.is_dir():\n",
    "    for file in o_dir.iterdir():\n",
    "        if file.is_file():\n",
    "            file.unlink()\n",
    "else:\n",
    "    o_dir.mkdir(exist_ok=False)"
   ]
  },
  {
   "cell_type": "code",
   "execution_count": 4,
   "metadata": {},
   "outputs": [],
   "source": [
    "# input paths - volume meshes\n",
    "input_pg_wg   = subject_id + '_girdle_wog'   + density\n",
    "input_legL_wg = subject_id + '_left_leg_wog' + density\n",
    "input_legR_wg = subject_id + '_right_leg_wog'+ density\n",
    "\n",
    "input_pg_wg_path   = str((i_dir/ input_pg_wg).with_suffix(vol_i_format).resolve())\n",
    "input_legL_wg_path = str((i_dir/ input_legL_wg).with_suffix(vol_i_format).resolve())\n",
    "input_legR_wg_path = str((i_dir/ input_legR_wg).with_suffix(vol_i_format).resolve())\n",
    "\n",
    "# input paths - contact surfaces\n",
    "lmaster = input_pg_wg   + '_lsliding_faces'\n",
    "rmaster = input_pg_wg   + '_rsliding_faces'\n",
    "lslave  = input_legL_wg + '_sliding_faces'\n",
    "rslave  = input_legR_wg + '_sliding_faces'\n",
    "\n",
    "lmaster_path = str((i_dir/ lmaster).with_suffix(surf_i_format).resolve())\n",
    "rmaster_path = str((i_dir/ rmaster).with_suffix(surf_i_format).resolve())\n",
    "lslave_path  = str((i_dir/ lslave) .with_suffix(surf_i_format).resolve())\n",
    "rslave_path  = str((i_dir/ rslave) .with_suffix(surf_i_format).resolve())\n",
    "\n",
    "# input paths - element lengths\n",
    "len_pg   = input_pg_wg   + '_element_idxs_list'\n",
    "len_legL = input_legL_wg + '_element_idxs_list'\n",
    "len_legR = input_legR_wg + '_element_idxs_list'\n",
    "\n",
    "len_pg_path   = str((i_dir/ len_pg)  .with_suffix(surf_i_format).resolve())\n",
    "len_legL_path = str((i_dir/ len_legL).with_suffix(surf_i_format).resolve())\n",
    "len_legR_path = str((i_dir/ len_legR).with_suffix(surf_i_format).resolve())\n",
    "\n",
    "# input path - fixed surfaces as boundary conditions\n",
    "fix_pg     = input_pg_wg   + '_sacrum_minus_sharing_interfaces'\n",
    "fix_lfemur = input_legL_wg + '_femur_faces'\n",
    "fix_rfemur = input_legR_wg + '_femur_faces'\n",
    "\n",
    "fix_pg_path = str((i_dir/ fix_pg).with_suffix(surf_i_format).resolve())\n",
    "fix_lfemur_path = str((i_dir/ fix_lfemur).with_suffix(surf_i_format).resolve())\n",
    "fix_rfemur_path = str((i_dir/ fix_rfemur).with_suffix(surf_i_format).resolve())"
   ]
  },
  {
   "cell_type": "code",
   "execution_count": 5,
   "metadata": {},
   "outputs": [],
   "source": [
    "# output path - simulation file\n",
    "output = folder_tag + '_wog_' + o_dim\n",
    "\n",
    "output_path = str((o_dir/ output).with_suffix(o_format).resolve())"
   ]
  },
  {
   "cell_type": "code",
   "execution_count": 6,
   "metadata": {},
   "outputs": [],
   "source": [
    "config_name  = subject_id + '_config'\n",
    "config_path  = str((main_dir/ 'config'/ config_name).with_suffix(\".yml\"))\n",
    "config       = src.Config (config_path)\n",
    "\n",
    "config_feb = config.sim_var\n",
    "\n",
    "lf_bottom = config_feb.lf_z_coord\n",
    "rf_bottom = config_feb.rf_z_coord"
   ]
  },
  {
   "cell_type": "markdown",
   "metadata": {},
   "source": [
    "## read input data"
   ]
  },
  {
   "cell_type": "code",
   "execution_count": 7,
   "metadata": {},
   "outputs": [],
   "source": [
    "# parts\n",
    "pg_vertices,  pg_elements   = src.read_volume_mesh(input_pg_wg_path,  i_dim, o_dim)\n",
    "legL_vertices,legL_elements = src.read_volume_mesh(input_legL_wg_path,i_dim, o_dim)\n",
    "legR_vertices,legR_elements = src.read_volume_mesh(input_legR_wg_path,i_dim, o_dim)\n",
    "\n",
    "# sliding_faces: master\n",
    "lmaster_faces = np.load (lmaster_path, allow_pickle=True)\n",
    "rmaster_faces = np.load (rmaster_path, allow_pickle=True)\n",
    "\n",
    "# sliding_faces: slave\n",
    "lslave_faces = np.load (lslave_path, allow_pickle=True)\n",
    "rslave_faces = np.load (rslave_path, allow_pickle=True)\n",
    "\n",
    "# fix pg\n",
    "fix_pg_faces  = np.load (fix_pg_path, allow_pickle=True)\n",
    "\n",
    "# fix femurs\n",
    "fix_lfemur_faces  = np.load (fix_lfemur_path, allow_pickle=True)\n",
    "fix_rfemur_faces  = np.load (fix_rfemur_path, allow_pickle=True)"
   ]
  },
  {
   "cell_type": "code",
   "execution_count": 8,
   "metadata": {},
   "outputs": [],
   "source": [
    "# merge nodes\n",
    "all_nodes = np.concatenate((pg_vertices, legL_vertices, legR_vertices))\n",
    "\n",
    "# merge elements\n",
    "all_elements = np.concatenate((pg_elements, \n",
    "                               legL_elements + len(pg_vertices), \n",
    "                               legR_elements  + len(pg_vertices) +len(legL_vertices)\n",
    "                              ))"
   ]
  },
  {
   "cell_type": "markdown",
   "metadata": {},
   "source": [
    "## element ids"
   ]
  },
  {
   "cell_type": "code",
   "execution_count": 9,
   "metadata": {},
   "outputs": [],
   "source": [
    "# element length\n",
    "len_pg   = np.load (len_pg_path, allow_pickle=True)\n",
    "len_legL = np.load (len_legL_path, allow_pickle=True)\n",
    "len_legR = np.load (len_legR_path, allow_pickle=True)\n",
    "\n",
    "Id_lsi_cart = len_pg[0]\n",
    "Id_rsi_cart = len_pg[1]\n",
    "Id_lpelvic_cart = len_pg[2]\n",
    "Id_rpelvic_cart = len_pg[3]\n",
    "Id_pubic_cart = len_pg[4]\n",
    "Id_sacrum_bone = len_pg[5]\n",
    "Id_lpelvis_bone = len_pg[6]\n",
    "Id_rpelvis_bone = len_pg[7]\n",
    "#\n",
    "Id_lfemoral_cart = len_legL[0]\n",
    "Id_lfemur_bone = len_legL[1]\n",
    "#\n",
    "Id_rfemoral_cart = len_legR[0]\n",
    "Id_rfemur_bone= len_legR[1]"
   ]
  },
  {
   "cell_type": "markdown",
   "metadata": {},
   "source": [
    "## show sliding surfaces"
   ]
  },
  {
   "cell_type": "code",
   "execution_count": 10,
   "metadata": {},
   "outputs": [
    {
     "data": {
      "application/vnd.jupyter.widget-view+json": {
       "model_id": "3f9851aa1d294569af69e3f5275bab00",
       "version_major": 2,
       "version_minor": 0
      },
      "text/plain": [
       "Renderer(camera=PerspectiveCamera(children=(DirectionalLight(color='white', intensity=0.6, position=(0.0003607…"
      ]
     },
     "metadata": {},
     "output_type": "display_data"
    },
    {
     "data": {
      "text/plain": [
       "4"
      ]
     },
     "execution_count": 10,
     "metadata": {},
     "output_type": "execute_result"
    }
   ],
   "source": [
    "frame = mp.plot (all_nodes, all_elements, c= src.bone, shading = src.sh_false  )\n",
    "frame.add_mesh(all_nodes,lmaster_faces, c= src.sweet_pink, shading = src.sh_false) \n",
    "frame.add_mesh(all_nodes,rmaster_faces, c= src.sweet_pink, shading = src.sh_false) \n",
    "frame.add_mesh(all_nodes,lslave_faces + len(pg_vertices), c= src.pastel_blue, shading = src.sh_false) \n",
    "frame.add_mesh(all_nodes,rslave_faces + len(pg_vertices)+ len(legL_vertices), c= src.pastel_blue, shading = src.sh_false) "
   ]
  },
  {
   "cell_type": "markdown",
   "metadata": {},
   "source": [
    "## visualize fixed nodes"
   ]
  },
  {
   "cell_type": "code",
   "execution_count": 11,
   "metadata": {
    "scrolled": false
   },
   "outputs": [
    {
     "data": {
      "application/vnd.jupyter.widget-view+json": {
       "model_id": "4f465daa486542f789cd1fc4a7429709",
       "version_major": 2,
       "version_minor": 0
      },
      "text/plain": [
       "Renderer(camera=PerspectiveCamera(children=(DirectionalLight(color='white', intensity=0.6, position=(0.0003607…"
      ]
     },
     "metadata": {},
     "output_type": "display_data"
    },
    {
     "data": {
      "text/plain": [
       "1"
      ]
     },
     "execution_count": 11,
     "metadata": {},
     "output_type": "execute_result"
    }
   ],
   "source": [
    "# left femur \n",
    "fix_pg_nodeset = np.unique(fix_pg_faces.flatten())\n",
    "\n",
    "frame = mp.plot (all_nodes, all_elements, c= src.bone, shading = src.sh_false  )\n",
    "frame.add_points(all_nodes[fix_pg_nodeset], shading = {\"point_color\": \"red\", \"point_size\": 0.01})"
   ]
  },
  {
   "cell_type": "markdown",
   "metadata": {},
   "source": [
    "## surfaces"
   ]
  },
  {
   "cell_type": "code",
   "execution_count": 12,
   "metadata": {},
   "outputs": [
    {
     "data": {
      "image/png": "[encoded data removed]",
      "text/plain": [
       "<Figure size 640x480 with 1 Axes>"
      ]
     },
     "metadata": {},
     "output_type": "display_data"
    },
    {
     "data": {
      "image/png": "[encoded data removed]",
      "text/plain": [
       "<Figure size 640x480 with 1 Axes>"
      ]
     },
     "metadata": {},
     "output_type": "display_data"
    },
    {
     "data": {
      "application/vnd.jupyter.widget-view+json": {
       "model_id": "70679119cd0a4426ac0c32494fa560b6",
       "version_major": 2,
       "version_minor": 0
      },
      "text/plain": [
       "Renderer(camera=PerspectiveCamera(children=(DirectionalLight(color='white', intensity=0.6, position=(0.0003607…"
      ]
     },
     "metadata": {},
     "output_type": "display_data"
    }
   ],
   "source": [
    "# left femur \n",
    "all_lfemur_faces = fix_lfemur_faces+len(pg_vertices)\n",
    "triangleL_centroids = igl.barycenter(all_nodes, all_lfemur_faces)\n",
    "lfemur_z_coord = triangleL_centroids[:,2]\n",
    "\n",
    "plt.hist(lfemur_z_coord)\n",
    "plt.show()\n",
    "\n",
    "lidxs = np.where (lfemur_z_coord < lf_bottom)[0]\n",
    "lfemur_fix_faces = all_lfemur_faces [lidxs]\n",
    "\n",
    "# right femur \n",
    "all_rfemur_faces = fix_rfemur_faces+len(pg_vertices)+len(legL_vertices)\n",
    "triangleR_centroids = igl.barycenter(all_nodes, all_rfemur_faces)\n",
    "rfemur_z_coord = triangleR_centroids[:,2]\n",
    "\n",
    "plt.hist(rfemur_z_coord)\n",
    "plt.show()\n",
    "\n",
    "ridxs = np.where (rfemur_z_coord < rf_bottom)[0]\n",
    "rfemur_fix_faces = all_rfemur_faces [ridxs]\n",
    "\n",
    "frame = mp.plot (all_nodes, all_elements, c= src.bone, shading = src.sh_false  )\n",
    "frame.add_mesh(all_nodes, lfemur_fix_faces, c= src.sweet_pink, shading = src.sh_false)\n",
    "frame.add_mesh(all_nodes, rfemur_fix_faces, c= src.sweet_pink, shading = src.sh_false)\n",
    "\n",
    "fix_lf_nodeset = np.unique(lfemur_fix_faces.flatten())\n",
    "fix_rf_nodeset = np.unique(rfemur_fix_faces.flatten())"
   ]
  },
  {
   "cell_type": "markdown",
   "metadata": {},
   "source": [
    "# index adjustments "
   ]
  },
  {
   "cell_type": "code",
   "execution_count": 13,
   "metadata": {},
   "outputs": [],
   "source": [
    "# object elements\n",
    "legL_elements = legL_elements + 1\n",
    "legR_elements = legR_elements + 1\n",
    "pg_elements   = pg_elements + 1\n",
    "\n",
    "all_elements  = all_elements + 1\n",
    "\n",
    "# sliding surfaces\n",
    "lmaster_faces  = lmaster_faces + 1\n",
    "rmaster_faces = rmaster_faces + 1\n",
    "lslave_faces = lslave_faces + 1\n",
    "rslave_faces = rslave_faces + 1\n",
    "\n",
    "# fixed surfaces\n",
    "fix_pg_nodeset = fix_pg_nodeset + 1\n",
    "fix_lf_nodeset = fix_lf_nodeset + 1\n",
    "fix_rf_nodeset = fix_rf_nodeset + 1"
   ]
  },
  {
   "cell_type": "markdown",
   "metadata": {},
   "source": [
    "# xml document"
   ]
  },
  {
   "cell_type": "code",
   "execution_count": 14,
   "metadata": {},
   "outputs": [
    {
     "data": {
      "text/plain": [
       "<Element 'Module' at 0x7f7e771499a0>"
      ]
     },
     "execution_count": 14,
     "metadata": {},
     "output_type": "execute_result"
    }
   ],
   "source": [
    "xml_doc = ET.Element('febio_spec', {'version':'2.5'})\n",
    "\n",
    "moduleData = {'type':'solid'}\n",
    "ET.SubElement(xml_doc,'Module', moduleData)\n"
   ]
  },
  {
   "cell_type": "markdown",
   "metadata": {},
   "source": [
    "## Control"
   ]
  },
  {
   "cell_type": "code",
   "execution_count": 15,
   "metadata": {},
   "outputs": [],
   "source": [
    "controlElement = ET.Element('Control')\n",
    "\n",
    "time_steps = ET.Element ('time_steps')\n",
    "time_steps.text = str(100)\n",
    "controlElement.append(time_steps)\n",
    "\n",
    "step_size = ET.Element('step_size')\n",
    "step_size.text = str(0.01)\n",
    "controlElement.append(step_size)\n",
    "\n",
    "max_refs = ET.Element('max_refs')\n",
    "max_refs.text = str(15)\n",
    "controlElement.append(max_refs)\n",
    "\n",
    "max_ups = ET.Element('max_ups')\n",
    "max_ups.text = str(10)\n",
    "controlElement.append(max_ups)\n",
    "\n",
    "diverge_reform = ET.Element('diverge_reform')\n",
    "diverge_reform.text = str(1)\n",
    "controlElement.append(diverge_reform)\n",
    "\n",
    "reform_each_time_step = ET.Element('reform_each_time_step')\n",
    "reform_each_time_step.text = str(1)\n",
    "controlElement.append(reform_each_time_step)\n",
    "\n",
    "dtol = ET.Element('dtol')\n",
    "dtol.text = str(0.001)\n",
    "controlElement.append(dtol)\n",
    "\n",
    "etol = ET.Element('etol')\n",
    "etol.text =str( 0.01)\n",
    "controlElement.append(etol)\n",
    "\n",
    "rtol = ET.Element('rtol')\n",
    "rtol.text = str(0)\n",
    "controlElement.append(rtol)\n",
    "\n",
    "lstol = ET.Element('lstol')\n",
    "lstol.text = str(0.9)\n",
    "controlElement.append(lstol)\n",
    "\n",
    "min_residual = ET.Element('min_residual')\n",
    "min_residual.text = str(1e-20)\n",
    "controlElement.append(min_residual)\n",
    "\n",
    "qnmethod = ET.Element('qnmethod')\n",
    "qnmethod.text = str(0)\n",
    "controlElement.append(qnmethod)\n",
    "\n",
    "time_stepper = ET.Element('time_stepper')\n",
    "\n",
    "dtmin = ET.Element('dtmin')\n",
    "dtmin.text = str(0.1)\n",
    "time_stepper.append(dtmin)\n",
    "\n",
    "dtmax = ET.Element('dtmax')\n",
    "dtmax.text = str(0.1)\n",
    "time_stepper.append(dtmax)\n",
    "\n",
    "max_retries = ET.Element('max_retries')\n",
    "max_retries.text = str(5)\n",
    "time_stepper.append(max_retries)\n",
    "\n",
    "opt_iter = ET.Element('opt_iter')\n",
    "opt_iter.text = str(10)\n",
    "time_stepper.append(opt_iter)\n",
    "\n",
    "controlElement.append(time_stepper)\n",
    "\n",
    "analysisData = {'type':'dynamic'}\n",
    "ET.SubElement(controlElement,'analysis', analysisData) \n",
    "\n",
    "alpha = ET.Element('alpha')\n",
    "alpha.text = str(1)\n",
    "controlElement.append(alpha)\n",
    "\n",
    "beta = ET.Element('beta')\n",
    "beta.text = str(0.25)\n",
    "controlElement.append(beta)\n",
    "\n",
    "gamma = ET.Element('gamma')\n",
    "gamma.text = str(0.5)\n",
    "controlElement.append(gamma)\n",
    "\n",
    "symmetric_stiffness = ET.Element('symmetric_stiffness')\n",
    "symmetric_stiffness.text = str(0)\n",
    "controlElement.append(symmetric_stiffness)\n",
    "\n",
    "xml_doc.append(controlElement)"
   ]
  },
  {
   "cell_type": "markdown",
   "metadata": {},
   "source": [
    "## Globals"
   ]
  },
  {
   "cell_type": "code",
   "execution_count": 16,
   "metadata": {},
   "outputs": [],
   "source": [
    "globalsElement = ET.Element('Globals')\n",
    "xml_doc.append(globalsElement)\n"
   ]
  },
  {
   "cell_type": "markdown",
   "metadata": {},
   "source": [
    "### Constants"
   ]
  },
  {
   "cell_type": "code",
   "execution_count": 17,
   "metadata": {},
   "outputs": [],
   "source": [
    "xml_const = ET.Element ('Constants')\n",
    "\n",
    "T = ET.Element('T')\n",
    "T.text = str(0)\n",
    "xml_const.append(T)\n",
    "\n",
    "R = ET.Element('R')\n",
    "R.text = str(0)\n",
    "xml_const.append(R)\n",
    "\n",
    "Fc = ET.Element('Fc')\n",
    "Fc.text = str(0)\n",
    "xml_const.append(Fc)\n",
    "\n",
    "globalsElement.append(xml_const)"
   ]
  },
  {
   "cell_type": "markdown",
   "metadata": {},
   "source": [
    "## Material"
   ]
  },
  {
   "cell_type": "code",
   "execution_count": 18,
   "metadata": {},
   "outputs": [],
   "source": [
    "materialElement= ET.Element ('Material')\n",
    "xml_doc.append(materialElement)\n"
   ]
  },
  {
   "cell_type": "markdown",
   "metadata": {},
   "source": [
    "### cartilage material"
   ]
  },
  {
   "cell_type": "code",
   "execution_count": 19,
   "metadata": {},
   "outputs": [],
   "source": [
    "xml_materialData1 = {'id':'1', 'name':'mt-pg-cartilage', 'type':'neo-Hookean'}\n",
    "\n",
    "mt1Element = ET.Element ('material',xml_materialData1 )\n",
    "\n",
    "density1 = ET.Element('density')\n",
    "density1.text = str(500)\n",
    "mt1Element.append(density1)\n",
    "\n",
    "E1 = ET.Element('E')\n",
    "E1.text = str(1.2e+07)\n",
    "mt1Element.append(E1)\n",
    "\n",
    "v1 = ET.Element('v')\n",
    "v1.text = str(0.45)\n",
    "mt1Element.append(v1)\n",
    "\n",
    "materialElement.append(mt1Element)\n"
   ]
  },
  {
   "cell_type": "code",
   "execution_count": 20,
   "metadata": {},
   "outputs": [],
   "source": [
    "xml_materialData2 = {'id':'2', 'name':'mt-f-cartilage', 'type':'neo-Hookean'}\n",
    "\n",
    "mt2Element = ET.Element ('material',xml_materialData2 )\n",
    "\n",
    "density2 = ET.Element('density')\n",
    "density2.text = str(500)\n",
    "mt2Element.append(density2)\n",
    "\n",
    "E2 = ET.Element('E')\n",
    "E2.text = str(1.2e+07)\n",
    "mt2Element.append(E2)\n",
    "\n",
    "v2 = ET.Element('v')\n",
    "v2.text = str(0.45)\n",
    "mt2Element.append(v2)\n",
    "\n",
    "materialElement.append(mt2Element)"
   ]
  },
  {
   "cell_type": "markdown",
   "metadata": {},
   "source": [
    "### bone material"
   ]
  },
  {
   "cell_type": "code",
   "execution_count": 21,
   "metadata": {},
   "outputs": [],
   "source": [
    "xml_materialData3 = {'id':'3', 'name':'mt-pg-bone', 'type':'neo-Hookean'}\n",
    "\n",
    "mt3Element = ET.Element ('material', xml_materialData3 )\n",
    "\n",
    "density3 = ET.Element('density')\n",
    "density3.text = str(1640)\n",
    "mt3Element.append(density3)\n",
    "\n",
    "E3 = ET.Element('E')\n",
    "E3.text = str(1.7e+10)\n",
    "mt3Element.append(E3)\n",
    "\n",
    "v3 = ET.Element('v')\n",
    "v3.text = str(0.3)\n",
    "mt3Element.append(v3)\n",
    "\n",
    "materialElement.append(mt3Element)"
   ]
  },
  {
   "cell_type": "code",
   "execution_count": 22,
   "metadata": {},
   "outputs": [],
   "source": [
    "xml_materialData4 = {'id':'4', 'name':'mt-f-bone', 'type':'neo-Hookean'}\n",
    "\n",
    "mt4Element = ET.Element ('material', xml_materialData4 )\n",
    "\n",
    "density4 = ET.Element('density')\n",
    "density4.text = str(1640)\n",
    "mt4Element.append(density4)\n",
    "\n",
    "E4 = ET.Element('E')\n",
    "E4.text = str(1.7e+10)\n",
    "mt4Element.append(E4)\n",
    "\n",
    "v4 = ET.Element('v')\n",
    "v4.text = str(0.3)\n",
    "mt4Element.append(v4)\n",
    "\n",
    "materialElement.append(mt4Element)"
   ]
  },
  {
   "cell_type": "code",
   "execution_count": 23,
   "metadata": {},
   "outputs": [],
   "source": [
    "xml_materialData5 = {'id':'5', 'name':'rigid', 'type':'rigid body'}\n",
    "\n",
    "mt5Element = ET.Element ('material', xml_materialData5 )\n",
    "\n",
    "density5 = ET.Element('density')\n",
    "density5.text = str(1)\n",
    "mt5Element.append(density5)\n",
    "\n",
    "com5 = ET.Element('center_of_mass')\n",
    "com5.text = str('0,0,0')\n",
    "mt5Element.append(com5)\n",
    "\n",
    "materialElement.append(mt5Element)"
   ]
  },
  {
   "cell_type": "markdown",
   "metadata": {},
   "source": [
    "## Geometry"
   ]
  },
  {
   "cell_type": "code",
   "execution_count": 24,
   "metadata": {},
   "outputs": [],
   "source": [
    "geometryElement = ET.Element('Geometry')\n",
    "xml_doc.append(geometryElement)"
   ]
  },
  {
   "cell_type": "markdown",
   "metadata": {},
   "source": [
    "###  Nodes"
   ]
  },
  {
   "cell_type": "code",
   "execution_count": 25,
   "metadata": {},
   "outputs": [],
   "source": [
    "# part1: girdle_without_gap\n",
    "nodes1data = {'name': subject_id +'_girdle_wo_gap'}\n",
    "xml_Nodes1 = ET.Element('Nodes', nodes1data) \n",
    "for i in range(1,len(pg_vertices)+1): \n",
    "    barNodesChild1 = src.getNodeXmlElement(i, all_nodes[i-1]) \n",
    "    xml_Nodes1.append(barNodesChild1)\n",
    "geometryElement.append(xml_Nodes1)\n",
    "\n",
    "# part2: left leg\n",
    "nodes2data = {'name': subject_id +'_left_leg_wo_gap'}\n",
    "xml_Nodes2 = ET.Element('Nodes', nodes2data ) \n",
    "for i in range(len(pg_vertices)+1,len(pg_vertices)+len(legL_vertices)+1):\n",
    "    barNodesChild2 = src.getNodeXmlElement(i, all_nodes[i-1]) \n",
    "    xml_Nodes2.append(barNodesChild2)\n",
    "geometryElement.append(xml_Nodes2)\n",
    "\n",
    "# part3: right leg\n",
    "nodes3data = {'name': subject_id +'_right_leg_wo_gap'}\n",
    "xml_Nodes3 = ET.Element('Nodes',nodes3data) \n",
    "\n",
    "for i in range(len(pg_vertices)+len(legL_vertices)+1,len(pg_vertices)+len(legL_vertices)+len(legR_vertices)+1): \n",
    "    barNodesChild3 = src.getNodeXmlElement(i, all_nodes[i-1]) \n",
    "    xml_Nodes3.append(barNodesChild3)\n",
    "    \n",
    "geometryElement.append(xml_Nodes3)"
   ]
  },
  {
   "cell_type": "markdown",
   "metadata": {},
   "source": [
    " ### Elements"
   ]
  },
  {
   "cell_type": "code",
   "execution_count": 26,
   "metadata": {},
   "outputs": [],
   "source": [
    "# ID1: lsi_cart\n",
    "xml_elementsData1 = { 'type':'tet4', 'mat':'1', 'name': 'lsi_cart'} \n",
    "xml_Elements1 = ET.Element('Elements', xml_elementsData1)\n",
    "for i in range(1, \n",
    "               Id_lsi_cart+1): \n",
    "    elemXmlElement1 = src.getElemXmlElement(i, all_elements[i-1])\n",
    "    xml_Elements1.append(elemXmlElement1)\n",
    "geometryElement.append(xml_Elements1)\n",
    "\n",
    "# ID2: rsi cart\n",
    "xml_elementsData2 = {'type':'tet4', 'mat':'1','name': 'rsi_cart'}  \n",
    "xml_Elements2 = ET.Element('Elements', xml_elementsData2)\n",
    "for i in range(Id_lsi_cart+1, \n",
    "               Id_lsi_cart+Id_rsi_cart+1):\n",
    "    elemXmlElement2 = src.getElemXmlElement(i, all_elements[i-1])\n",
    "    xml_Elements2.append(elemXmlElement2)\n",
    "geometryElement.append(xml_Elements2)\n",
    "\n",
    "# ID3: lpelvic_cart\n",
    "xml_elementsData3 = {'type':'tet4','mat':'1','name': 'lpelvic_cart'}  \n",
    "xml_Elements3 = ET.Element('Elements', xml_elementsData3)\n",
    "for i in range(Id_lsi_cart+Id_rsi_cart+1, \n",
    "               Id_lsi_cart+Id_rsi_cart+Id_lpelvic_cart+1):\n",
    "    elemXmlElement3 = src.getElemXmlElement(i, all_elements[i-1])\n",
    "    xml_Elements3.append(elemXmlElement3)\n",
    "geometryElement.append(xml_Elements3)\n",
    "\n",
    "# ID4: rpelvic_cart\n",
    "xml_elementsData4 = {'type':'tet4','mat':'1','name': 'rpelvic_cart'} \n",
    "xml_Elements4 = ET.Element('Elements', xml_elementsData4)\n",
    "for i in range(Id_lsi_cart+Id_rsi_cart+Id_lpelvic_cart+1,\n",
    "               Id_lsi_cart+Id_rsi_cart+Id_lpelvic_cart+Id_rpelvic_cart+1):\n",
    "    elemXmlElement4 = src.getElemXmlElement(i, all_elements[i-1])\n",
    "    xml_Elements4.append(elemXmlElement4)\n",
    "geometryElement.append(xml_Elements4)\n",
    "\n",
    "# ID5: pubic_cart\n",
    "xml_elementsData5 = {'type':'tet4','mat':'1','name': 'pubic_cart'} \n",
    "xml_Elements5 = ET.Element('Elements', xml_elementsData5)\n",
    "for i in range(Id_lsi_cart+Id_rsi_cart+Id_lpelvic_cart+Id_rpelvic_cart+1,\n",
    "               Id_lsi_cart+Id_rsi_cart+Id_lpelvic_cart+Id_rpelvic_cart+Id_pubic_cart+1):\n",
    "    elemXmlElement5 = src.getElemXmlElement(i, all_elements[i-1])\n",
    "    xml_Elements5.append(elemXmlElement5)\n",
    "geometryElement.append(xml_Elements5)\n",
    "\n",
    "# ID6: sacrum bone\n",
    "xml_elementsData6 = {'type':'tet4','mat':'3','name': 'sacrum_bone'} \n",
    "xml_Elements6 = ET.Element('Elements', xml_elementsData6)\n",
    "for i in range(Id_lsi_cart+Id_rsi_cart+Id_lpelvic_cart+Id_rpelvic_cart+Id_pubic_cart+1, \n",
    "               Id_lsi_cart+Id_rsi_cart+Id_lpelvic_cart+Id_rpelvic_cart+Id_pubic_cart+Id_sacrum_bone+1):\n",
    "    elemXmlElement6 = src.getElemXmlElement(i, all_elements[i-1])\n",
    "    xml_Elements6.append(elemXmlElement6)\n",
    "geometryElement.append(xml_Elements6)\n",
    "\n",
    "# ID7: lpelvis bone\n",
    "xml_elementsData7 = {'type':'tet4','mat':'3','name': 'lpelvis_bone'} \n",
    "xml_Elements7 = ET.Element('Elements', xml_elementsData7)\n",
    "for i in range(Id_lsi_cart+Id_rsi_cart+Id_lpelvic_cart+Id_rpelvic_cart+Id_pubic_cart+Id_sacrum_bone+1, \n",
    "               Id_lsi_cart+Id_rsi_cart+Id_lpelvic_cart+Id_rpelvic_cart+Id_pubic_cart+Id_sacrum_bone+Id_lpelvis_bone+1):\n",
    "    elemXmlElement7 = src.getElemXmlElement(i, all_elements[i-1])\n",
    "    xml_Elements7.append(elemXmlElement7)\n",
    "geometryElement.append(xml_Elements7)\n",
    "\n",
    "# ID8: rpelvis\n",
    "xml_elementsData8 = {'type':'tet4','mat':'3','name': 'rpelvis_bone'} \n",
    "xml_Elements8 = ET.Element('Elements', xml_elementsData8)\n",
    "for i in range(Id_lsi_cart+Id_rsi_cart+Id_lpelvic_cart+Id_rpelvic_cart+Id_pubic_cart+Id_sacrum_bone+Id_lpelvis_bone+1, \n",
    "               Id_lsi_cart+Id_rsi_cart+Id_lpelvic_cart+Id_rpelvic_cart+Id_pubic_cart+Id_sacrum_bone+Id_lpelvis_bone+Id_rpelvis_bone+1):\n",
    "    elemXmlElement8 = src.getElemXmlElement(i , all_elements[i-1])\n",
    "    xml_Elements8.append(elemXmlElement8)\n",
    "geometryElement.append(xml_Elements8)\n",
    "\n",
    "# Id9: lfemoral cart\n",
    "xml_elementsData9 = {'type':'tet4','mat':'2','name': 'lfemoral_cart'} \n",
    "xml_Elements9 = ET.Element('Elements', xml_elementsData9)\n",
    "for i in range(Id_lsi_cart+Id_rsi_cart+Id_lpelvic_cart+Id_rpelvic_cart+Id_pubic_cart+Id_sacrum_bone+Id_lpelvis_bone+Id_rpelvis_bone+1, \n",
    "               Id_lsi_cart+Id_rsi_cart+Id_lpelvic_cart+Id_rpelvic_cart+Id_pubic_cart+Id_sacrum_bone+Id_lpelvis_bone+Id_rpelvis_bone+Id_lfemoral_cart+1):\n",
    "    elemXmlElement9 = src.getElemXmlElement(i , all_elements[i-1])\n",
    "    xml_Elements9.append(elemXmlElement9)\n",
    "geometryElement.append(xml_Elements9)\n",
    "\n",
    "# ID10: left femur bone \n",
    "xml_elementsData10 = {'type':'tet4','mat':'4','name': 'lfemur_bone'} \n",
    "xml_Elements10 = ET.Element('Elements', xml_elementsData10)\n",
    "for i in range(Id_lsi_cart+Id_rsi_cart+Id_lpelvic_cart+Id_rpelvic_cart+Id_pubic_cart+Id_sacrum_bone+Id_lpelvis_bone+Id_rpelvis_bone+Id_lfemoral_cart+1, \n",
    "               Id_lsi_cart+Id_rsi_cart+Id_lpelvic_cart+Id_rpelvic_cart+Id_pubic_cart+Id_sacrum_bone+Id_lpelvis_bone+Id_rpelvis_bone+Id_lfemoral_cart+Id_lfemur_bone+1):\n",
    "    elemXmlElement10 = src.getElemXmlElement(i , all_elements[i-1])\n",
    "    xml_Elements10.append(elemXmlElement10)\n",
    "geometryElement.append(xml_Elements10)\n",
    "\n",
    "# ID11: right femoral cart\n",
    "xml_elementsData11 = {'type':'tet4','mat':'2','name': 'rfemoral_cart'} \n",
    "xml_Elements11 = ET.Element('Elements', xml_elementsData11)\n",
    "for i in range(Id_lsi_cart+Id_rsi_cart+Id_lpelvic_cart+Id_rpelvic_cart+Id_pubic_cart+Id_sacrum_bone+Id_lpelvis_bone+Id_rpelvis_bone+Id_lfemoral_cart+Id_lfemur_bone+1,\n",
    "              Id_lsi_cart+Id_rsi_cart+Id_lpelvic_cart+Id_rpelvic_cart+Id_pubic_cart+Id_sacrum_bone+Id_lpelvis_bone+Id_rpelvis_bone+Id_lfemoral_cart+Id_lfemur_bone+Id_rfemoral_cart+1):\n",
    "    elemXmlElement11 = src.getElemXmlElement(i , all_elements[i-1])\n",
    "    xml_Elements11.append(elemXmlElement11)\n",
    "geometryElement.append(xml_Elements11)\n",
    "\n",
    "# ID12: right femur\n",
    "xml_elementsData12 = {'type':'tet4','mat':'4','name': 'rfemur_bone'} \n",
    "xml_Elements12 = ET.Element('Elements', xml_elementsData12)\n",
    "for i in range(Id_lsi_cart+Id_rsi_cart+Id_lpelvic_cart+Id_rpelvic_cart+Id_pubic_cart+Id_sacrum_bone+Id_lpelvis_bone+Id_rpelvis_bone+Id_lfemoral_cart+Id_lfemur_bone+Id_rfemoral_cart+1,\n",
    "              Id_lsi_cart+Id_rsi_cart+Id_lpelvic_cart+Id_rpelvic_cart+Id_pubic_cart+Id_sacrum_bone+Id_lpelvis_bone+Id_rpelvis_bone+Id_lfemoral_cart+Id_lfemur_bone+Id_rfemoral_cart+Id_rfemur_bone+1):\n",
    "    elemXmlElement12 = src.getElemXmlElement(i , all_elements[i-1])\n",
    "    xml_Elements12.append(elemXmlElement12)\n",
    "geometryElement.append(xml_Elements12)"
   ]
  },
  {
   "cell_type": "markdown",
   "metadata": {},
   "source": [
    "### fixed pg nodesets"
   ]
  },
  {
   "cell_type": "code",
   "execution_count": 27,
   "metadata": {},
   "outputs": [],
   "source": [
    "xml_NodeSetdata0 = {'name':'fix-pg'}\n",
    "\n",
    "xml_NodeSet0 = ET.Element('NodeSet', xml_NodeSetdata0 ) \n",
    "\n",
    "elementId = fix_pg_nodeset\n",
    "# NodeSetData = {'id':str(elementId)}\n",
    "\n",
    "for i in range (len(elementId)):\n",
    "    nodesetData = {'id':str(elementId[i])}\n",
    "    xmlElement = ET.SubElement(xml_NodeSet0,'node', nodesetData) \n",
    "    \n",
    "geometryElement.append( xml_NodeSet0 )"
   ]
  },
  {
   "cell_type": "markdown",
   "metadata": {},
   "source": [
    "### fixed femur nodesets"
   ]
  },
  {
   "cell_type": "code",
   "execution_count": 28,
   "metadata": {},
   "outputs": [],
   "source": [
    "# fixed lfemur ground\n",
    "xml_Nodesetdata1 = {'name':'lfemur_g'}\n",
    "xml_NodeSet1 = ET.Element('NodeSet', xml_Nodesetdata1) \n",
    "\n",
    "elementId1 = fix_lf_nodeset\n",
    "\n",
    "for i in range (len(elementId1)):\n",
    "    nodesetData1 = {'id':str(elementId1[i])}\n",
    "    xmlElement = ET.SubElement(xml_NodeSet1,'node', nodesetData1) \n",
    "\n",
    "geometryElement.append( xml_NodeSet1 )\n",
    "\n",
    "# fixed rfemur ground\n",
    "xml_Nodesetdata2 = {'name':'rfemur_g'}\n",
    "xml_NodeSet2 = ET.Element('NodeSet', xml_Nodesetdata2) \n",
    "\n",
    "elementId2 = fix_rf_nodeset\n",
    "\n",
    "for i in range (len(elementId2)):\n",
    "    nodesetData2 = {'id':str(elementId2[i])}\n",
    "    xmlElement = ET.SubElement(xml_NodeSet2,'node', nodesetData2) \n",
    "\n",
    "geometryElement.append( xml_NodeSet2 )"
   ]
  },
  {
   "cell_type": "markdown",
   "metadata": {},
   "source": [
    "### Surface selections"
   ]
  },
  {
   "cell_type": "code",
   "execution_count": 29,
   "metadata": {},
   "outputs": [],
   "source": [
    "# left sliding master\n",
    "xml_Surfacedata6 = {'name':'lsliding_master'}\n",
    "xml_Surface6 = ET.Element('Surface', xml_Surfacedata6) \n",
    "for i in range(1, len(lmaster_faces)+1): \n",
    "    barSurfaceChild = src.getSurfaceXmlElement(i, lmaster_faces[i-1]) \n",
    "    xml_Surface6.append(barSurfaceChild)\n",
    "geometryElement.append( xml_Surface6 )\n",
    "\n",
    "# left sliding slave \n",
    "xml_Surfacedata7 = {'name':'lsliding_slave'}\n",
    "xml_Surface7 = ET.Element('Surface', xml_Surfacedata7) \n",
    "for i in range(1, len(lslave_faces)+1): \n",
    "    barSurfaceChild = src.getSurfaceXmlElement(i, lslave_faces[i-1] + len(pg_vertices)) \n",
    "    xml_Surface7.append(barSurfaceChild)\n",
    "geometryElement.append( xml_Surface7 )\n",
    "\n",
    "# right sliding master rfc\n",
    "xml_Surfacedata8 = {'name':'rsliding_master'}\n",
    "xml_Surface8 = ET.Element('Surface', xml_Surfacedata8) \n",
    "for i in range(1, len(rmaster_faces)+1): \n",
    "    barSurfaceChild = src.getSurfaceXmlElement(i, rmaster_faces[i-1]) \n",
    "    xml_Surface8.append(barSurfaceChild)\n",
    "geometryElement.append( xml_Surface8 )\n",
    "\n",
    "# right sliding slave rpc\n",
    "xml_Surfacedata9 = {'name':'rsliding_slave'}\n",
    "xml_Surface9 = ET.Element('Surface', xml_Surfacedata9) \n",
    "for i in range(1, len(rslave_faces)+1):\n",
    "    barSurfaceChild = src.getSurfaceXmlElement(i, rslave_faces[i-1] + len(pg_vertices)+ len(legL_vertices)) \n",
    "    xml_Surface9.append(barSurfaceChild)\n",
    "geometryElement.append( xml_Surface9 )"
   ]
  },
  {
   "cell_type": "code",
   "execution_count": 30,
   "metadata": {},
   "outputs": [],
   "source": [
    "# lsliding\n",
    "xml_Surfacepair1data = {'name':'lsliding'}\n",
    "xml_Surfacepair1 = ET.Element('SurfacePair', xml_Surfacepair1data) \n",
    "\n",
    "master = {'surface':'lsliding_master'}\n",
    "ET.SubElement(xml_Surfacepair1,'master', master) \n",
    "\n",
    "slave = {'surface':'lsliding_slave'}\n",
    "ET.SubElement(xml_Surfacepair1,'slave', slave) \n",
    "\n",
    "geometryElement.append( xml_Surfacepair1 )\n",
    "\n",
    "# rsliding\n",
    "xml_Surfacepair2data = {'name':'rsliding'}\n",
    "xml_Surfacepair2 = ET.Element('SurfacePair', xml_Surfacepair2data) \n",
    "\n",
    "master = {'surface':'rsliding_master'}\n",
    "ET.SubElement(xml_Surfacepair2,'master', master) \n",
    "\n",
    "slave = {'surface':'rsliding_slave'}\n",
    "ET.SubElement(xml_Surfacepair2,'slave', slave) \n",
    "\n",
    "geometryElement.append( xml_Surfacepair2 )"
   ]
  },
  {
   "cell_type": "markdown",
   "metadata": {},
   "source": [
    "## Boundary"
   ]
  },
  {
   "cell_type": "code",
   "execution_count": 31,
   "metadata": {},
   "outputs": [],
   "source": [
    "boundaryElement = ET.Element('Boundary')\n",
    "xml_doc.append(boundaryElement)\n",
    "\n",
    "# for pg\n",
    "boundaryData1 = {'name':'fix-pg', 'bc':'x,y,z', 'node_set': 'fix-pg'}\n",
    "ET.SubElement (boundaryElement, 'fix', boundaryData1  )\n",
    "\n",
    "# for rigid contact\n",
    "boundaryData2 = {'name':'c-lfemur-g', 'rb':'5', 'node_set': 'lfemur_g'}\n",
    "ET.SubElement (boundaryElement, 'rigid', boundaryData2  )\n",
    "\n",
    "boundaryData3 = {'name':'c-rfemur-g', 'rb':'5', 'node_set': 'rfemur_g'}\n",
    "ET.SubElement (boundaryElement, 'rigid', boundaryData3  )\n",
    "\n",
    "# rigid fixed boundary\n",
    "boundaryData4 = {'mat':'5'}\n",
    "xml_rigidbody = ET.Element('rigid_body', boundaryData4 ) \n",
    "\n",
    "x = {'bc':'x'}\n",
    "y = {'bc':'y'}\n",
    "Rx = {'bc':'Rx'}\n",
    "Ry = {'bc':'Ry'}\n",
    "Rz = {'bc':'Rz'}\n",
    "ET.SubElement(xml_rigidbody ,'fixed', x)\n",
    "ET.SubElement(xml_rigidbody ,'fixed', y)\n",
    "ET.SubElement(xml_rigidbody ,'fixed', Rx)\n",
    "ET.SubElement(xml_rigidbody ,'fixed', Ry)\n",
    "ET.SubElement(xml_rigidbody ,'fixed', Rz)\n",
    "\n",
    "boundaryElement.append(xml_rigidbody)\n",
    "\n",
    "# prescribed body weight\n",
    "boundaryData5 = {'mat':'5'}\n",
    "xml_rigidbody2 = ET.Element('rigid_body', boundaryData5 ) \n",
    "\n",
    "forcedata = {'bc':'z', 'lc':'1'}\n",
    "xml_force = ET.Element('force', forcedata ) \n",
    "xml_force.text = str('250')\n",
    "\n",
    "xml_rigidbody2.append(xml_force)\n",
    "boundaryElement.append(xml_rigidbody2)\n"
   ]
  },
  {
   "cell_type": "markdown",
   "metadata": {},
   "source": [
    "## Contact"
   ]
  },
  {
   "cell_type": "code",
   "execution_count": 32,
   "metadata": {},
   "outputs": [],
   "source": [
    "contactElement = ET.Element('Contact')\n",
    "xml_doc.append(contactElement)\n",
    "\n",
    "# lsliding\n",
    "contactdata0 = {'type':'sliding-elastic', 'name': \"lsliding\", 'surface_pair':'lsliding'}\n",
    "contactdata0Element = ET.Element('contact', contactdata0)\n",
    "contactElement.append(contactdata0Element)\n",
    "\n",
    "# rsliding\n",
    "contactdata1 = {'type':'sliding-elastic', 'name': \"rsliding\", 'surface_pair':'rsliding'}\n",
    "contactdata1Element = ET.Element('contact', contactdata1)\n",
    "contactElement.append(contactdata1Element)\n",
    "\n",
    "# laugon\n",
    "laugon = ET.Element ('laugon')\n",
    "laugon.text = str(1)\n",
    "contactdata0Element.append(laugon)\n",
    "contactdata1Element.append(laugon)\n",
    "\n",
    "# tolerance\n",
    "tolerance = ET.Element ('tolerance')\n",
    "tolerance.text = str(0.2)\n",
    "contactdata0Element.append(tolerance)\n",
    "contactdata1Element.append(tolerance)\n",
    "\n",
    "# gaptol\n",
    "gaptol = ET.Element ('gaptol')\n",
    "gaptol.text = str(0)\n",
    "contactdata0Element.append(gaptol)\n",
    "contactdata1Element.append(gaptol)\n",
    "\n",
    "# penalty\n",
    "penalty = ET.Element ('penalty')\n",
    "penalty.text = str(1)\n",
    "contactdata0Element.append(penalty)\n",
    "contactdata1Element.append(penalty)\n",
    "\n",
    "# auto_penalty\n",
    "auto_penalty = ET.Element ('auto_penalty')\n",
    "auto_penalty.text = str(1)\n",
    "contactdata0Element.append(auto_penalty)\n",
    "contactdata1Element.append(auto_penalty)\n",
    "\n",
    "# two_pass\n",
    "two_pass = ET.Element ('two_pass')\n",
    "two_pass.text = str(0)\n",
    "contactdata0Element.append(two_pass)\n",
    "contactdata1Element.append(two_pass)\n",
    "\n",
    "# search_tol\n",
    "search_tol = ET.Element ('search_tol')\n",
    "search_tol.text = str(0.01)\n",
    "contactdata0Element.append(search_tol)\n",
    "contactdata1Element.append(search_tol)\n",
    "\n",
    "# symmetric_stiffness\n",
    "sym_stiff = ET.Element ('symmetric_stiffness')\n",
    "sym_stiff.text = str(0)\n",
    "contactdata0Element.append(sym_stiff)\n",
    "contactdata1Element.append(sym_stiff)\n",
    "\n",
    "# search_radius\n",
    "search_rad = ET.Element ('search_radius')\n",
    "search_rad.text = str(1)\n",
    "contactdata0Element.append(search_rad)\n",
    "contactdata1Element.append(search_rad)\n",
    "\n",
    "# seg_up\n",
    "seg_up = ET.Element ('seg_up')\n",
    "seg_up.text = str(3)\n",
    "contactdata0Element.append(seg_up)\n",
    "contactdata1Element.append(seg_up)\n",
    "\n",
    "# tension\n",
    "tension = ET.Element ('tension')\n",
    "tension.text = str(0)\n",
    "contactdata0Element.append(tension)\n",
    "contactdata1Element.append(tension)\n",
    "\n",
    "# minaug\n",
    "minaug = ET.Element ('minaug')\n",
    "minaug.text = str(3)\n",
    "contactdata0Element.append(minaug)\n",
    "contactdata1Element.append(minaug)\n",
    "\n",
    "# maxaug\n",
    "maxaug = ET.Element ('maxaug')\n",
    "maxaug.text = str(10)\n",
    "contactdata0Element.append(maxaug)\n",
    "contactdata1Element.append(maxaug)\n",
    "\n",
    "# fric_coeff\n",
    "fric_coeff = ET.Element ('fric_coeff')\n",
    "fric_coeff.text = str(0)\n",
    "contactdata0Element.append(fric_coeff)\n",
    "contactdata1Element.append(fric_coeff)\n",
    "\n",
    "\n",
    "# smooth_aug\n",
    "smooth_aug = ET.Element ('smooth_aug')\n",
    "smooth_aug.text = str(0)\n",
    "contactdata0Element.append(smooth_aug)\n",
    "contactdata1Element.append(smooth_aug)\n",
    "\n",
    "# node_reloc\n",
    "node_reloc = ET.Element ('node_reloc')\n",
    "node_reloc.text = str(0)\n",
    "contactdata0Element.append(node_reloc)\n",
    "contactdata1Element.append(node_reloc)\n",
    "\n",
    "# flip_primary\n",
    "flip_primary = ET.Element ('flip_primary')\n",
    "flip_primary.text = str(0)\n",
    "contactdata0Element.append(flip_primary)\n",
    "contactdata1Element.append(flip_primary)\n",
    "\n",
    "# flip_secondary\n",
    "flip_secondary= ET.Element ('flip_secondary')\n",
    "flip_secondary.text = str(0)\n",
    "contactdata0Element.append(flip_secondary)\n",
    "contactdata1Element.append(flip_secondary)\n",
    "\n",
    "# knmult\n",
    "knmult= ET.Element ('knmult')\n",
    "knmult.text = str(0)\n",
    "contactdata0Element.append(knmult)\n",
    "contactdata1Element.append(knmult)\n",
    "\n",
    "# update_penalty\n",
    "update_penalty = ET.Element ('update_penalty')\n",
    "update_penalty.text = str(0)\n",
    "contactdata0Element.append(update_penalty)\n",
    "contactdata1Element.append(update_penalty)\n",
    "\n",
    "# shell_bottom_primary\n",
    "shell_bottom_primary = ET.Element ('shell_bottom_primary')\n",
    "shell_bottom_primary.text = str(0)\n",
    "contactdata0Element.append(shell_bottom_primary)\n",
    "contactdata1Element.append(shell_bottom_primary)\n",
    "\n",
    "# shell_bottom_secondary\n",
    "shell_bottom_secondary = ET.Element ('shell_bottom_secondary')\n",
    "shell_bottom_secondary.text = str(0)\n",
    "contactdata0Element.append(shell_bottom_secondary)\n",
    "contactdata1Element.append(shell_bottom_secondary)"
   ]
  },
  {
   "cell_type": "markdown",
   "metadata": {},
   "source": [
    "## LoadData"
   ]
  },
  {
   "cell_type": "code",
   "execution_count": 33,
   "metadata": {},
   "outputs": [],
   "source": [
    "loaddataElement = ET.Element('LoadData')\n",
    "xml_doc.append(loaddataElement)\n",
    "\n",
    "# id 1 x\n",
    "loadcurveData1 = {'id':'1', 'type':'smooth'}\n",
    "loadcurveElement1 = ET.Element('loadcurve', loadcurveData1)\n",
    "loaddataElement.append(loadcurveElement1)\n",
    "\n",
    "point0Element1 = ET.Element('point')\n",
    "point0Element1.text = str('0,0')\n",
    "loadcurveElement1.append(point0Element1)\n",
    "\n",
    "point1Element1 = ET.Element('point')\n",
    "point1Element1.text = str('1,1')\n",
    "\n",
    "loadcurveElement1.append(point1Element1)"
   ]
  },
  {
   "cell_type": "markdown",
   "metadata": {},
   "source": [
    "## Output"
   ]
  },
  {
   "cell_type": "code",
   "execution_count": 34,
   "metadata": {},
   "outputs": [],
   "source": [
    "outputElement = ET.Element ( 'Output')\n",
    "xml_doc.append(outputElement)\n",
    "\n",
    "# plotfile\n",
    "plotfileData = {'type':'febio'}\n",
    "plotfileElement = ET.Element('plotfile', plotfileData)\n",
    "\n",
    "var0Data = {'type':'displacement'}\n",
    "var1Data = {'type':'contact force'}\n",
    "var2Data = {'type':'contact area'}\n",
    "var3Data = {'type':'contact pressure'}\n",
    "var4Data = {'type':'stress'}\n",
    "\n",
    "ET.SubElement(plotfileElement, 'var', var0Data)\n",
    "ET.SubElement(plotfileElement, 'var', var1Data)\n",
    "ET.SubElement(plotfileElement, 'var', var2Data)\n",
    "ET.SubElement(plotfileElement, 'var', var3Data)\n",
    "ET.SubElement(plotfileElement, 'var', var4Data)\n",
    "\n",
    "outputElement.append(plotfileElement)\n",
    "\n",
    "#logfile\n",
    "logfileElement = ET.Element('logfile')\n",
    "\n",
    "logfileData = {'data': 'sx;sy;sz;sxy;syz;sxz', 'file':subject_id + '_wo_gap_' + o_dim + \".csv\"}\n",
    "\n",
    "ET.SubElement(logfileElement, 'element_data', logfileData)\n",
    "\n",
    "outputElement.append(logfileElement)"
   ]
  },
  {
   "cell_type": "markdown",
   "metadata": {},
   "source": [
    "## save the xml document"
   ]
  },
  {
   "cell_type": "code",
   "execution_count": 35,
   "metadata": {},
   "outputs": [],
   "source": [
    "src.xmlElementWriter(xml_doc, output_path)"
   ]
  },
  {
   "cell_type": "code",
   "execution_count": null,
   "metadata": {},
   "outputs": [],
   "source": []
  }
 ],
 "metadata": {
  "kernelspec": {
   "display_name": "Python 3",
   "language": "python",
   "name": "python3"
  },
  "language_info": {
   "codemirror_mode": {
    "name": "ipython",
    "version": 3
   },
   "file_extension": ".py",
   "mimetype": "text/x-python",
   "name": "python",
   "nbconvert_exporter": "python",
   "pygments_lexer": "ipython3",
   "version": "3.9.6"
  },
  "toc": {
   "base_numbering": 1,
   "nav_menu": {},
   "number_sections": true,
   "sideBar": true,
   "skip_h1_title": false,
   "title_cell": "Table of Contents",
   "title_sidebar": "Contents",
   "toc_cell": false,
   "toc_position": {
    "height": "calc(100% - 180px)",
    "left": "10px",
    "top": "150px",
    "width": "209px"
   },
   "toc_section_display": true,
   "toc_window_display": true
  }
 },
 "nbformat": 4,
 "nbformat_minor": 4
}
