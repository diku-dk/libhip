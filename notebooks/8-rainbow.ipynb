version https://git-lfs.github.com/spec/v1
oid sha256:04f09d7422a86efa99f2c4964a5955d19a47a4ce7ac4098f98f96782931725a9
size 90077
